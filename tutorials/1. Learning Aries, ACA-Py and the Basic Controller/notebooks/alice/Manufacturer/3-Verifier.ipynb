{
 "cells": [
  {
   "cell_type": "markdown",
   "id": "284246a6-c33a-4588-a7ee-05176a2f5988",
   "metadata": {},
   "source": [
    "### Setup"
   ]
  },
  {
   "cell_type": "code",
   "execution_count": 11,
   "id": "e01cee69-f198-47e9-b87e-1d7e990ae8d0",
   "metadata": {},
   "outputs": [
    {
     "name": "stdout",
     "output_type": "stream",
     "text": [
      "IPython autoawait is `on`, and set to use `asyncio`\n"
     ]
    }
   ],
   "source": [
    "%autoawait\n",
    "import time\n",
    "import asyncio\n",
    "from aries_basic_controller.aries_controller import AriesAgentController\n",
    "    \n",
    "WEBHOOK_HOST = \"0.0.0.0\"\n",
    "WEBHOOK_PORT = 8022\n",
    "WEBHOOK_BASE = \"\"\n",
    "ADMIN_URL = \"http://alice-agent:8021\"\n",
    "\n",
    "# WARNING: You should use environment variables for this\n",
    "# TODO: Make env variables accessible through juypter notebooks\n",
    "API_KEY = \"alice_api_123456789\"\n",
    "\n",
    "# Based on the aca-py agent you wish to control\n",
    "agent_controller = AriesAgentController(admin_url=ADMIN_URL, api_key=API_KEY)"
   ]
  },
  {
   "cell_type": "code",
   "execution_count": 12,
   "id": "75e2dba6-4546-47c1-afbf-fd02bfe159d4",
   "metadata": {},
   "outputs": [],
   "source": [
    "agent_controller.init_webhook_server(webhook_host=WEBHOOK_HOST,\n",
    "                                     webhook_port=WEBHOOK_PORT,\n",
    "                                     webhook_base=WEBHOOK_BASE)"
   ]
  },
  {
   "cell_type": "code",
   "execution_count": 13,
   "id": "2a1059ba-8046-4f64-ad90-d8cea05ec326",
   "metadata": {},
   "outputs": [
    {
     "name": "stdout",
     "output_type": "stream",
     "text": [
      "Subscribing too: present_proof\n"
     ]
    }
   ],
   "source": [
    "loop = asyncio.get_event_loop()\n",
    "loop.create_task(agent_controller.listen_webhooks())\n",
    "\n",
    "def proof_handler(payload):\n",
    "    print(\"Handle present proof\")\n",
    "    role = payload[\"role\"]\n",
    "    pres_ex_id = payload[\"presentation_exchange_id\"]\n",
    "    state = payload[\"state\"]\n",
    "    print(f\"Role {role}, Exchange {pres_ex_id} in state {state}\")\n",
    "\n",
    "proof_listener = {\n",
    "    \"topic\": \"present_proof\",\n",
    "    \"handler\": proof_handler\n",
    "}\n",
    "agent_controller.register_listeners([proof_listener], defaults=True)"
   ]
  },
  {
   "cell_type": "markdown",
   "id": "bd9f4ca6-6302-4bc8-a846-beba8fc9db0e",
   "metadata": {},
   "source": [
    "### Go to seller notebook to build connection"
   ]
  },
  {
   "cell_type": "code",
   "execution_count": 14,
   "id": "c382af58-96fd-4045-9a2d-de56f3a7a6b8",
   "metadata": {},
   "outputs": [
    {
     "name": "stdout",
     "output_type": "stream",
     "text": [
      "Results :  [{'connection_id': 'e812df45-5cab-4e9b-a099-cd801de4fd33', 'accept': 'manual', 'invitation_key': 'EzJK5B9Whm1rm4utkVJj8HpevUg6ppU3ete5YfQLRKTn', 'invitation_mode': 'once', 'routing_state': 'none', 'their_did': 'WGBGMeCT19cC5Thdjey9fa', 'created_at': '2023-01-03 00:10:27.158633Z', 'state': 'active', 'their_role': 'inviter', 'updated_at': '2023-01-03 00:10:47.369114Z', 'my_did': '5mjER6QMs8dEZdfJvfNcXZ', 'their_label': 'Bob', 'rfc23_state': 'completed', 'request_id': '84a406b6-85c3-49c1-afca-681a76aa2a3d'}]\n",
      "\n",
      "\n",
      "Connection : {'connection_id': 'e812df45-5cab-4e9b-a099-cd801de4fd33', 'accept': 'manual', 'invitation_key': 'EzJK5B9Whm1rm4utkVJj8HpevUg6ppU3ete5YfQLRKTn', 'invitation_mode': 'once', 'routing_state': 'none', 'their_did': 'WGBGMeCT19cC5Thdjey9fa', 'created_at': '2023-01-03 00:10:27.158633Z', 'state': 'active', 'their_role': 'inviter', 'updated_at': '2023-01-03 00:10:47.369114Z', 'my_did': '5mjER6QMs8dEZdfJvfNcXZ', 'their_label': 'Bob', 'rfc23_state': 'completed', 'request_id': '84a406b6-85c3-49c1-afca-681a76aa2a3d'}\n",
      "\n",
      "Active Connection ID :  e812df45-5cab-4e9b-a099-cd801de4fd33\n"
     ]
    }
   ],
   "source": [
    "try:\n",
    "    response = await agent_controller.connections.get_connections()\n",
    "    results = response['results']\n",
    "    print(\"Results : \", results)\n",
    "    print('\\n')\n",
    "    if len(results) > 0:\n",
    "        connection = response['results'][0]\n",
    "        print(\"Connection :\", connection)\n",
    "        if connection['state'] == 'active':\n",
    "            connection_id = connection[\"connection_id\"]\n",
    "            print(\"\\nActive Connection ID : \", connection_id)\n",
    "        else:\n",
    "            print(\"\\nNo active connection found - wait a bit and execute again\")\n",
    "    else:\n",
    "        print(\"You must create a connection\")\n",
    "except ConnectionRefusedError as e:\n",
    "    print(repr(e))"
   ]
  },
  {
   "cell_type": "code",
   "execution_count": 15,
   "id": "8e7c5f80-bed2-4556-bb39-b86c26dcfa9f",
   "metadata": {},
   "outputs": [
    {
     "name": "stdout",
     "output_type": "stream",
     "text": [
      "{'result': {'did': 'PQRXDxdGqQGSZ8z69p4xZP', 'verkey': 'DDEKJtBjzaXAJtpwetdPiXH5s4rNUEzG18V15QoLRcZZ', 'posture': 'public'}}\n",
      "Request proof of the device\n"
     ]
    }
   ],
   "source": [
    "import time\n",
    "\n",
    "response = await agent_controller.wallet.get_public_did()\n",
    "print(response)\n",
    "issuer_did = response[\"result\"][\"did\"]\n",
    "\n",
    "print(\"Request proof of the device\")\n",
    "#Set some variables\n",
    "\n",
    "revocation = False\n",
    "exchange_tracing = False\n",
    "\n",
    "#Enable this to ask for attributes to identity a user\n",
    "req_attrs = [\n",
    "    {\"name\": \"ProductionDate\", \"restrictions\": [{\"issuer_did\": issuer_did}]},\n",
    "    {\"name\": \"Manufacturer\", \"restrictions\": [{\"issuer_did\": issuer_did}]},\n",
    "    {\"name\": \"Owner\", \"restrictions\": [{\"issuer_did\": issuer_did}]},\n",
    "    {\"name\": \"Type\", \"restrictions\": [{\"issuer_did\": issuer_did}]}\n",
    "]\n",
    "\n",
    "\n",
    "curtime = int(time.time())\n",
    "#Set predicates for Zero Knowledge Proofs\n",
    "req_preds = [\n",
    "    # test zero-knowledge proofs\n",
    "    {\n",
    "        \"name\": \"ExpirationDate\",\n",
    "        \"p_type\": \">=\",\n",
    "        \"p_value\": curtime,\n",
    "        \"restrictions\": [{\"issuer_did\": issuer_did}],\n",
    "    },\n",
    "    {\n",
    "        \"name\": \"Status\",\n",
    "        \"p_type\": \">\",\n",
    "        \"p_value\": 0,\n",
    "        \"restrictions\": [{\"issuer_did\": issuer_did}],\n",
    "    }\n",
    "]\n",
    "\n",
    "indy_proof_request = {\n",
    "    \"name\": \"Proof of Personal Information\",\n",
    "    \"version\": \"1.0\",\n",
    "    \"requested_attributes\": {\n",
    "        f\"0_{req_attr['name']}_uuid\":\n",
    "        req_attr for req_attr in req_attrs\n",
    "    },\n",
    "    \"requested_predicates\": {\n",
    "        f\"0_{req_pred['name']}_GE_uuid\":\n",
    "        req_pred for req_pred in req_preds\n",
    "    },\n",
    "}\n",
    "indy_proof_request[\"non_revoked\"] = {\"to\": int(time.time())}\n",
    "\n",
    "#proof_request = indy_proof_request\n",
    "exchange_tracing_id = exchange_tracing\n",
    "proof_request_web_request = {\n",
    "    \"connection_id\": connection_id,\n",
    "    \"proof_request\": indy_proof_request,\n",
    "    \"trace\": exchange_tracing,\n",
    "}"
   ]
  },
  {
   "cell_type": "code",
   "execution_count": 16,
   "id": "45aa3537-ed02-4c8a-a425-dcd8980b1210",
   "metadata": {},
   "outputs": [
    {
     "name": "stdout",
     "output_type": "stream",
     "text": [
      "Handle present proof\n",
      "Role verifier, Exchange f5d621a4-1eb8-45cd-93ba-9cc6a5237d1e in state request_sent\n",
      "{'connection_id': 'e812df45-5cab-4e9b-a099-cd801de4fd33', 'trace': False, 'presentation_exchange_id': 'f5d621a4-1eb8-45cd-93ba-9cc6a5237d1e', 'initiator': 'self', 'created_at': '2023-01-03 00:35:48.552485Z', 'state': 'request_sent', 'presentation_request_dict': {'@type': 'did:sov:BzCbsNYhMrjHiqZDTUASHg;spec/present-proof/1.0/request-presentation', '@id': '499e67da-067c-4b2a-a9dd-bb79bd4c7306', 'request_presentations~attach': [{'@id': 'libindy-request-presentation-0', 'mime-type': 'application/json', 'data': {'base64': 'eyJuYW1lIjogIlByb29mIG9mIFBlcnNvbmFsIEluZm9ybWF0aW9uIiwgInZlcnNpb24iOiAiMS4wIiwgInJlcXVlc3RlZF9hdHRyaWJ1dGVzIjogeyIwX1Byb2R1Y3Rpb25EYXRlX3V1aWQiOiB7Im5hbWUiOiAiUHJvZHVjdGlvbkRhdGUiLCAicmVzdHJpY3Rpb25zIjogW3siaXNzdWVyX2RpZCI6ICJQUVJYRHhkR3FRR1NaOHo2OXA0eFpQIn1dfSwgIjBfTWFudWZhY3R1cmVyX3V1aWQiOiB7Im5hbWUiOiAiTWFudWZhY3R1cmVyIiwgInJlc3RyaWN0aW9ucyI6IFt7Imlzc3Vlcl9kaWQiOiAiUFFSWER4ZEdxUUdTWjh6NjlwNHhaUCJ9XX0sICIwX093bmVyX3V1aWQiOiB7Im5hbWUiOiAiT3duZXIiLCAicmVzdHJpY3Rpb25zIjogW3siaXNzdWVyX2RpZCI6ICJQUVJYRHhkR3FRR1NaOHo2OXA0eFpQIn1dfSwgIjBfVHlwZV91dWlkIjogeyJuYW1lIjogIlR5cGUiLCAicmVzdHJpY3Rpb25zIjogW3siaXNzdWVyX2RpZCI6ICJQUVJYRHhkR3FRR1NaOHo2OXA0eFpQIn1dfX0sICJyZXF1ZXN0ZWRfcHJlZGljYXRlcyI6IHsiMF9FeHBpcmF0aW9uRGF0ZV9HRV91dWlkIjogeyJuYW1lIjogIkV4cGlyYXRpb25EYXRlIiwgInBfdHlwZSI6ICI+PSIsICJwX3ZhbHVlIjogMTY3MjcwNjE0NywgInJlc3RyaWN0aW9ucyI6IFt7Imlzc3Vlcl9kaWQiOiAiUFFSWER4ZEdxUUdTWjh6NjlwNHhaUCJ9XX0sICIwX1N0YXR1c19HRV91dWlkIjogeyJuYW1lIjogIlN0YXR1cyIsICJwX3R5cGUiOiAiPiIsICJwX3ZhbHVlIjogMCwgInJlc3RyaWN0aW9ucyI6IFt7Imlzc3Vlcl9kaWQiOiAiUFFSWER4ZEdxUUdTWjh6NjlwNHhaUCJ9XX19LCAibm9uX3Jldm9rZWQiOiB7InRvIjogMTY3MjcwNjE0N30sICJub25jZSI6ICI1MTMwMzI4MTU2OTM0NjQzOTM0NDgyNjgifQ=='}}]}, 'thread_id': '499e67da-067c-4b2a-a9dd-bb79bd4c7306', 'presentation_request': {'name': 'Proof of Personal Information', 'version': '1.0', 'requested_attributes': {'0_ProductionDate_uuid': {'name': 'ProductionDate', 'restrictions': [{'issuer_did': 'PQRXDxdGqQGSZ8z69p4xZP'}]}, '0_Manufacturer_uuid': {'name': 'Manufacturer', 'restrictions': [{'issuer_did': 'PQRXDxdGqQGSZ8z69p4xZP'}]}, '0_Owner_uuid': {'name': 'Owner', 'restrictions': [{'issuer_did': 'PQRXDxdGqQGSZ8z69p4xZP'}]}, '0_Type_uuid': {'name': 'Type', 'restrictions': [{'issuer_did': 'PQRXDxdGqQGSZ8z69p4xZP'}]}}, 'requested_predicates': {'0_ExpirationDate_GE_uuid': {'name': 'ExpirationDate', 'p_type': '>=', 'p_value': 1672706147, 'restrictions': [{'issuer_did': 'PQRXDxdGqQGSZ8z69p4xZP'}]}, '0_Status_GE_uuid': {'name': 'Status', 'p_type': '>', 'p_value': 0, 'restrictions': [{'issuer_did': 'PQRXDxdGqQGSZ8z69p4xZP'}]}}, 'non_revoked': {'to': 1672706147}, 'nonce': '513032815693464393448268'}, 'auto_present': False, 'updated_at': '2023-01-03 00:35:48.552485Z', 'role': 'verifier'}\n",
      "\n",
      "\n",
      "f5d621a4-1eb8-45cd-93ba-9cc6a5237d1e\n"
     ]
    }
   ],
   "source": [
    "response = await agent_controller.proofs.send_request(proof_request_web_request)\n",
    "print(response)\n",
    "presentation_exchange_id = response['presentation_exchange_id']\n",
    "print(\"\\n\")\n",
    "print(presentation_exchange_id)"
   ]
  },
  {
   "cell_type": "markdown",
   "id": "2d8c736a-ce5d-4377-9426-d8ae46b8278d",
   "metadata": {},
   "source": [
    "### Go to seller notebook to send verify response"
   ]
  },
  {
   "cell_type": "code",
   "execution_count": 17,
   "id": "bacf658f-c1d0-4427-bade-edbdece6d759",
   "metadata": {},
   "outputs": [
    {
     "ename": "ClientResponseError",
     "evalue": "400, message='Presentation exchange f5d621a4-1eb8-45cd-93ba-9cc6a5237d1e in request_sent state (must be presentation_received)', url=URL('http://alice-agent:8021/present-proof/records/f5d621a4-1eb8-45cd-93ba-9cc6a5237d1e/verify-presentation')",
     "output_type": "error",
     "traceback": [
      "\u001b[0;31m---------------------------------------------------------------------------\u001b[0m",
      "\u001b[0;31mClientResponseError\u001b[0m                       Traceback (most recent call last)",
      "Cell \u001b[0;32mIn[17], line 1\u001b[0m\n\u001b[0;32m----> 1\u001b[0m verify \u001b[38;5;241m=\u001b[39m \u001b[38;5;28;01mawait\u001b[39;00m agent_controller\u001b[38;5;241m.\u001b[39mproofs\u001b[38;5;241m.\u001b[39mverify_presentation(presentation_exchange_id)\n\u001b[1;32m      2\u001b[0m \u001b[38;5;28mprint\u001b[39m(verify)\n",
      "File \u001b[0;32m/aries_basic_controller/controllers/proof.py:86\u001b[0m, in \u001b[0;36mProofController.verify_presentation\u001b[0;34m(self, pres_ex_id)\u001b[0m\n\u001b[1;32m     85\u001b[0m \u001b[38;5;28;01masync\u001b[39;00m \u001b[38;5;28;01mdef\u001b[39;00m \u001b[38;5;21mverify_presentation\u001b[39m(\u001b[38;5;28mself\u001b[39m, pres_ex_id):\n\u001b[0;32m---> 86\u001b[0m     \u001b[38;5;28;01mreturn\u001b[39;00m \u001b[38;5;28;01mawait\u001b[39;00m \u001b[38;5;28mself\u001b[39m\u001b[38;5;241m.\u001b[39madmin_POST(\u001b[38;5;124mf\u001b[39m\u001b[38;5;124m\"\u001b[39m\u001b[38;5;132;01m{\u001b[39;00m\u001b[38;5;28mself\u001b[39m\u001b[38;5;241m.\u001b[39mbase_url\u001b[38;5;132;01m}\u001b[39;00m\u001b[38;5;124m/records/\u001b[39m\u001b[38;5;132;01m{\u001b[39;00mpres_ex_id\u001b[38;5;132;01m}\u001b[39;00m\u001b[38;5;124m/verify-presentation\u001b[39m\u001b[38;5;124m\"\u001b[39m)\n",
      "File \u001b[0;32m/aries_basic_controller/controllers/base.py:95\u001b[0m, in \u001b[0;36mBaseController.admin_POST\u001b[0;34m(self, path, json_data, text, params, data)\u001b[0m\n\u001b[1;32m     89\u001b[0m \u001b[38;5;28;01mtry\u001b[39;00m:\n\u001b[1;32m     90\u001b[0m     EVENT_LOGGER\u001b[38;5;241m.\u001b[39mdebug(\n\u001b[1;32m     91\u001b[0m         \u001b[38;5;124m\"\u001b[39m\u001b[38;5;124mController POST \u001b[39m\u001b[38;5;132;01m%s\u001b[39;00m\u001b[38;5;124m request to Agent\u001b[39m\u001b[38;5;132;01m%s\u001b[39;00m\u001b[38;5;124m\"\u001b[39m,\n\u001b[1;32m     92\u001b[0m         path,\n\u001b[1;32m     93\u001b[0m         (\u001b[38;5;124m\"\u001b[39m\u001b[38;5;124m with data: \u001b[39m\u001b[38;5;130;01m\\n\u001b[39;00m\u001b[38;5;132;01m{}\u001b[39;00m\u001b[38;5;124m\"\u001b[39m\u001b[38;5;241m.\u001b[39mformat(repr_json(json_data)) \u001b[38;5;28;01mif\u001b[39;00m json_data \u001b[38;5;28;01melse\u001b[39;00m \u001b[38;5;124m\"\u001b[39m\u001b[38;5;124m\"\u001b[39m),\n\u001b[1;32m     94\u001b[0m     )\n\u001b[0;32m---> 95\u001b[0m     response \u001b[38;5;241m=\u001b[39m \u001b[38;5;28;01mawait\u001b[39;00m \u001b[38;5;28mself\u001b[39m\u001b[38;5;241m.\u001b[39madmin_request(\u001b[38;5;124m\"\u001b[39m\u001b[38;5;124mPOST\u001b[39m\u001b[38;5;124m\"\u001b[39m, path, json_data, text, params, data)\n\u001b[1;32m     96\u001b[0m     EVENT_LOGGER\u001b[38;5;241m.\u001b[39mdebug(\n\u001b[1;32m     97\u001b[0m         \u001b[38;5;124m\"\u001b[39m\u001b[38;5;124mResponse from POST \u001b[39m\u001b[38;5;132;01m%s\u001b[39;00m\u001b[38;5;124m received: \u001b[39m\u001b[38;5;130;01m\\n\u001b[39;00m\u001b[38;5;132;01m%s\u001b[39;00m\u001b[38;5;124m\"\u001b[39m,\n\u001b[1;32m     98\u001b[0m         path,\n\u001b[1;32m     99\u001b[0m         repr_json(response),\n\u001b[1;32m    100\u001b[0m     )\n\u001b[1;32m    101\u001b[0m     \u001b[38;5;28;01mreturn\u001b[39;00m response\n",
      "File \u001b[0;32m/aries_basic_controller/controllers/base.py:63\u001b[0m, in \u001b[0;36mBaseController.admin_request\u001b[0;34m(self, method, path, json_data, text, params, data)\u001b[0m\n\u001b[1;32m     59\u001b[0m params \u001b[38;5;241m=\u001b[39m {k: v \u001b[38;5;28;01mfor\u001b[39;00m (k, v) \u001b[38;5;129;01min\u001b[39;00m (params \u001b[38;5;129;01mor\u001b[39;00m {})\u001b[38;5;241m.\u001b[39mitems() \u001b[38;5;28;01mif\u001b[39;00m v \u001b[38;5;129;01mis\u001b[39;00m \u001b[38;5;129;01mnot\u001b[39;00m \u001b[38;5;28;01mNone\u001b[39;00m}\n\u001b[1;32m     60\u001b[0m \u001b[38;5;28;01masync\u001b[39;00m \u001b[38;5;28;01mwith\u001b[39;00m \u001b[38;5;28mself\u001b[39m\u001b[38;5;241m.\u001b[39mclient_session\u001b[38;5;241m.\u001b[39mrequest(\n\u001b[1;32m     61\u001b[0m     method, \u001b[38;5;28mself\u001b[39m\u001b[38;5;241m.\u001b[39madmin_url \u001b[38;5;241m+\u001b[39m path, json\u001b[38;5;241m=\u001b[39mjson_data, params\u001b[38;5;241m=\u001b[39mparams, data\u001b[38;5;241m=\u001b[39mdata\n\u001b[1;32m     62\u001b[0m ) \u001b[38;5;28;01mas\u001b[39;00m resp:\n\u001b[0;32m---> 63\u001b[0m     \u001b[43mresp\u001b[49m\u001b[38;5;241;43m.\u001b[39;49m\u001b[43mraise_for_status\u001b[49m\u001b[43m(\u001b[49m\u001b[43m)\u001b[49m\n\u001b[1;32m     64\u001b[0m     resp_text \u001b[38;5;241m=\u001b[39m \u001b[38;5;28;01mawait\u001b[39;00m resp\u001b[38;5;241m.\u001b[39mtext()\n\u001b[1;32m     65\u001b[0m     \u001b[38;5;28;01mif\u001b[39;00m \u001b[38;5;129;01mnot\u001b[39;00m resp_text \u001b[38;5;129;01mand\u001b[39;00m \u001b[38;5;129;01mnot\u001b[39;00m text:\n",
      "File \u001b[0;32m/opt/conda/lib/python3.10/site-packages/aiohttp/client_reqrep.py:1000\u001b[0m, in \u001b[0;36mClientResponse.raise_for_status\u001b[0;34m(self)\u001b[0m\n\u001b[1;32m    998\u001b[0m \u001b[38;5;28;01massert\u001b[39;00m \u001b[38;5;28mself\u001b[39m\u001b[38;5;241m.\u001b[39mreason \u001b[38;5;129;01mis\u001b[39;00m \u001b[38;5;129;01mnot\u001b[39;00m \u001b[38;5;28;01mNone\u001b[39;00m\n\u001b[1;32m    999\u001b[0m \u001b[38;5;28mself\u001b[39m\u001b[38;5;241m.\u001b[39mrelease()\n\u001b[0;32m-> 1000\u001b[0m \u001b[38;5;28;01mraise\u001b[39;00m ClientResponseError(\n\u001b[1;32m   1001\u001b[0m     \u001b[38;5;28mself\u001b[39m\u001b[38;5;241m.\u001b[39mrequest_info,\n\u001b[1;32m   1002\u001b[0m     \u001b[38;5;28mself\u001b[39m\u001b[38;5;241m.\u001b[39mhistory,\n\u001b[1;32m   1003\u001b[0m     status\u001b[38;5;241m=\u001b[39m\u001b[38;5;28mself\u001b[39m\u001b[38;5;241m.\u001b[39mstatus,\n\u001b[1;32m   1004\u001b[0m     message\u001b[38;5;241m=\u001b[39m\u001b[38;5;28mself\u001b[39m\u001b[38;5;241m.\u001b[39mreason,\n\u001b[1;32m   1005\u001b[0m     headers\u001b[38;5;241m=\u001b[39m\u001b[38;5;28mself\u001b[39m\u001b[38;5;241m.\u001b[39mheaders,\n\u001b[1;32m   1006\u001b[0m )\n",
      "\u001b[0;31mClientResponseError\u001b[0m: 400, message='Presentation exchange f5d621a4-1eb8-45cd-93ba-9cc6a5237d1e in request_sent state (must be presentation_received)', url=URL('http://alice-agent:8021/present-proof/records/f5d621a4-1eb8-45cd-93ba-9cc6a5237d1e/verify-presentation')"
     ]
    },
    {
     "name": "stdout",
     "output_type": "stream",
     "text": [
      "Error during POST /present-proof/records/f5d621a4-1eb8-45cd-93ba-9cc6a5237d1e/verify-presentation: 400, message='Presentation exchange f5d621a4-1eb8-45cd-93ba-9cc6a5237d1e in request_sent state (must be presentation_received)', url=URL('http://alice-agent:8021/present-proof/records/f5d621a4-1eb8-45cd-93ba-9cc6a5237d1e/verify-presentation')\n"
     ]
    }
   ],
   "source": [
    "verify = await agent_controller.proofs.verify_presentation(presentation_exchange_id)\n",
    "print(verify)"
   ]
  },
  {
   "cell_type": "markdown",
   "id": "c1a5a493-c463-4830-8e09-4c01c49d83c1",
   "metadata": {},
   "source": [
    "### If credential revoked, verify['verified'] should become Fales"
   ]
  },
  {
   "cell_type": "code",
   "execution_count": 8,
   "id": "be88467e-8397-4264-a857-5bc6c1fe160b",
   "metadata": {},
   "outputs": [
    {
     "name": "stdout",
     "output_type": "stream",
     "text": [
      "verified\n",
      "True\n"
     ]
    }
   ],
   "source": [
    "print(verify['state'])\n",
    "print(verify['state'] == 'verified')\n",
    "print(verify['verified'])"
   ]
  },
  {
   "cell_type": "code",
   "execution_count": 9,
   "id": "cee88674-6280-410e-9ecb-639b139461ca",
   "metadata": {},
   "outputs": [
    {
     "name": "stdout",
     "output_type": "stream",
     "text": [
      "0_Type_uuid : Dentistry\n",
      "0_ProductionDate_uuid : 1672706006\n",
      "0_Manufacturer_uuid : GOOD_COMPANY\n",
      "0_Owner_uuid : GOOD_SELLER\n"
     ]
    }
   ],
   "source": [
    "for (name, val) in verify['presentation']['requested_proof']['revealed_attrs'].items():\n",
    "    ## This is the actual data that you want. It's a little hidden\n",
    "    print(name + \" : \" + val['raw'])"
   ]
  },
  {
   "cell_type": "code",
   "execution_count": 10,
   "id": "24501cca-e05c-463c-bc1c-57c131ec100a",
   "metadata": {},
   "outputs": [],
   "source": [
    "response = await agent_controller.terminate()"
   ]
  },
  {
   "cell_type": "code",
   "execution_count": null,
   "id": "5322dc1b-b66b-4b6d-a41f-08aa55cbb789",
   "metadata": {},
   "outputs": [],
   "source": []
  }
 ],
 "metadata": {
  "kernelspec": {
   "display_name": "Python 3 (ipykernel)",
   "language": "python",
   "name": "python3"
  },
  "language_info": {
   "codemirror_mode": {
    "name": "ipython",
    "version": 3
   },
   "file_extension": ".py",
   "mimetype": "text/x-python",
   "name": "python",
   "nbconvert_exporter": "python",
   "pygments_lexer": "ipython3",
   "version": "3.10.8"
  }
 },
 "nbformat": 4,
 "nbformat_minor": 5
}
