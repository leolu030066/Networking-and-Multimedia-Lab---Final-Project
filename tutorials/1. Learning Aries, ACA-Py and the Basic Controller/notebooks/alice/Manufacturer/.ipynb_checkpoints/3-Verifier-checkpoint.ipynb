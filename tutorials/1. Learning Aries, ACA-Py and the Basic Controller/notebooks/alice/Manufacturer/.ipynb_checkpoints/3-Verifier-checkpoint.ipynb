{
 "cells": [
  {
   "cell_type": "code",
   "execution_count": null,
   "id": "84b39717-4a69-4521-95d0-be29120a3477",
   "metadata": {},
   "outputs": [],
   "source": [
    "%autoawait\n",
    "import time\n",
    "import asyncio\n",
    "from aries_basic_controller.aries_controller import AriesAgentController\n",
    "    \n",
    "WEBHOOK_HOST = \"0.0.0.0\"\n",
    "WEBHOOK_PORT = 8022\n",
    "WEBHOOK_BASE = \"\"\n",
    "ADMIN_URL = \"http://alice-agent:8021\"\n",
    "\n",
    "# WARNING: You should use environment variables for this\n",
    "# TODO: Make env variables accessible through juypter notebooks\n",
    "API_KEY = \"alice_api_123456789\"\n",
    "\n",
    "# Based on the aca-py agent you wish to control\n",
    "agent_controller = AriesAgentController(admin_url=ADMIN_URL, api_key=API_KEY)"
   ]
  },
  {
   "cell_type": "code",
   "execution_count": null,
   "id": "75e2dba6-4546-47c1-afbf-fd02bfe159d4",
   "metadata": {},
   "outputs": [],
   "source": [
    "agent_controller.init_webhook_server(webhook_host=WEBHOOK_HOST,\n",
    "                                     webhook_port=WEBHOOK_PORT,\n",
    "                                     webhook_base=WEBHOOK_BASE)"
   ]
  },
  {
   "cell_type": "code",
   "execution_count": null,
   "id": "2a1059ba-8046-4f64-ad90-d8cea05ec326",
   "metadata": {},
   "outputs": [],
   "source": [
    "loop = asyncio.get_event_loop()\n",
    "loop.create_task(agent_controller.listen_webhooks())\n",
    "\n",
    "def proof_handler(payload):\n",
    "    print(\"Handle present proof\")\n",
    "    role = payload[\"role\"]\n",
    "    pres_ex_id = payload[\"presentation_exchange_id\"]\n",
    "    state = payload[\"state\"]\n",
    "    print(f\"Role {role}, Exchange {pres_ex_id} in state {state}\")\n",
    "\n",
    "proof_listener = {\n",
    "    \"topic\": \"present_proof\",\n",
    "    \"handler\": proof_handler\n",
    "}\n",
    "agent_controller.register_listeners([proof_listener], defaults=True)"
   ]
  },
  {
   "cell_type": "code",
   "execution_count": null,
   "id": "c382af58-96fd-4045-9a2d-de56f3a7a6b8",
   "metadata": {},
   "outputs": [],
   "source": [
    "try:\n",
    "    response = await agent_controller.connections.get_connections()\n",
    "    results = response['results']\n",
    "    print(\"Results : \", results)\n",
    "    print('\\n')\n",
    "    if len(results) > 0:\n",
    "        connection = response['results'][0]\n",
    "        print(\"Connection :\", connection)\n",
    "        if connection['state'] == 'active':\n",
    "            connection_id = connection[\"connection_id\"]\n",
    "            print(\"\\nActive Connection ID : \", connection_id)\n",
    "        else:\n",
    "            print(\"\\nNo active connection found - wait a bit and execute again\")\n",
    "    else:\n",
    "        print(\"You must create a connection\")\n",
    "except ConnectionRefusedError as e:\n",
    "    print(repr(e))"
   ]
  },
  {
   "cell_type": "code",
   "execution_count": null,
   "id": "8e7c5f80-bed2-4556-bb39-b86c26dcfa9f",
   "metadata": {},
   "outputs": [],
   "source": [
    "import time\n",
    "\n",
    "response = await agent_controller.wallet.get_public_did()\n",
    "print(response)\n",
    "issuer_did = response[\"result\"][\"did\"]\n",
    "\n",
    "print(\"Request proof of the device\")\n",
    "#Set some variables\n",
    "\n",
    "revocation = False\n",
    "exchange_tracing = False\n",
    "\n",
    "#Enable this to ask for attributes to identity a user\n",
    "req_attrs = [\n",
    "    {\"name\": \"ProductionDate\", \"restrictions\": [{\"issuer_did\": issuer_did}]},\n",
    "    {\"name\": \"Manufacturer\", \"restrictions\": [{\"issuer_did\": issuer_did}]},\n",
    "    {\"name\": \"Owner\", \"restrictions\": [{\"issuer_did\": issuer_did}]},\n",
    "    {\"name\": \"Type\", \"restrictions\": [{\"issuer_did\": issuer_did}]}\n",
    "]\n",
    "\n",
    "\n",
    "curtime = int(time.time())\n",
    "#Set predicates for Zero Knowledge Proofs\n",
    "req_preds = [\n",
    "    # test zero-knowledge proofs\n",
    "    {\n",
    "        \"name\": \"ExpirationDate\",\n",
    "        \"p_type\": \">=\",\n",
    "        \"p_value\": curtime,\n",
    "        \"restrictions\": [{\"issuer_did\": issuer_did}],\n",
    "    },\n",
    "    {\n",
    "        \"name\": \"Status\",\n",
    "        \"p_type\": \">\",\n",
    "        \"p_value\": 0,\n",
    "        \"restrictions\": [{\"issuer_did\": issuer_did}],\n",
    "    }\n",
    "]\n",
    "\n",
    "indy_proof_request = {\n",
    "    \"name\": \"Proof of Personal Information\",\n",
    "    \"version\": \"1.0\",\n",
    "    \"requested_attributes\": {\n",
    "        f\"0_{req_attr['name']}_uuid\":\n",
    "        req_attr for req_attr in req_attrs\n",
    "    },\n",
    "    \"requested_predicates\": {\n",
    "        f\"0_{req_pred['name']}_GE_uuid\":\n",
    "        req_pred for req_pred in req_preds\n",
    "    },\n",
    "}\n",
    "indy_proof_request[\"non_revoked\"] = {\"to\": int(time.time())}\n",
    "\n",
    "#proof_request = indy_proof_request\n",
    "exchange_tracing_id = exchange_tracing\n",
    "proof_request_web_request = {\n",
    "    \"connection_id\": connection_id,\n",
    "    \"proof_request\": indy_proof_request,\n",
    "    \"trace\": exchange_tracing,\n",
    "}"
   ]
  },
  {
   "cell_type": "code",
   "execution_count": null,
   "id": "45aa3537-ed02-4c8a-a425-dcd8980b1210",
   "metadata": {},
   "outputs": [],
   "source": [
    "response = await agent_controller.proofs.send_request(proof_request_web_request)\n",
    "print(response)\n",
    "presentation_exchange_id = response['presentation_exchange_id']\n",
    "print(\"\\n\")\n",
    "print(presentation_exchange_id)"
   ]
  },
  {
   "cell_type": "code",
   "execution_count": null,
   "id": "bacf658f-c1d0-4427-bade-edbdece6d759",
   "metadata": {},
   "outputs": [],
   "source": [
    "verify = await agent_controller.proofs.verify_presentation(presentation_exchange_id)\n",
    "print(verify)"
   ]
  },
  {
   "cell_type": "code",
   "execution_count": null,
   "id": "be88467e-8397-4264-a857-5bc6c1fe160b",
   "metadata": {},
   "outputs": [],
   "source": [
    "print(verify['state'])\n",
    "print(verify['state'] == 'verified')"
   ]
  },
  {
   "cell_type": "code",
   "execution_count": null,
   "id": "cee88674-6280-410e-9ecb-639b139461ca",
   "metadata": {},
   "outputs": [],
   "source": [
    "for (name, val) in verify['presentation']['requested_proof']['revealed_attrs'].items():\n",
    "    ## This is the actual data that you want. It's a little hidden\n",
    "    print(name + \" : \" + val['raw'])"
   ]
  },
  {
   "cell_type": "code",
   "execution_count": null,
   "id": "24501cca-e05c-463c-bc1c-57c131ec100a",
   "metadata": {},
   "outputs": [],
   "source": [
    "response = await agent_controller.terminate()"
   ]
  },
  {
   "cell_type": "code",
   "execution_count": null,
   "id": "5322dc1b-b66b-4b6d-a41f-08aa55cbb789",
   "metadata": {},
   "outputs": [],
   "source": []
  }
 ],
 "metadata": {
  "kernelspec": {
   "display_name": "Python 3 (ipykernel)",
   "language": "python",
   "name": "python3"
  },
  "language_info": {
   "codemirror_mode": {
    "name": "ipython",
    "version": 3
   },
   "file_extension": ".py",
   "mimetype": "text/x-python",
   "name": "python",
   "nbconvert_exporter": "python",
   "pygments_lexer": "ipython3",
   "version": "3.10.8"
  }
 },
 "nbformat": 4,
 "nbformat_minor": 5
}
