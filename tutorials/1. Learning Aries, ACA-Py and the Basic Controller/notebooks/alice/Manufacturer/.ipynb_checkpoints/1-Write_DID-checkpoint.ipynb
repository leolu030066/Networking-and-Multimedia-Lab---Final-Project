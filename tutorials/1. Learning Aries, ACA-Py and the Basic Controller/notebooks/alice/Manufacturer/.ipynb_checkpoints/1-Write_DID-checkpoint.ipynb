{
 "cells": [
  {
   "cell_type": "code",
   "execution_count": 9,
   "id": "d526c48b-1aca-49b0-8602-1f20da61ade2",
   "metadata": {},
   "outputs": [
    {
     "name": "stdout",
     "output_type": "stream",
     "text": [
      "IPython autoawait is `on`, and set to use `asyncio`\n"
     ]
    }
   ],
   "source": [
    "%autoawait\n",
    "import time\n",
    "import asyncio"
   ]
  },
  {
   "cell_type": "code",
   "execution_count": 10,
   "id": "48d03af3-4f64-4653-b109-19e57ce85ead",
   "metadata": {},
   "outputs": [],
   "source": [
    "from aries_basic_controller.aries_controller import AriesAgentController\n",
    "    \n",
    "WEBHOOK_HOST = \"0.0.0.0\"\n",
    "WEBHOOK_PORT = 8022\n",
    "WEBHOOK_BASE = \"\"\n",
    "ADMIN_URL = \"http://alice-agent:8021\"\n",
    "\n",
    "# WARNING: You should use environment variables for this\n",
    "# TODO: Make env variables accessible through juypter notebooks\n",
    "API_KEY = \"alice_api_123456789\"\n",
    "\n",
    "# Based on the aca-py agent you wish to control\n",
    "agent_controller = AriesAgentController(admin_url=ADMIN_URL, api_key=API_KEY)"
   ]
  },
  {
   "cell_type": "code",
   "execution_count": 11,
   "id": "9bef3989-6c24-4c68-abab-1deade65b1f2",
   "metadata": {},
   "outputs": [],
   "source": [
    "agent_controller.init_webhook_server(webhook_host=WEBHOOK_HOST,\n",
    "                                     webhook_port=WEBHOOK_PORT,\n",
    "                                     webhook_base=WEBHOOK_BASE)\n"
   ]
  },
  {
   "cell_type": "markdown",
   "id": "88767766-4700-443d-99bf-28a37eacc9c1",
   "metadata": {},
   "source": [
    "### After Manufacturer produced the medical devices, the manufacture create a new DID and Register it on Ledger for it"
   ]
  },
  {
   "cell_type": "code",
   "execution_count": 12,
   "id": "367e761f-eb05-4c14-bc24-209888bd36b5",
   "metadata": {},
   "outputs": [
    {
     "name": "stdout",
     "output_type": "stream",
     "text": [
      "DID {'did': 'TSY3YYkDF9G4U5Q8vVVNKa', 'verkey': 'FQq5BXaGi71xB73vXqCehnzMz1fCrJtj5njtKQyttK7D', 'posture': 'wallet_only'}\n"
     ]
    }
   ],
   "source": [
    "response = await agent_controller.wallet.create_did()\n",
    "\n",
    "did_object = response['result']\n",
    "print(\"DID\", did_object)"
   ]
  },
  {
   "cell_type": "code",
   "execution_count": 13,
   "id": "8172c64c-6037-4124-a9b4-04c411cddd60",
   "metadata": {},
   "outputs": [
    {
     "name": "stdout",
     "output_type": "stream",
     "text": [
      "{'success': True}\n"
     ]
    }
   ],
   "source": [
    "result = await agent_controller.ledger.register_nym(did_object['did'], did_object['verkey'])\n",
    "print(result)"
   ]
  },
  {
   "cell_type": "markdown",
   "id": "7a86e298-545b-429a-8ee8-6c9ad13fac34",
   "metadata": {
    "tags": []
   },
   "source": [
    "### Now your DID is successfully written on ledger"
   ]
  },
  {
   "cell_type": "code",
   "execution_count": 14,
   "id": "3df858c6-9e6f-4ec7-8ed1-812728212a95",
   "metadata": {},
   "outputs": [
    {
     "name": "stdout",
     "output_type": "stream",
     "text": [
      "{'verkey': 'FQq5BXaGi71xB73vXqCehnzMz1fCrJtj5njtKQyttK7D'}\n"
     ]
    }
   ],
   "source": [
    "endpoint = await agent_controller.ledger.get_did_verkey(did_object['did'])\n",
    "print(endpoint)"
   ]
  },
  {
   "cell_type": "code",
   "execution_count": 15,
   "id": "d2902254-8d74-4c2a-9097-e4ccad016ebe",
   "metadata": {},
   "outputs": [
    {
     "name": "stdout",
     "output_type": "stream",
     "text": [
      "None\n"
     ]
    }
   ],
   "source": [
    "response = await agent_controller.terminate()\n",
    "print(response)"
   ]
  },
  {
   "cell_type": "code",
   "execution_count": null,
   "id": "426da183-6078-4f0c-8177-e3c49d97905f",
   "metadata": {},
   "outputs": [],
   "source": []
  }
 ],
 "metadata": {
  "kernelspec": {
   "display_name": "Python 3 (ipykernel)",
   "language": "python",
   "name": "python3"
  },
  "language_info": {
   "codemirror_mode": {
    "name": "ipython",
    "version": 3
   },
   "file_extension": ".py",
   "mimetype": "text/x-python",
   "name": "python",
   "nbconvert_exporter": "python",
   "pygments_lexer": "ipython3",
   "version": "3.10.8"
  }
 },
 "nbformat": 4,
 "nbformat_minor": 5
}
