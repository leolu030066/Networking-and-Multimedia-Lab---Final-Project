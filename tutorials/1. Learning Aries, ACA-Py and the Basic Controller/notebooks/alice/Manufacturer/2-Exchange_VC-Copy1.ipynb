{
 "cells": [
  {
   "cell_type": "markdown",
   "id": "27aeb6da-1f6d-4f5c-9228-006ce4153829",
   "metadata": {},
   "source": [
    "### After the seller buy the device from manufacture, seller needs proof of having the device"
   ]
  },
  {
   "cell_type": "code",
   "execution_count": 1,
   "id": "364e23fb-8a98-4e57-b876-92906999769e",
   "metadata": {},
   "outputs": [
    {
     "name": "stdout",
     "output_type": "stream",
     "text": [
      "IPython autoawait is `on`, and set to use `asyncio`\n"
     ]
    }
   ],
   "source": [
    "%autoawait\n",
    "import time\n",
    "import asyncio\n",
    "from aries_basic_controller.aries_controller import AriesAgentController\n",
    "    \n",
    "WEBHOOK_HOST = \"0.0.0.0\"\n",
    "WEBHOOK_PORT = 8022\n",
    "WEBHOOK_BASE = \"\"\n",
    "ADMIN_URL = \"http://alice-agent:8021\"\n",
    "\n",
    "# WARNING: You should use environment variables for this\n",
    "# TODO: Make env variables accessible through juypter notebooks\n",
    "API_KEY = \"alice_api_123456789\"\n",
    "\n",
    "# Based on the aca-py agent you wish to control\n",
    "agent_controller = AriesAgentController(admin_url=ADMIN_URL, api_key=API_KEY)"
   ]
  },
  {
   "cell_type": "code",
   "execution_count": 2,
   "id": "c5977055-823e-46df-b3bb-18665744ac99",
   "metadata": {},
   "outputs": [],
   "source": [
    "agent_controller.init_webhook_server(webhook_host=WEBHOOK_HOST,\n",
    "                                     webhook_port=WEBHOOK_PORT,\n",
    "                                     webhook_base=WEBHOOK_BASE)"
   ]
  },
  {
   "cell_type": "code",
   "execution_count": 3,
   "id": "fdb2c095-7214-4938-b586-31ebc3155748",
   "metadata": {},
   "outputs": [
    {
     "name": "stdout",
     "output_type": "stream",
     "text": [
      "Subscribing too: issue_credential\n"
     ]
    }
   ],
   "source": [
    "loop = asyncio.get_event_loop()\n",
    "loop.create_task(agent_controller.listen_webhooks())\n",
    "\n",
    "def cred_handler(payload):\n",
    "    print(\"Handle Credentials\")\n",
    "    exchange_id = payload['credential_exchange_id']\n",
    "    state = payload['state']\n",
    "    role = payload['role']\n",
    "    attributes = payload['credential_proposal_dict']['credential_proposal']['attributes']\n",
    "    print(f\"Credential exchange {exchange_id}, role: {role}, state: {state}\")\n",
    "    print(f\"Offering: {attributes}\")\n",
    "    \n",
    "cred_listener = {\n",
    "    \"topic\": \"issue_credential\",\n",
    "    \"handler\": cred_handler\n",
    "}\n",
    "agent_controller.register_listeners([cred_listener], defaults=True)"
   ]
  },
  {
   "cell_type": "markdown",
   "id": "b179313c-5a2d-4745-a7d0-063ff16ec3b4",
   "metadata": {},
   "source": [
    "### Go to Seller Notebook to build connection"
   ]
  },
  {
   "cell_type": "code",
   "execution_count": 4,
   "id": "0eb3ab71-afe1-4d72-b96c-0171f3921e7c",
   "metadata": {},
   "outputs": [
    {
     "name": "stdout",
     "output_type": "stream",
     "text": [
      "Results :  [{'connection_id': 'e812df45-5cab-4e9b-a099-cd801de4fd33', 'accept': 'manual', 'invitation_key': 'EzJK5B9Whm1rm4utkVJj8HpevUg6ppU3ete5YfQLRKTn', 'invitation_mode': 'once', 'routing_state': 'none', 'their_did': 'WGBGMeCT19cC5Thdjey9fa', 'created_at': '2023-01-03 00:10:27.158633Z', 'state': 'active', 'their_role': 'inviter', 'updated_at': '2023-01-03 00:10:47.369114Z', 'my_did': '5mjER6QMs8dEZdfJvfNcXZ', 'their_label': 'Bob', 'rfc23_state': 'completed', 'request_id': '84a406b6-85c3-49c1-afca-681a76aa2a3d'}]\n",
      "Connection : {'connection_id': 'e812df45-5cab-4e9b-a099-cd801de4fd33', 'accept': 'manual', 'invitation_key': 'EzJK5B9Whm1rm4utkVJj8HpevUg6ppU3ete5YfQLRKTn', 'invitation_mode': 'once', 'routing_state': 'none', 'their_did': 'WGBGMeCT19cC5Thdjey9fa', 'created_at': '2023-01-03 00:10:27.158633Z', 'state': 'active', 'their_role': 'inviter', 'updated_at': '2023-01-03 00:10:47.369114Z', 'my_did': '5mjER6QMs8dEZdfJvfNcXZ', 'their_label': 'Bob', 'rfc23_state': 'completed', 'request_id': '84a406b6-85c3-49c1-afca-681a76aa2a3d'}\n",
      "Active Connection ID :  e812df45-5cab-4e9b-a099-cd801de4fd33\n"
     ]
    }
   ],
   "source": [
    "response = await agent_controller.connections.get_connections()\n",
    "results = response['results']\n",
    "print(\"Results : \", results)\n",
    "if len(results) > 0:\n",
    "    connection = response['results'][0]\n",
    "    print(\"Connection :\", connection)\n",
    "    if connection['state'] == 'active':       \n",
    "        connection_id = connection[\"connection_id\"]\n",
    "        print(\"Active Connection ID : \", connection_id)\n",
    "else:\n",
    "    print(\"You must create a connection\")\n",
    "    "
   ]
  },
  {
   "cell_type": "code",
   "execution_count": 9,
   "id": "a234b422-1496-414f-93f5-cbd9840ec253",
   "metadata": {},
   "outputs": [],
   "source": [
    "# Define you schema name - must be unique on the ledger\n",
    "schema_name = \"Device_schema3\"\n",
    "# Can version the schema if you wish to update it\n",
    "schema_version = \"0.0.1\"\n",
    "# Define any list of attributes you wish to include in your schema\n",
    "attributes = [\"ProductionDate\", \"ExpirationDate\", \"Manufacturer\", \"Owner\", \"Type\", \"Status\"]"
   ]
  },
  {
   "cell_type": "code",
   "execution_count": 10,
   "id": "963c31fb-c6d6-4e1a-9255-af0009e88b60",
   "metadata": {},
   "outputs": [
    {
     "name": "stdout",
     "output_type": "stream",
     "text": [
      "PQRXDxdGqQGSZ8z69p4xZP:2:Device_schema3:0.0.1\n"
     ]
    }
   ],
   "source": [
    "response = await agent_controller.schema.write_schema(schema_name, attributes, schema_version)\n",
    "schema_id = response[\"schema_id\"]\n",
    "print(schema_id)"
   ]
  },
  {
   "cell_type": "code",
   "execution_count": 11,
   "id": "99e5a2b4-f94a-4da3-99f7-f6de93d989a5",
   "metadata": {},
   "outputs": [
    {
     "name": "stdout",
     "output_type": "stream",
     "text": [
      "PQRXDxdGqQGSZ8z69p4xZP:3:CL:40:default\n"
     ]
    }
   ],
   "source": [
    "response = await agent_controller.definitions.write_cred_def(schema_id, support_revocation=True)\n",
    "\n",
    "cred_def_id = response[\"credential_definition_id\"]\n",
    "print(cred_def_id)"
   ]
  },
  {
   "cell_type": "code",
   "execution_count": 12,
   "id": "cdf1d150-f6bf-4332-8703-a2add2189cf9",
   "metadata": {},
   "outputs": [
    {
     "name": "stdout",
     "output_type": "stream",
     "text": [
      "[{'name': 'ProductionDate', 'value': '1672706006'}, {'name': 'ExpirationDate', 'value': '1704242006'}, {'name': 'Manufacturer', 'value': 'GOOD_COMPANY'}, {'name': 'Owner', 'value': 'GOOD_SELLER'}, {'name': 'Type', 'value': 'Dentistry'}, {'name': 'Status', 'value': '1'}]\n"
     ]
    }
   ],
   "source": [
    "import time\n",
    "\n",
    "ProductionTime = int(time.time())\n",
    "ExpirationTime = ProductionTime + 31536000\n",
    "\n",
    "credential_attributes = [\n",
    "    {\"name\": \"ProductionDate\", \"value\": str(ProductionTime)},\n",
    "    {\"name\": \"ExpirationDate\", \"value\": str(ExpirationTime)},\n",
    "    {\"name\": \"Manufacturer\", \"value\": \"GOOD_COMPANY\"},\n",
    "    {\"name\": \"Owner\", \"value\": \"GOOD_SELLER\"},\n",
    "    {\"name\": \"Type\", \"value\": \"Dentistry\"},\n",
    "    {\"name\": \"Status\", \"value\": \"1\"}\n",
    "]\n",
    "print(credential_attributes)"
   ]
  },
  {
   "cell_type": "code",
   "execution_count": 13,
   "id": "7b4fbe6a-3a8a-4ae4-b033-b7dae78230a5",
   "metadata": {},
   "outputs": [
    {
     "name": "stdout",
     "output_type": "stream",
     "text": [
      "Handle Credentials\n",
      "Credential exchange 5697823d-3a42-4322-b5e4-de320ab94d41, role: issuer, state: offer_sent\n",
      "Offering: [{'name': 'ProductionDate', 'value': '1672706006'}, {'name': 'ExpirationDate', 'value': '1704242006'}, {'name': 'Manufacturer', 'value': 'GOOD_COMPANY'}, {'name': 'Owner', 'value': 'GOOD_SELLER'}, {'name': 'Type', 'value': 'Dentistry'}, {'name': 'Status', 'value': '1'}]\n",
      "Credential exchange 5697823d-3a42-4322-b5e4-de320ab94d41, role: issuer, state: offer_sent\n",
      "Handle Credentials\n",
      "Credential exchange 5697823d-3a42-4322-b5e4-de320ab94d41, role: issuer, state: request_received\n",
      "Offering: [{'name': 'ProductionDate', 'value': '1672706006'}, {'name': 'ExpirationDate', 'value': '1704242006'}, {'name': 'Manufacturer', 'value': 'GOOD_COMPANY'}, {'name': 'Owner', 'value': 'GOOD_SELLER'}, {'name': 'Type', 'value': 'Dentistry'}, {'name': 'Status', 'value': '1'}]\n",
      "Handle Credentials\n",
      "Credential exchange 5697823d-3a42-4322-b5e4-de320ab94d41, role: issuer, state: credential_issued\n",
      "Offering: [{'name': 'ProductionDate', 'value': '1672706006'}, {'name': 'ExpirationDate', 'value': '1704242006'}, {'name': 'Manufacturer', 'value': 'GOOD_COMPANY'}, {'name': 'Owner', 'value': 'GOOD_SELLER'}, {'name': 'Type', 'value': 'Dentistry'}, {'name': 'Status', 'value': '1'}]\n",
      "Handle Credentials\n",
      "Credential exchange 5697823d-3a42-4322-b5e4-de320ab94d41, role: issuer, state: credential_acked\n",
      "Offering: [{'name': 'ProductionDate', 'value': '1672706006'}, {'name': 'ExpirationDate', 'value': '1704242006'}, {'name': 'Manufacturer', 'value': 'GOOD_COMPANY'}, {'name': 'Owner', 'value': 'GOOD_SELLER'}, {'name': 'Type', 'value': 'Dentistry'}, {'name': 'Status', 'value': '1'}]\n"
     ]
    }
   ],
   "source": [
    "record = await agent_controller.issuer.send_credential(connection_id, schema_id, cred_def_id, credential_attributes, auto_remove=False, trace=True)\n",
    "record_id = record['credential_exchange_id']\n",
    "state = record['state']\n",
    "role = record['role']\n",
    "print(f\"Credential exchange {record_id}, role: {role}, state: {state}\")"
   ]
  },
  {
   "cell_type": "markdown",
   "id": "87449286-26be-4c3c-b2b0-c089471ea86a",
   "metadata": {},
   "source": [
    "### Go to seller notebook to receive credential"
   ]
  },
  {
   "cell_type": "code",
   "execution_count": 14,
   "id": "ac97d2e9-2619-4c06-8762-7f9055993e33",
   "metadata": {},
   "outputs": [
    {
     "name": "stdout",
     "output_type": "stream",
     "text": [
      "None\n"
     ]
    }
   ],
   "source": [
    "response = await agent_controller.terminate()\n",
    "print(response)"
   ]
  },
  {
   "cell_type": "code",
   "execution_count": null,
   "id": "4eb15019-b1c3-4d04-9f0d-410c74e18a1b",
   "metadata": {},
   "outputs": [],
   "source": []
  }
 ],
 "metadata": {
  "kernelspec": {
   "display_name": "Python 3 (ipykernel)",
   "language": "python",
   "name": "python3"
  },
  "language_info": {
   "codemirror_mode": {
    "name": "ipython",
    "version": 3
   },
   "file_extension": ".py",
   "mimetype": "text/x-python",
   "name": "python",
   "nbconvert_exporter": "python",
   "pygments_lexer": "ipython3",
   "version": "3.10.8"
  }
 },
 "nbformat": 4,
 "nbformat_minor": 5
}
