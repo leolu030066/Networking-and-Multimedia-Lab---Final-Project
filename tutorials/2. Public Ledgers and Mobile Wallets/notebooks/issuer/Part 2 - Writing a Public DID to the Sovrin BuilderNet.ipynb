{
 "cells": [
  {
   "cell_type": "markdown",
   "metadata": {},
   "source": [
    "# Writing a Public DID to the Sovrin BuilderNet\n",
    "\n",
    "### This notebook walks through how to connect an Aca-Py agent to a live Indy network. In our example we will be connecting to the Sovrin Buildernet. To view details about Sovrin Buildernet transactions please visit [Indyscan](https://indyscan.io/home/SOVRIN_BUILDERNET)."
   ]
  },
  {
   "cell_type": "markdown",
   "metadata": {},
   "source": [
    "## 1. Initialise a controller for Issuer Agent"
   ]
  },
  {
   "cell_type": "code",
   "execution_count": 1,
   "metadata": {},
   "outputs": [
    {
     "name": "stdout",
     "output_type": "stream",
     "text": [
      "IPython autoawait is `on`, and set to use `asyncio`\n"
     ]
    }
   ],
   "source": [
    "%autoawait\n",
    "import time\n",
    "import asyncio\n",
    "from aries_basic_controller.aries_controller import AriesAgentController\n",
    "    \n",
    "WEBHOOK_HOST = \"0.0.0.0\"\n",
    "WEBHOOK_BASE = \"\"\n",
    "\n",
    "WEBHOOK_PORT = 8022\n",
    "ADMIN_URL = \"http://issuer-agent:8021\"\n",
    "\n",
    "# Based on the aca-py agent you wish to control\n",
    "agent_controller = AriesAgentController(admin_url=ADMIN_URL)"
   ]
  },
  {
   "cell_type": "code",
   "execution_count": 2,
   "metadata": {},
   "outputs": [],
   "source": [
    "agent_controller.init_webhook_server(webhook_host=WEBHOOK_HOST,\n",
    "                                     webhook_port=WEBHOOK_PORT,\n",
    "                                     webhook_base=WEBHOOK_BASE)"
   ]
  },
  {
   "cell_type": "markdown",
   "metadata": {},
   "source": [
    "## 2. Get current public DID\n",
    "\n",
    "Before being able to write to any indy based ledger, your agent must have a public DID written on the ledger giving it the authority to write to it. As the cell below shows, this agent does not currently have a public DID. So any writes to the ledger will be rejected."
   ]
  },
  {
   "cell_type": "code",
   "execution_count": 3,
   "metadata": {},
   "outputs": [
    {
     "name": "stdout",
     "output_type": "stream",
     "text": [
      "{'result': None}\n"
     ]
    }
   ],
   "source": [
    "response = await agent_controller.wallet.get_public_did()\n",
    "print(response)"
   ]
  },
  {
   "cell_type": "markdown",
   "metadata": {},
   "source": [
    "### THIS WILL FAIL"
   ]
  },
  {
   "cell_type": "code",
   "execution_count": 4,
   "metadata": {},
   "outputs": [
    {
     "ename": "ClientResponseError",
     "evalue": "400, message='Cannot publish credential definition without a public DID', url=URL('http://issuer-agent:8021/credential-definitions')",
     "output_type": "error",
     "traceback": [
      "\u001b[0;31m---------------------------------------------------------------------------\u001b[0m",
      "\u001b[0;31mClientResponseError\u001b[0m                       Traceback (most recent call last)",
      "Cell \u001b[0;32mIn[4], line 2\u001b[0m\n\u001b[1;32m      1\u001b[0m schema_id \u001b[38;5;241m=\u001b[39m \u001b[38;5;124m'\u001b[39m\u001b[38;5;124mMGgoJXWbeupKsaHDa7s4fW:2:testabc:0.0.1\u001b[39m\u001b[38;5;124m'\u001b[39m\n\u001b[0;32m----> 2\u001b[0m response \u001b[38;5;241m=\u001b[39m \u001b[38;5;28;01mawait\u001b[39;00m agent_controller\u001b[38;5;241m.\u001b[39mdefinitions\u001b[38;5;241m.\u001b[39mwrite_cred_def(schema_id)\n",
      "File \u001b[0;32m/aries_basic_controller/controllers/definitions.py:24\u001b[0m, in \u001b[0;36mDefinitionsController.write_cred_def\u001b[0;34m(self, schema_id, tag, support_revocation)\u001b[0m\n\u001b[1;32m     16\u001b[0m \u001b[38;5;28;01masync\u001b[39;00m \u001b[38;5;28;01mdef\u001b[39;00m \u001b[38;5;21mwrite_cred_def\u001b[39m(\u001b[38;5;28mself\u001b[39m, schema_id, tag: \u001b[38;5;28mstr\u001b[39m \u001b[38;5;241m=\u001b[39m \u001b[38;5;124m\"\u001b[39m\u001b[38;5;124mdefault\u001b[39m\u001b[38;5;124m\"\u001b[39m, support_revocation: \u001b[38;5;28mbool\u001b[39m \u001b[38;5;241m=\u001b[39m \u001b[38;5;28;01mFalse\u001b[39;00m):\n\u001b[1;32m     18\u001b[0m     body \u001b[38;5;241m=\u001b[39m {\n\u001b[1;32m     19\u001b[0m         \u001b[38;5;124m\"\u001b[39m\u001b[38;5;124mschema_id\u001b[39m\u001b[38;5;124m\"\u001b[39m: schema_id,\n\u001b[1;32m     20\u001b[0m         \u001b[38;5;124m\"\u001b[39m\u001b[38;5;124mtag\u001b[39m\u001b[38;5;124m\"\u001b[39m: tag,\n\u001b[1;32m     21\u001b[0m         \u001b[38;5;124m\"\u001b[39m\u001b[38;5;124msupport_revocation\u001b[39m\u001b[38;5;124m\"\u001b[39m: support_revocation\n\u001b[1;32m     22\u001b[0m     }\n\u001b[0;32m---> 24\u001b[0m     \u001b[38;5;28;01mreturn\u001b[39;00m \u001b[38;5;28;01mawait\u001b[39;00m \u001b[38;5;28mself\u001b[39m\u001b[38;5;241m.\u001b[39madmin_POST(\u001b[38;5;124mf\u001b[39m\u001b[38;5;124m\"\u001b[39m\u001b[38;5;132;01m{\u001b[39;00m\u001b[38;5;28mself\u001b[39m\u001b[38;5;241m.\u001b[39mbase_url\u001b[38;5;132;01m}\u001b[39;00m\u001b[38;5;124m\"\u001b[39m, body)\n",
      "File \u001b[0;32m/aries_basic_controller/controllers/base.py:95\u001b[0m, in \u001b[0;36mBaseController.admin_POST\u001b[0;34m(self, path, json_data, text, params, data)\u001b[0m\n\u001b[1;32m     89\u001b[0m \u001b[38;5;28;01mtry\u001b[39;00m:\n\u001b[1;32m     90\u001b[0m     EVENT_LOGGER\u001b[38;5;241m.\u001b[39mdebug(\n\u001b[1;32m     91\u001b[0m         \u001b[38;5;124m\"\u001b[39m\u001b[38;5;124mController POST \u001b[39m\u001b[38;5;132;01m%s\u001b[39;00m\u001b[38;5;124m request to Agent\u001b[39m\u001b[38;5;132;01m%s\u001b[39;00m\u001b[38;5;124m\"\u001b[39m,\n\u001b[1;32m     92\u001b[0m         path,\n\u001b[1;32m     93\u001b[0m         (\u001b[38;5;124m\"\u001b[39m\u001b[38;5;124m with data: \u001b[39m\u001b[38;5;130;01m\\n\u001b[39;00m\u001b[38;5;132;01m{}\u001b[39;00m\u001b[38;5;124m\"\u001b[39m\u001b[38;5;241m.\u001b[39mformat(repr_json(json_data)) \u001b[38;5;28;01mif\u001b[39;00m json_data \u001b[38;5;28;01melse\u001b[39;00m \u001b[38;5;124m\"\u001b[39m\u001b[38;5;124m\"\u001b[39m),\n\u001b[1;32m     94\u001b[0m     )\n\u001b[0;32m---> 95\u001b[0m     response \u001b[38;5;241m=\u001b[39m \u001b[38;5;28;01mawait\u001b[39;00m \u001b[38;5;28mself\u001b[39m\u001b[38;5;241m.\u001b[39madmin_request(\u001b[38;5;124m\"\u001b[39m\u001b[38;5;124mPOST\u001b[39m\u001b[38;5;124m\"\u001b[39m, path, json_data, text, params, data)\n\u001b[1;32m     96\u001b[0m     EVENT_LOGGER\u001b[38;5;241m.\u001b[39mdebug(\n\u001b[1;32m     97\u001b[0m         \u001b[38;5;124m\"\u001b[39m\u001b[38;5;124mResponse from POST \u001b[39m\u001b[38;5;132;01m%s\u001b[39;00m\u001b[38;5;124m received: \u001b[39m\u001b[38;5;130;01m\\n\u001b[39;00m\u001b[38;5;132;01m%s\u001b[39;00m\u001b[38;5;124m\"\u001b[39m,\n\u001b[1;32m     98\u001b[0m         path,\n\u001b[1;32m     99\u001b[0m         repr_json(response),\n\u001b[1;32m    100\u001b[0m     )\n\u001b[1;32m    101\u001b[0m     \u001b[38;5;28;01mreturn\u001b[39;00m response\n",
      "File \u001b[0;32m/aries_basic_controller/controllers/base.py:63\u001b[0m, in \u001b[0;36mBaseController.admin_request\u001b[0;34m(self, method, path, json_data, text, params, data)\u001b[0m\n\u001b[1;32m     59\u001b[0m params \u001b[38;5;241m=\u001b[39m {k: v \u001b[38;5;28;01mfor\u001b[39;00m (k, v) \u001b[38;5;129;01min\u001b[39;00m (params \u001b[38;5;129;01mor\u001b[39;00m {})\u001b[38;5;241m.\u001b[39mitems() \u001b[38;5;28;01mif\u001b[39;00m v \u001b[38;5;129;01mis\u001b[39;00m \u001b[38;5;129;01mnot\u001b[39;00m \u001b[38;5;28;01mNone\u001b[39;00m}\n\u001b[1;32m     60\u001b[0m \u001b[38;5;28;01masync\u001b[39;00m \u001b[38;5;28;01mwith\u001b[39;00m \u001b[38;5;28mself\u001b[39m\u001b[38;5;241m.\u001b[39mclient_session\u001b[38;5;241m.\u001b[39mrequest(\n\u001b[1;32m     61\u001b[0m     method, \u001b[38;5;28mself\u001b[39m\u001b[38;5;241m.\u001b[39madmin_url \u001b[38;5;241m+\u001b[39m path, json\u001b[38;5;241m=\u001b[39mjson_data, params\u001b[38;5;241m=\u001b[39mparams, data\u001b[38;5;241m=\u001b[39mdata\n\u001b[1;32m     62\u001b[0m ) \u001b[38;5;28;01mas\u001b[39;00m resp:\n\u001b[0;32m---> 63\u001b[0m     \u001b[43mresp\u001b[49m\u001b[38;5;241;43m.\u001b[39;49m\u001b[43mraise_for_status\u001b[49m\u001b[43m(\u001b[49m\u001b[43m)\u001b[49m\n\u001b[1;32m     64\u001b[0m     resp_text \u001b[38;5;241m=\u001b[39m \u001b[38;5;28;01mawait\u001b[39;00m resp\u001b[38;5;241m.\u001b[39mtext()\n\u001b[1;32m     65\u001b[0m     \u001b[38;5;28;01mif\u001b[39;00m \u001b[38;5;129;01mnot\u001b[39;00m resp_text \u001b[38;5;129;01mand\u001b[39;00m \u001b[38;5;129;01mnot\u001b[39;00m text:\n",
      "File \u001b[0;32m/opt/conda/lib/python3.10/site-packages/aiohttp/client_reqrep.py:1000\u001b[0m, in \u001b[0;36mClientResponse.raise_for_status\u001b[0;34m(self)\u001b[0m\n\u001b[1;32m    998\u001b[0m \u001b[38;5;28;01massert\u001b[39;00m \u001b[38;5;28mself\u001b[39m\u001b[38;5;241m.\u001b[39mreason \u001b[38;5;129;01mis\u001b[39;00m \u001b[38;5;129;01mnot\u001b[39;00m \u001b[38;5;28;01mNone\u001b[39;00m\n\u001b[1;32m    999\u001b[0m \u001b[38;5;28mself\u001b[39m\u001b[38;5;241m.\u001b[39mrelease()\n\u001b[0;32m-> 1000\u001b[0m \u001b[38;5;28;01mraise\u001b[39;00m ClientResponseError(\n\u001b[1;32m   1001\u001b[0m     \u001b[38;5;28mself\u001b[39m\u001b[38;5;241m.\u001b[39mrequest_info,\n\u001b[1;32m   1002\u001b[0m     \u001b[38;5;28mself\u001b[39m\u001b[38;5;241m.\u001b[39mhistory,\n\u001b[1;32m   1003\u001b[0m     status\u001b[38;5;241m=\u001b[39m\u001b[38;5;28mself\u001b[39m\u001b[38;5;241m.\u001b[39mstatus,\n\u001b[1;32m   1004\u001b[0m     message\u001b[38;5;241m=\u001b[39m\u001b[38;5;28mself\u001b[39m\u001b[38;5;241m.\u001b[39mreason,\n\u001b[1;32m   1005\u001b[0m     headers\u001b[38;5;241m=\u001b[39m\u001b[38;5;28mself\u001b[39m\u001b[38;5;241m.\u001b[39mheaders,\n\u001b[1;32m   1006\u001b[0m )\n",
      "\u001b[0;31mClientResponseError\u001b[0m: 400, message='Cannot publish credential definition without a public DID', url=URL('http://issuer-agent:8021/credential-definitions')"
     ]
    },
    {
     "name": "stdout",
     "output_type": "stream",
     "text": [
      "Error during POST /credential-definitions: 400, message='Cannot publish credential definition without a public DID', url=URL('http://issuer-agent:8021/credential-definitions')\n"
     ]
    }
   ],
   "source": [
    "schema_id = 'MGgoJXWbeupKsaHDa7s4fW:2:testabc:0.0.1'\n",
    "response = await agent_controller.definitions.write_cred_def(schema_id)"
   ]
  },
  {
   "cell_type": "markdown",
   "metadata": {},
   "source": [
    "## 3. Generate a new DID\n",
    "\n",
    "Before being able to write a DID to the ledger, you must create one using the wallet api. This api returns the identifier (the DID), and the verification key for that DID. A representation of it's public key. "
   ]
  },
  {
   "cell_type": "code",
   "execution_count": 5,
   "metadata": {},
   "outputs": [
    {
     "name": "stdout",
     "output_type": "stream",
     "text": [
      "New DID {'did': 'CkyvpGyU54r7GXUyQiSfAn', 'verkey': '7QhnFLrGpPopLVwXg37Nkst3H2AjdRWAt8brKCyagXVt', 'posture': 'wallet_only'}\n"
     ]
    }
   ],
   "source": [
    "# generate new DID\n",
    "response = await agent_controller.wallet.create_did()\n",
    "\n",
    "did_object = response['result']\n",
    "print(\"New DID\", did_object)"
   ]
  },
  {
   "cell_type": "markdown",
   "metadata": {},
   "source": [
    "## 4. Write DID to Sovrin Buildernet\n",
    "\n",
    "Anoyone can write a DID to the Sovrin Buildernet, it is a permissionless ledger. \n",
    "\n",
    "Visit [Sovrin Selfserve Portal](https://selfserve.sovrin.org) for more information. We have provided an automated process to write DIDs to Buildernet in the step below."
   ]
  },
  {
   "cell_type": "code",
   "execution_count": 8,
   "metadata": {},
   "outputs": [
    {
     "name": "stdout",
     "output_type": "stream",
     "text": [
      "{'statusCode': 400, 'headers': {'Access-Control-Allow-Origin': '*'}, 'body': '{\"CkyvpGyU54r7GXUyQiSfAn\": \"Not Authenticated.\", \"statusCode\": 400}'}\n",
      "200\n"
     ]
    }
   ],
   "source": [
    "# write new DID to Sovrin Buildernet\n",
    "import requests\n",
    "import json \n",
    "\n",
    "url = 'https://selfserve.sovrin.org/nym'\n",
    "\n",
    "payload = {\"network\":\"buildernet\",\"did\": did_object[\"did\"],\"verkey\":did_object[\"verkey\"],\"paymentaddr\":\"\"}\n",
    "\n",
    "# Adding empty header as parameters are being sent in payload\n",
    "headers = {}\n",
    "\n",
    "r = requests.post(url, data=json.dumps(payload), headers=headers)\n",
    "print(r.json())\n",
    "print(r.status_code)"
   ]
  },
  {
   "cell_type": "markdown",
   "metadata": {},
   "source": [
    "## 5. Accepting the Transaction Author Agreement (TAA)\n",
    "\n",
    "Although the Sovrin BuilderNet is permissionless, before DID's have the authority to write to the ledger they must accept something called a transaction author agreement by signing it using the DID they have on the ledger.\n",
    "\n",
    "As a global public ledger, the Sovrin Ledger and all its participants are subject to privacy and data protection regulations such as the EU General Data Protection Regulation (GDPR). These regulations require that the participants be explicit about responsibilities for Personal Data.\n",
    "\n",
    "To clarify these responsibilities and provide protection for all parties, the Sovrin Governance Framework Working Group developed an agreement between Transaction Authors and the Sovrin Foundation. The TAA can be found at Sovrin.org. It ensures that users are aware of and consent to the fact that all data written to the Sovrin Ledger cannot be removed, even if the original author of the transaction requests its removal.\n",
    "\n",
    "The TAA outlines the policies that users must follow when interacting with the Sovrin Ledger. When a user’s client software is preparing a transaction for submission to the network, it must include a demonstration that the user had the opportunity to review the current TAA and accept it. This is done by including some additional fields in the ledger write transaction: \n",
    "\n",
    "* A hash of the agreement\n",
    "* A date when the agreement was accepted, and\n",
    "* A string indicating the user interaction that was followed to obtain the acceptance.\n",
    "\n",
    "The Indy client API used by Sovrin has been extended to allow users to review current and past agreements and to indicate acceptance through an approved user interaction pattern. - source: https://sovrin.org/preparing-for-the-sovrin-transaction-author-agreement/\n",
    "\n",
    "For more details on TAA please read more at the following links:\n",
    "* [Preparing for the Sovrin Transaction Author Agreement](https://sovrin.org/preparing-for-the-sovrin-transaction-author-agreement/)\n",
    "* [How the recent approval of the Sovrin Governance Framework v2 affects Transaction Authors\n",
    "](https://sovrin.org/how-the-recent-approval-of-the-sovrin-governance-framework-v2-affects-transaction-authors/)\n",
    "* [TAA v2](https://github.com/sovrin-foundation/sovrin/blob/master/TAA/TAA.md)\n",
    "* [TAA Acceptance Mechanism List (AML)](https://github.com/sovrin-foundation/sovrin/blob/master/TAA/AML.md)"
   ]
  },
  {
   "cell_type": "code",
   "execution_count": null,
   "metadata": {},
   "outputs": [],
   "source": [
    "# This will not work until you have accepted the TAA\n",
    "response = await agent_controller.wallet.assign_public_did(did_object[\"did\"])\n",
    "print(response)"
   ]
  },
  {
   "cell_type": "code",
   "execution_count": null,
   "metadata": {},
   "outputs": [],
   "source": [
    "response = await agent_controller.ledger.get_taa()\n",
    "TAA = response['result']['taa_record']\n",
    "TAA['mechanism'] = \"service_agreement\"\n",
    "print(TAA)"
   ]
  },
  {
   "cell_type": "code",
   "execution_count": null,
   "metadata": {},
   "outputs": [],
   "source": [
    "response = await agent_controller.ledger.accept_taa(TAA)\n",
    "## Will return {} if successful\n",
    "print(response)"
   ]
  },
  {
   "cell_type": "markdown",
   "metadata": {},
   "source": [
    "## 6. Set public DID\n",
    "\n",
    "Now you are able to assign the DID written to the ledger as public."
   ]
  },
  {
   "cell_type": "code",
   "execution_count": null,
   "metadata": {},
   "outputs": [],
   "source": [
    "response = await agent_controller.wallet.assign_public_did(did_object[\"did\"])\n",
    "print(response)"
   ]
  },
  {
   "cell_type": "markdown",
   "metadata": {},
   "source": [
    "## 7. Get public DID"
   ]
  },
  {
   "cell_type": "code",
   "execution_count": null,
   "metadata": {},
   "outputs": [],
   "source": [
    "response = await agent_controller.wallet.get_public_did()\n",
    "print(response)\n",
    "issuer_nym = response['result']['did']\n",
    "print('\\nIssuer public DID:',issuer_nym)"
   ]
  },
  {
   "cell_type": "markdown",
   "metadata": {},
   "source": [
    "## 8. Fetch verkey for public DID\n",
    "\n",
    "Additionally, we can verify that this DID does actually resolve to the public key material on the ledger."
   ]
  },
  {
   "cell_type": "code",
   "execution_count": null,
   "metadata": {},
   "outputs": [],
   "source": [
    "issuer_verkey = await agent_controller.ledger.get_did_verkey(issuer_nym)\n",
    "print(issuer_verkey)"
   ]
  },
  {
   "cell_type": "markdown",
   "metadata": {},
   "source": [
    "## 9. Get public DID endpoint\n",
    "\n",
    "As well as providing a publically accessible endpoint to contact the DID controller through the agent framework."
   ]
  },
  {
   "cell_type": "code",
   "execution_count": null,
   "metadata": {},
   "outputs": [],
   "source": [
    "issuer_endpoint = await agent_controller.ledger.get_did_endpoint(issuer_nym)\n",
    "print(issuer_endpoint)"
   ]
  },
  {
   "cell_type": "markdown",
   "metadata": {},
   "source": [
    "## 10. End of Tutorial\n",
    "\n",
    "Be sure to terminate the controller so you can run another tutorial."
   ]
  },
  {
   "cell_type": "code",
   "execution_count": null,
   "metadata": {},
   "outputs": [],
   "source": [
    "response = await agent_controller.terminate()\n",
    "print(response)"
   ]
  },
  {
   "cell_type": "markdown",
   "metadata": {},
   "source": [
    "# Proceed to Part 3 on [Issuer Notebook](http://localhost:8888/lab/tree/Part%203%20-%20Issue%20Credential.ipynb)\n",
    "\n",
    "Here you will be issued with a credential into your mobile SSI wallet that will be verified in part 4."
   ]
  },
  {
   "cell_type": "code",
   "execution_count": null,
   "metadata": {},
   "outputs": [],
   "source": []
  }
 ],
 "metadata": {
  "kernelspec": {
   "display_name": "Python 3 (ipykernel)",
   "language": "python",
   "name": "python3"
  },
  "language_info": {
   "codemirror_mode": {
    "name": "ipython",
    "version": 3
   },
   "file_extension": ".py",
   "mimetype": "text/x-python",
   "name": "python",
   "nbconvert_exporter": "python",
   "pygments_lexer": "ipython3",
   "version": "3.10.8"
  }
 },
 "nbformat": 4,
 "nbformat_minor": 4
}
