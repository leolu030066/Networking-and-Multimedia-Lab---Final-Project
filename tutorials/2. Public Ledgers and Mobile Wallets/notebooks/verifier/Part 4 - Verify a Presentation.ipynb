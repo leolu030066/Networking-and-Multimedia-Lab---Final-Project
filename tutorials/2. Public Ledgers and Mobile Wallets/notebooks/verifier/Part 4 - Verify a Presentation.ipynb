{
 "cells": [
  {
   "cell_type": "markdown",
   "metadata": {},
   "source": [
    "# Verify a Presentation\n",
    "\n",
    "## Before running this notebook you should have a mobile wallet contained the credential you issued yourself in Part 3. If not run through [Part 2](http://localhost:8888/lab/tree/Part%202%20-%20Writing%20a%20Public%20DID%20to%20the%20Sovrin%20StagingNet.ipynb) and [Part 3](http://localhost:8888/lab/tree/Part%203%20-%20Issue%20Credential.ipynb) of this tutorial.\n",
    "\n",
    "If unfamiliar with the present-proof protocol it is worth reading through the [aries-rfs](https://github.com/hyperledger/aries-rfcs/tree/master/features/0037-present-proof)\n"
   ]
  },
  {
   "cell_type": "markdown",
   "metadata": {},
   "source": [
    "## Note that you do not need to write a public DID to the ledger as a verifier."
   ]
  },
  {
   "cell_type": "markdown",
   "metadata": {
    "pycharm": {
     "name": "#%%\n"
    }
   },
   "source": [
    "## 1. Instatiate Controller for Verifiers's Agent"
   ]
  },
  {
   "cell_type": "code",
   "execution_count": 1,
   "metadata": {
    "pycharm": {
     "name": "#%%\n"
    }
   },
   "outputs": [
    {
     "name": "stdout",
     "output_type": "stream",
     "text": [
      "IPython autoawait is `on`, and set to use `asyncio`\n"
     ]
    }
   ],
   "source": [
    "%autoawait\n",
    "import time\n",
    "import asyncio\n",
    "from termcolor import colored,cprint\n",
    "\n",
    "from aries_basic_controller.aries_controller import AriesAgentController\n",
    "\n",
    "WEBHOOK_HOST = \"0.0.0.0\"\n",
    "WEBHOOK_PORT = 8052\n",
    "WEBHOOK_BASE = \"\"\n",
    "ADMIN_URL = \"http://verifier-agent:8051\"\n",
    "\n",
    "# Based on the aca-py agent you wish to control\n",
    "agent_controller = AriesAgentController(admin_url=ADMIN_URL)\n"
   ]
  },
  {
   "cell_type": "code",
   "execution_count": 2,
   "metadata": {},
   "outputs": [],
   "source": [
    "agent_controller.init_webhook_server(webhook_host=WEBHOOK_HOST,\n",
    "                                     webhook_port=WEBHOOK_PORT,\n",
    "                                     webhook_base=WEBHOOK_BASE)"
   ]
  },
  {
   "cell_type": "markdown",
   "metadata": {},
   "source": [
    "## 2. Register Listeners\n",
    "\n",
    "The handler should get called every time the controller receives a webhook with the topic present_proof, printing out the payload. The agent calls to this webhook every time it receives a present proof protocol message from another agent. \n"
   ]
  },
  {
   "cell_type": "code",
   "execution_count": 3,
   "metadata": {
    "pycharm": {
     "name": "#%%\n"
    }
   },
   "outputs": [
    {
     "name": "stdout",
     "output_type": "stream",
     "text": [
      "Subscribing too: connections\n",
      "Subscribing too: present_proof\n"
     ]
    }
   ],
   "source": [
    "loop = asyncio.get_event_loop()\n",
    "loop.create_task(agent_controller.listen_webhooks())\n",
    "\n",
    "def connections_handler(payload):\n",
    "    global STATE\n",
    "    connection_id = payload[\"connection_id\"]\n",
    "    print(\"Connection message\", payload, connection_id)\n",
    "    STATE = payload['state']\n",
    "    if STATE == 'active':\n",
    "#         print('Connection {0} changed state to active'.format(connection_id))\n",
    "        print(colored(\"Connection {0} changed state to active\".format(connection_id), \"red\", attrs=[\"bold\"]))\n",
    "\n",
    "\n",
    "connection_listener = {\n",
    "    \"handler\": connections_handler,\n",
    "    \"topic\": \"connections\"\n",
    "}\n",
    "\n",
    "def proof_handler(payload):\n",
    "    print(\"Handle present proof\")\n",
    "    print(payload)\n",
    "\n",
    "proof_listener = {\n",
    "    \"topic\": \"present_proof\",\n",
    "    \"handler\": proof_handler\n",
    "}\n",
    "\n",
    "agent_controller.register_listeners([connection_listener,proof_listener], defaults=True)\n",
    "\n"
   ]
  },
  {
   "cell_type": "markdown",
   "metadata": {},
   "source": [
    "## 3. Make a connection with the Mobile SSI Wallet you used in [Part 2](http://localhost:8888/lab/tree/Part%202%20-%20Writing%20a%20Public%20DID%20to%20the%20Sovrin%20StagingNet.ipynb)\n",
    "\n",
    "**You should have a credential stored in here from the previous notebook!**\n",
    "\n",
    "Please download a mobile SSI wallet such as [Connect.me](https://connect.me/), [Trinsic](https://trinsic.id/trinsic-wallet/) or any other Aries compatible wallet."
   ]
  },
  {
   "cell_type": "markdown",
   "metadata": {},
   "source": [
    "## 4. Create a connection invitation to scan with the Mobile SSI Wallet"
   ]
  },
  {
   "cell_type": "markdown",
   "metadata": {},
   "source": [
    "## 4a. Check for any existing connections"
   ]
  },
  {
   "cell_type": "code",
   "execution_count": 4,
   "metadata": {},
   "outputs": [
    {
     "name": "stdout",
     "output_type": "stream",
     "text": [
      "EXISTING CONNECTIONS\n"
     ]
    }
   ],
   "source": [
    "# Check for existing connections\n",
    "connection = await agent_controller.connections.get_connections()\n",
    "print(\"EXISTING CONNECTIONS\")\n",
    "for key, value in connection.items():\n",
    "    for item in value:\n",
    "        print('ConnectionID:', item['connection_id'], 'Status:',item['state'])"
   ]
  },
  {
   "cell_type": "markdown",
   "metadata": {},
   "source": [
    "## 4b. Create an Invitation"
   ]
  },
  {
   "cell_type": "code",
   "execution_count": 5,
   "metadata": {},
   "outputs": [
    {
     "name": "stdout",
     "output_type": "stream",
     "text": [
      "Connection message {'invitation_key': 'FhLZC3Y7SZg6medwfefCPXsqN3rNHeu1CEwbx5txc8wU', 'routing_state': 'none', 'connection_id': '817e12d7-b7f7-45cc-bfe5-6467cc27246e', 'accept': 'auto', 'created_at': '2022-12-28 11:08:55.933496Z', 'their_role': 'invitee', 'updated_at': '2022-12-28 11:08:55.933496Z', 'invitation_mode': 'once', 'rfc23_state': 'invitation-sent', 'state': 'invitation'} 817e12d7-b7f7-45cc-bfe5-6467cc27246e\n",
      "Connection ID 817e12d7-b7f7-45cc-bfe5-6467cc27246e\n",
      "Invitation\n",
      "https://338c-140-112-25-44.ngrok.io?c_i=eyJAdHlwZSI6ICJkaWQ6c292OkJ6Q2JzTlloTXJqSGlxWkRUVUFTSGc7c3BlYy9jb25uZWN0aW9ucy8xLjAvaW52aXRhdGlvbiIsICJAaWQiOiAiODg3ZDEzNjYtMGFkMi00OTg0LWI0OTMtYzY0OTMzNjQ4MmRjIiwgInJlY2lwaWVudEtleXMiOiBbIkZoTFpDM1k3U1pnNm1lZHdmZWZDUFhzcU4zck5IZXUxQ0V3Yng1dHhjOHdVIl0sICJzZXJ2aWNlRW5kcG9pbnQiOiAiaHR0cHM6Ly8zMzhjLTE0MC0xMTItMjUtNDQubmdyb2suaW8iLCAibGFiZWwiOiAiVkVSSUZJRVIifQ==\n"
     ]
    }
   ],
   "source": [
    "# Create Invitation\n",
    "invite = await agent_controller.connections.create_invitation()\n",
    "connection_id = invite[\"connection_id\"]\n",
    "print(\"Connection ID\", connection_id)\n",
    "print(\"Invitation\")\n",
    "print(invite['invitation_url'])\n",
    "inviteURL = invite['invitation_url']"
   ]
  },
  {
   "cell_type": "markdown",
   "metadata": {},
   "source": [
    "## 4c. Generate QR Code to be scanned with Mobile SSI Wallet"
   ]
  },
  {
   "cell_type": "code",
   "execution_count": 6,
   "metadata": {},
   "outputs": [
    {
     "data": {
      "image/png": "[encoded data removed]",
      "text/plain": [
       "<IPython.core.display.Image object>"
      ]
     },
     "execution_count": 6,
     "metadata": {
      "image/png": {
       "width": 400
      }
     },
     "output_type": "execute_result"
    }
   ],
   "source": [
    "import qrcode\n",
    "# Link for connection invitation\n",
    "input_data = inviteURL\n",
    "# Creating an instance of qrcode\n",
    "qr = qrcode.QRCode(\n",
    "        version=1,\n",
    "        box_size=10,\n",
    "        border=5)\n",
    "qr.add_data(input_data)\n",
    "qr.make(fit=True)\n",
    "img = qr.make_image(fill='black', back_color='white')\n",
    "img.save('verifier_agent_invite_QRcode.png')\n",
    "\n",
    "from IPython.display import Image\n",
    "Image(width=400, filename='./verifier_agent_invite_QRcode.png')"
   ]
  },
  {
   "cell_type": "markdown",
   "metadata": {},
   "source": [
    "## 4d. Check if established connection is in active state"
   ]
  },
  {
   "cell_type": "code",
   "execution_count": 8,
   "metadata": {},
   "outputs": [
    {
     "name": "stdout",
     "output_type": "stream",
     "text": [
      "\u001b[1m\u001b[35mCurrent state for ConnectionId 817e12d7-b7f7-45cc-bfe5-6467cc27246e is response\u001b[0m\n",
      "\u001b[1m\u001b[33mConnectionId 817e12d7-b7f7-45cc-bfe5-6467cc27246e is not in active state yet\u001b[0m\n",
      "\u001b[1m\u001b[34mTrust ping send to ConnectionId {'thread_id': '2857485f-692c-4d45-b1fc-9fceade57fb9'} to activate connection\u001b[0m\n",
      "\u001b[1m\u001b[33mConnectionId 817e12d7-b7f7-45cc-bfe5-6467cc27246e is not in active state yet\u001b[0m\n",
      "Connection message {'my_did': '2iBAHNY9Yj25qgf6dqxT7H', 'invitation_key': 'FhLZC3Y7SZg6medwfefCPXsqN3rNHeu1CEwbx5txc8wU', 'routing_state': 'none', 'connection_id': '817e12d7-b7f7-45cc-bfe5-6467cc27246e', 'accept': 'auto', 'created_at': '2022-12-28 11:08:55.933496Z', 'their_role': 'invitee', 'updated_at': '2022-12-28 11:09:19.861100Z', 'their_label': 'User 的 iPhone', 'invitation_mode': 'once', 'rfc23_state': 'completed', 'state': 'active', 'their_did': 'XLYvrQPTzypwCc2ywgHFvP'} 817e12d7-b7f7-45cc-bfe5-6467cc27246e\n",
      "\u001b[1m\u001b[31mConnection 817e12d7-b7f7-45cc-bfe5-6467cc27246e changed state to active\u001b[0m\n",
      "\u001b[1m\u001b[34mTrust ping send to ConnectionId {'thread_id': 'd2fa4059-ef7f-4fe0-ae0c-7dbd2fb51959'} to activate connection\u001b[0m\n",
      "\u001b[1m\u001b[32mConnectionId: 817e12d7-b7f7-45cc-bfe5-6467cc27246e is now active. Continue with notebook\u001b[0m\n"
     ]
    }
   ],
   "source": [
    "import time\n",
    "\n",
    "# print('Current state for ConnectionId {} is {}'.format(connection_id,STATE))\n",
    "print(colored(\"Current state for ConnectionId {} is {}\".format(connection_id,STATE), \"magenta\", attrs=[\"bold\"]))\n",
    "while STATE != 'active':\n",
    "#     print('ConnectionId {0} is not in active state yet'.format(connection_id))\n",
    "    print(colored(\"ConnectionId {0} is not in active state yet\".format(connection_id), \"yellow\", attrs=[\"bold\"]))\n",
    "    trust_ping = await agent_controller.messaging.trust_ping(connection_id,'hello!')\n",
    "#     print('Trust ping send to ConnectionId {0} to activate connection'.format(trust_ping))\n",
    "    print(colored(\"Trust ping send to ConnectionId {0} to activate connection\".format(trust_ping), \"blue\", attrs=[\"bold\"]))\n",
    "    time.sleep(5)\n",
    "    \n",
    "# print('ConnectionId: {0} is now active. Continue with notebook'.format(connection_id))\n",
    "print(colored(\"ConnectionId: {0} is now active. Continue with notebook\".format(connection_id), \"green\", attrs=[\"bold\"]))\n"
   ]
  },
  {
   "cell_type": "markdown",
   "metadata": {},
   "source": [
    "## 5. Send Proof Request to Identity Holder Mobile Wallet"
   ]
  },
  {
   "cell_type": "markdown",
   "metadata": {},
   "source": [
    "## 5a. Generate Proof Request\n",
    "\n",
    "The verifier will request a proof from the identity holder for the following attributes:\n",
    "\n",
    "    fullname\"\n",
    "    \"skill\"\n",
    "    \"country\" - self-attested\n",
    "    \"age\" - as a predicate range proof to determine if the identity holder is older than 21\n",
    "\n",
    "\n",
    "Note how the verifier has restricted the proof request to only include credentials issued against a specific `schema_id`. \n",
    "\n",
    "In our case `schema_id` = EuEtnVakYFyBtGFT1nHYtH:2:SSI PyDentity Tutorial:0.0.1\n",
    "\n",
    "If you ledgered your own schema in [Part 2](http://127.0.0.1:8888/notebooks/Part%203%20-%20Issuer.ipynb) and didn't use the pre-ledgered schema then please copy the new schema_id into the `schemaid` variable in the cell below.\n",
    "\n",
    "TODO: Add information around predicates"
   ]
  },
  {
   "cell_type": "code",
   "execution_count": 11,
   "metadata": {
    "pycharm": {
     "name": "#%%\n"
    }
   },
   "outputs": [
    {
     "name": "stdout",
     "output_type": "stream",
     "text": [
      "Request proof of Fullname and Age range from Identity Holder\n"
     ]
    }
   ],
   "source": [
    "schema_id = '55gBgeJZd758dgk9Hb8e44:2:SSI PyDentity Tutorial:0.0.1'\n",
    "\n",
    "print(\"Request proof of Fullname and Age range from Identity Holder\")\n",
    "#Set some variables\n",
    "\n",
    "revocation = False\n",
    "SELF_ATTESTED = True\n",
    "exchange_tracing = False\n",
    "\n",
    "#Enable this to ask for attributes to identity a user\n",
    "#TODO - change restriction to schemaId or credentialId\n",
    "\n",
    "req_attrs = [\n",
    "    {\"name\": \"fullname\", \"restrictions\": [{\"schema_id\": schema_id}]},\n",
    "    {\"name\": \"skill\", \"restrictions\": [{\"schema_id\": schema_id}]},\n",
    "]\n",
    "\n",
    "if revocation:\n",
    "    req_attrs.append(\n",
    "        {\n",
    "            \"name\": \"skill\",\n",
    "            \"restrictions\": [{\"schema_id\": schema_id}],\n",
    "            \"non_revoked\": {\"to\": int(time.time() - 1)},\n",
    "        },\n",
    "    )\n",
    "\n",
    "if SELF_ATTESTED:\n",
    "    # test self-attested claims\n",
    "    req_attrs.append({\"name\": \"country\"},)\n",
    "\n",
    "#Set predicates for Zero Knowledge Proofs\n",
    "req_preds = [\n",
    "    # test zero-knowledge proofs\n",
    "    {\n",
    "        \"name\": \"age\",\n",
    "        \"p_type\": \">=\",\n",
    "        \"p_value\": 21,\n",
    "        \"restrictions\": [{\"schema_id\": schema_id}],\n",
    "    }\n",
    "]\n",
    "\n",
    "indy_proof_request = {\n",
    "    \"name\": \"Proof of Completion of PyDentity SSI Tutorial\",\n",
    "    \"version\": \"1.0\",\n",
    "    \"requested_attributes\": {\n",
    "        f\"0_{req_attr['name']}_uuid\":\n",
    "        req_attr for req_attr in req_attrs\n",
    "    },\n",
    "    \"requested_predicates\": {\n",
    "        f\"0_{req_pred['name']}_GE_uuid\":\n",
    "        req_pred for req_pred in req_preds\n",
    "    },\n",
    "}\n",
    "\n",
    "if revocation:\n",
    "    indy_proof_request[\"non_revoked\"] = {\"to\": int(time.time())}\n",
    "\n",
    "#proof_request = indy_proof_request\n",
    "exchange_tracing_id = exchange_tracing\n",
    "proof_request_web_request = {\n",
    "    \"connection_id\": connection_id,\n",
    "    \"proof_request\": indy_proof_request,\n",
    "    \"trace\": exchange_tracing,\n",
    "}"
   ]
  },
  {
   "cell_type": "markdown",
   "metadata": {},
   "source": [
    "### 5b. Send the proof request to Identity Holder\n",
    "\n",
    "Identity Holder is identified through the connection_id"
   ]
  },
  {
   "cell_type": "code",
   "execution_count": 12,
   "metadata": {
    "pycharm": {
     "name": "#%%\n"
    }
   },
   "outputs": [
    {
     "name": "stdout",
     "output_type": "stream",
     "text": [
      "{'thread_id': 'bc41bf03-b9db-43c5-897a-58b7735e490a', 'presentation_request_dict': {'@type': 'did:sov:BzCbsNYhMrjHiqZDTUASHg;spec/present-proof/1.0/request-presentation', '@id': 'bc41bf03-b9db-43c5-897a-58b7735e490a', 'request_presentations~attach': [{'@id': 'libindy-request-presentation-0', 'mime-type': 'application/json', 'data': {'base64': 'eyJuYW1lIjogIlByb29mIG9mIENvbXBsZXRpb24gb2YgUHlEZW50aXR5IFNTSSBUdXRvcmlhbCIsICJ2ZXJzaW9uIjogIjEuMCIsICJyZXF1ZXN0ZWRfYXR0cmlidXRlcyI6IHsiMF9mdWxsbmFtZV91dWlkIjogeyJuYW1lIjogImZ1bGxuYW1lIiwgInJlc3RyaWN0aW9ucyI6IFt7InNjaGVtYV9pZCI6ICI1NWdCZ2VKWmQ3NThkZ2s5SGI4ZTQ0OjI6U1NJIFB5RGVudGl0eSBUdXRvcmlhbDowLjAuMSJ9XX0sICIwX3NraWxsX3V1aWQiOiB7Im5hbWUiOiAic2tpbGwiLCAicmVzdHJpY3Rpb25zIjogW3sic2NoZW1hX2lkIjogIjU1Z0JnZUpaZDc1OGRnazlIYjhlNDQ6MjpTU0kgUHlEZW50aXR5IFR1dG9yaWFsOjAuMC4xIn1dfSwgIjBfY291bnRyeV91dWlkIjogeyJuYW1lIjogImNvdW50cnkifX0sICJyZXF1ZXN0ZWRfcHJlZGljYXRlcyI6IHsiMF9hZ2VfR0VfdXVpZCI6IHsibmFtZSI6ICJhZ2UiLCAicF90eXBlIjogIj49IiwgInBfdmFsdWUiOiAyMSwgInJlc3RyaWN0aW9ucyI6IFt7InNjaGVtYV9pZCI6ICI1NWdCZ2VKWmQ3NThkZ2s5SGI4ZTQ0OjI6U1NJIFB5RGVudGl0eSBUdXRvcmlhbDowLjAuMSJ9XX19LCAibm9uY2UiOiAiMTA5NjQ1NTA3MDIyNTMwODgyOTU4NTIzMSJ9'}}]}, 'auto_present': False, 'initiator': 'self', 'role': 'verifier', 'connection_id': '817e12d7-b7f7-45cc-bfe5-6467cc27246e', 'created_at': '2022-12-28 11:11:20.120006Z', 'updated_at': '2022-12-28 11:11:20.120006Z', 'presentation_exchange_id': 'ef3aaec3-20dd-40db-990b-1a703fa41f16', 'state': 'request_sent', 'trace': False, 'presentation_request': {'name': 'Proof of Completion of PyDentity SSI Tutorial', 'version': '1.0', 'requested_attributes': {'0_fullname_uuid': {'name': 'fullname', 'restrictions': [{'schema_id': '55gBgeJZd758dgk9Hb8e44:2:SSI PyDentity Tutorial:0.0.1'}]}, '0_skill_uuid': {'name': 'skill', 'restrictions': [{'schema_id': '55gBgeJZd758dgk9Hb8e44:2:SSI PyDentity Tutorial:0.0.1'}]}, '0_country_uuid': {'name': 'country'}}, 'requested_predicates': {'0_age_GE_uuid': {'name': 'age', 'p_type': '>=', 'p_value': 21, 'restrictions': [{'schema_id': '55gBgeJZd758dgk9Hb8e44:2:SSI PyDentity Tutorial:0.0.1'}]}}, 'nonce': '1096455070225308829585231'}}\n",
      "\n",
      "\n",
      "ef3aaec3-20dd-40db-990b-1a703fa41f16\n",
      "Handle present proof\n",
      "{'thread_id': 'bc41bf03-b9db-43c5-897a-58b7735e490a', 'presentation_request_dict': {'@type': 'did:sov:BzCbsNYhMrjHiqZDTUASHg;spec/present-proof/1.0/request-presentation', '@id': 'bc41bf03-b9db-43c5-897a-58b7735e490a', 'request_presentations~attach': [{'@id': 'libindy-request-presentation-0', 'mime-type': 'application/json', 'data': {'base64': 'eyJuYW1lIjogIlByb29mIG9mIENvbXBsZXRpb24gb2YgUHlEZW50aXR5IFNTSSBUdXRvcmlhbCIsICJ2ZXJzaW9uIjogIjEuMCIsICJyZXF1ZXN0ZWRfYXR0cmlidXRlcyI6IHsiMF9mdWxsbmFtZV91dWlkIjogeyJuYW1lIjogImZ1bGxuYW1lIiwgInJlc3RyaWN0aW9ucyI6IFt7InNjaGVtYV9pZCI6ICI1NWdCZ2VKWmQ3NThkZ2s5SGI4ZTQ0OjI6U1NJIFB5RGVudGl0eSBUdXRvcmlhbDowLjAuMSJ9XX0sICIwX3NraWxsX3V1aWQiOiB7Im5hbWUiOiAic2tpbGwiLCAicmVzdHJpY3Rpb25zIjogW3sic2NoZW1hX2lkIjogIjU1Z0JnZUpaZDc1OGRnazlIYjhlNDQ6MjpTU0kgUHlEZW50aXR5IFR1dG9yaWFsOjAuMC4xIn1dfSwgIjBfY291bnRyeV91dWlkIjogeyJuYW1lIjogImNvdW50cnkifX0sICJyZXF1ZXN0ZWRfcHJlZGljYXRlcyI6IHsiMF9hZ2VfR0VfdXVpZCI6IHsibmFtZSI6ICJhZ2UiLCAicF90eXBlIjogIj49IiwgInBfdmFsdWUiOiAyMSwgInJlc3RyaWN0aW9ucyI6IFt7InNjaGVtYV9pZCI6ICI1NWdCZ2VKWmQ3NThkZ2s5SGI4ZTQ0OjI6U1NJIFB5RGVudGl0eSBUdXRvcmlhbDowLjAuMSJ9XX19LCAibm9uY2UiOiAiMTA5NjQ1NTA3MDIyNTMwODgyOTU4NTIzMSJ9'}}]}, 'auto_present': False, 'initiator': 'self', 'role': 'verifier', 'connection_id': '817e12d7-b7f7-45cc-bfe5-6467cc27246e', 'created_at': '2022-12-28 11:11:20.120006Z', 'updated_at': '2022-12-28 11:11:20.120006Z', 'presentation_exchange_id': 'ef3aaec3-20dd-40db-990b-1a703fa41f16', 'state': 'request_sent', 'trace': False, 'presentation_request': {'name': 'Proof of Completion of PyDentity SSI Tutorial', 'version': '1.0', 'requested_attributes': {'0_fullname_uuid': {'name': 'fullname', 'restrictions': [{'schema_id': '55gBgeJZd758dgk9Hb8e44:2:SSI PyDentity Tutorial:0.0.1'}]}, '0_skill_uuid': {'name': 'skill', 'restrictions': [{'schema_id': '55gBgeJZd758dgk9Hb8e44:2:SSI PyDentity Tutorial:0.0.1'}]}, '0_country_uuid': {'name': 'country'}}, 'requested_predicates': {'0_age_GE_uuid': {'name': 'age', 'p_type': '>=', 'p_value': 21, 'restrictions': [{'schema_id': '55gBgeJZd758dgk9Hb8e44:2:SSI PyDentity Tutorial:0.0.1'}]}}, 'nonce': '1096455070225308829585231'}}\n"
     ]
    }
   ],
   "source": [
    "response = await agent_controller.proofs.send_request(proof_request_web_request)\n",
    "print(response)\n",
    "presentation_exchange_id = response['presentation_exchange_id']\n",
    "print(\"\\n\")\n",
    "print(presentation_exchange_id)\n"
   ]
  },
  {
   "cell_type": "markdown",
   "metadata": {},
   "source": [
    "## 6. Verify Proof Presentation\n",
    "\n",
    "This is checking the signatures on the credentials presented against the credential schema and definition id stored and resolvable on the ledger. It is a bit of a big complicated object, so we show the common pattern for breaking it down, checking it's verified and accessing the data that has been presented."
   ]
  },
  {
   "cell_type": "code",
   "execution_count": 14,
   "metadata": {
    "pycharm": {
     "name": "#%%\n"
    }
   },
   "outputs": [
    {
     "name": "stdout",
     "output_type": "stream",
     "text": [
      "Handle present proof\n",
      "{'thread_id': 'bc41bf03-b9db-43c5-897a-58b7735e490a', 'presentation_request_dict': {'@type': 'did:sov:BzCbsNYhMrjHiqZDTUASHg;spec/present-proof/1.0/request-presentation', '@id': 'bc41bf03-b9db-43c5-897a-58b7735e490a', 'request_presentations~attach': [{'@id': 'libindy-request-presentation-0', 'mime-type': 'application/json', 'data': {'base64': 'eyJuYW1lIjogIlByb29mIG9mIENvbXBsZXRpb24gb2YgUHlEZW50aXR5IFNTSSBUdXRvcmlhbCIsICJ2ZXJzaW9uIjogIjEuMCIsICJyZXF1ZXN0ZWRfYXR0cmlidXRlcyI6IHsiMF9mdWxsbmFtZV91dWlkIjogeyJuYW1lIjogImZ1bGxuYW1lIiwgInJlc3RyaWN0aW9ucyI6IFt7InNjaGVtYV9pZCI6ICI1NWdCZ2VKWmQ3NThkZ2s5SGI4ZTQ0OjI6U1NJIFB5RGVudGl0eSBUdXRvcmlhbDowLjAuMSJ9XX0sICIwX3NraWxsX3V1aWQiOiB7Im5hbWUiOiAic2tpbGwiLCAicmVzdHJpY3Rpb25zIjogW3sic2NoZW1hX2lkIjogIjU1Z0JnZUpaZDc1OGRnazlIYjhlNDQ6MjpTU0kgUHlEZW50aXR5IFR1dG9yaWFsOjAuMC4xIn1dfSwgIjBfY291bnRyeV91dWlkIjogeyJuYW1lIjogImNvdW50cnkifX0sICJyZXF1ZXN0ZWRfcHJlZGljYXRlcyI6IHsiMF9hZ2VfR0VfdXVpZCI6IHsibmFtZSI6ICJhZ2UiLCAicF90eXBlIjogIj49IiwgInBfdmFsdWUiOiAyMSwgInJlc3RyaWN0aW9ucyI6IFt7InNjaGVtYV9pZCI6ICI1NWdCZ2VKWmQ3NThkZ2s5SGI4ZTQ0OjI6U1NJIFB5RGVudGl0eSBUdXRvcmlhbDowLjAuMSJ9XX19LCAibm9uY2UiOiAiMTA5NjQ1NTA3MDIyNTMwODgyOTU4NTIzMSJ9'}}]}, 'verified': 'true', 'auto_present': False, 'initiator': 'self', 'role': 'verifier', 'connection_id': '817e12d7-b7f7-45cc-bfe5-6467cc27246e', 'presentation': {'proof': {'proofs': [{'primary_proof': {'eq_proof': {'revealed_attrs': {'fullname': '11842490349175382836651560146263060721947689734315616312191380010197912794448', 'skill': '38813097173523343342121686954087857232940954656654688676222283577873518606251'}, 'a_prime': '106652568473765667833690991411043062399440209315044801702326871098545626207288073973550421301321881409081771376758423029540163044247235048476539337630462264326698749156059825421383019546161569744295369205925022700211497585552707953824038992559418391771467203723502616177660280263065250213694295312717240860376280618361800464722476506975093185061889485392499991904951735376370779294964938193876659853892115029423297350390531566718556552281536882084368565050487585774907448259445811813240985971182702603578815467370729970980155983831727033688120367417357978501685730503078894219804154375806963624620804374576053672431539', 'e': '176123579691898466955278706545724225633017414818074150860612445992321028709706902282745037180378885896324349764117625295902237329344790329', 'v': '933242278385100758551052189073084724969553768915783955445309655104316922236748830279698216404119282178285810401773935771286153372956104321011345097138255921884122997466628057257071920149223023706873975506511236852042048989253473310142892979608766118361103486143652516653311024788292453800775709925694638204789785785554135552919394930594607535397897115188014356019716040993935423903709797600499794086136717952784019171180217139198175728404062068755368810210979421864593063882757612662326673699925421985185919427784385080151081319795584710973929082894255911140053380246872026993675217222062754427524750642195246843077515488231090295637406306002508474228796042652802971540657804677958234030741090404195158023514061760008051930861949751886590218107291290472667890828032992223720919982575534781663530592289698682567209257708342536522535315805545435988072759560076952313736165102450645540084692427889052093926077285148814416810', 'm': {'master_secret': '12006757618498930630591895529193631595454421325371310589091027984190219155445631419469690932052882430324296656472293625603226853286423517608652324351583253139908183929632021185041', 'age': '8249169052961355045117630801093173281983591303351665482867518078358720560981428902765925831050534452277891587161055561115208777859353556836385383032570276767294532415220688519391'}, 'm2': '10535961576596171560016175532304669160033939972051441679451962046942605462155928778699476263274849952246342062980179668367396784622730176007918314023061509160092314912029519168327'}, 'ge_proofs': [{'u': {'2': '6146158393534054132801352949634430313391610513375369021007014652159118285181592569103034121130684014082843317787066208685954965065090704008741411389389855368915576340442557432084', '3': '6505511008309189725248056524600480452015898547598894902322359750491252469475002628399501749144938719827553690848579063458816093899365709478345948138026688531167940911712755687419', '0': '12580278412283962858254853322140528028855793732591914276202457072219206951792057211672451665353850302308230676886788767682867199755415541188163643621474849991861424166103250204892', '1': '10168804970719527115397769998481413575300594008990963511209298937325364250865269046594998574648904158108714098365168922554645041661737123044090928024693977684211014595751265749423'}, 'r': {'2': '807805821887964796555679069028809634119879849854326794706461054779512902415868665037511227197860396356560517186521635326358037100893101570161827416371107494883072128172022193663170760408270920804871714681959188855887019106236917978368670320417259101242078590351474982377858116136583801948258486202754453269528134357859223760544871761452467887113360486466090265429700790869567229594815592654821689552111341161096263715766257476786228683030183414038490262256730451484063708405041465214502445117632277766729652392997462382504116824789389108209746299925908674223193264599602765726382598252046703913920547645508915333372585733063697030019785802610645845354417372223004222771631769757573086600731691463840617571077020541315', '1': '3428842425688268362340717017726026218530021343588329705175731937942502625330671590291633914396805900661726016595320850971158775978360664328352822844317766630833654861161825314895207047960036918293137572065394151462214680172515823214732212169120929070532064865463230731018766701086048602582836066242662999493055624087174764946035288304925021998712768648592148859409534582260234066195759961796525838428991501117596496742982128234937366035242127839703161516753543029279798504258816996005390705137187382295230096060063261166944056612200172984085069471359759446588047402645544101054488864657768711514995221575673221744217721398565632994986582439791795144258984861219864119008853439387098011606017718418052943416999322012233', '3': '331404138982517331149295104101024018015086468675160133186422019457273152696158188665193297979685422366870004376032771751922632284258041420226830344443374684853497708958688479876851395170358212786816103801980228651964305360621014972295468271396185323966892794653934876954869930444228088449906108180227144639655777691727353302594567711643136654592810117476854196805211372371878015600216095495092718947044882556370697707191883730974397205615837274310034695231958081473466214010011571059060618234554667411950007501704971659367138587894520467833996625049257344893022312097664242111744958552712441525527369559460669498688906297904097868136479872361727735097742978977389543098585195340025241859980766959856216093015717382040', '0': '3507513175440972118928060131631127101656738138659748016564129813334457433427932891511478655058073984006943779717195950900272322582069400473974761073500228927877624821598636004256146764808744193889386486669655138694001970435277019366744358257727418329072214507757697000737128778655509583822320785080525813538838935577599118004833316340026376255988400927393459217441124276925164385408819303965706187916175973256586497021782023953280203423737657993631104031667159460971761327435129377559732818901697189437847720115924309363381849226576039505763542413162254883624531636752662124157556495263331146851721638928826073572846740504195296817202062847073131058878430934048660442202630911252068131392139354651253684006204017389092', 'DELTA': '640888895798637356935579273505049593187020338675058365238586345572041061482235803743271041366520820227398602352157879931859535552970331624621644642446642219687226079082564614543689534432921931181478475278916271469412983206665364834620351631536416852993427700676460335232815073870625217555918927298137649934544502902676734405935391084139785282282751439349866950681880149953217459101487189519615083278196773898685634768518192685647300799681670633842126928175135883999196101702547757423271682932491366971049710244746773862455023200532869999469698096891360234550211367008062936057443393884490521035385585470876588421809889296556911735860797663481979839625093963047519511408305595696094520567073216562200583667232318657344'}, 'mj': '8249169052961355045117630801093173281983591303351665482867518078358720560981428902765925831050534452277891587161055561115208777859353556836385383032570276767294532415220688519391', 'alpha': '13161986597327278376980389584018172201940832574116369116845105682458449996772056259237773231782363881872744385317937702577575343686940252216268781724958548753402685679584335837596513081577946417987066208545660772783322160168620665414650116348394098793491750924452371059048176829985850828620648607984449798685014406810430799985578482235678619870582158685994566393036546770036030815610367419347035459018909066149224079838410573437112052696561702474622784707670723327526281981880404350783329403907327056408676132602197804142824337354303892714246677191315514519204112607968004106672080515236797449476972400611203184003409011735341615543303387216437026536713650552101390486185651484758279965400840916337690842832560522000432976470305208110028308046099119981908348662241469711550980804150278181805989023389269433962896568808284200526748469373997', 't': {'3': '61956241672725189867744999188010418904368527514045570047214075494232624013323999601034589737920362968097845754040383272699919081824986037261679012605870731337667556073774791794874016910078976084097694961723977671275642370788784082713475860607655658420524491765285965861685801519999808136111029038866028751616223656992677213744086498630655682241880335924647185009634400973316935038290822771614791646259355663527406423318926004089608499654317931759495189598552846017123709933210643233780870346005291460112953014885956978457962480463465584593606999981777801661444647167740420014456175956232578020942910247148834369963581', '2': '101095380496119627434184089173968255196051850020079896806902747954166510522091845948130742846610197972059842585897159763198661138399867494127275707231200655569256757151990098194517343984006004747043791284913254414685249459331841221538506877385210049550150892262203783897702670770171495774466929113298070976170002286852570972106256148286351504062094511167985171440951935448254161466609255347527441566646727578498037770103436013763353594490277102326422047771908552518221398477714029047863306217541391942086434599810983692653503710838920350763627840803955869087141929533943485579067578510392500979910707814720027288103490', '0': '31567369811247522725395429803280338039540838000628416364017700740507846154500486817624854869249464161450869294056142047012201331009518120752922300127845351680927798200469275658046340204005578186540275551458648839078137055747135176964176077657994380773972792156323809654672247311010322058057598446062816664509376642075347591701126441655921966844000286255826844503661542039646994499263682271460954931701972351425557641018844234335730608860668976920604452818373911040098035029970787971167484963105468762304486324470574324115699238024674512451697790571055461152302906497176812085136085679820358159603947769388863291405638', '1': '77037809964613564639791040554436094676564192899821112482588377171753681361109262820423038298501155251484453868155634706618751966978418102106086937795994002676785135748731175558043907368208854822174959673231200854743414252183302220609174562081669248219521443688524234285939650368162364529735037886039225696173162486921534000370682393386388317540156670958208404631089641063922343036068576829200391011972683976805811561763244406825119737591528483584744196368090709865061412849462562895442413172193366177265774673205880527324049011340815858626271411349561455445817122554379252538460189080577526538587646457374851742055167', 'DELTA': '34614847632601591258074201927904444269339118959536793584817632590374407119252760641132422578806991260537472567436863612414728189276243268341870197764163852906693258038289480080879401397957115319472602227459761067350069283526683660569275460857403704160338889704752023375588012670846695232941618503125698996172113571209977598917465594955122817457778681649427189817272980801460880965397579940027761707597338761261962614532828093067172171107397936689253813643388706359565669411312981732479366273039261628233258154350546748316083621640528148797011673385416607982620411885566245863264090429881331841449864326745155884380072'}, 'predicate': {'attr_name': 'age', 'p_type': 'GE', 'value': 21}}]}, 'non_revoc_proof': None}], 'aggregated_proof': {'c_hash': '95990290748665912363920905111259994379814580901394984739295881239078496415425', 'c_list': [[3, 76, 217, 224, 121, 176, 111, 17, 140, 79, 94, 69, 151, 35, 57, 38, 186, 11, 26, 143, 244, 25, 27, 2, 7, 26, 40, 143, 23, 130, 151, 220, 147, 56, 24, 180, 233, 30, 46, 72, 121, 52, 208, 67, 59, 236, 16, 85, 183, 84, 72, 63, 165, 222, 25, 90, 108, 131, 189, 50, 130, 144, 254, 116, 42, 158, 34, 119, 243, 96, 18, 18, 152, 173, 106, 164, 143, 148, 32, 190, 70, 5, 30, 168, 79, 254, 115, 90, 109, 56, 7, 55, 60, 227, 21, 88, 63, 100, 144, 194, 141, 47, 104, 98, 149, 228, 210, 210, 93, 238, 232, 166, 253, 215, 65, 66, 253, 253, 185, 193, 75, 104, 15, 125, 248, 40, 222, 97, 179, 1, 190, 212, 135, 176, 91, 187, 78, 240, 206, 249, 43, 89, 176, 201, 53, 88, 94, 142, 205, 205, 65, 6, 216, 212, 41, 184, 136, 173, 53, 50, 217, 88, 214, 19, 169, 79, 232, 105, 148, 144, 165, 67, 169, 198, 167, 107, 233, 33, 80, 195, 84, 180, 254, 146, 181, 105, 177, 56, 35, 119, 145, 120, 81, 153, 150, 115, 253, 69, 83, 92, 219, 45, 251, 82, 246, 224, 81, 79, 118, 115, 92, 146, 113, 197, 212, 35, 211, 93, 175, 184, 80, 228, 114, 157, 249, 15, 108, 228, 240, 242, 16, 221, 46, 62, 10, 43, 92, 4, 100, 99, 95, 22, 26, 9, 89, 110, 21, 206, 117, 125, 96, 227, 129, 54, 19, 79, 179], [250, 15, 205, 254, 98, 210, 179, 35, 228, 78, 99, 200, 57, 63, 230, 40, 120, 158, 108, 249, 184, 36, 60, 236, 103, 100, 196, 121, 249, 123, 213, 198, 171, 125, 58, 107, 223, 196, 39, 52, 146, 253, 157, 165, 108, 192, 199, 26, 202, 252, 209, 100, 167, 182, 224, 118, 216, 13, 88, 158, 188, 33, 113, 44, 27, 57, 44, 96, 62, 239, 61, 137, 150, 242, 174, 100, 130, 148, 189, 163, 198, 157, 95, 180, 57, 139, 88, 95, 237, 154, 103, 68, 31, 59, 136, 129, 245, 249, 46, 144, 96, 150, 37, 204, 206, 165, 239, 32, 134, 167, 147, 187, 210, 222, 189, 227, 8, 35, 17, 138, 236, 42, 61, 221, 169, 139, 151, 5, 151, 106, 241, 77, 83, 41, 229, 30, 206, 195, 62, 95, 138, 200, 107, 28, 161, 138, 10, 10, 24, 4, 101, 148, 141, 125, 49, 197, 40, 109, 77, 181, 156, 166, 214, 88, 209, 130, 120, 203, 138, 58, 103, 19, 38, 217, 175, 173, 150, 232, 229, 77, 187, 247, 228, 207, 109, 114, 106, 205, 27, 117, 184, 22, 69, 48, 149, 195, 98, 6, 127, 102, 113, 49, 68, 121, 67, 234, 227, 57, 195, 141, 167, 76, 216, 86, 94, 105, 126, 35, 27, 89, 157, 116, 111, 153, 138, 24, 62, 77, 229, 50, 111, 210, 97, 158, 23, 85, 239, 137, 98, 179, 26, 255, 132, 21, 229, 38, 222, 226, 227, 26, 181, 174, 75, 108, 53, 70], [2, 98, 65, 203, 28, 86, 195, 188, 35, 193, 108, 126, 133, 185, 1, 82, 74, 62, 179, 82, 82, 5, 173, 62, 165, 94, 43, 182, 95, 143, 110, 119, 41, 170, 161, 104, 75, 146, 3, 177, 125, 111, 11, 60, 42, 71, 249, 30, 140, 18, 151, 208, 26, 106, 49, 155, 110, 216, 209, 3, 228, 11, 180, 161, 169, 177, 40, 147, 77, 239, 46, 36, 34, 255, 112, 204, 239, 203, 64, 64, 38, 41, 121, 159, 197, 219, 5, 146, 249, 171, 83, 32, 41, 111, 21, 218, 231, 123, 140, 71, 76, 29, 159, 92, 68, 97, 159, 147, 106, 152, 150, 86, 11, 91, 22, 59, 206, 16, 83, 194, 142, 247, 127, 75, 157, 250, 54, 129, 32, 242, 209, 113, 147, 102, 179, 152, 243, 116, 43, 222, 121, 164, 107, 183, 197, 19, 87, 50, 83, 139, 203, 60, 32, 133, 206, 202, 164, 16, 32, 54, 184, 247, 152, 152, 163, 118, 132, 238, 179, 220, 24, 174, 204, 242, 217, 223, 200, 109, 91, 146, 26, 97, 157, 78, 116, 102, 37, 93, 66, 210, 132, 170, 244, 19, 129, 86, 78, 20, 186, 120, 84, 96, 201, 75, 173, 34, 53, 71, 5, 109, 198, 82, 74, 195, 111, 142, 30, 193, 54, 3, 108, 18, 192, 189, 236, 100, 223, 94, 118, 121, 45, 138, 147, 172, 109, 100, 141, 64, 161, 99, 224, 233, 9, 14, 20, 189, 21, 206, 19, 202, 135, 199, 130, 72, 128, 58, 255], [3, 32, 212, 101, 116, 120, 53, 72, 141, 42, 19, 61, 96, 88, 108, 206, 193, 140, 188, 24, 97, 98, 178, 134, 166, 87, 22, 68, 101, 190, 173, 179, 68, 240, 71, 16, 24, 241, 192, 97, 113, 80, 146, 24, 22, 179, 165, 197, 169, 85, 61, 250, 84, 10, 76, 180, 55, 87, 166, 40, 121, 247, 25, 103, 166, 66, 90, 16, 216, 0, 114, 227, 62, 239, 109, 173, 240, 59, 225, 124, 223, 192, 26, 35, 72, 118, 193, 38, 26, 96, 34, 220, 100, 126, 211, 82, 167, 22, 184, 135, 254, 120, 1, 113, 197, 190, 102, 119, 81, 124, 48, 43, 190, 249, 52, 251, 3, 214, 105, 199, 21, 214, 66, 185, 184, 199, 106, 114, 187, 218, 29, 75, 100, 193, 95, 237, 58, 218, 184, 131, 202, 201, 229, 219, 36, 220, 70, 138, 127, 51, 29, 205, 135, 243, 189, 184, 81, 246, 152, 126, 221, 118, 101, 191, 255, 3, 14, 231, 217, 250, 6, 85, 243, 119, 112, 68, 101, 199, 146, 102, 147, 147, 170, 246, 124, 136, 11, 140, 103, 79, 73, 27, 88, 160, 242, 46, 133, 81, 70, 23, 164, 57, 108, 165, 87, 94, 19, 233, 163, 21, 145, 35, 154, 245, 135, 32, 126, 116, 206, 217, 137, 43, 43, 163, 181, 46, 29, 157, 143, 1, 228, 10, 132, 81, 252, 164, 217, 32, 156, 199, 135, 122, 75, 41, 24, 116, 198, 71, 181, 64, 132, 37, 2, 210, 211, 106, 66], [1, 234, 201, 184, 135, 20, 68, 12, 10, 5, 34, 18, 143, 0, 218, 100, 239, 248, 28, 165, 52, 26, 26, 137, 22, 191, 201, 156, 245, 157, 120, 42, 139, 14, 238, 34, 135, 217, 159, 7, 170, 56, 10, 254, 139, 143, 0, 163, 103, 142, 213, 215, 208, 179, 194, 92, 92, 82, 203, 130, 77, 79, 221, 45, 41, 61, 113, 248, 61, 76, 79, 228, 37, 5, 158, 174, 170, 83, 8, 212, 196, 70, 204, 33, 33, 146, 235, 209, 235, 156, 110, 116, 144, 63, 42, 1, 169, 168, 136, 31, 93, 226, 99, 223, 84, 90, 149, 52, 207, 236, 83, 21, 25, 103, 174, 40, 138, 104, 152, 65, 14, 132, 117, 94, 199, 229, 123, 39, 13, 20, 221, 64, 215, 41, 229, 69, 230, 59, 254, 243, 82, 189, 223, 91, 207, 183, 82, 219, 238, 129, 95, 136, 3, 178, 240, 114, 32, 249, 245, 56, 99, 204, 159, 238, 254, 234, 69, 40, 159, 54, 227, 160, 11, 72, 121, 173, 15, 255, 93, 160, 147, 173, 78, 87, 224, 79, 168, 137, 63, 247, 116, 87, 0, 30, 120, 144, 52, 41, 61, 79, 163, 60, 141, 109, 177, 19, 18, 7, 39, 29, 86, 134, 153, 156, 208, 62, 154, 204, 51, 225, 2, 43, 246, 135, 224, 196, 125, 180, 65, 241, 145, 186, 188, 36, 84, 60, 8, 180, 57, 138, 67, 51, 184, 56, 170, 56, 78, 159, 187, 179, 46, 214, 234, 201, 126, 6, 61], [1, 18, 51, 209, 59, 194, 144, 159, 143, 157, 42, 206, 86, 249, 203, 199, 89, 168, 54, 184, 36, 189, 67, 250, 249, 41, 54, 94, 160, 159, 154, 172, 61, 3, 146, 224, 233, 38, 54, 148, 90, 137, 51, 134, 58, 71, 144, 59, 92, 187, 242, 212, 212, 187, 8, 252, 24, 200, 34, 148, 166, 222, 141, 51, 231, 132, 200, 55, 45, 219, 96, 152, 223, 224, 102, 82, 116, 28, 224, 247, 126, 49, 170, 104, 141, 221, 135, 110, 161, 234, 126, 250, 45, 232, 232, 126, 56, 18, 31, 26, 26, 148, 194, 78, 246, 161, 38, 100, 16, 172, 166, 169, 199, 139, 255, 102, 132, 89, 12, 70, 87, 211, 176, 37, 200, 109, 108, 104, 175, 35, 69, 119, 175, 129, 99, 214, 212, 26, 210, 159, 25, 131, 131, 197, 163, 186, 129, 82, 43, 144, 60, 39, 175, 206, 155, 97, 45, 10, 123, 102, 174, 47, 186, 200, 163, 250, 0, 172, 167, 169, 60, 172, 236, 43, 165, 237, 241, 152, 129, 16, 229, 76, 254, 248, 185, 5, 81, 158, 175, 125, 225, 249, 95, 49, 71, 245, 145, 241, 120, 46, 193, 111, 51, 155, 22, 1, 180, 23, 79, 77, 19, 184, 123, 111, 238, 220, 232, 148, 154, 195, 124, 53, 53, 21, 185, 101, 20, 7, 36, 106, 22, 88, 46, 10, 168, 109, 73, 159, 163, 117, 123, 70, 170, 61, 120, 25, 232, 97, 128, 41, 76, 113, 75, 125, 177, 111, 168]]}}, 'requested_proof': {'revealed_attrs': {'0_fullname_uuid': {'sub_proof_index': 0, 'raw': 'Leo Lu', 'encoded': '11842490349175382836651560146263060721947689734315616312191380010197912794448'}, '0_skill_uuid': {'sub_proof_index': 0, 'raw': 'PyDentity SSI Ninja', 'encoded': '38813097173523343342121686954087857232940954656654688676222283577873518606251'}}, 'self_attested_attrs': {'0_country_uuid': 'Taiwan'}, 'unrevealed_attrs': {}, 'predicates': {'0_age_GE_uuid': {'sub_proof_index': 0}}}, 'identifiers': [{'schema_id': '55gBgeJZd758dgk9Hb8e44:2:SSI PyDentity Tutorial:0.0.1', 'cred_def_id': '55gBgeJZd758dgk9Hb8e44:3:CL:76512:default', 'rev_reg_id': None, 'timestamp': None}]}, 'created_at': '2022-12-28 11:11:20.120006Z', 'updated_at': '2022-12-28 11:12:25.747850Z', 'presentation_exchange_id': 'ef3aaec3-20dd-40db-990b-1a703fa41f16', 'state': 'verified', 'trace': False, 'presentation_request': {'name': 'Proof of Completion of PyDentity SSI Tutorial', 'version': '1.0', 'requested_attributes': {'0_fullname_uuid': {'name': 'fullname', 'restrictions': [{'schema_id': '55gBgeJZd758dgk9Hb8e44:2:SSI PyDentity Tutorial:0.0.1'}]}, '0_skill_uuid': {'name': 'skill', 'restrictions': [{'schema_id': '55gBgeJZd758dgk9Hb8e44:2:SSI PyDentity Tutorial:0.0.1'}]}, '0_country_uuid': {'name': 'country'}}, 'requested_predicates': {'0_age_GE_uuid': {'name': 'age', 'p_type': '>=', 'p_value': 21, 'restrictions': [{'schema_id': '55gBgeJZd758dgk9Hb8e44:2:SSI PyDentity Tutorial:0.0.1'}]}}, 'nonce': '1096455070225308829585231'}}\n",
      "{'thread_id': 'bc41bf03-b9db-43c5-897a-58b7735e490a', 'presentation_request_dict': {'@type': 'did:sov:BzCbsNYhMrjHiqZDTUASHg;spec/present-proof/1.0/request-presentation', '@id': 'bc41bf03-b9db-43c5-897a-58b7735e490a', 'request_presentations~attach': [{'@id': 'libindy-request-presentation-0', 'mime-type': 'application/json', 'data': {'base64': 'eyJuYW1lIjogIlByb29mIG9mIENvbXBsZXRpb24gb2YgUHlEZW50aXR5IFNTSSBUdXRvcmlhbCIsICJ2ZXJzaW9uIjogIjEuMCIsICJyZXF1ZXN0ZWRfYXR0cmlidXRlcyI6IHsiMF9mdWxsbmFtZV91dWlkIjogeyJuYW1lIjogImZ1bGxuYW1lIiwgInJlc3RyaWN0aW9ucyI6IFt7InNjaGVtYV9pZCI6ICI1NWdCZ2VKWmQ3NThkZ2s5SGI4ZTQ0OjI6U1NJIFB5RGVudGl0eSBUdXRvcmlhbDowLjAuMSJ9XX0sICIwX3NraWxsX3V1aWQiOiB7Im5hbWUiOiAic2tpbGwiLCAicmVzdHJpY3Rpb25zIjogW3sic2NoZW1hX2lkIjogIjU1Z0JnZUpaZDc1OGRnazlIYjhlNDQ6MjpTU0kgUHlEZW50aXR5IFR1dG9yaWFsOjAuMC4xIn1dfSwgIjBfY291bnRyeV91dWlkIjogeyJuYW1lIjogImNvdW50cnkifX0sICJyZXF1ZXN0ZWRfcHJlZGljYXRlcyI6IHsiMF9hZ2VfR0VfdXVpZCI6IHsibmFtZSI6ICJhZ2UiLCAicF90eXBlIjogIj49IiwgInBfdmFsdWUiOiAyMSwgInJlc3RyaWN0aW9ucyI6IFt7InNjaGVtYV9pZCI6ICI1NWdCZ2VKWmQ3NThkZ2s5SGI4ZTQ0OjI6U1NJIFB5RGVudGl0eSBUdXRvcmlhbDowLjAuMSJ9XX19LCAibm9uY2UiOiAiMTA5NjQ1NTA3MDIyNTMwODgyOTU4NTIzMSJ9'}}]}, 'verified': 'true', 'auto_present': False, 'initiator': 'self', 'role': 'verifier', 'connection_id': '817e12d7-b7f7-45cc-bfe5-6467cc27246e', 'presentation': {'proof': {'proofs': [{'primary_proof': {'eq_proof': {'revealed_attrs': {'fullname': '11842490349175382836651560146263060721947689734315616312191380010197912794448', 'skill': '38813097173523343342121686954087857232940954656654688676222283577873518606251'}, 'a_prime': '106652568473765667833690991411043062399440209315044801702326871098545626207288073973550421301321881409081771376758423029540163044247235048476539337630462264326698749156059825421383019546161569744295369205925022700211497585552707953824038992559418391771467203723502616177660280263065250213694295312717240860376280618361800464722476506975093185061889485392499991904951735376370779294964938193876659853892115029423297350390531566718556552281536882084368565050487585774907448259445811813240985971182702603578815467370729970980155983831727033688120367417357978501685730503078894219804154375806963624620804374576053672431539', 'e': '176123579691898466955278706545724225633017414818074150860612445992321028709706902282745037180378885896324349764117625295902237329344790329', 'v': '933242278385100758551052189073084724969553768915783955445309655104316922236748830279698216404119282178285810401773935771286153372956104321011345097138255921884122997466628057257071920149223023706873975506511236852042048989253473310142892979608766118361103486143652516653311024788292453800775709925694638204789785785554135552919394930594607535397897115188014356019716040993935423903709797600499794086136717952784019171180217139198175728404062068755368810210979421864593063882757612662326673699925421985185919427784385080151081319795584710973929082894255911140053380246872026993675217222062754427524750642195246843077515488231090295637406306002508474228796042652802971540657804677958234030741090404195158023514061760008051930861949751886590218107291290472667890828032992223720919982575534781663530592289698682567209257708342536522535315805545435988072759560076952313736165102450645540084692427889052093926077285148814416810', 'm': {'master_secret': '12006757618498930630591895529193631595454421325371310589091027984190219155445631419469690932052882430324296656472293625603226853286423517608652324351583253139908183929632021185041', 'age': '8249169052961355045117630801093173281983591303351665482867518078358720560981428902765925831050534452277891587161055561115208777859353556836385383032570276767294532415220688519391'}, 'm2': '10535961576596171560016175532304669160033939972051441679451962046942605462155928778699476263274849952246342062980179668367396784622730176007918314023061509160092314912029519168327'}, 'ge_proofs': [{'u': {'2': '6146158393534054132801352949634430313391610513375369021007014652159118285181592569103034121130684014082843317787066208685954965065090704008741411389389855368915576340442557432084', '3': '6505511008309189725248056524600480452015898547598894902322359750491252469475002628399501749144938719827553690848579063458816093899365709478345948138026688531167940911712755687419', '0': '12580278412283962858254853322140528028855793732591914276202457072219206951792057211672451665353850302308230676886788767682867199755415541188163643621474849991861424166103250204892', '1': '10168804970719527115397769998481413575300594008990963511209298937325364250865269046594998574648904158108714098365168922554645041661737123044090928024693977684211014595751265749423'}, 'r': {'2': '807805821887964796555679069028809634119879849854326794706461054779512902415868665037511227197860396356560517186521635326358037100893101570161827416371107494883072128172022193663170760408270920804871714681959188855887019106236917978368670320417259101242078590351474982377858116136583801948258486202754453269528134357859223760544871761452467887113360486466090265429700790869567229594815592654821689552111341161096263715766257476786228683030183414038490262256730451484063708405041465214502445117632277766729652392997462382504116824789389108209746299925908674223193264599602765726382598252046703913920547645508915333372585733063697030019785802610645845354417372223004222771631769757573086600731691463840617571077020541315', '1': '3428842425688268362340717017726026218530021343588329705175731937942502625330671590291633914396805900661726016595320850971158775978360664328352822844317766630833654861161825314895207047960036918293137572065394151462214680172515823214732212169120929070532064865463230731018766701086048602582836066242662999493055624087174764946035288304925021998712768648592148859409534582260234066195759961796525838428991501117596496742982128234937366035242127839703161516753543029279798504258816996005390705137187382295230096060063261166944056612200172984085069471359759446588047402645544101054488864657768711514995221575673221744217721398565632994986582439791795144258984861219864119008853439387098011606017718418052943416999322012233', '3': '331404138982517331149295104101024018015086468675160133186422019457273152696158188665193297979685422366870004376032771751922632284258041420226830344443374684853497708958688479876851395170358212786816103801980228651964305360621014972295468271396185323966892794653934876954869930444228088449906108180227144639655777691727353302594567711643136654592810117476854196805211372371878015600216095495092718947044882556370697707191883730974397205615837274310034695231958081473466214010011571059060618234554667411950007501704971659367138587894520467833996625049257344893022312097664242111744958552712441525527369559460669498688906297904097868136479872361727735097742978977389543098585195340025241859980766959856216093015717382040', '0': '3507513175440972118928060131631127101656738138659748016564129813334457433427932891511478655058073984006943779717195950900272322582069400473974761073500228927877624821598636004256146764808744193889386486669655138694001970435277019366744358257727418329072214507757697000737128778655509583822320785080525813538838935577599118004833316340026376255988400927393459217441124276925164385408819303965706187916175973256586497021782023953280203423737657993631104031667159460971761327435129377559732818901697189437847720115924309363381849226576039505763542413162254883624531636752662124157556495263331146851721638928826073572846740504195296817202062847073131058878430934048660442202630911252068131392139354651253684006204017389092', 'DELTA': '640888895798637356935579273505049593187020338675058365238586345572041061482235803743271041366520820227398602352157879931859535552970331624621644642446642219687226079082564614543689534432921931181478475278916271469412983206665364834620351631536416852993427700676460335232815073870625217555918927298137649934544502902676734405935391084139785282282751439349866950681880149953217459101487189519615083278196773898685634768518192685647300799681670633842126928175135883999196101702547757423271682932491366971049710244746773862455023200532869999469698096891360234550211367008062936057443393884490521035385585470876588421809889296556911735860797663481979839625093963047519511408305595696094520567073216562200583667232318657344'}, 'mj': '8249169052961355045117630801093173281983591303351665482867518078358720560981428902765925831050534452277891587161055561115208777859353556836385383032570276767294532415220688519391', 'alpha': '13161986597327278376980389584018172201940832574116369116845105682458449996772056259237773231782363881872744385317937702577575343686940252216268781724958548753402685679584335837596513081577946417987066208545660772783322160168620665414650116348394098793491750924452371059048176829985850828620648607984449798685014406810430799985578482235678619870582158685994566393036546770036030815610367419347035459018909066149224079838410573437112052696561702474622784707670723327526281981880404350783329403907327056408676132602197804142824337354303892714246677191315514519204112607968004106672080515236797449476972400611203184003409011735341615543303387216437026536713650552101390486185651484758279965400840916337690842832560522000432976470305208110028308046099119981908348662241469711550980804150278181805989023389269433962896568808284200526748469373997', 't': {'3': '61956241672725189867744999188010418904368527514045570047214075494232624013323999601034589737920362968097845754040383272699919081824986037261679012605870731337667556073774791794874016910078976084097694961723977671275642370788784082713475860607655658420524491765285965861685801519999808136111029038866028751616223656992677213744086498630655682241880335924647185009634400973316935038290822771614791646259355663527406423318926004089608499654317931759495189598552846017123709933210643233780870346005291460112953014885956978457962480463465584593606999981777801661444647167740420014456175956232578020942910247148834369963581', '2': '101095380496119627434184089173968255196051850020079896806902747954166510522091845948130742846610197972059842585897159763198661138399867494127275707231200655569256757151990098194517343984006004747043791284913254414685249459331841221538506877385210049550150892262203783897702670770171495774466929113298070976170002286852570972106256148286351504062094511167985171440951935448254161466609255347527441566646727578498037770103436013763353594490277102326422047771908552518221398477714029047863306217541391942086434599810983692653503710838920350763627840803955869087141929533943485579067578510392500979910707814720027288103490', '0': '31567369811247522725395429803280338039540838000628416364017700740507846154500486817624854869249464161450869294056142047012201331009518120752922300127845351680927798200469275658046340204005578186540275551458648839078137055747135176964176077657994380773972792156323809654672247311010322058057598446062816664509376642075347591701126441655921966844000286255826844503661542039646994499263682271460954931701972351425557641018844234335730608860668976920604452818373911040098035029970787971167484963105468762304486324470574324115699238024674512451697790571055461152302906497176812085136085679820358159603947769388863291405638', '1': '77037809964613564639791040554436094676564192899821112482588377171753681361109262820423038298501155251484453868155634706618751966978418102106086937795994002676785135748731175558043907368208854822174959673231200854743414252183302220609174562081669248219521443688524234285939650368162364529735037886039225696173162486921534000370682393386388317540156670958208404631089641063922343036068576829200391011972683976805811561763244406825119737591528483584744196368090709865061412849462562895442413172193366177265774673205880527324049011340815858626271411349561455445817122554379252538460189080577526538587646457374851742055167', 'DELTA': '34614847632601591258074201927904444269339118959536793584817632590374407119252760641132422578806991260537472567436863612414728189276243268341870197764163852906693258038289480080879401397957115319472602227459761067350069283526683660569275460857403704160338889704752023375588012670846695232941618503125698996172113571209977598917465594955122817457778681649427189817272980801460880965397579940027761707597338761261962614532828093067172171107397936689253813643388706359565669411312981732479366273039261628233258154350546748316083621640528148797011673385416607982620411885566245863264090429881331841449864326745155884380072'}, 'predicate': {'attr_name': 'age', 'p_type': 'GE', 'value': 21}}]}, 'non_revoc_proof': None}], 'aggregated_proof': {'c_hash': '95990290748665912363920905111259994379814580901394984739295881239078496415425', 'c_list': [[3, 76, 217, 224, 121, 176, 111, 17, 140, 79, 94, 69, 151, 35, 57, 38, 186, 11, 26, 143, 244, 25, 27, 2, 7, 26, 40, 143, 23, 130, 151, 220, 147, 56, 24, 180, 233, 30, 46, 72, 121, 52, 208, 67, 59, 236, 16, 85, 183, 84, 72, 63, 165, 222, 25, 90, 108, 131, 189, 50, 130, 144, 254, 116, 42, 158, 34, 119, 243, 96, 18, 18, 152, 173, 106, 164, 143, 148, 32, 190, 70, 5, 30, 168, 79, 254, 115, 90, 109, 56, 7, 55, 60, 227, 21, 88, 63, 100, 144, 194, 141, 47, 104, 98, 149, 228, 210, 210, 93, 238, 232, 166, 253, 215, 65, 66, 253, 253, 185, 193, 75, 104, 15, 125, 248, 40, 222, 97, 179, 1, 190, 212, 135, 176, 91, 187, 78, 240, 206, 249, 43, 89, 176, 201, 53, 88, 94, 142, 205, 205, 65, 6, 216, 212, 41, 184, 136, 173, 53, 50, 217, 88, 214, 19, 169, 79, 232, 105, 148, 144, 165, 67, 169, 198, 167, 107, 233, 33, 80, 195, 84, 180, 254, 146, 181, 105, 177, 56, 35, 119, 145, 120, 81, 153, 150, 115, 253, 69, 83, 92, 219, 45, 251, 82, 246, 224, 81, 79, 118, 115, 92, 146, 113, 197, 212, 35, 211, 93, 175, 184, 80, 228, 114, 157, 249, 15, 108, 228, 240, 242, 16, 221, 46, 62, 10, 43, 92, 4, 100, 99, 95, 22, 26, 9, 89, 110, 21, 206, 117, 125, 96, 227, 129, 54, 19, 79, 179], [250, 15, 205, 254, 98, 210, 179, 35, 228, 78, 99, 200, 57, 63, 230, 40, 120, 158, 108, 249, 184, 36, 60, 236, 103, 100, 196, 121, 249, 123, 213, 198, 171, 125, 58, 107, 223, 196, 39, 52, 146, 253, 157, 165, 108, 192, 199, 26, 202, 252, 209, 100, 167, 182, 224, 118, 216, 13, 88, 158, 188, 33, 113, 44, 27, 57, 44, 96, 62, 239, 61, 137, 150, 242, 174, 100, 130, 148, 189, 163, 198, 157, 95, 180, 57, 139, 88, 95, 237, 154, 103, 68, 31, 59, 136, 129, 245, 249, 46, 144, 96, 150, 37, 204, 206, 165, 239, 32, 134, 167, 147, 187, 210, 222, 189, 227, 8, 35, 17, 138, 236, 42, 61, 221, 169, 139, 151, 5, 151, 106, 241, 77, 83, 41, 229, 30, 206, 195, 62, 95, 138, 200, 107, 28, 161, 138, 10, 10, 24, 4, 101, 148, 141, 125, 49, 197, 40, 109, 77, 181, 156, 166, 214, 88, 209, 130, 120, 203, 138, 58, 103, 19, 38, 217, 175, 173, 150, 232, 229, 77, 187, 247, 228, 207, 109, 114, 106, 205, 27, 117, 184, 22, 69, 48, 149, 195, 98, 6, 127, 102, 113, 49, 68, 121, 67, 234, 227, 57, 195, 141, 167, 76, 216, 86, 94, 105, 126, 35, 27, 89, 157, 116, 111, 153, 138, 24, 62, 77, 229, 50, 111, 210, 97, 158, 23, 85, 239, 137, 98, 179, 26, 255, 132, 21, 229, 38, 222, 226, 227, 26, 181, 174, 75, 108, 53, 70], [2, 98, 65, 203, 28, 86, 195, 188, 35, 193, 108, 126, 133, 185, 1, 82, 74, 62, 179, 82, 82, 5, 173, 62, 165, 94, 43, 182, 95, 143, 110, 119, 41, 170, 161, 104, 75, 146, 3, 177, 125, 111, 11, 60, 42, 71, 249, 30, 140, 18, 151, 208, 26, 106, 49, 155, 110, 216, 209, 3, 228, 11, 180, 161, 169, 177, 40, 147, 77, 239, 46, 36, 34, 255, 112, 204, 239, 203, 64, 64, 38, 41, 121, 159, 197, 219, 5, 146, 249, 171, 83, 32, 41, 111, 21, 218, 231, 123, 140, 71, 76, 29, 159, 92, 68, 97, 159, 147, 106, 152, 150, 86, 11, 91, 22, 59, 206, 16, 83, 194, 142, 247, 127, 75, 157, 250, 54, 129, 32, 242, 209, 113, 147, 102, 179, 152, 243, 116, 43, 222, 121, 164, 107, 183, 197, 19, 87, 50, 83, 139, 203, 60, 32, 133, 206, 202, 164, 16, 32, 54, 184, 247, 152, 152, 163, 118, 132, 238, 179, 220, 24, 174, 204, 242, 217, 223, 200, 109, 91, 146, 26, 97, 157, 78, 116, 102, 37, 93, 66, 210, 132, 170, 244, 19, 129, 86, 78, 20, 186, 120, 84, 96, 201, 75, 173, 34, 53, 71, 5, 109, 198, 82, 74, 195, 111, 142, 30, 193, 54, 3, 108, 18, 192, 189, 236, 100, 223, 94, 118, 121, 45, 138, 147, 172, 109, 100, 141, 64, 161, 99, 224, 233, 9, 14, 20, 189, 21, 206, 19, 202, 135, 199, 130, 72, 128, 58, 255], [3, 32, 212, 101, 116, 120, 53, 72, 141, 42, 19, 61, 96, 88, 108, 206, 193, 140, 188, 24, 97, 98, 178, 134, 166, 87, 22, 68, 101, 190, 173, 179, 68, 240, 71, 16, 24, 241, 192, 97, 113, 80, 146, 24, 22, 179, 165, 197, 169, 85, 61, 250, 84, 10, 76, 180, 55, 87, 166, 40, 121, 247, 25, 103, 166, 66, 90, 16, 216, 0, 114, 227, 62, 239, 109, 173, 240, 59, 225, 124, 223, 192, 26, 35, 72, 118, 193, 38, 26, 96, 34, 220, 100, 126, 211, 82, 167, 22, 184, 135, 254, 120, 1, 113, 197, 190, 102, 119, 81, 124, 48, 43, 190, 249, 52, 251, 3, 214, 105, 199, 21, 214, 66, 185, 184, 199, 106, 114, 187, 218, 29, 75, 100, 193, 95, 237, 58, 218, 184, 131, 202, 201, 229, 219, 36, 220, 70, 138, 127, 51, 29, 205, 135, 243, 189, 184, 81, 246, 152, 126, 221, 118, 101, 191, 255, 3, 14, 231, 217, 250, 6, 85, 243, 119, 112, 68, 101, 199, 146, 102, 147, 147, 170, 246, 124, 136, 11, 140, 103, 79, 73, 27, 88, 160, 242, 46, 133, 81, 70, 23, 164, 57, 108, 165, 87, 94, 19, 233, 163, 21, 145, 35, 154, 245, 135, 32, 126, 116, 206, 217, 137, 43, 43, 163, 181, 46, 29, 157, 143, 1, 228, 10, 132, 81, 252, 164, 217, 32, 156, 199, 135, 122, 75, 41, 24, 116, 198, 71, 181, 64, 132, 37, 2, 210, 211, 106, 66], [1, 234, 201, 184, 135, 20, 68, 12, 10, 5, 34, 18, 143, 0, 218, 100, 239, 248, 28, 165, 52, 26, 26, 137, 22, 191, 201, 156, 245, 157, 120, 42, 139, 14, 238, 34, 135, 217, 159, 7, 170, 56, 10, 254, 139, 143, 0, 163, 103, 142, 213, 215, 208, 179, 194, 92, 92, 82, 203, 130, 77, 79, 221, 45, 41, 61, 113, 248, 61, 76, 79, 228, 37, 5, 158, 174, 170, 83, 8, 212, 196, 70, 204, 33, 33, 146, 235, 209, 235, 156, 110, 116, 144, 63, 42, 1, 169, 168, 136, 31, 93, 226, 99, 223, 84, 90, 149, 52, 207, 236, 83, 21, 25, 103, 174, 40, 138, 104, 152, 65, 14, 132, 117, 94, 199, 229, 123, 39, 13, 20, 221, 64, 215, 41, 229, 69, 230, 59, 254, 243, 82, 189, 223, 91, 207, 183, 82, 219, 238, 129, 95, 136, 3, 178, 240, 114, 32, 249, 245, 56, 99, 204, 159, 238, 254, 234, 69, 40, 159, 54, 227, 160, 11, 72, 121, 173, 15, 255, 93, 160, 147, 173, 78, 87, 224, 79, 168, 137, 63, 247, 116, 87, 0, 30, 120, 144, 52, 41, 61, 79, 163, 60, 141, 109, 177, 19, 18, 7, 39, 29, 86, 134, 153, 156, 208, 62, 154, 204, 51, 225, 2, 43, 246, 135, 224, 196, 125, 180, 65, 241, 145, 186, 188, 36, 84, 60, 8, 180, 57, 138, 67, 51, 184, 56, 170, 56, 78, 159, 187, 179, 46, 214, 234, 201, 126, 6, 61], [1, 18, 51, 209, 59, 194, 144, 159, 143, 157, 42, 206, 86, 249, 203, 199, 89, 168, 54, 184, 36, 189, 67, 250, 249, 41, 54, 94, 160, 159, 154, 172, 61, 3, 146, 224, 233, 38, 54, 148, 90, 137, 51, 134, 58, 71, 144, 59, 92, 187, 242, 212, 212, 187, 8, 252, 24, 200, 34, 148, 166, 222, 141, 51, 231, 132, 200, 55, 45, 219, 96, 152, 223, 224, 102, 82, 116, 28, 224, 247, 126, 49, 170, 104, 141, 221, 135, 110, 161, 234, 126, 250, 45, 232, 232, 126, 56, 18, 31, 26, 26, 148, 194, 78, 246, 161, 38, 100, 16, 172, 166, 169, 199, 139, 255, 102, 132, 89, 12, 70, 87, 211, 176, 37, 200, 109, 108, 104, 175, 35, 69, 119, 175, 129, 99, 214, 212, 26, 210, 159, 25, 131, 131, 197, 163, 186, 129, 82, 43, 144, 60, 39, 175, 206, 155, 97, 45, 10, 123, 102, 174, 47, 186, 200, 163, 250, 0, 172, 167, 169, 60, 172, 236, 43, 165, 237, 241, 152, 129, 16, 229, 76, 254, 248, 185, 5, 81, 158, 175, 125, 225, 249, 95, 49, 71, 245, 145, 241, 120, 46, 193, 111, 51, 155, 22, 1, 180, 23, 79, 77, 19, 184, 123, 111, 238, 220, 232, 148, 154, 195, 124, 53, 53, 21, 185, 101, 20, 7, 36, 106, 22, 88, 46, 10, 168, 109, 73, 159, 163, 117, 123, 70, 170, 61, 120, 25, 232, 97, 128, 41, 76, 113, 75, 125, 177, 111, 168]]}}, 'requested_proof': {'revealed_attrs': {'0_fullname_uuid': {'sub_proof_index': 0, 'raw': 'Leo Lu', 'encoded': '11842490349175382836651560146263060721947689734315616312191380010197912794448'}, '0_skill_uuid': {'sub_proof_index': 0, 'raw': 'PyDentity SSI Ninja', 'encoded': '38813097173523343342121686954087857232940954656654688676222283577873518606251'}}, 'self_attested_attrs': {'0_country_uuid': 'Taiwan'}, 'unrevealed_attrs': {}, 'predicates': {'0_age_GE_uuid': {'sub_proof_index': 0}}}, 'identifiers': [{'schema_id': '55gBgeJZd758dgk9Hb8e44:2:SSI PyDentity Tutorial:0.0.1', 'cred_def_id': '55gBgeJZd758dgk9Hb8e44:3:CL:76512:default', 'rev_reg_id': None, 'timestamp': None}]}, 'created_at': '2022-12-28 11:11:20.120006Z', 'updated_at': '2022-12-28 11:12:25.747850Z', 'presentation_exchange_id': 'ef3aaec3-20dd-40db-990b-1a703fa41f16', 'state': 'verified', 'trace': False, 'presentation_request': {'name': 'Proof of Completion of PyDentity SSI Tutorial', 'version': '1.0', 'requested_attributes': {'0_fullname_uuid': {'name': 'fullname', 'restrictions': [{'schema_id': '55gBgeJZd758dgk9Hb8e44:2:SSI PyDentity Tutorial:0.0.1'}]}, '0_skill_uuid': {'name': 'skill', 'restrictions': [{'schema_id': '55gBgeJZd758dgk9Hb8e44:2:SSI PyDentity Tutorial:0.0.1'}]}, '0_country_uuid': {'name': 'country'}}, 'requested_predicates': {'0_age_GE_uuid': {'name': 'age', 'p_type': '>=', 'p_value': 21, 'restrictions': [{'schema_id': '55gBgeJZd758dgk9Hb8e44:2:SSI PyDentity Tutorial:0.0.1'}]}}, 'nonce': '1096455070225308829585231'}}\n"
     ]
    }
   ],
   "source": [
    "verify = await agent_controller.proofs.verify_presentation(presentation_exchange_id)\n",
    "print(verify)"
   ]
  },
  {
   "cell_type": "markdown",
   "metadata": {},
   "source": [
    "### Verifying the State\n",
    "\n",
    "Once verified through the agent framework api, the state should be 'verified', otherwise the presentation is invalid."
   ]
  },
  {
   "cell_type": "code",
   "execution_count": 15,
   "metadata": {},
   "outputs": [
    {
     "name": "stdout",
     "output_type": "stream",
     "text": [
      "verified\n",
      "True\n"
     ]
    }
   ],
   "source": [
    "print(verify['state'])\n",
    "print(verify['state'] == 'verified')"
   ]
  },
  {
   "cell_type": "markdown",
   "metadata": {},
   "source": [
    "### Accessing the Revealed Attributes"
   ]
  },
  {
   "cell_type": "code",
   "execution_count": 16,
   "metadata": {},
   "outputs": [
    {
     "name": "stdout",
     "output_type": "stream",
     "text": [
      "Leo Lu\n",
      "PyDentity SSI Ninja\n"
     ]
    }
   ],
   "source": [
    "# print(verify['presentation'])\n",
    "# print(verify['presentation']['requested_proof'])\n",
    "\n",
    "for (name, val) in verify['presentation']['requested_proof']['revealed_attrs'].items():\n",
    "    ## This is the actual data that you want. It's a little hidden\n",
    "    print(val['raw'])\n"
   ]
  },
  {
   "cell_type": "markdown",
   "metadata": {},
   "source": [
    "### Accessing self-attested attributes"
   ]
  },
  {
   "cell_type": "code",
   "execution_count": 17,
   "metadata": {},
   "outputs": [
    {
     "name": "stdout",
     "output_type": "stream",
     "text": [
      "0_country_uuid\n",
      "Taiwan\n"
     ]
    }
   ],
   "source": [
    "for (name, val) in verify['presentation']['requested_proof']['self_attested_attrs'].items():\n",
    "    print(name)\n",
    "    ## Slightly different for self attested attrs\n",
    "    print(val)"
   ]
  },
  {
   "cell_type": "markdown",
   "metadata": {},
   "source": [
    "## End of Tutorial\n",
    "\n",
    "Be sure to terminate the controller so you can run another tutorial."
   ]
  },
  {
   "cell_type": "code",
   "execution_count": null,
   "metadata": {
    "pycharm": {
     "name": "#%%\n"
    }
   },
   "outputs": [],
   "source": [
    "response = await agent_controller.terminate()\n",
    "print(response)"
   ]
  },
  {
   "cell_type": "markdown",
   "metadata": {},
   "source": [
    "## Well done on completing the PyDentity SSI training series!"
   ]
  },
  {
   "cell_type": "code",
   "execution_count": null,
   "metadata": {},
   "outputs": [],
   "source": []
  }
 ],
 "metadata": {
  "kernelspec": {
   "display_name": "Python 3 (ipykernel)",
   "language": "python",
   "name": "python3"
  },
  "language_info": {
   "codemirror_mode": {
    "name": "ipython",
    "version": 3
   },
   "file_extension": ".py",
   "mimetype": "text/x-python",
   "name": "python",
   "nbconvert_exporter": "python",
   "pygments_lexer": "ipython3",
   "version": "3.10.8"
  }
 },
 "nbformat": 4,
 "nbformat_minor": 4
}
