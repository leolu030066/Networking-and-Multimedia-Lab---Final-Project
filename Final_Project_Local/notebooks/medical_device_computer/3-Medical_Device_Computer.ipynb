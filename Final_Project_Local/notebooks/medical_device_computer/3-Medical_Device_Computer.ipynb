{
 "cells": [
  {
   "cell_type": "markdown",
   "metadata": {},
   "source": [
    "# Role: Medical Device Computer\n",
    "### This notebook acts like an verifier in blockchain. What we do is to fetch the operation from device wallet. And then, we will examine the operation safety to prevent improper operations from hackers. Finally, we will do the action based the operation."
   ]
  },
  {
   "cell_type": "markdown",
   "metadata": {
    "pycharm": {
     "name": "#%%\n"
    }
   },
   "source": [
    "## 1. Instatiate Controller for Verifiers's Agent"
   ]
  },
  {
   "cell_type": "code",
   "execution_count": 1,
   "metadata": {
    "pycharm": {
     "name": "#%%\n"
    }
   },
   "outputs": [
    {
     "name": "stdout",
     "output_type": "stream",
     "text": [
      "IPython autoawait is `on`, and set to use `asyncio`\n"
     ]
    }
   ],
   "source": [
    "%autoawait\n",
    "import time\n",
    "import asyncio\n",
    "from termcolor import colored,cprint\n",
    "\n",
    "from aries_basic_controller.aries_controller import AriesAgentController\n",
    "\n",
    "WEBHOOK_HOST = \"0.0.0.0\"\n",
    "WEBHOOK_PORT = 7992\n",
    "WEBHOOK_BASE = \"\"\n",
    "ADMIN_URL = \"http://medical_device_computer-agent:7991\"\n",
    "\n",
    "# Based on the aca-py agent you wish to control\n",
    "agent_controller = AriesAgentController(admin_url=ADMIN_URL)\n"
   ]
  },
  {
   "cell_type": "code",
   "execution_count": 2,
   "metadata": {},
   "outputs": [],
   "source": [
    "agent_controller.init_webhook_server(webhook_host=WEBHOOK_HOST,\n",
    "                                     webhook_port=WEBHOOK_PORT,\n",
    "                                     webhook_base=WEBHOOK_BASE)"
   ]
  },
  {
   "cell_type": "markdown",
   "metadata": {},
   "source": [
    "## 2. Register Listeners\n",
    "\n",
    "The handler should get called every time the controller receives a webhook with the topic present_proof, printing out the payload. The agent calls to this webhook every time it receives a present proof protocol message from another agent. \n"
   ]
  },
  {
   "cell_type": "code",
   "execution_count": 3,
   "metadata": {
    "pycharm": {
     "name": "#%%\n"
    }
   },
   "outputs": [
    {
     "name": "stdout",
     "output_type": "stream",
     "text": [
      "Subscribing too: connections\n",
      "Subscribing too: present_proof\n"
     ]
    }
   ],
   "source": [
    "loop = asyncio.get_event_loop()\n",
    "loop.create_task(agent_controller.listen_webhooks())\n",
    "\n",
    "def connections_handler(payload):\n",
    "    global STATE\n",
    "    connection_id = payload[\"connection_id\"]\n",
    "    print(\"Connection message\", payload, connection_id)\n",
    "    STATE = payload['state']\n",
    "    if STATE == 'active':\n",
    "#         print('Connection {0} changed state to active'.format(connection_id))\n",
    "        print(colored(\"Connection {0} changed state to active\".format(connection_id), \"red\", attrs=[\"bold\"]))\n",
    "\n",
    "\n",
    "connection_listener = {\n",
    "    \"handler\": connections_handler,\n",
    "    \"topic\": \"connections\"\n",
    "}\n",
    "\n",
    "def proof_handler(payload):\n",
    "    print(\"Handle present proof\")\n",
    "    print(payload)\n",
    "\n",
    "proof_listener = {\n",
    "    \"topic\": \"present_proof\",\n",
    "    \"handler\": proof_handler\n",
    "}\n",
    "\n",
    "agent_controller.register_listeners([connection_listener,proof_listener], defaults=True)\n",
    "\n"
   ]
  },
  {
   "cell_type": "markdown",
   "metadata": {},
   "source": [
    "### 3. Check connection"
   ]
  },
  {
   "cell_type": "code",
   "execution_count": 8,
   "metadata": {},
   "outputs": [
    {
     "name": "stdout",
     "output_type": "stream",
     "text": [
      "EXISTING CONNECTIONS\n",
      "ConnectionID: fb88e546-aac4-42b3-a05f-22cdb2ea681c Status: active\n"
     ]
    }
   ],
   "source": [
    "# Check for existing connections\n",
    "connection = await agent_controller.connections.get_connections()\n",
    "print(\"EXISTING CONNECTIONS\")\n",
    "for key, value in connection.items():\n",
    "    for item in value:\n",
    "        print('ConnectionID:', item['connection_id'], 'Status:',item['state'])\n",
    "        connection_id = item['connection_id']"
   ]
  },
  {
   "cell_type": "markdown",
   "metadata": {},
   "source": [
    "### 4. Create proof request"
   ]
  },
  {
   "cell_type": "code",
   "execution_count": 9,
   "metadata": {
    "pycharm": {
     "name": "#%%\n"
    }
   },
   "outputs": [
    {
     "name": "stdout",
     "output_type": "stream",
     "text": [
      "Request proof of Fullname and Age range from Identity Holder\n"
     ]
    }
   ],
   "source": [
    "#please modidy the corresponding credential id in hospital-issue-device part\n",
    "hospital_did = 'PEcmuSQ7G3z771J7dse1R5'\n",
    "\n",
    "# schema_id = 'EuEtnVakYFyBtGFT1nHYtH:2:SSI PyDentity Tutorial:0.0.1' \n",
    "\n",
    "print(\"Request proof of Fullname and Age range from Identity Holder\")\n",
    "#Set some variables\n",
    "\n",
    "exchange_tracing = False\n",
    "\n",
    "req_attrs = [\n",
    "    {\"name\": \"type\", \"restrictions\": [{\"issuer_did\": hospital_did}]},\n",
    "    {\"name\": \"dose\", \"restrictions\": [{\"issuer_did\": hospital_did}]},\n",
    "    {\"name\": \"speed\", \"restrictions\": [{\"issuer_did\": hospital_did}]},\n",
    "    {\"name\": \"volt\", \"restrictions\": [{\"issuer_did\": hospital_did}]}\n",
    "]\n",
    "\n",
    "req_preds = []\n",
    "\n",
    "\n",
    "indy_proof_request = {\n",
    "    \"name\": \"Proof of Completion of PyDentity SSI Tutorial\",\n",
    "    \"version\": \"1.0\",\n",
    "    \"requested_attributes\": {\n",
    "        f\"0_{req_attr['name']}_uuid\":\n",
    "        req_attr for req_attr in req_attrs\n",
    "    },\n",
    "    \"requested_predicates\": {\n",
    "        f\"0_{req_pred['name']}_GE_uuid\":\n",
    "        req_pred for req_pred in req_preds\n",
    "    },\n",
    "}\n",
    "\n",
    "\n",
    "#proof_request = indy_proof_request\n",
    "exchange_tracing_id = exchange_tracing\n",
    "proof_request_web_request = {\n",
    "    \"connection_id\": connection_id,\n",
    "    \"proof_request\": indy_proof_request,\n",
    "    \"trace\": exchange_tracing,\n",
    "}"
   ]
  },
  {
   "cell_type": "markdown",
   "metadata": {},
   "source": [
    "### 5. Go to the_wallet notebook to setup"
   ]
  },
  {
   "cell_type": "markdown",
   "metadata": {},
   "source": [
    "### 8. Send the proof request to Identity Holder\n",
    "\n",
    "Identity Holder is identified through the connection_id"
   ]
  },
  {
   "cell_type": "code",
   "execution_count": 10,
   "metadata": {
    "pycharm": {
     "name": "#%%\n"
    }
   },
   "outputs": [
    {
     "name": "stdout",
     "output_type": "stream",
     "text": [
      "Handle present proof\n",
      "{'trace': False, 'presentation_request': {'name': 'Proof of Completion of PyDentity SSI Tutorial', 'version': '1.0', 'requested_attributes': {'0_type_uuid': {'name': 'type', 'restrictions': [{'issuer_did': 'PEcmuSQ7G3z771J7dse1R5'}]}, '0_dose_uuid': {'name': 'dose', 'restrictions': [{'issuer_did': 'PEcmuSQ7G3z771J7dse1R5'}]}, '0_speed_uuid': {'name': 'speed', 'restrictions': [{'issuer_did': 'PEcmuSQ7G3z771J7dse1R5'}]}, '0_volt_uuid': {'name': 'volt', 'restrictions': [{'issuer_did': 'PEcmuSQ7G3z771J7dse1R5'}]}}, 'requested_predicates': {}, 'nonce': '675858736581233646661772'}, 'connection_id': 'fb88e546-aac4-42b3-a05f-22cdb2ea681c', 'state': 'request_sent', 'auto_present': False, 'thread_id': '08b24ffa-159d-4b47-8b6c-be62c956b825', 'presentation_request_dict': {'@type': 'did:sov:BzCbsNYhMrjHiqZDTUASHg;spec/present-proof/1.0/request-presentation', '@id': '08b24ffa-159d-4b47-8b6c-be62c956b825', 'request_presentations~attach': [{'@id': 'libindy-request-presentation-0', 'mime-type': 'application/json', 'data': {'base64': 'eyJuYW1lIjogIlByb29mIG9mIENvbXBsZXRpb24gb2YgUHlEZW50aXR5IFNTSSBUdXRvcmlhbCIsICJ2ZXJzaW9uIjogIjEuMCIsICJyZXF1ZXN0ZWRfYXR0cmlidXRlcyI6IHsiMF90eXBlX3V1aWQiOiB7Im5hbWUiOiAidHlwZSIsICJyZXN0cmljdGlvbnMiOiBbeyJpc3N1ZXJfZGlkIjogIlBFY211U1E3RzN6NzcxSjdkc2UxUjUifV19LCAiMF9kb3NlX3V1aWQiOiB7Im5hbWUiOiAiZG9zZSIsICJyZXN0cmljdGlvbnMiOiBbeyJpc3N1ZXJfZGlkIjogIlBFY211U1E3RzN6NzcxSjdkc2UxUjUifV19LCAiMF9zcGVlZF91dWlkIjogeyJuYW1lIjogInNwZWVkIiwgInJlc3RyaWN0aW9ucyI6IFt7Imlzc3Vlcl9kaWQiOiAiUEVjbXVTUTdHM3o3NzFKN2RzZTFSNSJ9XX0sICIwX3ZvbHRfdXVpZCI6IHsibmFtZSI6ICJ2b2x0IiwgInJlc3RyaWN0aW9ucyI6IFt7Imlzc3Vlcl9kaWQiOiAiUEVjbXVTUTdHM3o3NzFKN2RzZTFSNSJ9XX19LCAicmVxdWVzdGVkX3ByZWRpY2F0ZXMiOiB7fSwgIm5vbmNlIjogIjY3NTg1ODczNjU4MTIzMzY0NjY2MTc3MiJ9'}}]}, 'role': 'verifier', 'updated_at': '2023-01-05 13:16:36.930559Z', 'presentation_exchange_id': 'ecdb39f1-a77b-480f-b730-efa8bac2e3c4', 'created_at': '2023-01-05 13:16:36.930559Z', 'initiator': 'self'}\n",
      "{'trace': False, 'presentation_request': {'name': 'Proof of Completion of PyDentity SSI Tutorial', 'version': '1.0', 'requested_attributes': {'0_type_uuid': {'name': 'type', 'restrictions': [{'issuer_did': 'PEcmuSQ7G3z771J7dse1R5'}]}, '0_dose_uuid': {'name': 'dose', 'restrictions': [{'issuer_did': 'PEcmuSQ7G3z771J7dse1R5'}]}, '0_speed_uuid': {'name': 'speed', 'restrictions': [{'issuer_did': 'PEcmuSQ7G3z771J7dse1R5'}]}, '0_volt_uuid': {'name': 'volt', 'restrictions': [{'issuer_did': 'PEcmuSQ7G3z771J7dse1R5'}]}}, 'requested_predicates': {}, 'nonce': '675858736581233646661772'}, 'connection_id': 'fb88e546-aac4-42b3-a05f-22cdb2ea681c', 'state': 'request_sent', 'auto_present': False, 'thread_id': '08b24ffa-159d-4b47-8b6c-be62c956b825', 'presentation_request_dict': {'@type': 'did:sov:BzCbsNYhMrjHiqZDTUASHg;spec/present-proof/1.0/request-presentation', '@id': '08b24ffa-159d-4b47-8b6c-be62c956b825', 'request_presentations~attach': [{'@id': 'libindy-request-presentation-0', 'mime-type': 'application/json', 'data': {'base64': 'eyJuYW1lIjogIlByb29mIG9mIENvbXBsZXRpb24gb2YgUHlEZW50aXR5IFNTSSBUdXRvcmlhbCIsICJ2ZXJzaW9uIjogIjEuMCIsICJyZXF1ZXN0ZWRfYXR0cmlidXRlcyI6IHsiMF90eXBlX3V1aWQiOiB7Im5hbWUiOiAidHlwZSIsICJyZXN0cmljdGlvbnMiOiBbeyJpc3N1ZXJfZGlkIjogIlBFY211U1E3RzN6NzcxSjdkc2UxUjUifV19LCAiMF9kb3NlX3V1aWQiOiB7Im5hbWUiOiAiZG9zZSIsICJyZXN0cmljdGlvbnMiOiBbeyJpc3N1ZXJfZGlkIjogIlBFY211U1E3RzN6NzcxSjdkc2UxUjUifV19LCAiMF9zcGVlZF91dWlkIjogeyJuYW1lIjogInNwZWVkIiwgInJlc3RyaWN0aW9ucyI6IFt7Imlzc3Vlcl9kaWQiOiAiUEVjbXVTUTdHM3o3NzFKN2RzZTFSNSJ9XX0sICIwX3ZvbHRfdXVpZCI6IHsibmFtZSI6ICJ2b2x0IiwgInJlc3RyaWN0aW9ucyI6IFt7Imlzc3Vlcl9kaWQiOiAiUEVjbXVTUTdHM3o3NzFKN2RzZTFSNSJ9XX19LCAicmVxdWVzdGVkX3ByZWRpY2F0ZXMiOiB7fSwgIm5vbmNlIjogIjY3NTg1ODczNjU4MTIzMzY0NjY2MTc3MiJ9'}}]}, 'role': 'verifier', 'updated_at': '2023-01-05 13:16:36.930559Z', 'presentation_exchange_id': 'ecdb39f1-a77b-480f-b730-efa8bac2e3c4', 'created_at': '2023-01-05 13:16:36.930559Z', 'initiator': 'self'}\n",
      "\n",
      "\n",
      "ecdb39f1-a77b-480f-b730-efa8bac2e3c4\n",
      "Handle present proof\n",
      "{'trace': False, 'presentation_request': {'name': 'Proof of Completion of PyDentity SSI Tutorial', 'version': '1.0', 'requested_attributes': {'0_type_uuid': {'name': 'type', 'restrictions': [{'issuer_did': 'PEcmuSQ7G3z771J7dse1R5'}]}, '0_dose_uuid': {'name': 'dose', 'restrictions': [{'issuer_did': 'PEcmuSQ7G3z771J7dse1R5'}]}, '0_speed_uuid': {'name': 'speed', 'restrictions': [{'issuer_did': 'PEcmuSQ7G3z771J7dse1R5'}]}, '0_volt_uuid': {'name': 'volt', 'restrictions': [{'issuer_did': 'PEcmuSQ7G3z771J7dse1R5'}]}}, 'requested_predicates': {}, 'nonce': '675858736581233646661772'}, 'connection_id': 'fb88e546-aac4-42b3-a05f-22cdb2ea681c', 'state': 'presentation_received', 'auto_present': False, 'thread_id': '08b24ffa-159d-4b47-8b6c-be62c956b825', 'presentation_request_dict': {'@type': 'did:sov:BzCbsNYhMrjHiqZDTUASHg;spec/present-proof/1.0/request-presentation', '@id': '08b24ffa-159d-4b47-8b6c-be62c956b825', 'request_presentations~attach': [{'@id': 'libindy-request-presentation-0', 'mime-type': 'application/json', 'data': {'base64': 'eyJuYW1lIjogIlByb29mIG9mIENvbXBsZXRpb24gb2YgUHlEZW50aXR5IFNTSSBUdXRvcmlhbCIsICJ2ZXJzaW9uIjogIjEuMCIsICJyZXF1ZXN0ZWRfYXR0cmlidXRlcyI6IHsiMF90eXBlX3V1aWQiOiB7Im5hbWUiOiAidHlwZSIsICJyZXN0cmljdGlvbnMiOiBbeyJpc3N1ZXJfZGlkIjogIlBFY211U1E3RzN6NzcxSjdkc2UxUjUifV19LCAiMF9kb3NlX3V1aWQiOiB7Im5hbWUiOiAiZG9zZSIsICJyZXN0cmljdGlvbnMiOiBbeyJpc3N1ZXJfZGlkIjogIlBFY211U1E3RzN6NzcxSjdkc2UxUjUifV19LCAiMF9zcGVlZF91dWlkIjogeyJuYW1lIjogInNwZWVkIiwgInJlc3RyaWN0aW9ucyI6IFt7Imlzc3Vlcl9kaWQiOiAiUEVjbXVTUTdHM3o3NzFKN2RzZTFSNSJ9XX0sICIwX3ZvbHRfdXVpZCI6IHsibmFtZSI6ICJ2b2x0IiwgInJlc3RyaWN0aW9ucyI6IFt7Imlzc3Vlcl9kaWQiOiAiUEVjbXVTUTdHM3o3NzFKN2RzZTFSNSJ9XX19LCAicmVxdWVzdGVkX3ByZWRpY2F0ZXMiOiB7fSwgIm5vbmNlIjogIjY3NTg1ODczNjU4MTIzMzY0NjY2MTc3MiJ9'}}]}, 'role': 'verifier', 'updated_at': '2023-01-05 13:18:44.498112Z', 'presentation_exchange_id': 'ecdb39f1-a77b-480f-b730-efa8bac2e3c4', 'presentation': {'proof': {'proofs': [{'primary_proof': {'eq_proof': {'revealed_attrs': {'dose': '1', 'speed': '1', 'type': '11675935962789929874023431399931686027968859694189954872134543910143232860966', 'volt': '1'}, 'a_prime': '68392621762818647053290403543089304136080498664964346044280966650336423029159712721346363765079866702911746563660919367162652205274941533642398601673172784726982074572219309738538202229662749413716467973300369234805159168150087918772137054035109486518896455725680594319672285938354240815408766092361244438909714059516769318898399897118818895835675481580834518002819600892770112539196316641588817916753327696425323856248271724432609684105379420109339072992173258347731500690786655380799207085399587261500159116681956492576450808817536875635388474927083889186654100783673702600425094154252102681353174019361271524676838', 'e': '178869259328794882554881732911686902247264411944910662224422449004364215886773788792106758921725031770828863267537294316642902605405229882', 'v': '604551983400037076545649344271279044174547168034526785584375184616029358685070416585307196850178315139797645638201030951207613379276632024549863023191232051149758744637510156803552865642106178384782177084195533179955013563325544884953311953597825230249839563718760128454261230032471654515315226105610052019573789313791684912694094877361332896067565632551045952194881115024503745157809371691522167456751188916843891959763607447158138308333276660839054853039590026812612674483795337360339107078273611413137098616055253466282006656501190730771258332875658845122870457850333789824521938028489779345689242284592233265780679181512238494871092459898903568869542042579284379096894009575248697192782212709246187151347870114597338389928679846945367426964792556249611400908714999190712857997593199850603459918909966197573059719417410850958794032796642516841705989446250781329618480534487995975847839905003830784697088289614555133546', 'm': {'master_secret': '14327599129775563489764549050718856774748999432540682142143192264396111417708389105464653121025745239450375174052922846478051715891999441603572995511196549845893986378116527719754'}, 'm2': '10160716424346227369596933826181842554829742386334000794077264915283268650356184111834795442510195120105521513739518772538296186226191176133802370684836173126575989074682819962603'}, 'ge_proofs': []}, 'non_revoc_proof': None}], 'aggregated_proof': {'c_hash': '11422822972191738674462051356978337734085994563083427257271262957514989881620', 'c_list': [[2, 29, 198, 31, 215, 200, 69, 24, 7, 151, 154, 194, 111, 67, 117, 245, 72, 201, 91, 160, 143, 72, 187, 252, 82, 226, 63, 66, 50, 213, 88, 159, 141, 122, 212, 196, 1, 175, 101, 170, 145, 60, 3, 129, 10, 117, 87, 193, 129, 64, 104, 113, 156, 93, 238, 109, 165, 58, 18, 110, 124, 7, 165, 32, 14, 234, 204, 232, 10, 67, 214, 31, 105, 236, 70, 67, 104, 37, 7, 125, 170, 73, 199, 42, 209, 255, 136, 145, 61, 206, 153, 176, 159, 175, 0, 75, 111, 89, 200, 82, 224, 94, 11, 74, 75, 123, 213, 87, 102, 64, 113, 10, 83, 166, 223, 73, 212, 60, 170, 200, 78, 4, 85, 146, 204, 21, 154, 74, 105, 182, 41, 175, 240, 177, 247, 34, 179, 77, 20, 104, 209, 206, 8, 189, 151, 57, 54, 178, 18, 11, 134, 143, 141, 133, 3, 161, 162, 4, 197, 221, 97, 65, 238, 137, 163, 89, 207, 48, 180, 31, 238, 190, 18, 153, 220, 240, 33, 83, 56, 196, 165, 248, 243, 45, 193, 96, 164, 9, 155, 133, 106, 234, 111, 182, 136, 157, 5, 95, 64, 226, 159, 121, 210, 15, 158, 253, 188, 179, 211, 102, 214, 196, 135, 54, 5, 69, 187, 11, 54, 88, 86, 195, 143, 60, 48, 230, 116, 152, 187, 72, 124, 22, 213, 190, 112, 216, 14, 123, 18, 131, 42, 203, 199, 181, 56, 129, 208, 73, 199, 91, 209, 234, 77, 201, 56, 212, 230]]}}, 'requested_proof': {'revealed_attrs': {'0_dose_uuid': {'sub_proof_index': 0, 'raw': '1', 'encoded': '1'}, '0_volt_uuid': {'sub_proof_index': 0, 'raw': '1', 'encoded': '1'}, '0_type_uuid': {'sub_proof_index': 0, 'raw': 'drug_B', 'encoded': '11675935962789929874023431399931686027968859694189954872134543910143232860966'}, '0_speed_uuid': {'sub_proof_index': 0, 'raw': '1', 'encoded': '1'}}, 'self_attested_attrs': {}, 'unrevealed_attrs': {}, 'predicates': {}}, 'identifiers': [{'schema_id': 'PEcmuSQ7G3z771J7dse1R5:2:Operation:0.0.3', 'cred_def_id': 'PEcmuSQ7G3z771J7dse1R5:3:CL:48:default', 'rev_reg_id': None, 'timestamp': None}]}, 'created_at': '2023-01-05 13:16:36.930559Z', 'initiator': 'self'}\n"
     ]
    }
   ],
   "source": [
    "response = await agent_controller.proofs.send_request(proof_request_web_request)\n",
    "print(response)\n",
    "presentation_exchange_id = response['presentation_exchange_id']\n",
    "print(\"\\n\")\n",
    "print(presentation_exchange_id)\n"
   ]
  },
  {
   "cell_type": "markdown",
   "metadata": {},
   "source": [
    "### 9. Go to the_wallet notebook to send verify response"
   ]
  },
  {
   "cell_type": "markdown",
   "metadata": {},
   "source": [
    "### 12. Verify Proof Presentation\n",
    "\n",
    "This is checking the signatures on the credentials presented against the credential schema and definition id stored and resolvable on the ledger. It is a bit of a big complicated object, so we show the common pattern for breaking it down, checking it's verified and accessing the data that has been presented."
   ]
  },
  {
   "cell_type": "code",
   "execution_count": 11,
   "metadata": {
    "pycharm": {
     "name": "#%%\n"
    }
   },
   "outputs": [
    {
     "name": "stdout",
     "output_type": "stream",
     "text": [
      "Handle present proof\n",
      "{'trace': False, 'presentation_request': {'name': 'Proof of Completion of PyDentity SSI Tutorial', 'version': '1.0', 'requested_attributes': {'0_type_uuid': {'name': 'type', 'restrictions': [{'issuer_did': 'PEcmuSQ7G3z771J7dse1R5'}]}, '0_dose_uuid': {'name': 'dose', 'restrictions': [{'issuer_did': 'PEcmuSQ7G3z771J7dse1R5'}]}, '0_speed_uuid': {'name': 'speed', 'restrictions': [{'issuer_did': 'PEcmuSQ7G3z771J7dse1R5'}]}, '0_volt_uuid': {'name': 'volt', 'restrictions': [{'issuer_did': 'PEcmuSQ7G3z771J7dse1R5'}]}}, 'requested_predicates': {}, 'nonce': '675858736581233646661772'}, 'connection_id': 'fb88e546-aac4-42b3-a05f-22cdb2ea681c', 'state': 'verified', 'auto_present': False, 'thread_id': '08b24ffa-159d-4b47-8b6c-be62c956b825', 'presentation_request_dict': {'@type': 'did:sov:BzCbsNYhMrjHiqZDTUASHg;spec/present-proof/1.0/request-presentation', '@id': '08b24ffa-159d-4b47-8b6c-be62c956b825', 'request_presentations~attach': [{'@id': 'libindy-request-presentation-0', 'mime-type': 'application/json', 'data': {'base64': 'eyJuYW1lIjogIlByb29mIG9mIENvbXBsZXRpb24gb2YgUHlEZW50aXR5IFNTSSBUdXRvcmlhbCIsICJ2ZXJzaW9uIjogIjEuMCIsICJyZXF1ZXN0ZWRfYXR0cmlidXRlcyI6IHsiMF90eXBlX3V1aWQiOiB7Im5hbWUiOiAidHlwZSIsICJyZXN0cmljdGlvbnMiOiBbeyJpc3N1ZXJfZGlkIjogIlBFY211U1E3RzN6NzcxSjdkc2UxUjUifV19LCAiMF9kb3NlX3V1aWQiOiB7Im5hbWUiOiAiZG9zZSIsICJyZXN0cmljdGlvbnMiOiBbeyJpc3N1ZXJfZGlkIjogIlBFY211U1E3RzN6NzcxSjdkc2UxUjUifV19LCAiMF9zcGVlZF91dWlkIjogeyJuYW1lIjogInNwZWVkIiwgInJlc3RyaWN0aW9ucyI6IFt7Imlzc3Vlcl9kaWQiOiAiUEVjbXVTUTdHM3o3NzFKN2RzZTFSNSJ9XX0sICIwX3ZvbHRfdXVpZCI6IHsibmFtZSI6ICJ2b2x0IiwgInJlc3RyaWN0aW9ucyI6IFt7Imlzc3Vlcl9kaWQiOiAiUEVjbXVTUTdHM3o3NzFKN2RzZTFSNSJ9XX19LCAicmVxdWVzdGVkX3ByZWRpY2F0ZXMiOiB7fSwgIm5vbmNlIjogIjY3NTg1ODczNjU4MTIzMzY0NjY2MTc3MiJ9'}}]}, 'role': 'verifier', 'updated_at': '2023-01-05 13:18:57.521397Z', 'presentation_exchange_id': 'ecdb39f1-a77b-480f-b730-efa8bac2e3c4', 'presentation': {'proof': {'proofs': [{'primary_proof': {'eq_proof': {'revealed_attrs': {'dose': '1', 'speed': '1', 'type': '11675935962789929874023431399931686027968859694189954872134543910143232860966', 'volt': '1'}, 'a_prime': '68392621762818647053290403543089304136080498664964346044280966650336423029159712721346363765079866702911746563660919367162652205274941533642398601673172784726982074572219309738538202229662749413716467973300369234805159168150087918772137054035109486518896455725680594319672285938354240815408766092361244438909714059516769318898399897118818895835675481580834518002819600892770112539196316641588817916753327696425323856248271724432609684105379420109339072992173258347731500690786655380799207085399587261500159116681956492576450808817536875635388474927083889186654100783673702600425094154252102681353174019361271524676838', 'e': '178869259328794882554881732911686902247264411944910662224422449004364215886773788792106758921725031770828863267537294316642902605405229882', 'v': '604551983400037076545649344271279044174547168034526785584375184616029358685070416585307196850178315139797645638201030951207613379276632024549863023191232051149758744637510156803552865642106178384782177084195533179955013563325544884953311953597825230249839563718760128454261230032471654515315226105610052019573789313791684912694094877361332896067565632551045952194881115024503745157809371691522167456751188916843891959763607447158138308333276660839054853039590026812612674483795337360339107078273611413137098616055253466282006656501190730771258332875658845122870457850333789824521938028489779345689242284592233265780679181512238494871092459898903568869542042579284379096894009575248697192782212709246187151347870114597338389928679846945367426964792556249611400908714999190712857997593199850603459918909966197573059719417410850958794032796642516841705989446250781329618480534487995975847839905003830784697088289614555133546', 'm': {'master_secret': '14327599129775563489764549050718856774748999432540682142143192264396111417708389105464653121025745239450375174052922846478051715891999441603572995511196549845893986378116527719754'}, 'm2': '10160716424346227369596933826181842554829742386334000794077264915283268650356184111834795442510195120105521513739518772538296186226191176133802370684836173126575989074682819962603'}, 'ge_proofs': []}, 'non_revoc_proof': None}], 'aggregated_proof': {'c_hash': '11422822972191738674462051356978337734085994563083427257271262957514989881620', 'c_list': [[2, 29, 198, 31, 215, 200, 69, 24, 7, 151, 154, 194, 111, 67, 117, 245, 72, 201, 91, 160, 143, 72, 187, 252, 82, 226, 63, 66, 50, 213, 88, 159, 141, 122, 212, 196, 1, 175, 101, 170, 145, 60, 3, 129, 10, 117, 87, 193, 129, 64, 104, 113, 156, 93, 238, 109, 165, 58, 18, 110, 124, 7, 165, 32, 14, 234, 204, 232, 10, 67, 214, 31, 105, 236, 70, 67, 104, 37, 7, 125, 170, 73, 199, 42, 209, 255, 136, 145, 61, 206, 153, 176, 159, 175, 0, 75, 111, 89, 200, 82, 224, 94, 11, 74, 75, 123, 213, 87, 102, 64, 113, 10, 83, 166, 223, 73, 212, 60, 170, 200, 78, 4, 85, 146, 204, 21, 154, 74, 105, 182, 41, 175, 240, 177, 247, 34, 179, 77, 20, 104, 209, 206, 8, 189, 151, 57, 54, 178, 18, 11, 134, 143, 141, 133, 3, 161, 162, 4, 197, 221, 97, 65, 238, 137, 163, 89, 207, 48, 180, 31, 238, 190, 18, 153, 220, 240, 33, 83, 56, 196, 165, 248, 243, 45, 193, 96, 164, 9, 155, 133, 106, 234, 111, 182, 136, 157, 5, 95, 64, 226, 159, 121, 210, 15, 158, 253, 188, 179, 211, 102, 214, 196, 135, 54, 5, 69, 187, 11, 54, 88, 86, 195, 143, 60, 48, 230, 116, 152, 187, 72, 124, 22, 213, 190, 112, 216, 14, 123, 18, 131, 42, 203, 199, 181, 56, 129, 208, 73, 199, 91, 209, 234, 77, 201, 56, 212, 230]]}}, 'requested_proof': {'revealed_attrs': {'0_dose_uuid': {'sub_proof_index': 0, 'raw': '1', 'encoded': '1'}, '0_volt_uuid': {'sub_proof_index': 0, 'raw': '1', 'encoded': '1'}, '0_type_uuid': {'sub_proof_index': 0, 'raw': 'drug_B', 'encoded': '11675935962789929874023431399931686027968859694189954872134543910143232860966'}, '0_speed_uuid': {'sub_proof_index': 0, 'raw': '1', 'encoded': '1'}}, 'self_attested_attrs': {}, 'unrevealed_attrs': {}, 'predicates': {}}, 'identifiers': [{'schema_id': 'PEcmuSQ7G3z771J7dse1R5:2:Operation:0.0.3', 'cred_def_id': 'PEcmuSQ7G3z771J7dse1R5:3:CL:48:default', 'rev_reg_id': None, 'timestamp': None}]}, 'created_at': '2023-01-05 13:16:36.930559Z', 'verified': 'true', 'initiator': 'self'}\n",
      "{'trace': False, 'presentation_request': {'name': 'Proof of Completion of PyDentity SSI Tutorial', 'version': '1.0', 'requested_attributes': {'0_type_uuid': {'name': 'type', 'restrictions': [{'issuer_did': 'PEcmuSQ7G3z771J7dse1R5'}]}, '0_dose_uuid': {'name': 'dose', 'restrictions': [{'issuer_did': 'PEcmuSQ7G3z771J7dse1R5'}]}, '0_speed_uuid': {'name': 'speed', 'restrictions': [{'issuer_did': 'PEcmuSQ7G3z771J7dse1R5'}]}, '0_volt_uuid': {'name': 'volt', 'restrictions': [{'issuer_did': 'PEcmuSQ7G3z771J7dse1R5'}]}}, 'requested_predicates': {}, 'nonce': '675858736581233646661772'}, 'connection_id': 'fb88e546-aac4-42b3-a05f-22cdb2ea681c', 'state': 'verified', 'auto_present': False, 'thread_id': '08b24ffa-159d-4b47-8b6c-be62c956b825', 'presentation_request_dict': {'@type': 'did:sov:BzCbsNYhMrjHiqZDTUASHg;spec/present-proof/1.0/request-presentation', '@id': '08b24ffa-159d-4b47-8b6c-be62c956b825', 'request_presentations~attach': [{'@id': 'libindy-request-presentation-0', 'mime-type': 'application/json', 'data': {'base64': 'eyJuYW1lIjogIlByb29mIG9mIENvbXBsZXRpb24gb2YgUHlEZW50aXR5IFNTSSBUdXRvcmlhbCIsICJ2ZXJzaW9uIjogIjEuMCIsICJyZXF1ZXN0ZWRfYXR0cmlidXRlcyI6IHsiMF90eXBlX3V1aWQiOiB7Im5hbWUiOiAidHlwZSIsICJyZXN0cmljdGlvbnMiOiBbeyJpc3N1ZXJfZGlkIjogIlBFY211U1E3RzN6NzcxSjdkc2UxUjUifV19LCAiMF9kb3NlX3V1aWQiOiB7Im5hbWUiOiAiZG9zZSIsICJyZXN0cmljdGlvbnMiOiBbeyJpc3N1ZXJfZGlkIjogIlBFY211U1E3RzN6NzcxSjdkc2UxUjUifV19LCAiMF9zcGVlZF91dWlkIjogeyJuYW1lIjogInNwZWVkIiwgInJlc3RyaWN0aW9ucyI6IFt7Imlzc3Vlcl9kaWQiOiAiUEVjbXVTUTdHM3o3NzFKN2RzZTFSNSJ9XX0sICIwX3ZvbHRfdXVpZCI6IHsibmFtZSI6ICJ2b2x0IiwgInJlc3RyaWN0aW9ucyI6IFt7Imlzc3Vlcl9kaWQiOiAiUEVjbXVTUTdHM3o3NzFKN2RzZTFSNSJ9XX19LCAicmVxdWVzdGVkX3ByZWRpY2F0ZXMiOiB7fSwgIm5vbmNlIjogIjY3NTg1ODczNjU4MTIzMzY0NjY2MTc3MiJ9'}}]}, 'role': 'verifier', 'updated_at': '2023-01-05 13:18:57.521397Z', 'presentation_exchange_id': 'ecdb39f1-a77b-480f-b730-efa8bac2e3c4', 'presentation': {'proof': {'proofs': [{'primary_proof': {'eq_proof': {'revealed_attrs': {'dose': '1', 'speed': '1', 'type': '11675935962789929874023431399931686027968859694189954872134543910143232860966', 'volt': '1'}, 'a_prime': '68392621762818647053290403543089304136080498664964346044280966650336423029159712721346363765079866702911746563660919367162652205274941533642398601673172784726982074572219309738538202229662749413716467973300369234805159168150087918772137054035109486518896455725680594319672285938354240815408766092361244438909714059516769318898399897118818895835675481580834518002819600892770112539196316641588817916753327696425323856248271724432609684105379420109339072992173258347731500690786655380799207085399587261500159116681956492576450808817536875635388474927083889186654100783673702600425094154252102681353174019361271524676838', 'e': '178869259328794882554881732911686902247264411944910662224422449004364215886773788792106758921725031770828863267537294316642902605405229882', 'v': '604551983400037076545649344271279044174547168034526785584375184616029358685070416585307196850178315139797645638201030951207613379276632024549863023191232051149758744637510156803552865642106178384782177084195533179955013563325544884953311953597825230249839563718760128454261230032471654515315226105610052019573789313791684912694094877361332896067565632551045952194881115024503745157809371691522167456751188916843891959763607447158138308333276660839054853039590026812612674483795337360339107078273611413137098616055253466282006656501190730771258332875658845122870457850333789824521938028489779345689242284592233265780679181512238494871092459898903568869542042579284379096894009575248697192782212709246187151347870114597338389928679846945367426964792556249611400908714999190712857997593199850603459918909966197573059719417410850958794032796642516841705989446250781329618480534487995975847839905003830784697088289614555133546', 'm': {'master_secret': '14327599129775563489764549050718856774748999432540682142143192264396111417708389105464653121025745239450375174052922846478051715891999441603572995511196549845893986378116527719754'}, 'm2': '10160716424346227369596933826181842554829742386334000794077264915283268650356184111834795442510195120105521513739518772538296186226191176133802370684836173126575989074682819962603'}, 'ge_proofs': []}, 'non_revoc_proof': None}], 'aggregated_proof': {'c_hash': '11422822972191738674462051356978337734085994563083427257271262957514989881620', 'c_list': [[2, 29, 198, 31, 215, 200, 69, 24, 7, 151, 154, 194, 111, 67, 117, 245, 72, 201, 91, 160, 143, 72, 187, 252, 82, 226, 63, 66, 50, 213, 88, 159, 141, 122, 212, 196, 1, 175, 101, 170, 145, 60, 3, 129, 10, 117, 87, 193, 129, 64, 104, 113, 156, 93, 238, 109, 165, 58, 18, 110, 124, 7, 165, 32, 14, 234, 204, 232, 10, 67, 214, 31, 105, 236, 70, 67, 104, 37, 7, 125, 170, 73, 199, 42, 209, 255, 136, 145, 61, 206, 153, 176, 159, 175, 0, 75, 111, 89, 200, 82, 224, 94, 11, 74, 75, 123, 213, 87, 102, 64, 113, 10, 83, 166, 223, 73, 212, 60, 170, 200, 78, 4, 85, 146, 204, 21, 154, 74, 105, 182, 41, 175, 240, 177, 247, 34, 179, 77, 20, 104, 209, 206, 8, 189, 151, 57, 54, 178, 18, 11, 134, 143, 141, 133, 3, 161, 162, 4, 197, 221, 97, 65, 238, 137, 163, 89, 207, 48, 180, 31, 238, 190, 18, 153, 220, 240, 33, 83, 56, 196, 165, 248, 243, 45, 193, 96, 164, 9, 155, 133, 106, 234, 111, 182, 136, 157, 5, 95, 64, 226, 159, 121, 210, 15, 158, 253, 188, 179, 211, 102, 214, 196, 135, 54, 5, 69, 187, 11, 54, 88, 86, 195, 143, 60, 48, 230, 116, 152, 187, 72, 124, 22, 213, 190, 112, 216, 14, 123, 18, 131, 42, 203, 199, 181, 56, 129, 208, 73, 199, 91, 209, 234, 77, 201, 56, 212, 230]]}}, 'requested_proof': {'revealed_attrs': {'0_dose_uuid': {'sub_proof_index': 0, 'raw': '1', 'encoded': '1'}, '0_volt_uuid': {'sub_proof_index': 0, 'raw': '1', 'encoded': '1'}, '0_type_uuid': {'sub_proof_index': 0, 'raw': 'drug_B', 'encoded': '11675935962789929874023431399931686027968859694189954872134543910143232860966'}, '0_speed_uuid': {'sub_proof_index': 0, 'raw': '1', 'encoded': '1'}}, 'self_attested_attrs': {}, 'unrevealed_attrs': {}, 'predicates': {}}, 'identifiers': [{'schema_id': 'PEcmuSQ7G3z771J7dse1R5:2:Operation:0.0.3', 'cred_def_id': 'PEcmuSQ7G3z771J7dse1R5:3:CL:48:default', 'rev_reg_id': None, 'timestamp': None}]}, 'created_at': '2023-01-05 13:16:36.930559Z', 'verified': 'true', 'initiator': 'self'}\n"
     ]
    }
   ],
   "source": [
    "verify = await agent_controller.proofs.verify_presentation(presentation_exchange_id)\n",
    "print(verify)"
   ]
  },
  {
   "cell_type": "markdown",
   "metadata": {},
   "source": [
    "### 13. Verifying the State\n",
    "\n",
    "Once verified through the agent framework api, the state should be 'verified', otherwise the presentation is invalid."
   ]
  },
  {
   "cell_type": "code",
   "execution_count": 12,
   "metadata": {},
   "outputs": [
    {
     "name": "stdout",
     "output_type": "stream",
     "text": [
      "verified\n",
      "True\n"
     ]
    }
   ],
   "source": [
    "print(verify['state'])\n",
    "print(verify['state'] == 'verified')"
   ]
  },
  {
   "cell_type": "markdown",
   "metadata": {},
   "source": [
    "### 14. Accessing the Revealed Attributes (This is probably talking about how to access the whole data, instead of asking question. Need to be confirmed.)"
   ]
  },
  {
   "cell_type": "code",
   "execution_count": 13,
   "metadata": {},
   "outputs": [],
   "source": [
    "for (name, val) in verify['presentation']['requested_proof']['self_attested_attrs'].items():\n",
    "    print(name)\n",
    "    ## Slightly different for self attested attrs\n",
    "    print(val)"
   ]
  },
  {
   "cell_type": "markdown",
   "metadata": {},
   "source": [
    "### 15. Design the whole medical device computer."
   ]
  },
  {
   "cell_type": "code",
   "execution_count": 27,
   "metadata": {},
   "outputs": [
    {
     "name": "stdout",
     "output_type": "stream",
     "text": [
      "this drug need permission of doctor to inject\n"
     ]
    }
   ],
   "source": [
    "operation = {}\n",
    "for (name, val) in verify['presentation']['requested_proof']['revealed_attrs'].items():\n",
    "    name = name[2:-5]\n",
    "    operation[name] = val['raw']\n",
    "match operation[\"type\"]:\n",
    "    case \"drug_A\":\n",
    "        if int(operation[\"dose\"])<30:\n",
    "            print(f\"inject drug_A {operation['dose']}ml\")\n",
    "        else:\n",
    "            print(\"overdose,please contact the doctor\")\n",
    "        pass\n",
    "    case \"drug_B\":\n",
    "        print(\"this drug need permission of doctor to inject\")\n",
    "    case \"nasogastric tube\":\n",
    "        if int(operation['speed'])<25:\n",
    "            print(f\"adjust the speed to {operation['speed']}\")\n",
    "        else:\n",
    "            print(\"the speed is too high\")\n",
    "    case \"x-ray\":\n",
    "        print(\"X-ray is ready\")\n",
    "    case \"electrotherapy-devise\":\n",
    "        if int(operation['volt'])>30:\n",
    "            print()\n",
    "    case _:\n",
    "        print(\"unknown operation,please check\")\n",
    "        pass\n"
   ]
  },
  {
   "cell_type": "markdown",
   "metadata": {},
   "source": [
    "### **Terminate**"
   ]
  },
  {
   "cell_type": "code",
   "execution_count": null,
   "metadata": {
    "pycharm": {
     "name": "#%%\n"
    }
   },
   "outputs": [],
   "source": [
    "response = await agent_controller.terminate()\n",
    "print(response)"
   ]
  }
 ],
 "metadata": {
  "kernelspec": {
   "display_name": "Python 3 (ipykernel)",
   "language": "python",
   "name": "python3"
  },
  "language_info": {
   "codemirror_mode": {
    "name": "ipython",
    "version": 3
   },
   "file_extension": ".py",
   "mimetype": "text/x-python",
   "name": "python",
   "nbconvert_exporter": "python",
   "pygments_lexer": "ipython3",
   "version": "3.10.8"
  }
 },
 "nbformat": 4,
 "nbformat_minor": 4
}
