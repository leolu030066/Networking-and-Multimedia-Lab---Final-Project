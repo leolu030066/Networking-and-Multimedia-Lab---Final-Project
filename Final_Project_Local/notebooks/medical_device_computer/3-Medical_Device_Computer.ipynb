{
 "cells": [
  {
   "cell_type": "markdown",
   "metadata": {},
   "source": [
    "# Role: Medical Device Computer\n",
    "### This notebook acts like an verifier in blockchain. What we do is to fetch the operation from device wallet. And then, we will examine the operation safety to prevent improper operations from hackers. Finally, we will do the action based the operation."
   ]
  },
  {
   "cell_type": "markdown",
   "metadata": {
    "pycharm": {
     "name": "#%%\n"
    }
   },
   "source": [
    "## 1. Instatiate Controller for Verifiers's Agent"
   ]
  },
  {
   "cell_type": "code",
   "execution_count": 1,
   "metadata": {
    "pycharm": {
     "name": "#%%\n"
    }
   },
   "outputs": [
    {
     "name": "stdout",
     "output_type": "stream",
     "text": [
      "IPython autoawait is `on`, and set to use `asyncio`\n"
     ]
    }
   ],
   "source": [
    "%autoawait\n",
    "import time\n",
    "import asyncio\n",
    "from termcolor import colored,cprint\n",
    "\n",
    "from aries_basic_controller.aries_controller import AriesAgentController\n",
    "\n",
    "WEBHOOK_HOST = \"0.0.0.0\"\n",
    "WEBHOOK_PORT = 7992\n",
    "WEBHOOK_BASE = \"\"\n",
    "ADMIN_URL = \"http://medical_device_computer-agent:7991\"\n",
    "\n",
    "# Based on the aca-py agent you wish to control\n",
    "agent_controller = AriesAgentController(admin_url=ADMIN_URL)\n"
   ]
  },
  {
   "cell_type": "code",
   "execution_count": 2,
   "metadata": {},
   "outputs": [],
   "source": [
    "agent_controller.init_webhook_server(webhook_host=WEBHOOK_HOST,\n",
    "                                     webhook_port=WEBHOOK_PORT,\n",
    "                                     webhook_base=WEBHOOK_BASE)"
   ]
  },
  {
   "cell_type": "markdown",
   "metadata": {},
   "source": [
    "## 2. Register Listeners\n",
    "\n",
    "The handler should get called every time the controller receives a webhook with the topic present_proof, printing out the payload. The agent calls to this webhook every time it receives a present proof protocol message from another agent. \n"
   ]
  },
  {
   "cell_type": "code",
   "execution_count": 3,
   "metadata": {
    "pycharm": {
     "name": "#%%\n"
    }
   },
   "outputs": [
    {
     "name": "stdout",
     "output_type": "stream",
     "text": [
      "Subscribing too: connections\n",
      "Subscribing too: present_proof\n"
     ]
    }
   ],
   "source": [
    "loop = asyncio.get_event_loop()\n",
    "loop.create_task(agent_controller.listen_webhooks())\n",
    "\n",
    "def connections_handler(payload):\n",
    "    global STATE\n",
    "    connection_id = payload[\"connection_id\"]\n",
    "    print(\"Connection message\", payload, connection_id)\n",
    "    STATE = payload['state']\n",
    "    if STATE == 'active':\n",
    "#         print('Connection {0} changed state to active'.format(connection_id))\n",
    "        print(colored(\"Connection {0} changed state to active\".format(connection_id), \"red\", attrs=[\"bold\"]))\n",
    "\n",
    "\n",
    "connection_listener = {\n",
    "    \"handler\": connections_handler,\n",
    "    \"topic\": \"connections\"\n",
    "}\n",
    "\n",
    "def proof_handler(payload):\n",
    "    print(\"Handle present proof\")\n",
    "    print(payload)\n",
    "\n",
    "proof_listener = {\n",
    "    \"topic\": \"present_proof\",\n",
    "    \"handler\": proof_handler\n",
    "}\n",
    "\n",
    "agent_controller.register_listeners([connection_listener,proof_listener], defaults=True)\n",
    "\n"
   ]
  },
  {
   "cell_type": "markdown",
   "metadata": {},
   "source": [
    "### 3. Check connection"
   ]
  },
  {
   "cell_type": "code",
   "execution_count": 4,
   "metadata": {},
   "outputs": [
    {
     "name": "stdout",
     "output_type": "stream",
     "text": [
      "EXISTING CONNECTIONS\n",
      "ConnectionID: 9f6336e4-6627-4834-b796-f2a42f6ca03d Status: active\n"
     ]
    }
   ],
   "source": [
    "# Check for existing connections\n",
    "connection = await agent_controller.connections.get_connections()\n",
    "print(\"EXISTING CONNECTIONS\")\n",
    "for key, value in connection.items():\n",
    "    for item in value:\n",
    "        print('ConnectionID:', item['connection_id'], 'Status:',item['state'])\n",
    "        connection_id = item['connection_id']"
   ]
  },
  {
   "cell_type": "markdown",
   "metadata": {},
   "source": [
    "### 4. Create proof request"
   ]
  },
  {
   "cell_type": "code",
   "execution_count": 5,
   "metadata": {
    "pycharm": {
     "name": "#%%\n"
    }
   },
   "outputs": [
    {
     "name": "stdout",
     "output_type": "stream",
     "text": [
      "Request proof of Fullname and Age range from Identity Holder\n"
     ]
    }
   ],
   "source": [
    "#please modidy the corresponding credential id in hospital-issue-device part\n",
    "hospital_did = 'PEcmuSQ7G3z771J7dse1R5'\n",
    "\n",
    "# schema_id = 'EuEtnVakYFyBtGFT1nHYtH:2:SSI PyDentity Tutorial:0.0.1' \n",
    "\n",
    "print(\"Request proof of Fullname and Age range from Identity Holder\")\n",
    "#Set some variables\n",
    "\n",
    "exchange_tracing = False\n",
    "\n",
    "req_attrs = [\n",
    "    {\"name\": \"type\", \"restrictions\": [{\"issuer_did\": hospital_did}]},\n",
    "    {\"name\": \"dose\", \"restrictions\": [{\"issuer_did\": hospital_did}]},\n",
    "    {\"name\": \"speed\", \"restrictions\": [{\"issuer_did\": hospital_did}]},\n",
    "    {\"name\": \"volt\", \"restrictions\": [{\"issuer_did\": hospital_did}]}\n",
    "]\n",
    "\n",
    "req_preds = []\n",
    "\n",
    "\n",
    "indy_proof_request = {\n",
    "    \"name\": \"Proof of Completion of PyDentity SSI Tutorial\",\n",
    "    \"version\": \"1.0\",\n",
    "    \"requested_attributes\": {\n",
    "        f\"0_{req_attr['name']}_uuid\":\n",
    "        req_attr for req_attr in req_attrs\n",
    "    },\n",
    "    \"requested_predicates\": {\n",
    "        f\"0_{req_pred['name']}_GE_uuid\":\n",
    "        req_pred for req_pred in req_preds\n",
    "    },\n",
    "}\n",
    "\n",
    "\n",
    "#proof_request = indy_proof_request\n",
    "exchange_tracing_id = exchange_tracing\n",
    "proof_request_web_request = {\n",
    "    \"connection_id\": connection_id,\n",
    "    \"proof_request\": indy_proof_request,\n",
    "    \"trace\": exchange_tracing,\n",
    "}"
   ]
  },
  {
   "cell_type": "markdown",
   "metadata": {},
   "source": [
    "### 5. Go to the_wallet notebook to setup"
   ]
  },
  {
   "cell_type": "markdown",
   "metadata": {},
   "source": [
    "### 8. Send the proof request to Identity Holder\n",
    "\n",
    "Identity Holder is identified through the connection_id"
   ]
  },
  {
   "cell_type": "code",
   "execution_count": 6,
   "metadata": {
    "pycharm": {
     "name": "#%%\n"
    }
   },
   "outputs": [
    {
     "name": "stdout",
     "output_type": "stream",
     "text": [
      "{'created_at': '2023-01-06 05:14:46.531239Z', 'initiator': 'self', 'auto_present': False, 'state': 'request_sent', 'presentation_request': {'name': 'Proof of Completion of PyDentity SSI Tutorial', 'version': '1.0', 'requested_attributes': {'0_type_uuid': {'name': 'type', 'restrictions': [{'issuer_did': 'PEcmuSQ7G3z771J7dse1R5'}]}, '0_dose_uuid': {'name': 'dose', 'restrictions': [{'issuer_did': 'PEcmuSQ7G3z771J7dse1R5'}]}, '0_speed_uuid': {'name': 'speed', 'restrictions': [{'issuer_did': 'PEcmuSQ7G3z771J7dse1R5'}]}, '0_volt_uuid': {'name': 'volt', 'restrictions': [{'issuer_did': 'PEcmuSQ7G3z771J7dse1R5'}]}}, 'requested_predicates': {}, 'nonce': '897404293099002789488009'}, 'presentation_exchange_id': 'ebb6014e-f748-4da3-97df-b79ce41b23b6', 'role': 'verifier', 'presentation_request_dict': {'@type': 'did:sov:BzCbsNYhMrjHiqZDTUASHg;spec/present-proof/1.0/request-presentation', '@id': '33992292-05e7-4dd3-8005-38fb5b3414c3', 'request_presentations~attach': [{'@id': 'libindy-request-presentation-0', 'mime-type': 'application/json', 'data': {'base64': 'eyJuYW1lIjogIlByb29mIG9mIENvbXBsZXRpb24gb2YgUHlEZW50aXR5IFNTSSBUdXRvcmlhbCIsICJ2ZXJzaW9uIjogIjEuMCIsICJyZXF1ZXN0ZWRfYXR0cmlidXRlcyI6IHsiMF90eXBlX3V1aWQiOiB7Im5hbWUiOiAidHlwZSIsICJyZXN0cmljdGlvbnMiOiBbeyJpc3N1ZXJfZGlkIjogIlBFY211U1E3RzN6NzcxSjdkc2UxUjUifV19LCAiMF9kb3NlX3V1aWQiOiB7Im5hbWUiOiAiZG9zZSIsICJyZXN0cmljdGlvbnMiOiBbeyJpc3N1ZXJfZGlkIjogIlBFY211U1E3RzN6NzcxSjdkc2UxUjUifV19LCAiMF9zcGVlZF91dWlkIjogeyJuYW1lIjogInNwZWVkIiwgInJlc3RyaWN0aW9ucyI6IFt7Imlzc3Vlcl9kaWQiOiAiUEVjbXVTUTdHM3o3NzFKN2RzZTFSNSJ9XX0sICIwX3ZvbHRfdXVpZCI6IHsibmFtZSI6ICJ2b2x0IiwgInJlc3RyaWN0aW9ucyI6IFt7Imlzc3Vlcl9kaWQiOiAiUEVjbXVTUTdHM3o3NzFKN2RzZTFSNSJ9XX19LCAicmVxdWVzdGVkX3ByZWRpY2F0ZXMiOiB7fSwgIm5vbmNlIjogIjg5NzQwNDI5MzA5OTAwMjc4OTQ4ODAwOSJ9'}}]}, 'trace': False, 'connection_id': '9f6336e4-6627-4834-b796-f2a42f6ca03d', 'thread_id': '33992292-05e7-4dd3-8005-38fb5b3414c3', 'updated_at': '2023-01-06 05:14:46.531239Z'}\n",
      "\n",
      "\n",
      "ebb6014e-f748-4da3-97df-b79ce41b23b6\n",
      "Handle present proof\n",
      "{'created_at': '2023-01-06 05:14:46.531239Z', 'initiator': 'self', 'auto_present': False, 'state': 'request_sent', 'presentation_request': {'name': 'Proof of Completion of PyDentity SSI Tutorial', 'version': '1.0', 'requested_attributes': {'0_type_uuid': {'name': 'type', 'restrictions': [{'issuer_did': 'PEcmuSQ7G3z771J7dse1R5'}]}, '0_dose_uuid': {'name': 'dose', 'restrictions': [{'issuer_did': 'PEcmuSQ7G3z771J7dse1R5'}]}, '0_speed_uuid': {'name': 'speed', 'restrictions': [{'issuer_did': 'PEcmuSQ7G3z771J7dse1R5'}]}, '0_volt_uuid': {'name': 'volt', 'restrictions': [{'issuer_did': 'PEcmuSQ7G3z771J7dse1R5'}]}}, 'requested_predicates': {}, 'nonce': '897404293099002789488009'}, 'presentation_exchange_id': 'ebb6014e-f748-4da3-97df-b79ce41b23b6', 'role': 'verifier', 'presentation_request_dict': {'@type': 'did:sov:BzCbsNYhMrjHiqZDTUASHg;spec/present-proof/1.0/request-presentation', '@id': '33992292-05e7-4dd3-8005-38fb5b3414c3', 'request_presentations~attach': [{'@id': 'libindy-request-presentation-0', 'mime-type': 'application/json', 'data': {'base64': 'eyJuYW1lIjogIlByb29mIG9mIENvbXBsZXRpb24gb2YgUHlEZW50aXR5IFNTSSBUdXRvcmlhbCIsICJ2ZXJzaW9uIjogIjEuMCIsICJyZXF1ZXN0ZWRfYXR0cmlidXRlcyI6IHsiMF90eXBlX3V1aWQiOiB7Im5hbWUiOiAidHlwZSIsICJyZXN0cmljdGlvbnMiOiBbeyJpc3N1ZXJfZGlkIjogIlBFY211U1E3RzN6NzcxSjdkc2UxUjUifV19LCAiMF9kb3NlX3V1aWQiOiB7Im5hbWUiOiAiZG9zZSIsICJyZXN0cmljdGlvbnMiOiBbeyJpc3N1ZXJfZGlkIjogIlBFY211U1E3RzN6NzcxSjdkc2UxUjUifV19LCAiMF9zcGVlZF91dWlkIjogeyJuYW1lIjogInNwZWVkIiwgInJlc3RyaWN0aW9ucyI6IFt7Imlzc3Vlcl9kaWQiOiAiUEVjbXVTUTdHM3o3NzFKN2RzZTFSNSJ9XX0sICIwX3ZvbHRfdXVpZCI6IHsibmFtZSI6ICJ2b2x0IiwgInJlc3RyaWN0aW9ucyI6IFt7Imlzc3Vlcl9kaWQiOiAiUEVjbXVTUTdHM3o3NzFKN2RzZTFSNSJ9XX19LCAicmVxdWVzdGVkX3ByZWRpY2F0ZXMiOiB7fSwgIm5vbmNlIjogIjg5NzQwNDI5MzA5OTAwMjc4OTQ4ODAwOSJ9'}}]}, 'trace': False, 'connection_id': '9f6336e4-6627-4834-b796-f2a42f6ca03d', 'thread_id': '33992292-05e7-4dd3-8005-38fb5b3414c3', 'updated_at': '2023-01-06 05:14:46.531239Z'}\n",
      "Handle present proof\n",
      "{'created_at': '2023-01-06 05:14:46.531239Z', 'initiator': 'self', 'auto_present': False, 'state': 'presentation_received', 'presentation_request': {'name': 'Proof of Completion of PyDentity SSI Tutorial', 'version': '1.0', 'requested_attributes': {'0_type_uuid': {'name': 'type', 'restrictions': [{'issuer_did': 'PEcmuSQ7G3z771J7dse1R5'}]}, '0_dose_uuid': {'name': 'dose', 'restrictions': [{'issuer_did': 'PEcmuSQ7G3z771J7dse1R5'}]}, '0_speed_uuid': {'name': 'speed', 'restrictions': [{'issuer_did': 'PEcmuSQ7G3z771J7dse1R5'}]}, '0_volt_uuid': {'name': 'volt', 'restrictions': [{'issuer_did': 'PEcmuSQ7G3z771J7dse1R5'}]}}, 'requested_predicates': {}, 'nonce': '897404293099002789488009'}, 'presentation_exchange_id': 'ebb6014e-f748-4da3-97df-b79ce41b23b6', 'role': 'verifier', 'presentation_request_dict': {'@type': 'did:sov:BzCbsNYhMrjHiqZDTUASHg;spec/present-proof/1.0/request-presentation', '@id': '33992292-05e7-4dd3-8005-38fb5b3414c3', 'request_presentations~attach': [{'@id': 'libindy-request-presentation-0', 'mime-type': 'application/json', 'data': {'base64': 'eyJuYW1lIjogIlByb29mIG9mIENvbXBsZXRpb24gb2YgUHlEZW50aXR5IFNTSSBUdXRvcmlhbCIsICJ2ZXJzaW9uIjogIjEuMCIsICJyZXF1ZXN0ZWRfYXR0cmlidXRlcyI6IHsiMF90eXBlX3V1aWQiOiB7Im5hbWUiOiAidHlwZSIsICJyZXN0cmljdGlvbnMiOiBbeyJpc3N1ZXJfZGlkIjogIlBFY211U1E3RzN6NzcxSjdkc2UxUjUifV19LCAiMF9kb3NlX3V1aWQiOiB7Im5hbWUiOiAiZG9zZSIsICJyZXN0cmljdGlvbnMiOiBbeyJpc3N1ZXJfZGlkIjogIlBFY211U1E3RzN6NzcxSjdkc2UxUjUifV19LCAiMF9zcGVlZF91dWlkIjogeyJuYW1lIjogInNwZWVkIiwgInJlc3RyaWN0aW9ucyI6IFt7Imlzc3Vlcl9kaWQiOiAiUEVjbXVTUTdHM3o3NzFKN2RzZTFSNSJ9XX0sICIwX3ZvbHRfdXVpZCI6IHsibmFtZSI6ICJ2b2x0IiwgInJlc3RyaWN0aW9ucyI6IFt7Imlzc3Vlcl9kaWQiOiAiUEVjbXVTUTdHM3o3NzFKN2RzZTFSNSJ9XX19LCAicmVxdWVzdGVkX3ByZWRpY2F0ZXMiOiB7fSwgIm5vbmNlIjogIjg5NzQwNDI5MzA5OTAwMjc4OTQ4ODAwOSJ9'}}]}, 'trace': False, 'presentation': {'proof': {'proofs': [{'primary_proof': {'eq_proof': {'revealed_attrs': {'dose': '1', 'speed': '1', 'type': '20329588659696712139452057791839440126770655946256480123031167095057392378856', 'volt': '1'}, 'a_prime': '54000039378091334060597009980429758870132706977423500199068756820224221864890020778347475876658665487967213375145730130136333295106366405572987985920234335595724641302898664316303217614136118259709536048341600102531313643951505016940687278628903009618410010549287000887128020434766676560965868420474850873612028631099766349633721988493956223145917964616922763871387119367055755685893878457286612978250253649365238026215204849014054342376650166840014495819904619320845988018531896058937750867791959832637790856648675400996052020996481422458993059050637794383746494896793639021904690859705587846370138884123488037663954', 'e': '168207335993333731365256195638522455332951426811246386753746828728617791735276502739758214256876109461032652589103788595641641205233262291', 'v': '1346433468682752442869537264146320959917945387227254668875324319936103236367980871046009981453799799311182096105855047876990044080523918228550190825423628933594720292704300865298363922055361340748254229434112295634803912658472677031876801711692290925162930139375439888449387907205293457144592917884389670068646148272700173806952993403777145668564564131176401778098678370383909706663534698963085068039205479904501053045637828864363348238675386053738481337983012278273574021878400758547528272169920749998372659120182799954640382960952478054911201593046022919243311966089536200998318251761485293855018878515644370565568800751748550385407040248946621705190388335030865439927396109100780268456603136905676446315944206567512783686278133907076474561016622806187113704541159619701469770464899184521974723675762909376084268862606542033676671278099544352993980469797835255643480821502155750942663577355374221319369029478425993888628', 'm': {'master_secret': '12523026693260627246954529785418084800283893722086099979640433287224335825871399900721173188632201078814159983361220025116213640174901426079907360788844483697207032529638573302294'}, 'm2': '12082518276800109886725007491664741324149682146849000330165103567469453532529278906019821852938792407633895635746677865188561877772555433626406963014944874566615768792847818761118'}, 'ge_proofs': []}, 'non_revoc_proof': None}], 'aggregated_proof': {'c_hash': '71017939829325134344412849561315150255845062530512836001010460765027518331846', 'c_list': [[1, 171, 195, 64, 238, 113, 24, 37, 81, 218, 42, 129, 98, 197, 131, 106, 251, 178, 59, 233, 154, 103, 50, 222, 32, 27, 93, 220, 201, 33, 248, 117, 75, 183, 145, 201, 183, 143, 74, 128, 207, 229, 243, 40, 1, 55, 31, 40, 91, 66, 87, 25, 120, 130, 144, 34, 17, 192, 224, 42, 185, 3, 97, 205, 59, 23, 61, 111, 72, 22, 87, 214, 188, 55, 215, 7, 51, 5, 133, 137, 42, 212, 186, 158, 59, 120, 134, 15, 98, 131, 255, 119, 200, 51, 250, 3, 63, 49, 66, 218, 207, 18, 83, 112, 231, 17, 104, 163, 39, 7, 32, 46, 222, 194, 57, 254, 4, 91, 144, 102, 14, 223, 1, 251, 157, 156, 142, 249, 119, 176, 254, 216, 80, 197, 88, 56, 51, 48, 99, 32, 229, 141, 207, 205, 18, 227, 148, 158, 185, 244, 94, 224, 75, 62, 107, 192, 223, 145, 114, 171, 95, 175, 143, 60, 163, 205, 226, 228, 35, 202, 16, 111, 169, 164, 61, 171, 101, 135, 15, 106, 247, 201, 36, 170, 35, 208, 193, 10, 82, 129, 192, 68, 171, 13, 18, 185, 182, 94, 225, 41, 204, 195, 100, 198, 7, 4, 39, 191, 235, 70, 49, 22, 132, 88, 175, 114, 206, 95, 18, 78, 240, 142, 96, 195, 131, 27, 184, 146, 56, 192, 246, 89, 241, 212, 225, 15, 229, 198, 145, 66, 193, 201, 189, 43, 140, 81, 28, 8, 180, 26, 5, 225, 47, 15, 56, 116, 210]]}}, 'requested_proof': {'revealed_attrs': {'0_type_uuid': {'sub_proof_index': 0, 'raw': 'drug_A', 'encoded': '20329588659696712139452057791839440126770655946256480123031167095057392378856'}, '0_dose_uuid': {'sub_proof_index': 0, 'raw': '1', 'encoded': '1'}, '0_volt_uuid': {'sub_proof_index': 0, 'raw': '1', 'encoded': '1'}, '0_speed_uuid': {'sub_proof_index': 0, 'raw': '1', 'encoded': '1'}}, 'self_attested_attrs': {}, 'unrevealed_attrs': {}, 'predicates': {}}, 'identifiers': [{'schema_id': 'PEcmuSQ7G3z771J7dse1R5:2:Operation:0.0.5', 'cred_def_id': 'PEcmuSQ7G3z771J7dse1R5:3:CL:87:default', 'rev_reg_id': None, 'timestamp': None}]}, 'connection_id': '9f6336e4-6627-4834-b796-f2a42f6ca03d', 'thread_id': '33992292-05e7-4dd3-8005-38fb5b3414c3', 'updated_at': '2023-01-06 05:14:57.714541Z'}\n"
     ]
    }
   ],
   "source": [
    "response = await agent_controller.proofs.send_request(proof_request_web_request)\n",
    "print(response)\n",
    "presentation_exchange_id = response['presentation_exchange_id']\n",
    "print(\"\\n\")\n",
    "print(presentation_exchange_id)\n"
   ]
  },
  {
   "cell_type": "markdown",
   "metadata": {},
   "source": [
    "### 9. Go to the_wallet notebook to send verify response"
   ]
  },
  {
   "cell_type": "markdown",
   "metadata": {},
   "source": [
    "### 12. Verify Proof Presentation\n",
    "\n",
    "This is checking the signatures on the credentials presented against the credential schema and definition id stored and resolvable on the ledger. It is a bit of a big complicated object, so we show the common pattern for breaking it down, checking it's verified and accessing the data that has been presented."
   ]
  },
  {
   "cell_type": "code",
   "execution_count": 7,
   "metadata": {
    "pycharm": {
     "name": "#%%\n"
    }
   },
   "outputs": [
    {
     "name": "stdout",
     "output_type": "stream",
     "text": [
      "Handle present proof\n",
      "{'created_at': '2023-01-06 05:14:46.531239Z', 'initiator': 'self', 'auto_present': False, 'state': 'verified', 'verified': 'true', 'presentation_request': {'name': 'Proof of Completion of PyDentity SSI Tutorial', 'version': '1.0', 'requested_attributes': {'0_type_uuid': {'name': 'type', 'restrictions': [{'issuer_did': 'PEcmuSQ7G3z771J7dse1R5'}]}, '0_dose_uuid': {'name': 'dose', 'restrictions': [{'issuer_did': 'PEcmuSQ7G3z771J7dse1R5'}]}, '0_speed_uuid': {'name': 'speed', 'restrictions': [{'issuer_did': 'PEcmuSQ7G3z771J7dse1R5'}]}, '0_volt_uuid': {'name': 'volt', 'restrictions': [{'issuer_did': 'PEcmuSQ7G3z771J7dse1R5'}]}}, 'requested_predicates': {}, 'nonce': '897404293099002789488009'}, 'presentation_exchange_id': 'ebb6014e-f748-4da3-97df-b79ce41b23b6', 'role': 'verifier', 'presentation_request_dict': {'@type': 'did:sov:BzCbsNYhMrjHiqZDTUASHg;spec/present-proof/1.0/request-presentation', '@id': '33992292-05e7-4dd3-8005-38fb5b3414c3', 'request_presentations~attach': [{'@id': 'libindy-request-presentation-0', 'mime-type': 'application/json', 'data': {'base64': 'eyJuYW1lIjogIlByb29mIG9mIENvbXBsZXRpb24gb2YgUHlEZW50aXR5IFNTSSBUdXRvcmlhbCIsICJ2ZXJzaW9uIjogIjEuMCIsICJyZXF1ZXN0ZWRfYXR0cmlidXRlcyI6IHsiMF90eXBlX3V1aWQiOiB7Im5hbWUiOiAidHlwZSIsICJyZXN0cmljdGlvbnMiOiBbeyJpc3N1ZXJfZGlkIjogIlBFY211U1E3RzN6NzcxSjdkc2UxUjUifV19LCAiMF9kb3NlX3V1aWQiOiB7Im5hbWUiOiAiZG9zZSIsICJyZXN0cmljdGlvbnMiOiBbeyJpc3N1ZXJfZGlkIjogIlBFY211U1E3RzN6NzcxSjdkc2UxUjUifV19LCAiMF9zcGVlZF91dWlkIjogeyJuYW1lIjogInNwZWVkIiwgInJlc3RyaWN0aW9ucyI6IFt7Imlzc3Vlcl9kaWQiOiAiUEVjbXVTUTdHM3o3NzFKN2RzZTFSNSJ9XX0sICIwX3ZvbHRfdXVpZCI6IHsibmFtZSI6ICJ2b2x0IiwgInJlc3RyaWN0aW9ucyI6IFt7Imlzc3Vlcl9kaWQiOiAiUEVjbXVTUTdHM3o3NzFKN2RzZTFSNSJ9XX19LCAicmVxdWVzdGVkX3ByZWRpY2F0ZXMiOiB7fSwgIm5vbmNlIjogIjg5NzQwNDI5MzA5OTAwMjc4OTQ4ODAwOSJ9'}}]}, 'trace': False, 'presentation': {'proof': {'proofs': [{'primary_proof': {'eq_proof': {'revealed_attrs': {'dose': '1', 'speed': '1', 'type': '20329588659696712139452057791839440126770655946256480123031167095057392378856', 'volt': '1'}, 'a_prime': '54000039378091334060597009980429758870132706977423500199068756820224221864890020778347475876658665487967213375145730130136333295106366405572987985920234335595724641302898664316303217614136118259709536048341600102531313643951505016940687278628903009618410010549287000887128020434766676560965868420474850873612028631099766349633721988493956223145917964616922763871387119367055755685893878457286612978250253649365238026215204849014054342376650166840014495819904619320845988018531896058937750867791959832637790856648675400996052020996481422458993059050637794383746494896793639021904690859705587846370138884123488037663954', 'e': '168207335993333731365256195638522455332951426811246386753746828728617791735276502739758214256876109461032652589103788595641641205233262291', 'v': '1346433468682752442869537264146320959917945387227254668875324319936103236367980871046009981453799799311182096105855047876990044080523918228550190825423628933594720292704300865298363922055361340748254229434112295634803912658472677031876801711692290925162930139375439888449387907205293457144592917884389670068646148272700173806952993403777145668564564131176401778098678370383909706663534698963085068039205479904501053045637828864363348238675386053738481337983012278273574021878400758547528272169920749998372659120182799954640382960952478054911201593046022919243311966089536200998318251761485293855018878515644370565568800751748550385407040248946621705190388335030865439927396109100780268456603136905676446315944206567512783686278133907076474561016622806187113704541159619701469770464899184521974723675762909376084268862606542033676671278099544352993980469797835255643480821502155750942663577355374221319369029478425993888628', 'm': {'master_secret': '12523026693260627246954529785418084800283893722086099979640433287224335825871399900721173188632201078814159983361220025116213640174901426079907360788844483697207032529638573302294'}, 'm2': '12082518276800109886725007491664741324149682146849000330165103567469453532529278906019821852938792407633895635746677865188561877772555433626406963014944874566615768792847818761118'}, 'ge_proofs': []}, 'non_revoc_proof': None}], 'aggregated_proof': {'c_hash': '71017939829325134344412849561315150255845062530512836001010460765027518331846', 'c_list': [[1, 171, 195, 64, 238, 113, 24, 37, 81, 218, 42, 129, 98, 197, 131, 106, 251, 178, 59, 233, 154, 103, 50, 222, 32, 27, 93, 220, 201, 33, 248, 117, 75, 183, 145, 201, 183, 143, 74, 128, 207, 229, 243, 40, 1, 55, 31, 40, 91, 66, 87, 25, 120, 130, 144, 34, 17, 192, 224, 42, 185, 3, 97, 205, 59, 23, 61, 111, 72, 22, 87, 214, 188, 55, 215, 7, 51, 5, 133, 137, 42, 212, 186, 158, 59, 120, 134, 15, 98, 131, 255, 119, 200, 51, 250, 3, 63, 49, 66, 218, 207, 18, 83, 112, 231, 17, 104, 163, 39, 7, 32, 46, 222, 194, 57, 254, 4, 91, 144, 102, 14, 223, 1, 251, 157, 156, 142, 249, 119, 176, 254, 216, 80, 197, 88, 56, 51, 48, 99, 32, 229, 141, 207, 205, 18, 227, 148, 158, 185, 244, 94, 224, 75, 62, 107, 192, 223, 145, 114, 171, 95, 175, 143, 60, 163, 205, 226, 228, 35, 202, 16, 111, 169, 164, 61, 171, 101, 135, 15, 106, 247, 201, 36, 170, 35, 208, 193, 10, 82, 129, 192, 68, 171, 13, 18, 185, 182, 94, 225, 41, 204, 195, 100, 198, 7, 4, 39, 191, 235, 70, 49, 22, 132, 88, 175, 114, 206, 95, 18, 78, 240, 142, 96, 195, 131, 27, 184, 146, 56, 192, 246, 89, 241, 212, 225, 15, 229, 198, 145, 66, 193, 201, 189, 43, 140, 81, 28, 8, 180, 26, 5, 225, 47, 15, 56, 116, 210]]}}, 'requested_proof': {'revealed_attrs': {'0_type_uuid': {'sub_proof_index': 0, 'raw': 'drug_A', 'encoded': '20329588659696712139452057791839440126770655946256480123031167095057392378856'}, '0_dose_uuid': {'sub_proof_index': 0, 'raw': '1', 'encoded': '1'}, '0_volt_uuid': {'sub_proof_index': 0, 'raw': '1', 'encoded': '1'}, '0_speed_uuid': {'sub_proof_index': 0, 'raw': '1', 'encoded': '1'}}, 'self_attested_attrs': {}, 'unrevealed_attrs': {}, 'predicates': {}}, 'identifiers': [{'schema_id': 'PEcmuSQ7G3z771J7dse1R5:2:Operation:0.0.5', 'cred_def_id': 'PEcmuSQ7G3z771J7dse1R5:3:CL:87:default', 'rev_reg_id': None, 'timestamp': None}]}, 'connection_id': '9f6336e4-6627-4834-b796-f2a42f6ca03d', 'thread_id': '33992292-05e7-4dd3-8005-38fb5b3414c3', 'updated_at': '2023-01-06 05:15:02.284935Z'}\n",
      "{'created_at': '2023-01-06 05:14:46.531239Z', 'initiator': 'self', 'auto_present': False, 'state': 'verified', 'verified': 'true', 'presentation_request': {'name': 'Proof of Completion of PyDentity SSI Tutorial', 'version': '1.0', 'requested_attributes': {'0_type_uuid': {'name': 'type', 'restrictions': [{'issuer_did': 'PEcmuSQ7G3z771J7dse1R5'}]}, '0_dose_uuid': {'name': 'dose', 'restrictions': [{'issuer_did': 'PEcmuSQ7G3z771J7dse1R5'}]}, '0_speed_uuid': {'name': 'speed', 'restrictions': [{'issuer_did': 'PEcmuSQ7G3z771J7dse1R5'}]}, '0_volt_uuid': {'name': 'volt', 'restrictions': [{'issuer_did': 'PEcmuSQ7G3z771J7dse1R5'}]}}, 'requested_predicates': {}, 'nonce': '897404293099002789488009'}, 'presentation_exchange_id': 'ebb6014e-f748-4da3-97df-b79ce41b23b6', 'role': 'verifier', 'presentation_request_dict': {'@type': 'did:sov:BzCbsNYhMrjHiqZDTUASHg;spec/present-proof/1.0/request-presentation', '@id': '33992292-05e7-4dd3-8005-38fb5b3414c3', 'request_presentations~attach': [{'@id': 'libindy-request-presentation-0', 'mime-type': 'application/json', 'data': {'base64': 'eyJuYW1lIjogIlByb29mIG9mIENvbXBsZXRpb24gb2YgUHlEZW50aXR5IFNTSSBUdXRvcmlhbCIsICJ2ZXJzaW9uIjogIjEuMCIsICJyZXF1ZXN0ZWRfYXR0cmlidXRlcyI6IHsiMF90eXBlX3V1aWQiOiB7Im5hbWUiOiAidHlwZSIsICJyZXN0cmljdGlvbnMiOiBbeyJpc3N1ZXJfZGlkIjogIlBFY211U1E3RzN6NzcxSjdkc2UxUjUifV19LCAiMF9kb3NlX3V1aWQiOiB7Im5hbWUiOiAiZG9zZSIsICJyZXN0cmljdGlvbnMiOiBbeyJpc3N1ZXJfZGlkIjogIlBFY211U1E3RzN6NzcxSjdkc2UxUjUifV19LCAiMF9zcGVlZF91dWlkIjogeyJuYW1lIjogInNwZWVkIiwgInJlc3RyaWN0aW9ucyI6IFt7Imlzc3Vlcl9kaWQiOiAiUEVjbXVTUTdHM3o3NzFKN2RzZTFSNSJ9XX0sICIwX3ZvbHRfdXVpZCI6IHsibmFtZSI6ICJ2b2x0IiwgInJlc3RyaWN0aW9ucyI6IFt7Imlzc3Vlcl9kaWQiOiAiUEVjbXVTUTdHM3o3NzFKN2RzZTFSNSJ9XX19LCAicmVxdWVzdGVkX3ByZWRpY2F0ZXMiOiB7fSwgIm5vbmNlIjogIjg5NzQwNDI5MzA5OTAwMjc4OTQ4ODAwOSJ9'}}]}, 'trace': False, 'presentation': {'proof': {'proofs': [{'primary_proof': {'eq_proof': {'revealed_attrs': {'dose': '1', 'speed': '1', 'type': '20329588659696712139452057791839440126770655946256480123031167095057392378856', 'volt': '1'}, 'a_prime': '54000039378091334060597009980429758870132706977423500199068756820224221864890020778347475876658665487967213375145730130136333295106366405572987985920234335595724641302898664316303217614136118259709536048341600102531313643951505016940687278628903009618410010549287000887128020434766676560965868420474850873612028631099766349633721988493956223145917964616922763871387119367055755685893878457286612978250253649365238026215204849014054342376650166840014495819904619320845988018531896058937750867791959832637790856648675400996052020996481422458993059050637794383746494896793639021904690859705587846370138884123488037663954', 'e': '168207335993333731365256195638522455332951426811246386753746828728617791735276502739758214256876109461032652589103788595641641205233262291', 'v': '1346433468682752442869537264146320959917945387227254668875324319936103236367980871046009981453799799311182096105855047876990044080523918228550190825423628933594720292704300865298363922055361340748254229434112295634803912658472677031876801711692290925162930139375439888449387907205293457144592917884389670068646148272700173806952993403777145668564564131176401778098678370383909706663534698963085068039205479904501053045637828864363348238675386053738481337983012278273574021878400758547528272169920749998372659120182799954640382960952478054911201593046022919243311966089536200998318251761485293855018878515644370565568800751748550385407040248946621705190388335030865439927396109100780268456603136905676446315944206567512783686278133907076474561016622806187113704541159619701469770464899184521974723675762909376084268862606542033676671278099544352993980469797835255643480821502155750942663577355374221319369029478425993888628', 'm': {'master_secret': '12523026693260627246954529785418084800283893722086099979640433287224335825871399900721173188632201078814159983361220025116213640174901426079907360788844483697207032529638573302294'}, 'm2': '12082518276800109886725007491664741324149682146849000330165103567469453532529278906019821852938792407633895635746677865188561877772555433626406963014944874566615768792847818761118'}, 'ge_proofs': []}, 'non_revoc_proof': None}], 'aggregated_proof': {'c_hash': '71017939829325134344412849561315150255845062530512836001010460765027518331846', 'c_list': [[1, 171, 195, 64, 238, 113, 24, 37, 81, 218, 42, 129, 98, 197, 131, 106, 251, 178, 59, 233, 154, 103, 50, 222, 32, 27, 93, 220, 201, 33, 248, 117, 75, 183, 145, 201, 183, 143, 74, 128, 207, 229, 243, 40, 1, 55, 31, 40, 91, 66, 87, 25, 120, 130, 144, 34, 17, 192, 224, 42, 185, 3, 97, 205, 59, 23, 61, 111, 72, 22, 87, 214, 188, 55, 215, 7, 51, 5, 133, 137, 42, 212, 186, 158, 59, 120, 134, 15, 98, 131, 255, 119, 200, 51, 250, 3, 63, 49, 66, 218, 207, 18, 83, 112, 231, 17, 104, 163, 39, 7, 32, 46, 222, 194, 57, 254, 4, 91, 144, 102, 14, 223, 1, 251, 157, 156, 142, 249, 119, 176, 254, 216, 80, 197, 88, 56, 51, 48, 99, 32, 229, 141, 207, 205, 18, 227, 148, 158, 185, 244, 94, 224, 75, 62, 107, 192, 223, 145, 114, 171, 95, 175, 143, 60, 163, 205, 226, 228, 35, 202, 16, 111, 169, 164, 61, 171, 101, 135, 15, 106, 247, 201, 36, 170, 35, 208, 193, 10, 82, 129, 192, 68, 171, 13, 18, 185, 182, 94, 225, 41, 204, 195, 100, 198, 7, 4, 39, 191, 235, 70, 49, 22, 132, 88, 175, 114, 206, 95, 18, 78, 240, 142, 96, 195, 131, 27, 184, 146, 56, 192, 246, 89, 241, 212, 225, 15, 229, 198, 145, 66, 193, 201, 189, 43, 140, 81, 28, 8, 180, 26, 5, 225, 47, 15, 56, 116, 210]]}}, 'requested_proof': {'revealed_attrs': {'0_type_uuid': {'sub_proof_index': 0, 'raw': 'drug_A', 'encoded': '20329588659696712139452057791839440126770655946256480123031167095057392378856'}, '0_dose_uuid': {'sub_proof_index': 0, 'raw': '1', 'encoded': '1'}, '0_volt_uuid': {'sub_proof_index': 0, 'raw': '1', 'encoded': '1'}, '0_speed_uuid': {'sub_proof_index': 0, 'raw': '1', 'encoded': '1'}}, 'self_attested_attrs': {}, 'unrevealed_attrs': {}, 'predicates': {}}, 'identifiers': [{'schema_id': 'PEcmuSQ7G3z771J7dse1R5:2:Operation:0.0.5', 'cred_def_id': 'PEcmuSQ7G3z771J7dse1R5:3:CL:87:default', 'rev_reg_id': None, 'timestamp': None}]}, 'connection_id': '9f6336e4-6627-4834-b796-f2a42f6ca03d', 'thread_id': '33992292-05e7-4dd3-8005-38fb5b3414c3', 'updated_at': '2023-01-06 05:15:02.284935Z'}\n"
     ]
    }
   ],
   "source": [
    "verify = await agent_controller.proofs.verify_presentation(presentation_exchange_id)\n",
    "print(verify)"
   ]
  },
  {
   "cell_type": "markdown",
   "metadata": {},
   "source": [
    "### 13. Verifying the State\n",
    "\n",
    "Once verified through the agent framework api, the state should be 'verified', otherwise the presentation is invalid."
   ]
  },
  {
   "cell_type": "code",
   "execution_count": 8,
   "metadata": {},
   "outputs": [
    {
     "name": "stdout",
     "output_type": "stream",
     "text": [
      "verified\n",
      "True\n"
     ]
    }
   ],
   "source": [
    "print(verify['state'])\n",
    "print(verify['state'] == 'verified')"
   ]
  },
  {
   "cell_type": "markdown",
   "metadata": {},
   "source": [
    "### 14. Accessing the Revealed Attributes (This is probably talking about how to access the whole data, instead of asking question. Need to be confirmed.)"
   ]
  },
  {
   "cell_type": "code",
   "execution_count": 9,
   "metadata": {},
   "outputs": [],
   "source": [
    "for (name, val) in verify['presentation']['requested_proof']['self_attested_attrs'].items():\n",
    "    print(name)\n",
    "    ## Slightly different for self attested attrs\n",
    "    print(val)"
   ]
  },
  {
   "cell_type": "markdown",
   "metadata": {},
   "source": [
    "### 15. Design the whole medical device computer."
   ]
  },
  {
   "cell_type": "code",
   "execution_count": 10,
   "metadata": {},
   "outputs": [
    {
     "name": "stdout",
     "output_type": "stream",
     "text": [
      "inject drug_A 1ml\n"
     ]
    }
   ],
   "source": [
    "operation = {}\n",
    "for (name, val) in verify['presentation']['requested_proof']['revealed_attrs'].items():\n",
    "    name = name[2:-5]\n",
    "    operation[name] = val['raw']\n",
    "match operation[\"type\"]:\n",
    "    case \"drug_A\":\n",
    "        if int(operation[\"dose\"])<30:\n",
    "            print(f\"inject drug_A {operation['dose']}ml\")\n",
    "        else:\n",
    "            print(\"overdose,please contact the doctor\")\n",
    "        pass\n",
    "    case \"drug_B\":\n",
    "        print(\"this drug need permission of doctor to inject\")\n",
    "    case \"nasogastric tube\":\n",
    "        if int(operation['speed'])<25:\n",
    "            print(f\"adjust the speed to {operation['speed']}\")\n",
    "        else:\n",
    "            print(\"the speed is too high\")\n",
    "    case \"x-ray\":\n",
    "        print(\"X-ray is ready\")\n",
    "    case \"electrotherapy-devise\":\n",
    "        if int(operation['volt'])>30:\n",
    "            print()\n",
    "    case _:\n",
    "        print(\"unknown operation,please check\")\n",
    "        pass\n"
   ]
  },
  {
   "cell_type": "markdown",
   "metadata": {},
   "source": [
    "### **Terminate**"
   ]
  },
  {
   "cell_type": "code",
   "execution_count": null,
   "metadata": {
    "pycharm": {
     "name": "#%%\n"
    }
   },
   "outputs": [],
   "source": [
    "response = await agent_controller.terminate()\n",
    "print(response)"
   ]
  }
 ],
 "metadata": {
  "kernelspec": {
   "display_name": "Python 3 (ipykernel)",
   "language": "python",
   "name": "python3"
  },
  "language_info": {
   "codemirror_mode": {
    "name": "ipython",
    "version": 3
   },
   "file_extension": ".py",
   "mimetype": "text/x-python",
   "name": "python",
   "nbconvert_exporter": "python",
   "pygments_lexer": "ipython3",
   "version": "3.10.8"
  }
 },
 "nbformat": 4,
 "nbformat_minor": 4
}
