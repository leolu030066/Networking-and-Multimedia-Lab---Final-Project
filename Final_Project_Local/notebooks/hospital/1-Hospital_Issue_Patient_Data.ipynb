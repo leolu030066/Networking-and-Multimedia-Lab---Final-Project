{
 "cells": [
  {
   "cell_type": "markdown",
   "id": "872b49a5-6be3-455d-9210-31db73a1e7e4",
   "metadata": {},
   "source": [
    "### This notebook acts like an issuer in blockchain. What we do is to generate a patient did and write them to buildernet. Furthermore, it can also issue personal data to patients' wallet to protect their private data from hackers.\n"
   ]
  },
  {
   "cell_type": "markdown",
   "id": "e7ff346f-8ac2-409b-8644-4bd7c1419545",
   "metadata": {},
   "source": [
    "### 1. Initialise a controller for Hospital Agent"
   ]
  },
  {
   "cell_type": "code",
   "execution_count": 1,
   "id": "dee2d927-6315-4a98-b231-4a73eca8f0b9",
   "metadata": {},
   "outputs": [
    {
     "name": "stdout",
     "output_type": "stream",
     "text": [
      "IPython autoawait is `on`, and set to use `asyncio`\n"
     ]
    }
   ],
   "source": [
    "%autoawait\n",
    "import time\n",
    "import asyncio"
   ]
  },
  {
   "cell_type": "code",
   "execution_count": 2,
   "id": "b6ae07ea-2953-4115-84bc-4a8bebca8073",
   "metadata": {},
   "outputs": [],
   "source": [
    "from aries_basic_controller.aries_controller import AriesAgentController\n",
    "    \n",
    "WEBHOOK_HOST = \"0.0.0.0\"\n",
    "WEBHOOK_PORT = 8072\n",
    "WEBHOOK_BASE = \"\"\n",
    "ADMIN_URL = \"http://hospital-agent:8071\"\n",
    "\n",
    "# WARNING: You should use environment variables for this\n",
    "# TODO: Make env variables accessible through juypter notebooks\n",
    "# API_KEY = \"alice_api_123456789\"\n",
    "\n",
    "# Based on the aca-py agent you wish to control\n",
    "agent_controller = AriesAgentController(admin_url=ADMIN_URL)"
   ]
  },
  {
   "cell_type": "code",
   "execution_count": 3,
   "id": "2a1c5837-63e7-410b-aa41-7ed1d1a035b4",
   "metadata": {},
   "outputs": [],
   "source": [
    "agent_controller.init_webhook_server(webhook_host=WEBHOOK_HOST,\n",
    "                                     webhook_port=WEBHOOK_PORT,\n",
    "                                     webhook_base=WEBHOOK_BASE)\n"
   ]
  },
  {
   "cell_type": "markdown",
   "id": "8d1e023a-4a4b-4561-be3b-d5a08291304a",
   "metadata": {},
   "source": [
    "### 2. Register Listeners"
   ]
  },
  {
   "cell_type": "markdown",
   "id": "56d1d7bd-4fee-4ec8-9e90-0032d0e3ad84",
   "metadata": {},
   "source": [
    "The handler should get called every time the controller receives a webhook with the topic issue_credential, printing out the payload. The agent calls to this webhook every time it receives an issue-credential protocol message from a credential."
   ]
  },
  {
   "cell_type": "code",
   "execution_count": 4,
   "id": "6d222b9a-adbe-4e96-bb8c-1fa167847bcd",
   "metadata": {},
   "outputs": [
    {
     "name": "stdout",
     "output_type": "stream",
     "text": [
      "Subscribing too: issue_credential\n",
      "Subscribing too: connections\n"
     ]
    }
   ],
   "source": [
    "loop = asyncio.get_event_loop()\n",
    "loop.create_task(agent_controller.listen_webhooks())\n",
    "\n",
    "def cred_handler(payload):\n",
    "    print(\"Handle Credentials\")\n",
    "    exchange_id = payload['credential_exchange_id']\n",
    "    state = payload['state']\n",
    "    role = payload['role']\n",
    "    attributes = payload['credential_proposal_dict']['credential_proposal']['attributes']\n",
    "    print(f\"Credential exchange {exchange_id}, role: {role}, state: {state}\")\n",
    "    print(f\"Offering: {attributes}\")\n",
    "    \n",
    "cred_listener = {\n",
    "    \"topic\": \"issue_credential\",\n",
    "    \"handler\": cred_handler\n",
    "}\n",
    "\n",
    "def connections_handler(payload):\n",
    "    global STATE\n",
    "    connection_id = payload[\"connection_id\"]\n",
    "    print(\"Connection message\", payload, connection_id)\n",
    "    STATE = payload['state']\n",
    "    if STATE == 'active':\n",
    "#         print('Connection {0} changed state to active'.format(connection_id))\n",
    "        print(colored(\"Connection {0} changed state to active\".format(connection_id), \"red\", attrs=[\"bold\"]))\n",
    "\n",
    "\n",
    "connection_listener = {\n",
    "    \"handler\": connections_handler,\n",
    "    \"topic\": \"connections\"\n",
    "}\n",
    "\n",
    "agent_controller.register_listeners([cred_listener,connection_listener], defaults=True)"
   ]
  },
  {
   "cell_type": "markdown",
   "id": "2de42ea3-8cdc-4fde-84ba-3622b984bbee",
   "metadata": {},
   "source": [
    "### 3. Check Connection"
   ]
  },
  {
   "cell_type": "code",
   "execution_count": 5,
   "id": "381cf20b-1df5-4d6d-ad7c-45cb5703ea71",
   "metadata": {},
   "outputs": [
    {
     "name": "stdout",
     "output_type": "stream",
     "text": [
      "Results :  [{'state': 'active', 'routing_state': 'none', 'invitation_mode': 'once', 'their_role': 'inviter', 'their_did': '4gqtJKna9qZYztcAGkUKDr', 'request_id': 'c3a5e87d-47b6-48b3-8c98-ff2bdb2c7570', 'my_did': 'UFHBQiVeARLVd576EuePnN', 'created_at': '2023-01-06 04:54:24.471053Z', 'rfc23_state': 'completed', 'invitation_key': '5sUS3jiuXTW96bs68X4iBzPeHGSrymakUFtTfCKFSafQ', 'accept': 'manual', 'updated_at': '2023-01-06 04:54:44.732187Z', 'connection_id': '6cab2195-9989-40a8-9564-7130582f4c8d', 'their_label': 'THE_WALLET'}]\n",
      "Connection : {'state': 'active', 'routing_state': 'none', 'invitation_mode': 'once', 'their_role': 'inviter', 'their_did': '4gqtJKna9qZYztcAGkUKDr', 'request_id': 'c3a5e87d-47b6-48b3-8c98-ff2bdb2c7570', 'my_did': 'UFHBQiVeARLVd576EuePnN', 'created_at': '2023-01-06 04:54:24.471053Z', 'rfc23_state': 'completed', 'invitation_key': '5sUS3jiuXTW96bs68X4iBzPeHGSrymakUFtTfCKFSafQ', 'accept': 'manual', 'updated_at': '2023-01-06 04:54:44.732187Z', 'connection_id': '6cab2195-9989-40a8-9564-7130582f4c8d', 'their_label': 'THE_WALLET'}\n",
      "Active Connection ID :  6cab2195-9989-40a8-9564-7130582f4c8d\n"
     ]
    }
   ],
   "source": [
    "response = await agent_controller.connections.get_connections()\n",
    "results = response['results']\n",
    "print(\"Results : \", results)\n",
    "if len(results) > 0:\n",
    "    connection = response['results'][0]\n",
    "    print(\"Connection :\", connection)\n",
    "    if connection['state'] == 'active':       \n",
    "        connection_id = connection[\"connection_id\"]\n",
    "        print(\"Active Connection ID : \", connection_id)\n",
    "else:\n",
    "    print(\"You must create a connection\")\n",
    "    "
   ]
  },
  {
   "cell_type": "markdown",
   "id": "0a867479-dcc5-4867-a74f-4f7b1eebed6e",
   "metadata": {},
   "source": [
    "### 3b. (OPTIONAL) Write a Schema to the Ledger"
   ]
  },
  {
   "cell_type": "markdown",
   "id": "49fb8dcd-301a-4409-8ac7-6523dff59070",
   "metadata": {},
   "source": [
    "For more details see the schema-api notebook\n",
    "\n",
    "Note: You will only be able to do this once unless you change the schema_name or version. Once you have a schema written to the ledger it can be reused by multiple entities"
   ]
  },
  {
   "cell_type": "code",
   "execution_count": 6,
   "id": "93cf8a86-a786-45e2-9033-203962273549",
   "metadata": {},
   "outputs": [
    {
     "name": "stdout",
     "output_type": "stream",
     "text": [
      "PEcmuSQ7G3z771J7dse1R5:2:MedicalRecords:0.0.3\n"
     ]
    }
   ],
   "source": [
    "# Define you schema name - must be unique on the ledger\n",
    "schema_name = \"MedicalRecords\"\n",
    "# Can version the schema if you wish to update it\n",
    "schema_version = \"0.0.3\"\n",
    "# Define any list of attributes you wish to include in your schema\n",
    "attributes = [\"fullname\", \"age\", \"date\", \"doctorname\", \"complaint\", \"examination results\", \"final treatment\", \"medicine\", \"nextappointment\"]\n",
    "\n",
    "response = await agent_controller.schema.write_schema(schema_name, attributes, schema_version)\n",
    "schema_id = response[\"schema_id\"]\n",
    "print(schema_id)"
   ]
  },
  {
   "cell_type": "markdown",
   "id": "112c20e2-2214-411f-a83f-98b10f89da8f",
   "metadata": {},
   "source": [
    "### 4. Write a Credential Definition to the Ledger\n"
   ]
  },
  {
   "cell_type": "markdown",
   "id": "a971916a-ff35-4d61-b4e2-bb941695b3d8",
   "metadata": {},
   "source": [
    "Note: Again this can only be done once per issuer, per schema_id.\n",
    "\n"
   ]
  },
  {
   "cell_type": "code",
   "execution_count": 7,
   "id": "ea49e97e-5e5c-499f-ace3-47cccede89e3",
   "metadata": {},
   "outputs": [
    {
     "name": "stdout",
     "output_type": "stream",
     "text": [
      "PEcmuSQ7G3z771J7dse1R5:3:CL:85:default\n"
     ]
    }
   ],
   "source": [
    "response = await agent_controller.definitions.write_cred_def(schema_id)\n",
    "\n",
    "cred_def_id = response[\"credential_definition_id\"]\n",
    "print(cred_def_id)\n"
   ]
  },
  {
   "cell_type": "markdown",
   "id": "c2868a01-bddd-4c63-a648-254d50993c2b",
   "metadata": {},
   "source": [
    "### 5. Populate the Attribues to Issue to Idenity Holder (User)\n"
   ]
  },
  {
   "cell_type": "markdown",
   "id": "6fedfbc0-e7bf-4591-892a-bffa8d95fc23",
   "metadata": {},
   "source": [
    "We will issue a credential to the identity holder consisting of the following attributes:\n",
    "\n",
    "credential_attributes = [ {\"name\": \"fullname\", \"value\": name}, {\"name\": \"skill\", \"value\": \"PyDentity SSI Ninja\"}, {\"name\": \"age\", \"value\": age} ]\n",
    "\n",
    "The notebook will ask you to input the identity holder's full name and age which will be used to populate the schema above with the identity holders attribute information."
   ]
  },
  {
   "cell_type": "code",
   "execution_count": 8,
   "id": "f3c205d0-123b-479d-801c-a73fe69139c3",
   "metadata": {},
   "outputs": [
    {
     "name": "stdin",
     "output_type": "stream",
     "text": [
      "Please enter your name and surname:  tim\n",
      "Please enter your age:  21\n",
      "Please enter treatment date:  01/01/23\n",
      "Please enter doctor's name:  amy\n",
      "Please enter chief complaint:  no\n",
      "Please enter examination:  no\n",
      "Please enter treatment:  no\n",
      "Please enter prescription pad:  no\n",
      "Please enter appointment:  no\n"
     ]
    },
    {
     "name": "stdout",
     "output_type": "stream",
     "text": [
      "[{'name': 'fullname', 'value': 'tim'}, {'name': 'age', 'value': '21'}, {'name': 'date', 'value': '01/01/23'}, {'name': 'doctorname', 'value': 'amy'}, {'name': 'complaint', 'value': 'no'}, {'name': 'examination results', 'value': 'no'}, {'name': 'final treatment', 'value': 'no'}, {'name': 'medicine', 'value': 'no'}, {'name': 'nextappointment', 'value': 'no'}]\n"
     ]
    }
   ],
   "source": [
    "# from datetime import datetime\n",
    "\n",
    "name=input(\"Please enter your name and surname: \")\n",
    "age=input(\"Please enter your age: \")\n",
    "TreatmentDate=input(\"Please enter treatment date: \")\n",
    "doctor=input(\"Please enter doctor's name: \")\n",
    "ChiefComplaint=input(\"Please enter chief complaint: \")\n",
    "examination=input(\"Please enter examination: \")\n",
    "treatment=input(\"Please enter treatment: \")\n",
    "PrescriptionPad=input(\"Please enter prescription pad: \")\n",
    "appointment=input(\"Please enter appointment: \")\n",
    "\n",
    "credential_attributes = [\n",
    "    {\"name\": \"fullname\", \"value\": name},\n",
    "    {\"name\": \"age\", \"value\": age},\n",
    "    {\"name\": \"date\", \"value\": TreatmentDate},\n",
    "    {\"name\": \"doctorname\", \"value\": doctor},\n",
    "    {\"name\": \"complaint\", \"value\": ChiefComplaint},\n",
    "    {\"name\": \"examination results\", \"value\": examination},\n",
    "    {\"name\": \"final treatment\", \"value\": treatment},\n",
    "    {\"name\": \"medicine\", \"value\": PrescriptionPad},\n",
    "    {\"name\": \"nextappointment\", \"value\": appointment}\n",
    "]\n",
    "print(credential_attributes)"
   ]
  },
  {
   "cell_type": "markdown",
   "id": "a1c89cda-d58a-474f-9256-c82ecff1f6cd",
   "metadata": {},
   "source": [
    "### 5. Go to the_wallet notebook to setup"
   ]
  },
  {
   "cell_type": "markdown",
   "id": "72a5496f-8d9e-42fc-8c77-832fce752301",
   "metadata": {},
   "source": [
    "### 6. Send Credential"
   ]
  },
  {
   "cell_type": "markdown",
   "id": "01f9cc06-8267-4846-b40e-6f49347856e3",
   "metadata": {},
   "source": [
    "his sends a credential to a identity holder (User), and automates the rest of the protocol.\n",
    "\n",
    "There are other ways to issue a credential that require multiple api calls.\n",
    "\n",
    "Arguments\n",
    "\n",
    "- connection_id: The connection_id of the holder you wish to issue to (MUST be in active state)\n",
    "- schema_id: The id of the schema you wish to issue\n",
    "- cred_def_id: The definition (public key) to sign the credential object. This must refer to the schema_id and be written to the ledger by the same public did that is currently being used by the agent.\n",
    "- attributes: A list of attribute objects as defined above. Must match the schema attributes.\n",
    "- comment (optional): Any string, defaults to \"\"\n",
    "- auto_remove (optional): Boolean, defaults to True. I believe this removes the record of this credential once it has been issued. (TODO: double check)\n",
    "- trace (optional): Boolean, defaults to False. Not entirely sure about this one, believe its for logging. Also when set to True it throws an error"
   ]
  },
  {
   "cell_type": "code",
   "execution_count": 9,
   "id": "83a2f48f-1279-4508-9af5-8dbd52147cad",
   "metadata": {},
   "outputs": [
    {
     "name": "stdout",
     "output_type": "stream",
     "text": [
      "Credential exchange 0e452b3e-c431-4b2c-8254-e55d25549929, role: issuer, state: offer_sent\n",
      "Handle Credentials\n",
      "Credential exchange 0e452b3e-c431-4b2c-8254-e55d25549929, role: issuer, state: offer_sent\n",
      "Offering: [{'name': 'fullname', 'value': 'tim'}, {'name': 'age', 'value': '21'}, {'name': 'date', 'value': '01/01/23'}, {'name': 'doctorname', 'value': 'amy'}, {'name': 'complaint', 'value': 'no'}, {'name': 'examination results', 'value': 'no'}, {'name': 'final treatment', 'value': 'no'}, {'name': 'medicine', 'value': 'no'}, {'name': 'nextappointment', 'value': 'no'}]\n",
      "Handle Credentials\n",
      "Credential exchange 0e452b3e-c431-4b2c-8254-e55d25549929, role: issuer, state: request_received\n",
      "Offering: [{'name': 'fullname', 'value': 'tim'}, {'name': 'age', 'value': '21'}, {'name': 'date', 'value': '01/01/23'}, {'name': 'doctorname', 'value': 'amy'}, {'name': 'complaint', 'value': 'no'}, {'name': 'examination results', 'value': 'no'}, {'name': 'final treatment', 'value': 'no'}, {'name': 'medicine', 'value': 'no'}, {'name': 'nextappointment', 'value': 'no'}]\n",
      "Handle Credentials\n",
      "Credential exchange 0e452b3e-c431-4b2c-8254-e55d25549929, role: issuer, state: credential_issued\n",
      "Offering: [{'name': 'fullname', 'value': 'tim'}, {'name': 'age', 'value': '21'}, {'name': 'date', 'value': '01/01/23'}, {'name': 'doctorname', 'value': 'amy'}, {'name': 'complaint', 'value': 'no'}, {'name': 'examination results', 'value': 'no'}, {'name': 'final treatment', 'value': 'no'}, {'name': 'medicine', 'value': 'no'}, {'name': 'nextappointment', 'value': 'no'}]\n",
      "Handle Credentials\n",
      "Credential exchange 0e452b3e-c431-4b2c-8254-e55d25549929, role: issuer, state: credential_acked\n",
      "Offering: [{'name': 'fullname', 'value': 'tim'}, {'name': 'age', 'value': '21'}, {'name': 'date', 'value': '01/01/23'}, {'name': 'doctorname', 'value': 'amy'}, {'name': 'complaint', 'value': 'no'}, {'name': 'examination results', 'value': 'no'}, {'name': 'final treatment', 'value': 'no'}, {'name': 'medicine', 'value': 'no'}, {'name': 'nextappointment', 'value': 'no'}]\n"
     ]
    }
   ],
   "source": [
    "record = await agent_controller.issuer.send_credential(connection_id, schema_id, cred_def_id, credential_attributes, trace=False)\n",
    "record_id = record['credential_exchange_id']\n",
    "state = record['state']\n",
    "role = record['role']\n",
    "print(f\"Credential exchange {record_id}, role: {role}, state: {state}\")"
   ]
  },
  {
   "cell_type": "markdown",
   "id": "fbcecc24-1a55-4372-be30-9eed2e61921f",
   "metadata": {},
   "source": [
    "### **Terminate**\n"
   ]
  },
  {
   "cell_type": "code",
   "execution_count": 10,
   "id": "938a3d84-12b0-4cd7-8e69-557d05f00383",
   "metadata": {},
   "outputs": [
    {
     "name": "stdout",
     "output_type": "stream",
     "text": [
      "None\n"
     ]
    }
   ],
   "source": [
    "response = await agent_controller.terminate()\n",
    "print(response)"
   ]
  },
  {
   "cell_type": "code",
   "execution_count": null,
   "id": "4adf71d7-780a-4ee4-95c7-684902ab028d",
   "metadata": {},
   "outputs": [],
   "source": []
  }
 ],
 "metadata": {
  "kernelspec": {
   "display_name": "Python 3 (ipykernel)",
   "language": "python",
   "name": "python3"
  },
  "language_info": {
   "codemirror_mode": {
    "name": "ipython",
    "version": 3
   },
   "file_extension": ".py",
   "mimetype": "text/x-python",
   "name": "python",
   "nbconvert_exporter": "python",
   "pygments_lexer": "ipython3",
   "version": "3.10.8"
  }
 },
 "nbformat": 4,
 "nbformat_minor": 5
}
