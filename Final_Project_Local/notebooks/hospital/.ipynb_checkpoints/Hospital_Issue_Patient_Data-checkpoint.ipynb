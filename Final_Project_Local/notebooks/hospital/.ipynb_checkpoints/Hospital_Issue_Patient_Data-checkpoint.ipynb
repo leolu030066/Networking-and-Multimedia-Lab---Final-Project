{
 "cells": [
  {
   "cell_type": "markdown",
   "id": "537b778c-7806-4ad8-afa1-e0ce1d72746a",
   "metadata": {},
   "source": [
    "## Role: Hospital-Patient"
   ]
  },
  {
   "cell_type": "markdown",
   "id": "872b49a5-6be3-455d-9210-31db73a1e7e4",
   "metadata": {},
   "source": [
    "### This notebook acts like an issuer in blockchain. What we do is to generate a patient did and write them to buildernet. Furthermore, it can also issue personal data to patients' wallet to protect their private data from hackers.\n"
   ]
  },
  {
   "cell_type": "markdown",
   "id": "e7ff346f-8ac2-409b-8644-4bd7c1419545",
   "metadata": {},
   "source": [
    "### 1. Initialise a controller for Hospital Agent"
   ]
  },
  {
   "cell_type": "code",
   "execution_count": 1,
   "id": "dee2d927-6315-4a98-b231-4a73eca8f0b9",
   "metadata": {},
   "outputs": [
    {
     "name": "stdout",
     "output_type": "stream",
     "text": [
      "IPython autoawait is `on`, and set to use `asyncio`\n"
     ]
    }
   ],
   "source": [
    "%autoawait\n",
    "import time\n",
    "import asyncio"
   ]
  },
  {
   "cell_type": "code",
   "execution_count": 2,
   "id": "b6ae07ea-2953-4115-84bc-4a8bebca8073",
   "metadata": {},
   "outputs": [],
   "source": [
    "from aries_basic_controller.aries_controller import AriesAgentController\n",
    "    \n",
    "WEBHOOK_HOST = \"0.0.0.0\"\n",
    "WEBHOOK_PORT = 8072\n",
    "WEBHOOK_BASE = \"\"\n",
    "ADMIN_URL = \"http://hospital-agent:8071\"\n",
    "\n",
    "# WARNING: You should use environment variables for this\n",
    "# TODO: Make env variables accessible through juypter notebooks\n",
    "# API_KEY = \"alice_api_123456789\"\n",
    "\n",
    "# Based on the aca-py agent you wish to control\n",
    "agent_controller = AriesAgentController(admin_url=ADMIN_URL)"
   ]
  },
  {
   "cell_type": "code",
   "execution_count": 3,
   "id": "2a1c5837-63e7-410b-aa41-7ed1d1a035b4",
   "metadata": {},
   "outputs": [],
   "source": [
    "agent_controller.init_webhook_server(webhook_host=WEBHOOK_HOST,\n",
    "                                     webhook_port=WEBHOOK_PORT,\n",
    "                                     webhook_base=WEBHOOK_BASE)\n"
   ]
  },
  {
   "cell_type": "markdown",
   "id": "4e7e4e7a-9f42-4ac3-8cac-7278850f86ee",
   "metadata": {},
   "source": [
    "### 3. Generate a new DID for this visit\n"
   ]
  },
  {
   "cell_type": "markdown",
   "id": "cee21be0-56bc-4d22-a438-6cff3a6531a7",
   "metadata": {},
   "source": [
    "Before being able to write a DID to the ledger, you must create one using the wallet api. This api returns the identifier (the DID), and the verification key for that DID. A representation of it's public key.\n",
    "\n"
   ]
  },
  {
   "cell_type": "code",
   "execution_count": 7,
   "id": "7c5ad025-f658-4a47-8a28-d42ebad36b7c",
   "metadata": {},
   "outputs": [
    {
     "name": "stdout",
     "output_type": "stream",
     "text": [
      "New DID {'did': 'ANQVozG2Ex2nS15xkHW6LL', 'verkey': '67B7Csa6tcGGCVTCidzLTWRAzYVQvgphZvuyjQ4S9hJG', 'posture': 'wallet_only'}\n"
     ]
    }
   ],
   "source": [
    "# generate new DID\n",
    "response = await agent_controller.wallet.create_did()\n",
    "\n",
    "did_object = response['result']\n",
    "print(\"New DID\", did_object)"
   ]
  },
  {
   "cell_type": "markdown",
   "id": "e8b47604-9d5a-4758-be5c-af17038b3f06",
   "metadata": {},
   "source": [
    "### 4. Write DID to Ledger"
   ]
  },
  {
   "cell_type": "markdown",
   "id": "d62486a4-ba30-45ee-b621-7ae0d6722a36",
   "metadata": {},
   "source": [
    "Anoyone can write a DID to the Sovrin Buildernet, it is a permissionless ledger.\n",
    "\n",
    "Visit Sovrin Selfserve Portal for more information. We have provided an automated process to write DIDs to Buildernet in the step below."
   ]
  },
  {
   "cell_type": "code",
   "execution_count": 8,
   "id": "bba592e1-9c12-4669-bd33-da568dc017cd",
   "metadata": {},
   "outputs": [
    {
     "name": "stdout",
     "output_type": "stream",
     "text": [
      "{'success': True}\n"
     ]
    }
   ],
   "source": [
    "result = await agent_controller.ledger.register_nym(did_object['did'], did_object['verkey'])\n",
    "print(result)"
   ]
  },
  {
   "cell_type": "markdown",
   "id": "e0916560-4884-44aa-88fb-2dc5a8d21845",
   "metadata": {},
   "source": [
    "### 6. Set public DID\n"
   ]
  },
  {
   "cell_type": "markdown",
   "id": "84513b20-3514-4d96-bc3d-c6d27682f548",
   "metadata": {},
   "source": [
    "Now you are able to assign the DID written to the ledger as public.\n",
    "\n"
   ]
  },
  {
   "cell_type": "code",
   "execution_count": 9,
   "id": "80fc3f7e-4e09-4025-8f3c-a422198913f5",
   "metadata": {},
   "outputs": [
    {
     "name": "stdout",
     "output_type": "stream",
     "text": [
      "{'result': {'did': 'ANQVozG2Ex2nS15xkHW6LL', 'verkey': '67B7Csa6tcGGCVTCidzLTWRAzYVQvgphZvuyjQ4S9hJG', 'posture': 'public'}}\n"
     ]
    }
   ],
   "source": [
    "response = await agent_controller.wallet.assign_public_did(did_object[\"did\"])\n",
    "print(response)"
   ]
  },
  {
   "cell_type": "markdown",
   "id": "6f114cec-2039-4c0e-a056-4fa99f1b30eb",
   "metadata": {},
   "source": [
    "### 7. Get public DID"
   ]
  },
  {
   "cell_type": "code",
   "execution_count": 4,
   "id": "06a76f47-afef-436b-a044-f932d806e733",
   "metadata": {},
   "outputs": [
    {
     "name": "stdout",
     "output_type": "stream",
     "text": [
      "{'result': {'did': 'PEcmuSQ7G3z771J7dse1R5', 'verkey': 'D7tL6gtUUqSD4wF1e4rVcrVqxQoo65EgKquja9qeN9Mx', 'posture': 'public'}}\n",
      "\n",
      "Issuer public DID: PEcmuSQ7G3z771J7dse1R5\n"
     ]
    }
   ],
   "source": [
    "response = await agent_controller.wallet.get_public_did()\n",
    "print(response)\n",
    "issuer_nym = response['result']['did']\n",
    "print('\\nIssuer public DID:',issuer_nym)"
   ]
  },
  {
   "cell_type": "markdown",
   "id": "02db5b2b-c27a-4b05-9fed-8952396e3d44",
   "metadata": {},
   "source": [
    "### 8. Fetch verkey for public DID"
   ]
  },
  {
   "cell_type": "markdown",
   "id": "3621f7d5-8568-4bd4-8f48-b1103f7898b2",
   "metadata": {},
   "source": [
    "Additionally, we can verify that this DID does actually resolve to the public key material on the ledger.\n",
    "\n"
   ]
  },
  {
   "cell_type": "code",
   "execution_count": 11,
   "id": "2bfff600-ffe8-4cca-9795-c84deb9145b4",
   "metadata": {},
   "outputs": [
    {
     "name": "stdout",
     "output_type": "stream",
     "text": [
      "{'verkey': '67B7Csa6tcGGCVTCidzLTWRAzYVQvgphZvuyjQ4S9hJG'}\n"
     ]
    }
   ],
   "source": [
    "issuer_verkey = await agent_controller.ledger.get_did_verkey(issuer_nym)\n",
    "print(issuer_verkey)"
   ]
  },
  {
   "cell_type": "markdown",
   "id": "df7a8181-59ff-4d05-b687-f64b79352f5d",
   "metadata": {},
   "source": [
    "### 9. Get public DID endpoint\n"
   ]
  },
  {
   "cell_type": "markdown",
   "id": "f3d2c5ff-4e3f-48c1-8890-1c347db23211",
   "metadata": {},
   "source": [
    "As well as providing a publically accessible endpoint to contact the DID controller through the agent framework.\n",
    "\n"
   ]
  },
  {
   "cell_type": "code",
   "execution_count": 12,
   "id": "940f263f-73e4-4a41-ab8d-0f352fb489d5",
   "metadata": {},
   "outputs": [
    {
     "name": "stdout",
     "output_type": "stream",
     "text": [
      "{'endpoint': 'http://192.168.65.9:8070'}\n"
     ]
    }
   ],
   "source": [
    "issuer_endpoint = await agent_controller.ledger.get_did_endpoint(issuer_nym)\n",
    "print(issuer_endpoint)"
   ]
  },
  {
   "cell_type": "markdown",
   "id": "8d1e023a-4a4b-4561-be3b-d5a08291304a",
   "metadata": {},
   "source": [
    "### 2. Register Listeners"
   ]
  },
  {
   "cell_type": "markdown",
   "id": "56d1d7bd-4fee-4ec8-9e90-0032d0e3ad84",
   "metadata": {},
   "source": [
    "The handler should get called every time the controller receives a webhook with the topic issue_credential, printing out the payload. The agent calls to this webhook every time it receives an issue-credential protocol message from a credential."
   ]
  },
  {
   "cell_type": "code",
   "execution_count": 5,
   "id": "52f0d192-4d2e-4891-a340-6ae97d2ad5c8",
   "metadata": {},
   "outputs": [
    {
     "name": "stdout",
     "output_type": "stream",
     "text": [
      "{'result': {'did': 'PEcmuSQ7G3z771J7dse1R5', 'verkey': 'D7tL6gtUUqSD4wF1e4rVcrVqxQoo65EgKquja9qeN9Mx', 'posture': 'public'}}\n"
     ]
    }
   ],
   "source": [
    "response = await agent_controller.wallet.assign_public_did(\"PEcmuSQ7G3z771J7dse1R5\")\n",
    "\n",
    "print(response)"
   ]
  },
  {
   "cell_type": "code",
   "execution_count": 4,
   "id": "6d222b9a-adbe-4e96-bb8c-1fa167847bcd",
   "metadata": {},
   "outputs": [
    {
     "name": "stdout",
     "output_type": "stream",
     "text": [
      "Subscribing too: issue_credential\n",
      "Subscribing too: connections\n"
     ]
    }
   ],
   "source": [
    "loop = asyncio.get_event_loop()\n",
    "loop.create_task(agent_controller.listen_webhooks())\n",
    "\n",
    "def cred_handler(payload):\n",
    "    print(\"Handle Credentials\")\n",
    "    exchange_id = payload['credential_exchange_id']\n",
    "    state = payload['state']\n",
    "    role = payload['role']\n",
    "    attributes = payload['credential_proposal_dict']['credential_proposal']['attributes']\n",
    "    print(f\"Credential exchange {exchange_id}, role: {role}, state: {state}\")\n",
    "    print(f\"Offering: {attributes}\")\n",
    "    \n",
    "cred_listener = {\n",
    "    \"topic\": \"issue_credential\",\n",
    "    \"handler\": cred_handler\n",
    "}\n",
    "\n",
    "def connections_handler(payload):\n",
    "    global STATE\n",
    "    connection_id = payload[\"connection_id\"]\n",
    "    print(\"Connection message\", payload, connection_id)\n",
    "    STATE = payload['state']\n",
    "    if STATE == 'active':\n",
    "#         print('Connection {0} changed state to active'.format(connection_id))\n",
    "        print(colored(\"Connection {0} changed state to active\".format(connection_id), \"red\", attrs=[\"bold\"]))\n",
    "\n",
    "\n",
    "connection_listener = {\n",
    "    \"handler\": connections_handler,\n",
    "    \"topic\": \"connections\"\n",
    "}\n",
    "\n",
    "agent_controller.register_listeners([cred_listener,connection_listener], defaults=True)"
   ]
  },
  {
   "cell_type": "markdown",
   "id": "2de42ea3-8cdc-4fde-84ba-3622b984bbee",
   "metadata": {},
   "source": [
    "### Check Connection"
   ]
  },
  {
   "cell_type": "code",
   "execution_count": 5,
   "id": "381cf20b-1df5-4d6d-ad7c-45cb5703ea71",
   "metadata": {},
   "outputs": [
    {
     "name": "stdout",
     "output_type": "stream",
     "text": [
      "Results :  [{'accept': 'manual', 'routing_state': 'none', 'connection_id': 'cd328dc3-35e7-452a-9257-b0d98aa50ce8', 'their_role': 'inviter', 'created_at': '2023-01-05 08:30:24.814303Z', 'request_id': '9684c553-f9d1-4c24-aa23-8e78422e53ea', 'updated_at': '2023-01-05 08:30:40.077500Z', 'my_did': 'Gtk5VfRz9RxA2wCzLsPkgo', 'their_did': '6kaHyKtCrNToKDBtcHq3rF', 'their_label': 'THE_WALLET', 'invitation_key': 'TxozusBDkopmyRZuee8jPCSZQZmXpJEpVSvfD1U4xpS', 'rfc23_state': 'completed', 'state': 'active', 'invitation_mode': 'once'}]\n",
      "Connection : {'accept': 'manual', 'routing_state': 'none', 'connection_id': 'cd328dc3-35e7-452a-9257-b0d98aa50ce8', 'their_role': 'inviter', 'created_at': '2023-01-05 08:30:24.814303Z', 'request_id': '9684c553-f9d1-4c24-aa23-8e78422e53ea', 'updated_at': '2023-01-05 08:30:40.077500Z', 'my_did': 'Gtk5VfRz9RxA2wCzLsPkgo', 'their_did': '6kaHyKtCrNToKDBtcHq3rF', 'their_label': 'THE_WALLET', 'invitation_key': 'TxozusBDkopmyRZuee8jPCSZQZmXpJEpVSvfD1U4xpS', 'rfc23_state': 'completed', 'state': 'active', 'invitation_mode': 'once'}\n",
      "Active Connection ID :  cd328dc3-35e7-452a-9257-b0d98aa50ce8\n"
     ]
    }
   ],
   "source": [
    "response = await agent_controller.connections.get_connections()\n",
    "results = response['results']\n",
    "print(\"Results : \", results)\n",
    "if len(results) > 0:\n",
    "    connection = response['results'][0]\n",
    "    print(\"Connection :\", connection)\n",
    "    if connection['state'] == 'active':       \n",
    "        connection_id = connection[\"connection_id\"]\n",
    "        print(\"Active Connection ID : \", connection_id)\n",
    "else:\n",
    "    print(\"You must create a connection\")\n",
    "    "
   ]
  },
  {
   "cell_type": "markdown",
   "id": "0a867479-dcc5-4867-a74f-4f7b1eebed6e",
   "metadata": {},
   "source": [
    "### 3b. (OPTIONAL) Write a Schema to the Ledger"
   ]
  },
  {
   "cell_type": "markdown",
   "id": "49fb8dcd-301a-4409-8ac7-6523dff59070",
   "metadata": {},
   "source": [
    "For more details see the schema-api notebook\n",
    "\n",
    "Note: You will only be able to do this once unless you change the schema_name or version. Once you have a schema written to the ledger it can be reused by multiple entities"
   ]
  },
  {
   "cell_type": "code",
   "execution_count": 14,
   "id": "93cf8a86-a786-45e2-9033-203962273549",
   "metadata": {},
   "outputs": [
    {
     "name": "stdout",
     "output_type": "stream",
     "text": [
      "PEcmuSQ7G3z771J7dse1R5:2:MedicalRecords:0.0.9\n"
     ]
    }
   ],
   "source": [
    "# Define you schema name - must be unique on the ledger\n",
    "schema_name = \"MedicalRecords\"\n",
    "# Can version the schema if you wish to update it\n",
    "schema_version = \"0.0.9\"\n",
    "# Define any list of attributes you wish to include in your schema\n",
    "attributes = [\"fullname\", \"age\", \"date\", \"doctorname\", \"complaint\", \"examination results\", \"final treatment\", \"medicine\", \"nextappointment\"]\n",
    "\n",
    "response = await agent_controller.schema.write_schema(schema_name, attributes, schema_version)\n",
    "schema_id = response[\"schema_id\"]\n",
    "print(schema_id)"
   ]
  },
  {
   "cell_type": "markdown",
   "id": "112c20e2-2214-411f-a83f-98b10f89da8f",
   "metadata": {},
   "source": [
    "### 4. Write a Credential Definition to the Ledger\n"
   ]
  },
  {
   "cell_type": "markdown",
   "id": "a971916a-ff35-4d61-b4e2-bb941695b3d8",
   "metadata": {},
   "source": [
    "Note: Again this can only be done once per issuer, per schema_id.\n",
    "\n"
   ]
  },
  {
   "cell_type": "code",
   "execution_count": 15,
   "id": "ea49e97e-5e5c-499f-ace3-47cccede89e3",
   "metadata": {},
   "outputs": [
    {
     "name": "stdout",
     "output_type": "stream",
     "text": [
      "PEcmuSQ7G3z771J7dse1R5:3:CL:40:default\n"
     ]
    }
   ],
   "source": [
    "response = await agent_controller.definitions.write_cred_def(schema_id)\n",
    "\n",
    "cred_def_id = response[\"credential_definition_id\"]\n",
    "print(cred_def_id)\n"
   ]
  },
  {
   "cell_type": "markdown",
   "id": "c2868a01-bddd-4c63-a648-254d50993c2b",
   "metadata": {},
   "source": [
    "### 5. Populate the Attribues to Issue to Idenity Holder (User)\n"
   ]
  },
  {
   "cell_type": "markdown",
   "id": "6fedfbc0-e7bf-4591-892a-bffa8d95fc23",
   "metadata": {},
   "source": [
    "We will issue a credential to the identity holder consisting of the following attributes:\n",
    "\n",
    "credential_attributes = [ {\"name\": \"fullname\", \"value\": name}, {\"name\": \"skill\", \"value\": \"PyDentity SSI Ninja\"}, {\"name\": \"age\", \"value\": age} ]\n",
    "\n",
    "The notebook will ask you to input the identity holder's full name and age which will be used to populate the schema above with the identity holders attribute information."
   ]
  },
  {
   "cell_type": "code",
   "execution_count": 19,
   "id": "f3c205d0-123b-479d-801c-a73fe69139c3",
   "metadata": {},
   "outputs": [
    {
     "name": "stdin",
     "output_type": "stream",
     "text": [
      "Please enter your name and surname:  1\n",
      "Please enter your age:  1\n",
      "Please enter treatment date:  1\n",
      "Please enter doctor's name:  1\n",
      "Please enter chief complaint:  1\n",
      "Please enter examination:  1\n",
      "Please enter treatment:  1\n",
      "Please enter prescription pad:  1\n",
      "Please enter appointment:  1\n"
     ]
    },
    {
     "name": "stdout",
     "output_type": "stream",
     "text": [
      "[{'name': 'fullname', 'value': '1'}, {'name': 'age', 'value': '1'}, {'name': 'date', 'value': '1'}, {'name': 'doctorname', 'value': '1'}, {'name': 'complaint', 'value': '1'}, {'name': 'examination results', 'value': '1'}, {'name': 'final treatment', 'value': '1'}, {'name': 'medicine', 'value': '1'}, {'name': 'nextappointment', 'value': '1'}]\n"
     ]
    }
   ],
   "source": [
    "# from datetime import datetime\n",
    "\n",
    "name=input(\"Please enter your name and surname: \")\n",
    "age=input(\"Please enter your age: \")\n",
    "TreatmentDate=input(\"Please enter treatment date: \")\n",
    "doctor=input(\"Please enter doctor's name: \")\n",
    "ChiefComplaint=input(\"Please enter chief complaint: \")\n",
    "examination=input(\"Please enter examination: \")\n",
    "treatment=input(\"Please enter treatment: \")\n",
    "PrescriptionPad=input(\"Please enter prescription pad: \")\n",
    "appointment=input(\"Please enter appointment: \")\n",
    "\n",
    "credential_attributes = [\n",
    "    {\"name\": \"fullname\", \"value\": name},\n",
    "    {\"name\": \"age\", \"value\": age},\n",
    "    {\"name\": \"date\", \"value\": TreatmentDate},\n",
    "    {\"name\": \"doctorname\", \"value\": doctor},\n",
    "    {\"name\": \"complaint\", \"value\": ChiefComplaint},\n",
    "    {\"name\": \"examination results\", \"value\": examination},\n",
    "    {\"name\": \"final treatment\", \"value\": treatment},\n",
    "    {\"name\": \"medicine\", \"value\": PrescriptionPad},\n",
    "    {\"name\": \"nextappointment\", \"value\": appointment}\n",
    "]\n",
    "print(credential_attributes)"
   ]
  },
  {
   "cell_type": "markdown",
   "id": "a1c89cda-d58a-474f-9256-c82ecff1f6cd",
   "metadata": {},
   "source": [
    "### Copy the invitation above and go to wallet notebook to accept accept connection"
   ]
  },
  {
   "cell_type": "markdown",
   "id": "72a5496f-8d9e-42fc-8c77-832fce752301",
   "metadata": {},
   "source": [
    "### 9. Send Credential"
   ]
  },
  {
   "cell_type": "markdown",
   "id": "01f9cc06-8267-4846-b40e-6f49347856e3",
   "metadata": {},
   "source": [
    "his sends a credential to a identity holder (User), and automates the rest of the protocol.\n",
    "\n",
    "There are other ways to issue a credential that require multiple api calls.\n",
    "\n",
    "Arguments\n",
    "\n",
    "- connection_id: The connection_id of the holder you wish to issue to (MUST be in active state)\n",
    "- schema_id: The id of the schema you wish to issue\n",
    "- cred_def_id: The definition (public key) to sign the credential object. This must refer to the schema_id and be written to the ledger by the same public did that is currently being used by the agent.\n",
    "- attributes: A list of attribute objects as defined above. Must match the schema attributes.\n",
    "- comment (optional): Any string, defaults to \"\"\n",
    "- auto_remove (optional): Boolean, defaults to True. I believe this removes the record of this credential once it has been issued. (TODO: double check)\n",
    "- trace (optional): Boolean, defaults to False. Not entirely sure about this one, believe its for logging. Also when set to True it throws an error"
   ]
  },
  {
   "cell_type": "code",
   "execution_count": 20,
   "id": "83a2f48f-1279-4508-9af5-8dbd52147cad",
   "metadata": {},
   "outputs": [
    {
     "name": "stdout",
     "output_type": "stream",
     "text": [
      "Credential exchange 4b707883-0dad-4365-b3c0-79eb51d00381, role: issuer, state: offer_sent\n",
      "Handle Credentials\n",
      "Credential exchange 4b707883-0dad-4365-b3c0-79eb51d00381, role: issuer, state: offer_sent\n",
      "Offering: [{'name': 'fullname', 'value': '1'}, {'name': 'age', 'value': '1'}, {'name': 'date', 'value': '1'}, {'name': 'doctorname', 'value': '1'}, {'name': 'complaint', 'value': '1'}, {'name': 'examination results', 'value': '1'}, {'name': 'final treatment', 'value': '1'}, {'name': 'medicine', 'value': '1'}, {'name': 'nextappointment', 'value': '1'}]\n",
      "Handle Credentials\n",
      "Credential exchange 4b707883-0dad-4365-b3c0-79eb51d00381, role: issuer, state: request_received\n",
      "Offering: [{'name': 'fullname', 'value': '1'}, {'name': 'age', 'value': '1'}, {'name': 'date', 'value': '1'}, {'name': 'doctorname', 'value': '1'}, {'name': 'complaint', 'value': '1'}, {'name': 'examination results', 'value': '1'}, {'name': 'final treatment', 'value': '1'}, {'name': 'medicine', 'value': '1'}, {'name': 'nextappointment', 'value': '1'}]\n",
      "Handle Credentials\n",
      "Credential exchange 4b707883-0dad-4365-b3c0-79eb51d00381, role: issuer, state: credential_issued\n",
      "Offering: [{'name': 'fullname', 'value': '1'}, {'name': 'age', 'value': '1'}, {'name': 'date', 'value': '1'}, {'name': 'doctorname', 'value': '1'}, {'name': 'complaint', 'value': '1'}, {'name': 'examination results', 'value': '1'}, {'name': 'final treatment', 'value': '1'}, {'name': 'medicine', 'value': '1'}, {'name': 'nextappointment', 'value': '1'}]\n",
      "Handle Credentials\n",
      "Credential exchange 4b707883-0dad-4365-b3c0-79eb51d00381, role: issuer, state: credential_acked\n",
      "Offering: [{'name': 'fullname', 'value': '1'}, {'name': 'age', 'value': '1'}, {'name': 'date', 'value': '1'}, {'name': 'doctorname', 'value': '1'}, {'name': 'complaint', 'value': '1'}, {'name': 'examination results', 'value': '1'}, {'name': 'final treatment', 'value': '1'}, {'name': 'medicine', 'value': '1'}, {'name': 'nextappointment', 'value': '1'}]\n"
     ]
    }
   ],
   "source": [
    "record = await agent_controller.issuer.send_credential(connection_id, schema_id, cred_def_id, credential_attributes, trace=False)\n",
    "record_id = record['credential_exchange_id']\n",
    "state = record['state']\n",
    "role = record['role']\n",
    "print(f\"Credential exchange {record_id}, role: {role}, state: {state}\")"
   ]
  },
  {
   "cell_type": "markdown",
   "id": "fbcecc24-1a55-4372-be30-9eed2e61921f",
   "metadata": {},
   "source": [
    "### 10. Accept credential in Mobile SSI Wallet\n"
   ]
  },
  {
   "cell_type": "code",
   "execution_count": 24,
   "id": "938a3d84-12b0-4cd7-8e69-557d05f00383",
   "metadata": {},
   "outputs": [
    {
     "name": "stdout",
     "output_type": "stream",
     "text": [
      "None\n"
     ]
    }
   ],
   "source": [
    "response = await agent_controller.terminate()\n",
    "print(response)"
   ]
  }
 ],
 "metadata": {
  "kernelspec": {
   "display_name": "Python 3 (ipykernel)",
   "language": "python",
   "name": "python3"
  },
  "language_info": {
   "codemirror_mode": {
    "name": "ipython",
    "version": 3
   },
   "file_extension": ".py",
   "mimetype": "text/x-python",
   "name": "python",
   "nbconvert_exporter": "python",
   "pygments_lexer": "ipython3",
   "version": "3.10.8"
  }
 },
 "nbformat": 4,
 "nbformat_minor": 5
}
