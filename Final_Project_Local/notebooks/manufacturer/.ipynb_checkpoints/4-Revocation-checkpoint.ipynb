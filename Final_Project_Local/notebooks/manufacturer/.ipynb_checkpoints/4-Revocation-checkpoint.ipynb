{
 "cells": [
  {
   "cell_type": "markdown",
   "id": "27aeb6da-1f6d-4f5c-9228-006ce4153829",
   "metadata": {},
   "source": [
    "### Sometimes we need to revoke the polluted devices"
   ]
  },
  {
   "cell_type": "code",
   "execution_count": 1,
   "id": "364e23fb-8a98-4e57-b876-92906999769e",
   "metadata": {},
   "outputs": [
    {
     "name": "stdout",
     "output_type": "stream",
     "text": [
      "IPython autoawait is `on`, and set to use `asyncio`\n"
     ]
    }
   ],
   "source": [
    "%autoawait\n",
    "import time\n",
    "import asyncio\n",
    "from termcolor import colored,cprint\n",
    "\n",
    "from aries_basic_controller.aries_controller import AriesAgentController\n",
    "    \n",
    "WEBHOOK_HOST = \"0.0.0.0\"\n",
    "WEBHOOK_BASE = \"\"\n",
    "\n",
    "WEBHOOK_PORT = 8052\n",
    "ADMIN_URL = \"http://manufacturer-agent:8051\"\n",
    "\n",
    "# Based on the aca-py agent you wish to control\n",
    "agent_controller = AriesAgentController(admin_url=ADMIN_URL)\n",
    "\n",
    "\n"
   ]
  },
  {
   "cell_type": "code",
   "execution_count": 2,
   "id": "c5977055-823e-46df-b3bb-18665744ac99",
   "metadata": {},
   "outputs": [],
   "source": [
    "agent_controller.init_webhook_server(webhook_host=WEBHOOK_HOST,\n",
    "                                     webhook_port=WEBHOOK_PORT,\n",
    "                                     webhook_base=WEBHOOK_BASE)"
   ]
  },
  {
   "attachments": {},
   "cell_type": "markdown",
   "id": "94d19342-080b-4694-aef6-74e78359c89c",
   "metadata": {},
   "source": [
    "### Paste the record id in manufacturer/2-exchanging_VC"
   ]
  },
  {
   "cell_type": "code",
   "execution_count": 3,
   "id": "fdb2c095-7214-4938-b586-31ebc3155748",
   "metadata": {},
   "outputs": [
    {
     "name": "stdout",
     "output_type": "stream",
     "text": [
      "{}\n"
     ]
    }
   ],
   "source": [
    "record_id = \"5697823d-3a42-4322-b5e4-de320ab94d41\" #paste\n",
    "response = await agent_controller.revocations.revoke_credential(record_id, publish=True)\n",
    "print(response)"
   ]
  },
  {
   "cell_type": "code",
   "execution_count": 4,
   "id": "ac97d2e9-2619-4c06-8762-7f9055993e33",
   "metadata": {},
   "outputs": [
    {
     "name": "stdout",
     "output_type": "stream",
     "text": [
      "None\n"
     ]
    }
   ],
   "source": [
    "response = await agent_controller.terminate()\n",
    "print(response)"
   ]
  },
  {
   "cell_type": "code",
   "execution_count": null,
   "id": "4eb15019-b1c3-4d04-9f0d-410c74e18a1b",
   "metadata": {},
   "outputs": [],
   "source": []
  }
 ],
 "metadata": {
  "kernelspec": {
   "display_name": "Python 3 (ipykernel)",
   "language": "python",
   "name": "python3"
  },
  "language_info": {
   "codemirror_mode": {
    "name": "ipython",
    "version": 3
   },
   "file_extension": ".py",
   "mimetype": "text/x-python",
   "name": "python",
   "nbconvert_exporter": "python",
   "pygments_lexer": "ipython3",
   "version": "3.10.8"
  }
 },
 "nbformat": 4,
 "nbformat_minor": 5
}
