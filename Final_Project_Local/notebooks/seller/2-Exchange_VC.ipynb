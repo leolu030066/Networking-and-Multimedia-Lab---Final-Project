{
 "cells": [
  {
   "cell_type": "markdown",
   "id": "3f01d03e-8b5f-436c-bb04-483cc5173f8f",
   "metadata": {},
   "source": [
    "### 2. Setup"
   ]
  },
  {
   "cell_type": "code",
   "execution_count": 1,
   "id": "c11857b7-6f90-4f46-829e-bf37026cafe0",
   "metadata": {},
   "outputs": [
    {
     "name": "stdout",
     "output_type": "stream",
     "text": [
      "IPython autoawait is `on`, and set to use `asyncio`\n"
     ]
    }
   ],
   "source": [
    "%autoawait\n",
    "import time\n",
    "import asyncio\n",
    "from termcolor import colored,cprint\n",
    "\n",
    "from aries_basic_controller.aries_controller import AriesAgentController\n",
    "\n",
    "WEBHOOK_HOST = \"0.0.0.0\"\n",
    "WEBHOOK_PORT = 8022\n",
    "WEBHOOK_BASE = \"\"\n",
    "ADMIN_URL = \"http://seller-agent:8021\"\n",
    "\n",
    "# Based on the aca-py agent you wish to control\n",
    "agent_controller = AriesAgentController(admin_url=ADMIN_URL)\n"
   ]
  },
  {
   "cell_type": "code",
   "execution_count": 2,
   "id": "86187b3a-d966-48b8-b23e-ce417b918227",
   "metadata": {},
   "outputs": [],
   "source": [
    "agent_controller.init_webhook_server(webhook_host=WEBHOOK_HOST,\n",
    "                                     webhook_port=WEBHOOK_PORT,\n",
    "                                     webhook_base=WEBHOOK_BASE)"
   ]
  },
  {
   "cell_type": "code",
   "execution_count": 3,
   "id": "2dbab427-75b3-4481-a099-86a9c83feb31",
   "metadata": {},
   "outputs": [
    {
     "name": "stdout",
     "output_type": "stream",
     "text": [
      "Subscribing too: issue_credential\n",
      "Handle Credentials\n",
      "Credential exchange 603cf9e1-8a88-4335-9246-6e887bb66a4b, role: holder, state: offer_received\n",
      "Attributes: [{'name': 'ProductionDate', 'value': '1672981261'}, {'name': 'ExpirationDate', 'value': '1704517261'}, {'name': 'Manufacturer', 'value': 'GOOD_COMPANY'}, {'name': 'Owner', 'value': 'GOOD_SELLER'}, {'name': 'Type', 'value': 'Dentistry'}, {'name': 'Status', 'value': '1'}]\n"
     ]
    }
   ],
   "source": [
    "loop = asyncio.get_event_loop()\n",
    "loop.create_task(agent_controller.listen_webhooks())\n",
    "def cred_handler(payload):\n",
    "    print(\"Handle Credentials\")\n",
    "    exchange_id = payload['credential_exchange_id']\n",
    "    state = payload['state']\n",
    "    role = payload['role']\n",
    "    attributes = payload['credential_proposal_dict']['credential_proposal']['attributes']\n",
    "    print(f\"Credential exchange {exchange_id}, role: {role}, state: {state}\")\n",
    "    print(f\"Attributes: {attributes}\")\n",
    "    \n",
    "cred_listener = {\n",
    "    \"topic\": \"issue_credential\",\n",
    "    \"handler\": cred_handler\n",
    "}\n",
    "agent_controller.register_listeners([cred_listener], defaults=True)"
   ]
  },
  {
   "cell_type": "markdown",
   "id": "7f16a79b-2abb-440c-a9a7-719d2bd8d6fc",
   "metadata": {},
   "source": [
    "### 3. Go to manufacturer notebook to send credential"
   ]
  },
  {
   "cell_type": "markdown",
   "id": "6550e7b5-66ba-44b2-8271-aff0b63f231d",
   "metadata": {},
   "source": [
    "### 8. Get Credential Record"
   ]
  },
  {
   "cell_type": "code",
   "execution_count": 4,
   "id": "1880780b-2f67-4c20-afd4-2b93b12fefef",
   "metadata": {},
   "outputs": [
    {
     "name": "stdout",
     "output_type": "stream",
     "text": [
      "{'results': [{'credential_exchange_id': '603cf9e1-8a88-4335-9246-6e887bb66a4b', 'thread_id': '675dbd61-631e-49e1-929f-05c9daa4b111', 'trace': True, 'schema_id': 'T8ocwUDfMeVFzuVt5ExD2d:2:Devices_Schema:1.0.4', 'credential_proposal_dict': {'@type': 'did:sov:BzCbsNYhMrjHiqZDTUASHg;spec/issue-credential/1.0/propose-credential', '@id': '5b7ab7d7-1fc8-4b07-b7f2-83b0d67f9946', 'credential_proposal': {'@type': 'did:sov:BzCbsNYhMrjHiqZDTUASHg;spec/issue-credential/1.0/credential-preview', 'attributes': [{'name': 'ProductionDate', 'value': '1672981261'}, {'name': 'ExpirationDate', 'value': '1704517261'}, {'name': 'Manufacturer', 'value': 'GOOD_COMPANY'}, {'name': 'Owner', 'value': 'GOOD_SELLER'}, {'name': 'Type', 'value': 'Dentistry'}, {'name': 'Status', 'value': '1'}]}, 'cred_def_id': 'T8ocwUDfMeVFzuVt5ExD2d:3:CL:78:default', 'comment': 'create automated credential exchange', 'schema_id': 'T8ocwUDfMeVFzuVt5ExD2d:2:Devices_Schema:1.0.4'}, 'created_at': '2023-01-06 05:01:04.913587Z', 'auto_offer': False, 'state': 'offer_received', 'initiator': 'external', 'auto_issue': False, 'auto_remove': True, 'connection_id': '8513dc47-b52a-4fa1-9ea3-3ce8b5f34359', 'role': 'holder', 'credential_offer': {'schema_id': 'T8ocwUDfMeVFzuVt5ExD2d:2:Devices_Schema:1.0.4', 'cred_def_id': 'T8ocwUDfMeVFzuVt5ExD2d:3:CL:78:default', 'key_correctness_proof': {'c': '52107450012393716658276840922141943071879573494137394097780168474698798253147', 'xz_cap': '139148645258613226626347981246961975652393106733119613398382688592840951320561832249075180863950988443113047108788044159794814665936648126736420993247424332021127586887543960341840715775691553773637189026664307439150991334430655337857768300981374881781985392451391952955391192398761881032584689234294903320724663759101569214008439981593693177049213247647421910228178283546804750704469440572080476716882546204953459071100156291546928204166088971574767342937864907313823744100239691443591532074453413894639995248301418109884482905670366054931676463905909476571133519835852286859741488370810922499117900809741866214305304419202891470140417800133868907135926054098711686105467863550013438036401475', 'xr_cap': [['expirationdate', '1129174636296200154082615320752649806328040185351623148645307152703062639242126382946902860486394600493988350186522568869352739969645298039826287183665209377329247117814329018153878269286367517708957266513360158051527472386269100624212954714068394578759135257726728736380681688097352284858918351607211409765121903050982602120525605754817886165523506657500196551140510435900073317609776129621547694785717494202237282149707736786229269598274265737925151099221387217196623439576489018437965452587233011827584274478861361799655407617809724544325669589482437325089904904808290787703085072233179860761094786736286386288585889843449142407187120184174579830262921296801764223369686758155663831609082198'], ['master_secret', '55270617261383841766858365911536555747210407787478726980205271812243018358232350995520770263351097793107072003809716411876038849216189208726735838606863214573192653583166336654325191103711577071772837283104362126324526311836004120684153412780834213527589976815154436762809125745850363796811659368308812720918293389065550993267693801353269968712105348300554258078551774520507118494620242891938431111795284825175663783537413886278342126375225849264011391973720747744012610028585805885184967509347183193522305922955113876863087960137356698443945986271566115315674297601218445262114354251895590111286790087234286972676428639153414231425251994225640704774501255939180778150576642806483708995266340'], ['manufacturer', '1056183618456905998058948011205757308185632287967238111932571907164036865335072762682078066439242888166763050991080232547314095057331925588713136528352750421757455177741434793691341403967760293093792674415259603046710553242301267318082651842443586249661346445232973352986578693328980900016003686565277645256899608268207164475668466226093139803624734837612149261101413561518937557889107490833810897173655299151328676229133254482484819266395659901950679097687198336090788722243171039168465461706787430114875888903289879589079087078671821701147109194315286983674321276394569016362683884140934550175379166175954616885646818958667188472117899194044222256750220395702889506571601558160135810940613669'], ['type', '262860204977975099899164257869136072804579578418317600697741752384546028807442556619455770220888106695120439440339255681389391344663946078874116967690176341929752349026275740792959441221461344819321656733063466994285793345120338898053531647469049468799597552097200114730470101558799752828900654828353558580814555075739374434953025532207567965492094976701236953774266156167077389434200868335279063061775217331367643799842228296986772529112107232501636390123137830710983835743917971834745391873805055698587657944242926880260349038450087364905919327212420235780999749662342108344402605416719215491428548016043637937169815500788278106421511641489223604576026353653260807804499029697976910709392249'], ['owner', '966592955870933190143212752001256592514588453742875646147627123559992762420558257147181006536911036042732939212521760929612582218529851018008181236631536251276787955538943401613655033452120937461673661811879453389701835151408697922093713949956111240569196344945673221094283532365304556608996011789123740946009820883062534823174305889024625767875937496799471096712031856062449050994030608081803425069799621689219276274899202347596216455339623983881240015966061362978742975117076352063454323243817663126218453944825714043746613769596249744840796994658151252188812714911752645839410773508539394255584935090588570433459614165678184267452544699423655113176021344701356125865299159960712182021872339'], ['productiondate', '24137894579506644852620877162998355718247029446753318280949793168091642650938669752746051066845175762527978341890937901477928026854662394027298278709222746890881480003469411426141606003641225473531877543870415752055142853469493920949880652367923695882220589467354770300679229407268759540241970841766554692757718255747470181930331975566951799638212050796752449575478278627409167788385240901828463259749602659093866295385230910237975722102152746654540744874586608820306942814322619102936233543302250256989021702129580272400614840814194272447916760283464020026274998240973437585411373352966783461956463949729344169184463701700284279609586832742167966058607931176065305535429757185012376293889717'], ['status', '1103996703853480540816260488510857894387163858878845974001617815526087757858186068936659231170260666633044125354844815760206657004939127177722357423759965403210056434927340850705823014116438477795636962712078398920015258829049507628092878381793606796153231238284730018373711901196909672280246236235002349084048879726138922355138826185785387511770217100379569170040592313909940802991998191727371742997441085749158046799110704153364723009381339702978218922649700289331359995704261843912529720819160027343889721285864767622258224419183410162837201095556848989502183072247822016932573720489766167490272964490058247648571533111982332931073176920763197645018472499045677032515073135242037471445836784']]}, 'nonce': '509948829360041039736406'}, 'credential_definition_id': 'T8ocwUDfMeVFzuVt5ExD2d:3:CL:78:default', 'updated_at': '2023-01-06 05:01:04.913587Z'}]}\n"
     ]
    }
   ],
   "source": [
    "response = await agent_controller.issuer.get_records()\n",
    "print(response)"
   ]
  },
  {
   "cell_type": "code",
   "execution_count": 5,
   "id": "66afa864-7c1f-4bf3-ba62-afd2045c7de0",
   "metadata": {},
   "outputs": [
    {
     "name": "stdout",
     "output_type": "stream",
     "text": [
      "Credential exchange 603cf9e1-8a88-4335-9246-6e887bb66a4b, role: holder, state: offer_received\n",
      "Being offered: [{'name': 'ProductionDate', 'value': '1672981261'}, {'name': 'ExpirationDate', 'value': '1704517261'}, {'name': 'Manufacturer', 'value': 'GOOD_COMPANY'}, {'name': 'Owner', 'value': 'GOOD_SELLER'}, {'name': 'Type', 'value': 'Dentistry'}, {'name': 'Status', 'value': '1'}]\n"
     ]
    }
   ],
   "source": [
    "response = await agent_controller.issuer.get_records()\n",
    "results = response[\"results\"]\n",
    "if len(results) == 0:\n",
    "    print(\"You need to first send a credential from the issuer notebook (Alice)\")\n",
    "else:\n",
    "    cred_record = results[0]\n",
    "    cred_ex_id = cred_record['credential_exchange_id']\n",
    "    state = cred_record['state']\n",
    "    role = cred_record['role']\n",
    "    attributes = results[0]['credential_proposal_dict']['credential_proposal']['attributes']\n",
    "    print(f\"Credential exchange {cred_ex_id}, role: {role}, state: {state}\")\n",
    "    print(f\"Being offered: {attributes}\")"
   ]
  },
  {
   "cell_type": "markdown",
   "id": "0b4d8091-f331-4166-8aeb-0cfdfc40e307",
   "metadata": {},
   "source": [
    "### 9. Send Request for Record"
   ]
  },
  {
   "cell_type": "code",
   "execution_count": 6,
   "id": "c220f1f3-38a2-4a39-9239-c2fa1dfe9128",
   "metadata": {},
   "outputs": [
    {
     "name": "stdout",
     "output_type": "stream",
     "text": [
      "Credential exchange 603cf9e1-8a88-4335-9246-6e887bb66a4b, role: holder, state: request_sent\n",
      "Handle Credentials\n",
      "Credential exchange 603cf9e1-8a88-4335-9246-6e887bb66a4b, role: holder, state: request_sent\n",
      "Attributes: [{'name': 'ProductionDate', 'value': '1672981261'}, {'name': 'ExpirationDate', 'value': '1704517261'}, {'name': 'Manufacturer', 'value': 'GOOD_COMPANY'}, {'name': 'Owner', 'value': 'GOOD_SELLER'}, {'name': 'Type', 'value': 'Dentistry'}, {'name': 'Status', 'value': '1'}]\n",
      "Handle Credentials\n",
      "Credential exchange 603cf9e1-8a88-4335-9246-6e887bb66a4b, role: holder, state: credential_received\n",
      "Attributes: [{'name': 'ProductionDate', 'value': '1672981261'}, {'name': 'ExpirationDate', 'value': '1704517261'}, {'name': 'Manufacturer', 'value': 'GOOD_COMPANY'}, {'name': 'Owner', 'value': 'GOOD_SELLER'}, {'name': 'Type', 'value': 'Dentistry'}, {'name': 'Status', 'value': '1'}]\n"
     ]
    }
   ],
   "source": [
    "record = await agent_controller.issuer.send_request_for_record(cred_ex_id)\n",
    "state = record['state']\n",
    "role = record['role']\n",
    "print(f\"Credential exchange {cred_ex_id}, role: {role}, state: {state}\")"
   ]
  },
  {
   "cell_type": "markdown",
   "id": "74842d33-4b8d-41b9-9bbf-89a975a3edcc",
   "metadata": {},
   "source": [
    "### 10. Get Record"
   ]
  },
  {
   "cell_type": "code",
   "execution_count": 7,
   "id": "41660a42-d836-4cf3-96d8-489d4166bf5a",
   "metadata": {},
   "outputs": [
    {
     "name": "stdout",
     "output_type": "stream",
     "text": [
      "Credential exchange 603cf9e1-8a88-4335-9246-6e887bb66a4b, role: holder, state: credential_received\n"
     ]
    }
   ],
   "source": [
    "record = await agent_controller.issuer.get_record_by_id(cred_ex_id)\n",
    "state = record['state']\n",
    "role = record['role']\n",
    "print(f\"Credential exchange {cred_ex_id}, role: {role}, state: {state}\")"
   ]
  },
  {
   "cell_type": "markdown",
   "id": "8875e460-0b28-451e-bd2f-5fbb99ab3ef9",
   "metadata": {},
   "source": [
    "### 11. Seller store the credential in his wallet"
   ]
  },
  {
   "cell_type": "code",
   "execution_count": 8,
   "id": "d44c80ca-ed41-491a-ba03-4434a4b68c63",
   "metadata": {},
   "outputs": [
    {
     "name": "stdout",
     "output_type": "stream",
     "text": [
      "Handle Credentials\n",
      "Credential exchange 603cf9e1-8a88-4335-9246-6e887bb66a4b, role: holder, state: credential_acked\n",
      "Attributes: [{'name': 'ProductionDate', 'value': '1672981261'}, {'name': 'ExpirationDate', 'value': '1704517261'}, {'name': 'Manufacturer', 'value': 'GOOD_COMPANY'}, {'name': 'Owner', 'value': 'GOOD_SELLER'}, {'name': 'Type', 'value': 'Dentistry'}, {'name': 'Status', 'value': '1'}]\n",
      "Credential exchange 603cf9e1-8a88-4335-9246-6e887bb66a4b, role: holder, state: credential_acked\n"
     ]
    }
   ],
   "source": [
    "response = await agent_controller.issuer.store_credential(cred_ex_id, \"My Device Credential_0\")\n",
    "state = response['state']\n",
    "role = response['role']\n",
    "print(f\"Credential exchange {cred_ex_id}, role: {role}, state: {state}\")"
   ]
  },
  {
   "cell_type": "markdown",
   "id": "fc20ab6d-dfb4-4a2e-842f-50c6d839059f",
   "metadata": {},
   "source": [
    "## **Terminate**"
   ]
  },
  {
   "cell_type": "code",
   "execution_count": 9,
   "id": "59d25222-8bad-4e04-a573-f0b6c9a305dc",
   "metadata": {},
   "outputs": [],
   "source": [
    "response = await agent_controller.terminate()\n"
   ]
  },
  {
   "cell_type": "code",
   "execution_count": null,
   "id": "abff3934-9ed5-47a4-acb5-98c260c09735",
   "metadata": {},
   "outputs": [],
   "source": []
  }
 ],
 "metadata": {
  "kernelspec": {
   "display_name": "Python 3 (ipykernel)",
   "language": "python",
   "name": "python3"
  },
  "language_info": {
   "codemirror_mode": {
    "name": "ipython",
    "version": 3
   },
   "file_extension": ".py",
   "mimetype": "text/x-python",
   "name": "python",
   "nbconvert_exporter": "python",
   "pygments_lexer": "ipython3",
   "version": "3.10.8"
  }
 },
 "nbformat": 4,
 "nbformat_minor": 5
}
