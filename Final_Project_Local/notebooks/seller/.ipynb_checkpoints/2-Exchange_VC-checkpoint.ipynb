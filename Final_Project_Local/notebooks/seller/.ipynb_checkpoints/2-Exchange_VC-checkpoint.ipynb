{
 "cells": [
  {
   "cell_type": "code",
   "execution_count": 1,
   "id": "7ddbe24b-5f20-4706-8a81-ee01ac4e581a",
   "metadata": {},
   "outputs": [
    {
     "name": "stdout",
     "output_type": "stream",
     "text": [
      "IPython autoawait is `on`, and set to use `asyncio`\n"
     ]
    }
   ],
   "source": [
    "%autoawait\n",
    "import time\n",
    "import asyncio\n",
    "from termcolor import colored,cprint\n",
    "\n",
    "from aries_basic_controller.aries_controller import AriesAgentController\n",
    "\n",
    "WEBHOOK_HOST = \"0.0.0.0\"\n",
    "WEBHOOK_PORT = 8022\n",
    "WEBHOOK_BASE = \"\"\n",
    "ADMIN_URL = \"http://seller-agent:8021\"\n",
    "\n",
    "# Based on the aca-py agent you wish to control\n",
    "agent_controller = AriesAgentController(admin_url=ADMIN_URL)\n"
   ]
  },
  {
   "cell_type": "code",
   "execution_count": 2,
   "id": "86187b3a-d966-48b8-b23e-ce417b918227",
   "metadata": {},
   "outputs": [],
   "source": [
    "agent_controller.init_webhook_server(webhook_host=WEBHOOK_HOST,\n",
    "                                     webhook_port=WEBHOOK_PORT,\n",
    "                                     webhook_base=WEBHOOK_BASE)"
   ]
  },
  {
   "cell_type": "code",
   "execution_count": 3,
   "id": "2dbab427-75b3-4481-a099-86a9c83feb31",
   "metadata": {},
   "outputs": [
    {
     "name": "stdout",
     "output_type": "stream",
     "text": [
      "Subscribing too: issue_credential\n",
      "Handle Credentials\n",
      "Credential exchange a7267cc2-d107-42c5-b1b1-15e4b0ba984c, role: holder, state: offer_received\n",
      "Attributes: [{'name': 'ProductionDate', 'value': '1672706006'}, {'name': 'ExpirationDate', 'value': '1704242006'}, {'name': 'Manufacturer', 'value': 'GOOD_COMPANY'}, {'name': 'Owner', 'value': 'GOOD_SELLER'}, {'name': 'Type', 'value': 'Dentistry'}, {'name': 'Status', 'value': '1'}]\n"
     ]
    }
   ],
   "source": [
    "loop = asyncio.get_event_loop()\n",
    "loop.create_task(agent_controller.listen_webhooks())\n",
    "def cred_handler(payload):\n",
    "    print(\"Handle Credentials\")\n",
    "    exchange_id = payload['credential_exchange_id']\n",
    "    state = payload['state']\n",
    "    role = payload['role']\n",
    "    attributes = payload['credential_proposal_dict']['credential_proposal']['attributes']\n",
    "    print(f\"Credential exchange {exchange_id}, role: {role}, state: {state}\")\n",
    "    print(f\"Attributes: {attributes}\")\n",
    "    \n",
    "cred_listener = {\n",
    "    \"topic\": \"issue_credential\",\n",
    "    \"handler\": cred_handler\n",
    "}\n",
    "agent_controller.register_listeners([cred_listener], defaults=True)"
   ]
  },
  {
   "cell_type": "markdown",
   "id": "7f16a79b-2abb-440c-a9a7-719d2bd8d6fc",
   "metadata": {},
   "source": [
    "### Go to manufacturer notebook to send credential"
   ]
  },
  {
   "cell_type": "code",
   "execution_count": 4,
   "id": "1880780b-2f67-4c20-afd4-2b93b12fefef",
   "metadata": {},
   "outputs": [
    {
     "name": "stdout",
     "output_type": "stream",
     "text": [
      "{'results': [{'initiator': 'external', 'role': 'holder', 'state': 'offer_received', 'credential_offer': {'schema_id': 'PQRXDxdGqQGSZ8z69p4xZP:2:Device_schema3:0.0.1', 'cred_def_id': 'PQRXDxdGqQGSZ8z69p4xZP:3:CL:40:default', 'key_correctness_proof': {'c': '13029603041484820009090678822072701724751145947394037282597925237928789573163', 'xz_cap': '183003331321796160186595089194783916801406320157366204546170929777535321731341451810594508675316176708937413333811809693315378369654138021199682260249334614794978681778582401541820207316317895433070716225666838354612872861103287205366533182906727146276997691483193712712109995006910862738218356221314765175650671428680831797740669805457090486047563586933182479190221961558061791111767070714310114558317565921350782212825738763880324033020280643922136499682289589574573915176821803523788184123975430765622732867708076550261933251995442462987147358880748491562383674274897195875507291458836671849012317226980555924658022981544398057733664456728345513397543119680244057751698477517068447328895487', 'xr_cap': [['type', '99308490092376290657936102655942660902747556997164622646074953475186564379648710064464716041866937511385641974404738001825272788654167888741375044109019558467421797209871097533054958436830731243619768875665274961993471955988535929214021499072260997673609242477758091771344111729956416600030142555591983199694119800297341717735334258232503507663250764964386129189744885148294823212588775559113559448301576030528275390675659940023389225975649732643862533747054640412146035080695232775374179108504377746206547572095097746789034029134769526006701637804269322234834771822767514962502456175160374819010391952585450757425271754323226580977237329840872821370249249474692039025085243433354177244082793'], ['status', '111466810037802426384766270348121369042053120342258775911183112477346604246796906046770126025494204874151754331657809751565097269085382614306071099785915126113513498341249128811657770612269276106751278272369290653776642480353107218126835307030878503502537408093042264581389316249067103358674796280354024489750488279644363039289516886623114816913331138096814636863018310897013156328516414483356859322209288136005105141018491412159865663299895865363962818551736832012141509276802912751435935115502370455116860650781742290366942748236969662834950609024004142835695403944433092864259562397304739551405275899782768927810893498219903029301810393377136650065251905938237403001019941657440926103297934'], ['productiondate', '3198119774790319654202866122758227142825964037101636530742630905563837900072740488408128174301443805866700584314140648314218345932389891387779546394484873450340310322906772131816242119652654007060592873323367969648385695481318834013162730962853570281435248751167012906907007316775760092558590379241112132843430111419261738992813832254547645133006786806712508445780257418449138505386429071929021565241148024770372472274097359841956365810527906706681519330616322258556872540951454657496698646367355918535950427455987492453609083784686663215943195535954393407369338728017237667707595573065746478418069915081373415667253362981332354139627754122591547936615445845613133586890308956322926770966028'], ['master_secret', '42347067450927412978995531169683880177484552238543112216690679371616283892260748935028050917880867167317670008338735908676801386728526147760681156780822782889077797432779681379005158260940322550719662270705086323659764365367516229153326525380518615544800897050859544452370216146492041677990055635461435037281095650945553273766705174410316146921820605537525487798789312078893549050242639386076173285938962029208814832865847815537617442426097075845884730499989063081353840647572685953208018121009585993631974755323525184244779376304741907506615598476459217381677996140108112174442379628530819093526559567941421172799319746829917692284492287591118587550207115634772770137926847546424910755951811'], ['expirationdate', '229958630288341977228028437782001254309132641237301963199649570380840902742314610052665281070683889408424626121113037791012723470742163383917203474197043028117888396531370868150822262304370514815633807476372480786035271956325035941775967143739257112323612675932628736219869637283597640259256175713173551888794332595203413637495419395644882794820423977286018230922555593932727520448705321772930192440326092633253538879119894779206171677420317140904062099412116961921661106755302936977137120374557557075398420970706954816987914600227799155917061245971961690742950571993541451605536556653298103287154856274082700767638228349876922417644689832303257503723031845008906284826143059090895437824176463'], ['owner', '130010212186937977602498613668323052245436742804051648638153065908343370373890611406127308055381909469434465728761023563320512265449750494116363933048329148183286444939423643920535259108118048890779247920054720433473710986235923196452869184013785158477539601037834747346941487623874972977874073874072245831435815870211384584078428339842131315215105253042579786956346261316628301558075611719041477758411647943985722261411472574711248931145954548025094694001681133365238166582516864081345434841660816031225356016281337588328218155688562302544306065564704874040887189898411785191201661380408933834287792525221632743011073332880533286158476416384868778303576680140258863003923809861605424675020163'], ['manufacturer', '202071656365974471091472820114050256318907576066215448049611286635039360837958189932107935646888891069607368585366802824567717998641850667903989094827987523686418225083290567254834329634698860791694806595407544795409030325582218624951162228329528389745727811523742390227391048495279113850300070863543323386345756117788127906582199210294727587203761673373799902576656384166513683019392875644198502983963724989558435505421447144285793366705935635576824204463268177310951192828540201621504786094321896187418316191747230653854871209848002026242487728138381730733499916529747354563123121603212113953999456099481515304524973506852054023819077900720359069937893438814408600812999267198447000018401366']]}, 'nonce': '1169754556600000230782494'}, 'trace': True, 'created_at': '2023-01-03 00:33:30.319210Z', 'schema_id': 'PQRXDxdGqQGSZ8z69p4xZP:2:Device_schema3:0.0.1', 'credential_proposal_dict': {'@type': 'did:sov:BzCbsNYhMrjHiqZDTUASHg;spec/issue-credential/1.0/propose-credential', '@id': '2002a06f-a971-47f7-83b9-137a49f15e91', 'schema_id': 'PQRXDxdGqQGSZ8z69p4xZP:2:Device_schema3:0.0.1', 'credential_proposal': {'@type': 'did:sov:BzCbsNYhMrjHiqZDTUASHg;spec/issue-credential/1.0/credential-preview', 'attributes': [{'name': 'ProductionDate', 'value': '1672706006'}, {'name': 'ExpirationDate', 'value': '1704242006'}, {'name': 'Manufacturer', 'value': 'GOOD_COMPANY'}, {'name': 'Owner', 'value': 'GOOD_SELLER'}, {'name': 'Type', 'value': 'Dentistry'}, {'name': 'Status', 'value': '1'}]}, 'comment': 'create automated credential exchange', 'cred_def_id': 'PQRXDxdGqQGSZ8z69p4xZP:3:CL:40:default'}, 'credential_exchange_id': 'a7267cc2-d107-42c5-b1b1-15e4b0ba984c', 'credential_definition_id': 'PQRXDxdGqQGSZ8z69p4xZP:3:CL:40:default', 'thread_id': 'ced4a55f-2604-4ae7-85ac-464ae21f9253', 'connection_id': '65578dc1-324d-4642-833d-d4eededc98cc', 'auto_issue': False, 'auto_offer': False, 'updated_at': '2023-01-03 00:33:30.319210Z', 'auto_remove': True}]}\n"
     ]
    }
   ],
   "source": [
    "response = await agent_controller.issuer.get_records()\n",
    "print(response)"
   ]
  },
  {
   "cell_type": "code",
   "execution_count": 5,
   "id": "66afa864-7c1f-4bf3-ba62-afd2045c7de0",
   "metadata": {},
   "outputs": [
    {
     "name": "stdout",
     "output_type": "stream",
     "text": [
      "Credential exchange a7267cc2-d107-42c5-b1b1-15e4b0ba984c, role: holder, state: offer_received\n",
      "Being offered: [{'name': 'ProductionDate', 'value': '1672706006'}, {'name': 'ExpirationDate', 'value': '1704242006'}, {'name': 'Manufacturer', 'value': 'GOOD_COMPANY'}, {'name': 'Owner', 'value': 'GOOD_SELLER'}, {'name': 'Type', 'value': 'Dentistry'}, {'name': 'Status', 'value': '1'}]\n"
     ]
    }
   ],
   "source": [
    "response = await agent_controller.issuer.get_records()\n",
    "results = response[\"results\"]\n",
    "if len(results) == 0:\n",
    "    print(\"You need to first send a credential from the issuer notebook (Alice)\")\n",
    "else:\n",
    "    cred_record = results[0]\n",
    "    cred_ex_id = cred_record['credential_exchange_id']\n",
    "    state = cred_record['state']\n",
    "    role = cred_record['role']\n",
    "    attributes = results[0]['credential_proposal_dict']['credential_proposal']['attributes']\n",
    "    print(f\"Credential exchange {cred_ex_id}, role: {role}, state: {state}\")\n",
    "    print(f\"Being offered: {attributes}\")"
   ]
  },
  {
   "cell_type": "code",
   "execution_count": 6,
   "id": "c220f1f3-38a2-4a39-9239-c2fa1dfe9128",
   "metadata": {},
   "outputs": [
    {
     "name": "stdout",
     "output_type": "stream",
     "text": [
      "Handle Credentials\n",
      "Credential exchange a7267cc2-d107-42c5-b1b1-15e4b0ba984c, role: holder, state: request_sent\n",
      "Attributes: [{'name': 'ProductionDate', 'value': '1672706006'}, {'name': 'ExpirationDate', 'value': '1704242006'}, {'name': 'Manufacturer', 'value': 'GOOD_COMPANY'}, {'name': 'Owner', 'value': 'GOOD_SELLER'}, {'name': 'Type', 'value': 'Dentistry'}, {'name': 'Status', 'value': '1'}]\n",
      "Credential exchange a7267cc2-d107-42c5-b1b1-15e4b0ba984c, role: holder, state: request_sent\n",
      "Handle Credentials\n",
      "Credential exchange a7267cc2-d107-42c5-b1b1-15e4b0ba984c, role: holder, state: credential_received\n",
      "Attributes: [{'name': 'ProductionDate', 'value': '1672706006'}, {'name': 'ExpirationDate', 'value': '1704242006'}, {'name': 'Manufacturer', 'value': 'GOOD_COMPANY'}, {'name': 'Owner', 'value': 'GOOD_SELLER'}, {'name': 'Type', 'value': 'Dentistry'}, {'name': 'Status', 'value': '1'}]\n"
     ]
    }
   ],
   "source": [
    "record = await agent_controller.issuer.send_request_for_record(cred_ex_id)\n",
    "state = record['state']\n",
    "role = record['role']\n",
    "print(f\"Credential exchange {cred_ex_id}, role: {role}, state: {state}\")"
   ]
  },
  {
   "cell_type": "code",
   "execution_count": 7,
   "id": "41660a42-d836-4cf3-96d8-489d4166bf5a",
   "metadata": {},
   "outputs": [
    {
     "name": "stdout",
     "output_type": "stream",
     "text": [
      "Credential exchange a7267cc2-d107-42c5-b1b1-15e4b0ba984c, role: holder, state: credential_received\n"
     ]
    }
   ],
   "source": [
    "record = await agent_controller.issuer.get_record_by_id(cred_ex_id)\n",
    "state = record['state']\n",
    "role = record['role']\n",
    "print(f\"Credential exchange {cred_ex_id}, role: {role}, state: {state}\")"
   ]
  },
  {
   "cell_type": "markdown",
   "id": "8875e460-0b28-451e-bd2f-5fbb99ab3ef9",
   "metadata": {},
   "source": [
    "### Seller store the credential in his wallet"
   ]
  },
  {
   "cell_type": "code",
   "execution_count": 8,
   "id": "d44c80ca-ed41-491a-ba03-4434a4b68c63",
   "metadata": {},
   "outputs": [
    {
     "name": "stdout",
     "output_type": "stream",
     "text": [
      "Handle Credentials\n",
      "Credential exchange a7267cc2-d107-42c5-b1b1-15e4b0ba984c, role: holder, state: credential_acked\n",
      "Attributes: [{'name': 'ProductionDate', 'value': '1672706006'}, {'name': 'ExpirationDate', 'value': '1704242006'}, {'name': 'Manufacturer', 'value': 'GOOD_COMPANY'}, {'name': 'Owner', 'value': 'GOOD_SELLER'}, {'name': 'Type', 'value': 'Dentistry'}, {'name': 'Status', 'value': '1'}]\n",
      "Credential exchange a7267cc2-d107-42c5-b1b1-15e4b0ba984c, role: holder, state: credential_acked\n"
     ]
    }
   ],
   "source": [
    "response = await agent_controller.issuer.store_credential(cred_ex_id, \"My Device Credential\")\n",
    "state = response['state']\n",
    "role = response['role']\n",
    "print(f\"Credential exchange {cred_ex_id}, role: {role}, state: {state}\")"
   ]
  },
  {
   "cell_type": "code",
   "execution_count": 9,
   "id": "59d25222-8bad-4e04-a573-f0b6c9a305dc",
   "metadata": {},
   "outputs": [],
   "source": [
    "response = await agent_controller.terminate()\n"
   ]
  },
  {
   "cell_type": "code",
   "execution_count": null,
   "id": "2bac06ac-9e89-415f-b659-969736872982",
   "metadata": {},
   "outputs": [],
   "source": []
  }
 ],
 "metadata": {
  "kernelspec": {
   "display_name": "Python 3 (ipykernel)",
   "language": "python",
   "name": "python3"
  },
  "language_info": {
   "codemirror_mode": {
    "name": "ipython",
    "version": 3
   },
   "file_extension": ".py",
   "mimetype": "text/x-python",
   "name": "python",
   "nbconvert_exporter": "python",
   "pygments_lexer": "ipython3",
   "version": "3.10.8"
  }
 },
 "nbformat": 4,
 "nbformat_minor": 5
}
