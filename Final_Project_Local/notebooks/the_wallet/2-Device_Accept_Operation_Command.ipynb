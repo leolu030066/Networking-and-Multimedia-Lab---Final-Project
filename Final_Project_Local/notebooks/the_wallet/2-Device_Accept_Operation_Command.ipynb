{
 "cells": [
  {
   "cell_type": "markdown",
   "id": "d85f87d6-df45-495c-b8f3-eac5c9d92931",
   "metadata": {},
   "source": [
    "### 6. Setup"
   ]
  },
  {
   "cell_type": "code",
   "execution_count": 1,
   "id": "83f2fc27-597a-43ab-b8ec-fb0a8a25c1d9",
   "metadata": {},
   "outputs": [
    {
     "name": "stdout",
     "output_type": "stream",
     "text": [
      "IPython autoawait is `on`, and set to use `asyncio`\n"
     ]
    }
   ],
   "source": [
    "%autoawait\n",
    "import time\n",
    "import asyncio\n",
    "from termcolor import colored,cprint\n",
    "\n",
    "from aries_basic_controller.aries_controller import AriesAgentController\n",
    "\n",
    "WEBHOOK_HOST = \"0.0.0.0\"\n",
    "WEBHOOK_PORT = 7982\n",
    "WEBHOOK_BASE = \"\"\n",
    "ADMIN_URL = \"http://the_wallet-agent:7981\"\n",
    "\n",
    "# Based on the aca-py agent you wish to control\n",
    "agent_controller = AriesAgentController(admin_url=ADMIN_URL)\n"
   ]
  },
  {
   "cell_type": "code",
   "execution_count": 2,
   "id": "331bf147-b1a6-4e95-b60d-184a704d7d89",
   "metadata": {},
   "outputs": [],
   "source": [
    "agent_controller.init_webhook_server(webhook_host=WEBHOOK_HOST,\n",
    "                                     webhook_port=WEBHOOK_PORT,\n",
    "                                     webhook_base=WEBHOOK_BASE)\n"
   ]
  },
  {
   "cell_type": "code",
   "execution_count": 3,
   "id": "5ec0f98a-38f5-4ea8-ae26-266c60b37fcf",
   "metadata": {},
   "outputs": [
    {
     "name": "stdout",
     "output_type": "stream",
     "text": [
      "Subscribing too: issue_operation_credential\n"
     ]
    }
   ],
   "source": [
    "loop = asyncio.get_event_loop()\n",
    "loop.create_task(agent_controller.listen_webhooks())\n",
    "def cred_handler(payload):\n",
    "    print(\"Handle Credentials\")\n",
    "    exchange_id = payload['credential_exchange_id']\n",
    "    state = payload['state']\n",
    "    role = payload['role']\n",
    "    attributes = payload['credential_proposal_dict']['credential_proposal']['attributes']\n",
    "    print(f\"Credential exchange {exchange_id}, role: {role}, state: {state}\")\n",
    "    print(f\"Attributes: {attributes}\")\n",
    "    \n",
    "cred_listener = {\n",
    "    \"topic\": \"issue_operation_credential\",\n",
    "    \"handler\": cred_handler\n",
    "}\n",
    "agent_controller.register_listeners([cred_listener], defaults=True)"
   ]
  },
  {
   "cell_type": "markdown",
   "id": "359202f5-4cd3-46ef-b2fc-e04d296980cb",
   "metadata": {},
   "source": [
    "### 7. Go to hospital notebook to issue credential"
   ]
  },
  {
   "cell_type": "markdown",
   "id": "f8512011-4660-4fbe-a57e-975aa976441d",
   "metadata": {},
   "source": [
    "### 8. Get the Record"
   ]
  },
  {
   "cell_type": "code",
   "execution_count": 4,
   "id": "6692f94d-41a0-4407-83b6-bd4f71609a13",
   "metadata": {},
   "outputs": [
    {
     "name": "stdout",
     "output_type": "stream",
     "text": [
      "{'results': [{'auto_issue': False, 'schema_id': 'PEcmuSQ7G3z771J7dse1R5:2:Operation:0.0.5', 'role': 'holder', 'updated_at': '2023-01-06 05:13:25.585488Z', 'credential_definition_id': 'PEcmuSQ7G3z771J7dse1R5:3:CL:87:default', 'credential_offer': {'schema_id': 'PEcmuSQ7G3z771J7dse1R5:2:Operation:0.0.5', 'cred_def_id': 'PEcmuSQ7G3z771J7dse1R5:3:CL:87:default', 'key_correctness_proof': {'c': '58927600743692660555416866094847049558699470913006119651249499662498926774847', 'xz_cap': '1203692133746237943782214988568982890119930416088555910329486170197214803379739371706380871953184164484113717100096821911424407425567443251903696844864787010396722208992411938713728660306544176316552003946032682412398249666973888165020835196223760756313082953699237640920496223211785320479960545905019360649666887424558818194844649617681923747032268390941806484042596014803328291549627512859062683821648867543214262561780364572394627558308693140000815327792129135597777031807374499847306225043659802297705144151464315314133622330455303511406085449986863024708081514117273753517775314132606614012027447159483925737357864560518538266491245606118143479216400469467035284204498788609766268079880712', 'xr_cap': [['dose', '454950587399654446917189782532315702974276056361100144036825768400484569169122551415513920473296316937970889078915211808231601050260447338404944157870314111261613480533463017203429352907630653096232240210481231884592739797061906043883641964042936846241678165223714065223688413216685452770431728717664551891317022521973151519314700250995647702023857879889949896211621062850632394497320531954267932994266452076019798127064508584331658354433813189910418326626107145771480946195248487347467016040488998330141769504933976385623317518535279353683336446174799212566638032142485823596800819244718998452263090861724626817400853241079413502702438175994891724217876147845040797980123409825189835356758980'], ['type', '420877791755095920958628428937671807189758920416582454185119092228465597343627830169733866331748867435460277021567644788861768134338704132171420356990307542107122636374482826410696767547218028856899244906638729046018343275015238765087249074609616566752691785426726491794332998450723868717582269286775141708153307825819783469656551697248135527212028067197888770136031106185208882863121584089230505656922853308026138223407042703937693188316352413002880163326236285129485798525367014268180555214932699916912424587238006190532873309541348995720019333496011983018630871096041340370146542702982803391329968112711362690235231936592428025478303697729330916557586070937178067091271176751529662557617121'], ['master_secret', '271884697736585827403345029398720862826475210920187923284490356015010090308759305145142698449400881402609880863065267428509881852255802374638081116981580178533829846514115722946629168766396075809328816043169535202040248096224698573162858453370310691223492093341320996122542392058339488647018076275276063496838804062415058948471502283361466606768117786723456832819934027638151560271202541324023502105722927242092029595069036130179930427854877577667337634580165751490446047738664940555415806717621992276282281362183052119626022040095605934179380137234752828172226372856585309536728001267272697120787789249200752025816697214877976482146080796648041570657630196766016861900977123157557224262286120'], ['speed', '302870782765037832029183892019066287206018298928616227800557908232663532661199715388582679110872411335495651968392343390689006124609682558898377800475162431075321301515764410301552968256783595306406017399909103910929251296975055425091252520920992882699182634081005700762818420001688864320189144171184924574567526191624874786202751503335630600334503231249725023459434707843741928860655030176473141836414547989793196374123503455215374811588598480705601905742934831196172445789922790073103199410185770464619487383896737676315601266240339992519982484278906962540968420456922893483477501699453327655128478033292564619460677254475238929254242764118505226082469920758975986641369136553129565059391890'], ['volt', '336343519076351692312716209365845279078584563694607200224912301581827464693915340748688035163735082072339519681451932939176624023491092216998916343864805845696567744552404363715926432060904842293132795023934481565152006769155317747319146411147870355509353087508147368821259346887303521877106312002614539008689318528055828196544967850852719704924768633220628109963763504406913225368903449354107455562737975570879462007478841093807753937049819609837898544392579492437383911131242617294351381644673682355081639448054614157220032968024091942799957433634968662157512919082274382169775740730316108604489059241679550408372660707901129005328011016188245178065920874797731340203637974338457399621522993']]}, 'nonce': '59091289688293330813654'}, 'credential_proposal_dict': {'@type': 'did:sov:BzCbsNYhMrjHiqZDTUASHg;spec/issue-credential/1.0/propose-credential', '@id': '30d8ba32-bb0a-42c0-9410-314d6d310bcc', 'schema_id': 'PEcmuSQ7G3z771J7dse1R5:2:Operation:0.0.5', 'credential_proposal': {'@type': 'did:sov:BzCbsNYhMrjHiqZDTUASHg;spec/issue-credential/1.0/credential-preview', 'attributes': [{'name': 'type', 'value': 'drug_A'}, {'name': 'dose', 'value': '1'}, {'name': 'speed', 'value': '1'}, {'name': 'volt', 'value': '1'}]}, 'comment': 'create automated credential exchange', 'cred_def_id': 'PEcmuSQ7G3z771J7dse1R5:3:CL:87:default'}, 'connection_id': 'da28eb79-0431-4b7f-9af9-92ed004178a5', 'auto_offer': False, 'created_at': '2023-01-06 05:13:25.585488Z', 'state': 'offer_received', 'initiator': 'external', 'thread_id': '73c25c70-42d9-4410-8e5f-837dc02b36fa', 'auto_remove': True, 'credential_exchange_id': 'e67f9ded-fdaf-4217-94e1-8af7ec525a29', 'trace': False}]}\n"
     ]
    }
   ],
   "source": [
    "response = await agent_controller.issuer.get_records()\n",
    "print(response)"
   ]
  },
  {
   "cell_type": "code",
   "execution_count": 5,
   "id": "bc3096d4-013e-47d1-bb35-f14e167beb76",
   "metadata": {},
   "outputs": [
    {
     "name": "stdout",
     "output_type": "stream",
     "text": [
      "Credential exchange e67f9ded-fdaf-4217-94e1-8af7ec525a29, role: holder, state: offer_received\n",
      "Being offered: [{'name': 'type', 'value': 'drug_A'}, {'name': 'dose', 'value': '1'}, {'name': 'speed', 'value': '1'}, {'name': 'volt', 'value': '1'}]\n"
     ]
    }
   ],
   "source": [
    "response = await agent_controller.issuer.get_records()\n",
    "results = response[\"results\"]\n",
    "if len(results) == 0:\n",
    "    print(\"You need to first send a credential from the issuer notebook (Alice)\")\n",
    "else:\n",
    "    cred_record = results[0]\n",
    "    cred_ex_id = cred_record['credential_exchange_id']\n",
    "    state = cred_record['state']\n",
    "    role = cred_record['role']\n",
    "    attributes = results[0]['credential_proposal_dict']['credential_proposal']['attributes']\n",
    "    print(f\"Credential exchange {cred_ex_id}, role: {role}, state: {state}\")\n",
    "    print(f\"Being offered: {attributes}\")"
   ]
  },
  {
   "cell_type": "markdown",
   "id": "caa44810-c941-4ad3-b504-cd7be0009d9c",
   "metadata": {},
   "source": [
    "### 9. Send request for record"
   ]
  },
  {
   "cell_type": "code",
   "execution_count": 6,
   "id": "0d70f80e-3cb5-41b1-9a82-81300267a4c1",
   "metadata": {},
   "outputs": [
    {
     "name": "stdout",
     "output_type": "stream",
     "text": [
      "Credential exchange e67f9ded-fdaf-4217-94e1-8af7ec525a29, role: holder, state: request_sent\n"
     ]
    }
   ],
   "source": [
    "record = await agent_controller.issuer.send_request_for_record(cred_ex_id)\n",
    "state = record['state']\n",
    "role = record['role']\n",
    "print(f\"Credential exchange {cred_ex_id}, role: {role}, state: {state}\")"
   ]
  },
  {
   "cell_type": "markdown",
   "id": "d2734d83-b240-489c-9ee4-02d9acbe1816",
   "metadata": {},
   "source": [
    "### 10. Store Credential\n"
   ]
  },
  {
   "cell_type": "code",
   "execution_count": 7,
   "id": "9e755086-165b-4b27-9dd3-315626217920",
   "metadata": {},
   "outputs": [
    {
     "name": "stdout",
     "output_type": "stream",
     "text": [
      "Credential exchange e67f9ded-fdaf-4217-94e1-8af7ec525a29, role: holder, state: credential_acked\n"
     ]
    }
   ],
   "source": [
    "response = await agent_controller.issuer.store_credential(cred_ex_id, \"Operation n\")\n",
    "state = response['state']\n",
    "role = response['role']\n",
    "print(f\"Credential exchange {cred_ex_id}, role: {role}, state: {state}\")"
   ]
  },
  {
   "cell_type": "markdown",
   "id": "b3c6b934-def2-471b-8811-2c83e4becf27",
   "metadata": {},
   "source": [
    "You can get  credential by your credential id"
   ]
  },
  {
   "cell_type": "markdown",
   "id": "ecf52f3b-0715-42ef-96cc-550e8612fe07",
   "metadata": {},
   "source": [
    "### **Terminate**"
   ]
  },
  {
   "cell_type": "code",
   "execution_count": 8,
   "id": "90a2ade4-b4c9-41af-9f3d-02a6fb83a163",
   "metadata": {},
   "outputs": [
    {
     "name": "stdout",
     "output_type": "stream",
     "text": [
      "None\n"
     ]
    }
   ],
   "source": [
    "response = await agent_controller.terminate()\n",
    "print(response)"
   ]
  },
  {
   "cell_type": "code",
   "execution_count": null,
   "id": "266616b8-a6e9-451b-8061-c86b00fc1b2f",
   "metadata": {},
   "outputs": [],
   "source": []
  }
 ],
 "metadata": {
  "kernelspec": {
   "display_name": "Python 3 (ipykernel)",
   "language": "python",
   "name": "python3"
  },
  "language_info": {
   "codemirror_mode": {
    "name": "ipython",
    "version": 3
   },
   "file_extension": ".py",
   "mimetype": "text/x-python",
   "name": "python",
   "nbconvert_exporter": "python",
   "pygments_lexer": "ipython3",
   "version": "3.10.8"
  }
 },
 "nbformat": 4,
 "nbformat_minor": 5
}
