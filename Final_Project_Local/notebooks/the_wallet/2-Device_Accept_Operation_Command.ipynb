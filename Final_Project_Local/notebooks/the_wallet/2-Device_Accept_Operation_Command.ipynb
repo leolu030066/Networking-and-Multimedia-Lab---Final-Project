{
 "cells": [
  {
   "cell_type": "markdown",
   "id": "d85f87d6-df45-495c-b8f3-eac5c9d92931",
   "metadata": {},
   "source": [
    "### 6. Setup"
   ]
  },
  {
   "cell_type": "code",
   "execution_count": 1,
   "id": "83f2fc27-597a-43ab-b8ec-fb0a8a25c1d9",
   "metadata": {},
   "outputs": [
    {
     "name": "stdout",
     "output_type": "stream",
     "text": [
      "IPython autoawait is `on`, and set to use `asyncio`\n"
     ]
    }
   ],
   "source": [
    "%autoawait\n",
    "import time\n",
    "import asyncio\n",
    "from termcolor import colored,cprint\n",
    "\n",
    "from aries_basic_controller.aries_controller import AriesAgentController\n",
    "\n",
    "WEBHOOK_HOST = \"0.0.0.0\"\n",
    "WEBHOOK_PORT = 7982\n",
    "WEBHOOK_BASE = \"\"\n",
    "ADMIN_URL = \"http://the_wallet-agent:7981\"\n",
    "\n",
    "# Based on the aca-py agent you wish to control\n",
    "agent_controller = AriesAgentController(admin_url=ADMIN_URL)\n"
   ]
  },
  {
   "cell_type": "code",
   "execution_count": 2,
   "id": "331bf147-b1a6-4e95-b60d-184a704d7d89",
   "metadata": {},
   "outputs": [],
   "source": [
    "agent_controller.init_webhook_server(webhook_host=WEBHOOK_HOST,\n",
    "                                     webhook_port=WEBHOOK_PORT,\n",
    "                                     webhook_base=WEBHOOK_BASE)\n"
   ]
  },
  {
   "cell_type": "code",
   "execution_count": 3,
   "id": "5ec0f98a-38f5-4ea8-ae26-266c60b37fcf",
   "metadata": {},
   "outputs": [
    {
     "name": "stdout",
     "output_type": "stream",
     "text": [
      "Subscribing too: issue_operation_credential\n"
     ]
    }
   ],
   "source": [
    "loop = asyncio.get_event_loop()\n",
    "loop.create_task(agent_controller.listen_webhooks())\n",
    "def cred_handler(payload):\n",
    "    print(\"Handle Credentials\")\n",
    "    exchange_id = payload['credential_exchange_id']\n",
    "    state = payload['state']\n",
    "    role = payload['role']\n",
    "    attributes = payload['credential_proposal_dict']['credential_proposal']['attributes']\n",
    "    print(f\"Credential exchange {exchange_id}, role: {role}, state: {state}\")\n",
    "    print(f\"Attributes: {attributes}\")\n",
    "    \n",
    "cred_listener = {\n",
    "    \"topic\": \"issue_operation_credential\",\n",
    "    \"handler\": cred_handler\n",
    "}\n",
    "agent_controller.register_listeners([cred_listener], defaults=True)"
   ]
  },
  {
   "cell_type": "markdown",
   "id": "359202f5-4cd3-46ef-b2fc-e04d296980cb",
   "metadata": {},
   "source": [
    "### 7. Go to hospital notebook to issue credential"
   ]
  },
  {
   "cell_type": "markdown",
   "id": "f8512011-4660-4fbe-a57e-975aa976441d",
   "metadata": {},
   "source": [
    "### 8. Get the Record"
   ]
  },
  {
   "cell_type": "code",
   "execution_count": 4,
   "id": "6692f94d-41a0-4407-83b6-bd4f71609a13",
   "metadata": {},
   "outputs": [
    {
     "name": "stdout",
     "output_type": "stream",
     "text": [
      "{'results': [{'trace': False, 'state': 'offer_received', 'updated_at': '2023-01-05 11:02:25.762451Z', 'schema_id': 'PEcmuSQ7G3z771J7dse1R5:2:Operation:0.0.3', 'auto_offer': False, 'credential_proposal_dict': {'@type': 'did:sov:BzCbsNYhMrjHiqZDTUASHg;spec/issue-credential/1.0/propose-credential', '@id': '68658fa7-3dab-4c2c-a40a-f9a112d6a4ce', 'credential_proposal': {'@type': 'did:sov:BzCbsNYhMrjHiqZDTUASHg;spec/issue-credential/1.0/credential-preview', 'attributes': [{'name': 'type', 'value': 'drug_B'}, {'name': 'dose', 'value': '1'}, {'name': 'speed', 'value': '1'}, {'name': 'volt', 'value': '1'}]}, 'schema_id': 'PEcmuSQ7G3z771J7dse1R5:2:Operation:0.0.3', 'comment': 'create automated credential exchange', 'cred_def_id': 'PEcmuSQ7G3z771J7dse1R5:3:CL:48:default'}, 'role': 'holder', 'credential_definition_id': 'PEcmuSQ7G3z771J7dse1R5:3:CL:48:default', 'credential_exchange_id': '4ddc3c3f-cdc4-48ce-bbd5-f71fae4fa913', 'credential_offer': {'schema_id': 'PEcmuSQ7G3z771J7dse1R5:2:Operation:0.0.3', 'cred_def_id': 'PEcmuSQ7G3z771J7dse1R5:3:CL:48:default', 'key_correctness_proof': {'c': '19525498698500950961184892843024937857896884758090387575919519115794874219168', 'xz_cap': '109202784957815190693707034826848996070174232428791838789681261180594693603517670663665604451776914696585108835159799245229919586491427277786672085287286197723677705687239884266309453870959577319852923103572497815704135316052448018377591644763429451997103296389196050550708003685466714280063791049013843481587971902773548472212582679393415049992470316107345900743968764817162043465441225544457449225724610846273798265503900793946826243555247029015498269255714390187014726080541152099099471916522751628084755927160692244868706502078028696780717572092585909180680540368355069026330554997135715426966689146944977667464466402942370127534066388298145459689358865166502372431947983187162641918435621', 'xr_cap': [['dose', '468334047398635289232673465610683204626333801710822324014618747040756584386283836090971168026275548518223627799867512264842705842878919083761611765393850407063162012895220705455505701072373678721702131599562156835770498089912453681482452865301735447658043526110685911642566843141678255033239349682403338007114779218380368139049008622839767710903542367158035838334872999582542480066261110169886045670694048244511789719621841776320694851884772862603770346001676298824473782286965844580686174363155808563924146857212607191278960389401528554570814871251885959808185379800720392841432861744738573622757891349551993442300556260748842513842313827221191716784585187517912267360604612943575218122470506'], ['volt', '429973468110159548302940710444945696873391884437337639783524648037021010190662917654394403014624617543098083024892982790224215301670603032873499713300985535014538995808174521437129433947747225599283497538669759550932670254178074239266486611712443323796068171966569985584463388156536605276873205255296537701834744283658267555299680394701251539173812720326974022082475894060641501343775832997138124300049757035122655103260234887140115455603125773038800561861027974273957728924422114368886575219968471292346879797780558157227784349601490068020852033930730185239415335040635440099996739201668747838374198208685617862331887823129820157233163808305422243038079323717159688807617172483345092880949658'], ['master_secret', '3578566297228799833811835296633797060562900440547398620701671830768685503117637618044572716618045653379941312287734592141827224506686681721443332880421521048606027838910350351353145143242515165595369212642972475214172565065144648970711829831083615276231224599212606866440613894056524395202887259407982357082845878162720661024998915698141974138427061980560679439280036718395737157257640174568832145844992088892066371009242107016867513307505945991382231730510121093927967813016960820076445207301032271356843192537723633057528348565882317828522712423521007719964707317115949442313661428620988091193065135564578181936393992247094583291983941671740471140030355335384976555068428828756677454319634'], ['speed', '476855662377601838820930295577816570241057647914635118895032519370855896150016632395257794405675517165953574488744632074400328167012415100897745479602746187088358399144919272522677602338407192681706896856834143544706140463100469867639934952018976323197792397703181547464640184569581543690717638945823841411904798505749643245247112450584877284928820974479764350988127212802350776511940093692069530250690033592613238131077828916779268608260014718755886659399689665839334500689523174181901529924135710536027181843704877335217037073531303509599065049936763537293695914540036980266580259879142240866142937063787977066350475758984169220861738315238649907634948712993825232589025781412009824084183636'], ['type', '383136698143102207147538645891879662117764974650306557834897824191115994596768946784192229675799239788270117384046810950989506002056146139643076089047314045170377331566404902798834655273310569858318959725997163499713845538708827084803704707637081820691199908313428538717795613777118365707750535809639680294768306534494814575752648624190204232756659836644855322532576586040729439378013180198158908753068966560913775724318799658489974436419966602573522044370040758081180266408594743215713941487821805689788305241310991084387488243730006156365604140458930476894961805264398886494884387115117080327744993820276222028114601863382455757176063926263262665273382215969748010845680928392681874940946401']]}, 'nonce': '869210797126066980697890'}, 'connection_id': '719fea26-a7ba-494c-9bc3-b7e89f552fda', 'thread_id': '9ed816b7-dd5d-4d7b-b5e8-17fb40891ccc', 'created_at': '2023-01-05 11:02:25.762451Z', 'auto_issue': False, 'auto_remove': True, 'initiator': 'external'}]}\n"
     ]
    }
   ],
   "source": [
    "response = await agent_controller.issuer.get_records()\n",
    "print(response)"
   ]
  },
  {
   "cell_type": "code",
   "execution_count": 5,
   "id": "bc3096d4-013e-47d1-bb35-f14e167beb76",
   "metadata": {},
   "outputs": [
    {
     "name": "stdout",
     "output_type": "stream",
     "text": [
      "Credential exchange 4ddc3c3f-cdc4-48ce-bbd5-f71fae4fa913, role: holder, state: offer_received\n",
      "Being offered: [{'name': 'type', 'value': 'drug_B'}, {'name': 'dose', 'value': '1'}, {'name': 'speed', 'value': '1'}, {'name': 'volt', 'value': '1'}]\n"
     ]
    }
   ],
   "source": [
    "response = await agent_controller.issuer.get_records()\n",
    "results = response[\"results\"]\n",
    "if len(results) == 0:\n",
    "    print(\"You need to first send a credential from the issuer notebook (Alice)\")\n",
    "else:\n",
    "    cred_record = results[0]\n",
    "    cred_ex_id = cred_record['credential_exchange_id']\n",
    "    state = cred_record['state']\n",
    "    role = cred_record['role']\n",
    "    attributes = results[0]['credential_proposal_dict']['credential_proposal']['attributes']\n",
    "    print(f\"Credential exchange {cred_ex_id}, role: {role}, state: {state}\")\n",
    "    print(f\"Being offered: {attributes}\")"
   ]
  },
  {
   "cell_type": "markdown",
   "id": "caa44810-c941-4ad3-b504-cd7be0009d9c",
   "metadata": {},
   "source": [
    "### 9. Send request for record"
   ]
  },
  {
   "cell_type": "code",
   "execution_count": 6,
   "id": "0d70f80e-3cb5-41b1-9a82-81300267a4c1",
   "metadata": {},
   "outputs": [
    {
     "name": "stdout",
     "output_type": "stream",
     "text": [
      "Credential exchange 4ddc3c3f-cdc4-48ce-bbd5-f71fae4fa913, role: holder, state: request_sent\n"
     ]
    }
   ],
   "source": [
    "record = await agent_controller.issuer.send_request_for_record(cred_ex_id)\n",
    "state = record['state']\n",
    "role = record['role']\n",
    "print(f\"Credential exchange {cred_ex_id}, role: {role}, state: {state}\")"
   ]
  },
  {
   "cell_type": "markdown",
   "id": "d2734d83-b240-489c-9ee4-02d9acbe1816",
   "metadata": {},
   "source": [
    "### 10. Store Credential\n"
   ]
  },
  {
   "cell_type": "code",
   "execution_count": 7,
   "id": "9e755086-165b-4b27-9dd3-315626217920",
   "metadata": {},
   "outputs": [
    {
     "name": "stdout",
     "output_type": "stream",
     "text": [
      "Credential exchange 4ddc3c3f-cdc4-48ce-bbd5-f71fae4fa913, role: holder, state: credential_acked\n"
     ]
    }
   ],
   "source": [
    "response = await agent_controller.issuer.store_credential(cred_ex_id, \"Operation 0\")\n",
    "state = response['state']\n",
    "role = response['role']\n",
    "print(f\"Credential exchange {cred_ex_id}, role: {role}, state: {state}\")"
   ]
  },
  {
   "cell_type": "markdown",
   "id": "b3c6b934-def2-471b-8811-2c83e4becf27",
   "metadata": {},
   "source": [
    "You can get  credential by your credential id"
   ]
  },
  {
   "cell_type": "markdown",
   "id": "ecf52f3b-0715-42ef-96cc-550e8612fe07",
   "metadata": {},
   "source": [
    "### **Terminate**"
   ]
  },
  {
   "cell_type": "code",
   "execution_count": 8,
   "id": "90a2ade4-b4c9-41af-9f3d-02a6fb83a163",
   "metadata": {},
   "outputs": [
    {
     "name": "stdout",
     "output_type": "stream",
     "text": [
      "None\n"
     ]
    }
   ],
   "source": [
    "response = await agent_controller.terminate()\n",
    "print(response)"
   ]
  },
  {
   "cell_type": "code",
   "execution_count": null,
   "id": "266616b8-a6e9-451b-8061-c86b00fc1b2f",
   "metadata": {},
   "outputs": [],
   "source": []
  }
 ],
 "metadata": {
  "kernelspec": {
   "display_name": "Python 3 (ipykernel)",
   "language": "python",
   "name": "python3"
  },
  "language_info": {
   "codemirror_mode": {
    "name": "ipython",
    "version": 3
   },
   "file_extension": ".py",
   "mimetype": "text/x-python",
   "name": "python",
   "nbconvert_exporter": "python",
   "pygments_lexer": "ipython3",
   "version": "3.10.8"
  }
 },
 "nbformat": 4,
 "nbformat_minor": 5
}
