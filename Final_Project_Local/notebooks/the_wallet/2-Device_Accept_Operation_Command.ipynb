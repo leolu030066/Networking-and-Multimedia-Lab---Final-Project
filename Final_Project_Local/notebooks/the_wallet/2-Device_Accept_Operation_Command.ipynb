{
 "cells": [
  {
   "cell_type": "code",
   "execution_count": 4,
   "id": "83f2fc27-597a-43ab-b8ec-fb0a8a25c1d9",
   "metadata": {},
   "outputs": [
    {
     "name": "stderr",
     "output_type": "stream",
     "text": [
      "Unclosed client session\n",
      "client_session: <aiohttp.client.ClientSession object at 0x7ff3582372b0>\n"
     ]
    },
    {
     "name": "stdout",
     "output_type": "stream",
     "text": [
      "IPython autoawait is `on`, and set to use `asyncio`\n"
     ]
    }
   ],
   "source": [
    "%autoawait\n",
    "import time\n",
    "import asyncio\n",
    "from termcolor import colored,cprint\n",
    "\n",
    "from aries_basic_controller.aries_controller import AriesAgentController\n",
    "\n",
    "WEBHOOK_HOST = \"0.0.0.0\"\n",
    "WEBHOOK_PORT = 7982\n",
    "WEBHOOK_BASE = \"\"\n",
    "ADMIN_URL = \"http://the_wallet-agent:7981\"\n",
    "\n",
    "# Based on the aca-py agent you wish to control\n",
    "agent_controller = AriesAgentController(admin_url=ADMIN_URL)\n"
   ]
  },
  {
   "cell_type": "code",
   "execution_count": 5,
   "id": "331bf147-b1a6-4e95-b60d-184a704d7d89",
   "metadata": {},
   "outputs": [],
   "source": [
    "agent_controller.init_webhook_server(webhook_host=WEBHOOK_HOST,\n",
    "                                     webhook_port=WEBHOOK_PORT,\n",
    "                                     webhook_base=WEBHOOK_BASE)\n"
   ]
  },
  {
   "cell_type": "code",
   "execution_count": 6,
   "id": "5ec0f98a-38f5-4ea8-ae26-266c60b37fcf",
   "metadata": {},
   "outputs": [
    {
     "name": "stdout",
     "output_type": "stream",
     "text": [
      "Subscribing too: issue_operation_credential\n"
     ]
    },
    {
     "name": "stderr",
     "output_type": "stream",
     "text": [
      "Listening webhooks failed! OSError(98, \"error while attempting to bind on address ('0.0.0.0', 7982): address already in use\") occurred.\n"
     ]
    }
   ],
   "source": [
    "loop = asyncio.get_event_loop()\n",
    "loop.create_task(agent_controller.listen_webhooks())\n",
    "def cred_handler(payload):\n",
    "    print(\"Handle Credentials\")\n",
    "    exchange_id = payload['credential_exchange_id']\n",
    "    state = payload['state']\n",
    "    role = payload['role']\n",
    "    attributes = payload['credential_proposal_dict']['credential_proposal']['attributes']\n",
    "    print(f\"Credential exchange {exchange_id}, role: {role}, state: {state}\")\n",
    "    print(f\"Attributes: {attributes}\")\n",
    "    \n",
    "cred_listener = {\n",
    "    \"topic\": \"issue_operation_credential\",\n",
    "    \"handler\": cred_handler\n",
    "}\n",
    "agent_controller.register_listeners([cred_listener], defaults=True)"
   ]
  },
  {
   "cell_type": "code",
   "execution_count": 4,
   "id": "6692f94d-41a0-4407-83b6-bd4f71609a13",
   "metadata": {},
   "outputs": [
    {
     "name": "stdout",
     "output_type": "stream",
     "text": [
      "{'results': [{'credential_exchange_id': '2df8b4d0-036e-499a-97ca-f280a64818b6', 'schema_id': 'PEcmuSQ7G3z771J7dse1R5:2:Operation:0.0.1', 'auto_issue': False, 'updated_at': '2023-01-05 09:28:40.562913Z', 'connection_id': 'fc385e08-b61e-4f85-96fe-68b2116d5a5d', 'state': 'offer_received', 'credential_offer': {'schema_id': 'PEcmuSQ7G3z771J7dse1R5:2:Operation:0.0.1', 'cred_def_id': 'PEcmuSQ7G3z771J7dse1R5:3:CL:42:default', 'key_correctness_proof': {'c': '42708810129381310593731787285905928927780621002191234228031353474026709822978', 'xz_cap': '37087548935742989125417637171356295772318137931046285299356114644428111180830539376120045214373423481671450372399435514755314641572140478767555138501745473888615860406653009354400747858737972635912822665960281767789516290293571211399335727034751475463363415411337555898121477412424847882788458452579527379028995088168155078711052853168729441354553870158222039972037071208424832797133834588277019110290288701438423400689097516849676919384533308256596121750047644546230399275648627474957739927738576081179414870851542714500575754274359036942691928659058499189572404166677853295413385401592359051076076254155748341906078418327073483315291686857421905025927552710011305984017745115247352512260591', 'xr_cap': [['speed', '600296611681013338089682415798332974574809863513826627622900663823663183980553611777735747291480310337284153392765674417332283232607443430710851108032054432649572190157049584817263656734312597230346307968925834165784908864017835027316283781095143786422018718456066983912074029573498618247739659212979150615997707442929688458172508776776689258874165371031494747960690146179858648869333827755266977498967094179564282851834581940977402205318253522121732218139162644624485940027218923247757907485358502381292848474654725816741844002139558839095447560443654054003105231483328980443929188772179448892955336245255149371988932474859059564300922815944047631533873991076795189700991982083464751282312855'], ['master_secret', '868226797466754176415036469734418241333080947172873200950207688228342878740353930468815990262404786745952804961393549003783078240746275889426970524051922120020031308972939427206314089563680783413913408663098030464482551835380034543671193814180289294318225517100441136565651351980509662025738010552921601863790701309669035367504117531680034968644108843177946026881012955088952144870088425164824754317506772587392595975331679808153239096292058972382640189259976560891420563733976517893802468872580321256993748518908862315659258657469165065248744521119512890992901213217732643960022694294893181058232600755420389558422843128294282948170163694445645554675669304677370153022866006110215152801536465'], ['type', '187217302797439524367342091043073779506848938825686594589503521024421690382871600584718159846802939233595975968400588059898065276140095473949392005823551629817515293095741074932459652782087809709688066504782054296501329447718219050984081597451002105726758299113325964647468531765481053935023553138531356115622210216742853629828562125341949627147278395590793530477264284778821738291479613590027980654345350160362367729622649372321535727838728252777389540820008810300933547663140107021393536850356431266298148149435699769476246989136347422578056204725312356488697757518675209214193468295798779300691205201034447437039283508278111817442628643570629270171848898206086810900767366627438600970131892'], ['dose', '231950560540629744126967312104009290743199955984194912301555340778417909981401134079589609048041398422851145581965334802216799995453782612412024034760817175986071289802970060608615488662554654707119878268010266797074728723063547867346397941554469792831738079747466069266588249776786397808571363194254345820208894594483909696874057637183446352698720941023128028861136104171547323568951366246878397826532744044886466196712116635274278884630046886843679056221627156388355059194663245715170933574037864619289584021588531005424930444934739471006983196729484668732290705661203773832024711373116871217027984961604631809420843687458381063467378986553819141278730868533441245435943351678323294573072957'], ['volt', '160410056367670060883750319204739588098067675182893591188893363512540235376436701256073766373254145214601190458752994029250648361731836795501111431809002788832868108104430668536882335719107111752809965451188113336804930681007939373367766039467584968259515524310690683511420569168781970086455827378310420742927604299279579853476846197968545783009662798736871956365051683017102904075518562412567978854365759402508229266499845749106021624574540239553397478417744055678205546738705720706676547805329137614464746650254933025060330939142934825186482890450065612349105590335115288528419217032510486136052650113313187900088709212163995703254410443518392164224390012102862018906171202715055745330676861']]}, 'nonce': '981888238269812318823489'}, 'initiator': 'external', 'auto_offer': False, 'thread_id': '700adb00-c1e7-46e5-bc0c-5bdb046e8555', 'credential_proposal_dict': {'@type': 'did:sov:BzCbsNYhMrjHiqZDTUASHg;spec/issue-credential/1.0/propose-credential', '@id': '507a1580-ae1e-4326-b10e-1517bae700fb', 'comment': 'create automated credential exchange', 'schema_id': 'PEcmuSQ7G3z771J7dse1R5:2:Operation:0.0.1', 'cred_def_id': 'PEcmuSQ7G3z771J7dse1R5:3:CL:42:default', 'credential_proposal': {'@type': 'did:sov:BzCbsNYhMrjHiqZDTUASHg;spec/issue-credential/1.0/credential-preview', 'attributes': [{'name': 'type', 'value': 'drug_A'}, {'name': 'dose', 'value': '10'}, {'name': 'speed', 'value': '10'}, {'name': 'volt', 'value': '10'}]}}, 'trace': False, 'created_at': '2023-01-05 09:28:40.562913Z', 'credential_definition_id': 'PEcmuSQ7G3z771J7dse1R5:3:CL:42:default', 'auto_remove': True, 'role': 'holder'}]}\n"
     ]
    }
   ],
   "source": [
    "response = await agent_controller.issuer.get_records()\n",
    "print(response)"
   ]
  },
  {
   "cell_type": "code",
   "execution_count": 7,
   "id": "bc3096d4-013e-47d1-bb35-f14e167beb76",
   "metadata": {},
   "outputs": [
    {
     "name": "stdout",
     "output_type": "stream",
     "text": [
      "Credential exchange 2df8b4d0-036e-499a-97ca-f280a64818b6, role: holder, state: offer_received\n",
      "Being offered: [{'name': 'type', 'value': 'drug_A'}, {'name': 'dose', 'value': '10'}, {'name': 'speed', 'value': '10'}, {'name': 'volt', 'value': '10'}]\n"
     ]
    }
   ],
   "source": [
    "response = await agent_controller.issuer.get_records()\n",
    "results = response[\"results\"]\n",
    "if len(results) == 0:\n",
    "    print(\"You need to first send a credential from the issuer notebook (Alice)\")\n",
    "else:\n",
    "    cred_record = results[0]\n",
    "    cred_ex_id = cred_record['credential_exchange_id']\n",
    "    state = cred_record['state']\n",
    "    role = cred_record['role']\n",
    "    attributes = results[0]['credential_proposal_dict']['credential_proposal']['attributes']\n",
    "    print(f\"Credential exchange {cred_ex_id}, role: {role}, state: {state}\")\n",
    "    print(f\"Being offered: {attributes}\")"
   ]
  },
  {
   "cell_type": "code",
   "execution_count": 8,
   "id": "0d70f80e-3cb5-41b1-9a82-81300267a4c1",
   "metadata": {},
   "outputs": [
    {
     "name": "stdout",
     "output_type": "stream",
     "text": [
      "Credential exchange 2df8b4d0-036e-499a-97ca-f280a64818b6, role: holder, state: request_sent\n"
     ]
    }
   ],
   "source": [
    "record = await agent_controller.issuer.send_request_for_record(cred_ex_id)\n",
    "state = record['state']\n",
    "role = record['role']\n",
    "print(f\"Credential exchange {cred_ex_id}, role: {role}, state: {state}\")"
   ]
  },
  {
   "cell_type": "code",
   "execution_count": 9,
   "id": "9e755086-165b-4b27-9dd3-315626217920",
   "metadata": {},
   "outputs": [
    {
     "name": "stdout",
     "output_type": "stream",
     "text": [
      "Credential exchange 2df8b4d0-036e-499a-97ca-f280a64818b6, role: holder, state: credential_acked\n"
     ]
    }
   ],
   "source": [
    "response = await agent_controller.issuer.store_credential(cred_ex_id, \"Operation 0\")\n",
    "state = response['state']\n",
    "role = response['role']\n",
    "print(f\"Credential exchange {cred_ex_id}, role: {role}, state: {state}\")"
   ]
  },
  {
   "cell_type": "markdown",
   "id": "b3c6b934-def2-471b-8811-2c83e4becf27",
   "metadata": {},
   "source": [
    "### You can get  credential by your credential id ref(seller notebook)"
   ]
  },
  {
   "cell_type": "code",
   "execution_count": 10,
   "id": "90a2ade4-b4c9-41af-9f3d-02a6fb83a163",
   "metadata": {},
   "outputs": [
    {
     "name": "stdout",
     "output_type": "stream",
     "text": [
      "None\n"
     ]
    }
   ],
   "source": [
    "response = await agent_controller.terminate()\n",
    "print(response)"
   ]
  },
  {
   "cell_type": "code",
   "execution_count": null,
   "id": "266616b8-a6e9-451b-8061-c86b00fc1b2f",
   "metadata": {},
   "outputs": [],
   "source": []
  }
 ],
 "metadata": {
  "kernelspec": {
   "display_name": "Python 3 (ipykernel)",
   "language": "python",
   "name": "python3"
  },
  "language_info": {
   "codemirror_mode": {
    "name": "ipython",
    "version": 3
   },
   "file_extension": ".py",
   "mimetype": "text/x-python",
   "name": "python",
   "nbconvert_exporter": "python",
   "pygments_lexer": "ipython3",
   "version": "3.10.8"
  }
 },
 "nbformat": 4,
 "nbformat_minor": 5
}
