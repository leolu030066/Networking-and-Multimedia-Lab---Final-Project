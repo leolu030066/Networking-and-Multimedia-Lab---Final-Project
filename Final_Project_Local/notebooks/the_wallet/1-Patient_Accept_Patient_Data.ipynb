{
 "cells": [
  {
   "cell_type": "markdown",
   "id": "f52ef7a4-6eac-44d8-a5e3-c96e1be8132d",
   "metadata": {},
   "source": [
    "### 5. Setup"
   ]
  },
  {
   "cell_type": "code",
   "execution_count": 1,
   "id": "83f2fc27-597a-43ab-b8ec-fb0a8a25c1d9",
   "metadata": {},
   "outputs": [
    {
     "name": "stdout",
     "output_type": "stream",
     "text": [
      "IPython autoawait is `on`, and set to use `asyncio`\n"
     ]
    }
   ],
   "source": [
    "%autoawait\n",
    "import time\n",
    "import asyncio\n",
    "from termcolor import colored,cprint\n",
    "\n",
    "from aries_basic_controller.aries_controller import AriesAgentController\n",
    "\n",
    "WEBHOOK_HOST = \"0.0.0.0\"\n",
    "WEBHOOK_PORT = 7982\n",
    "WEBHOOK_BASE = \"\"\n",
    "ADMIN_URL = \"http://the_wallet-agent:7981\"\n",
    "\n",
    "# Based on the aca-py agent you wish to control\n",
    "agent_controller = AriesAgentController(admin_url=ADMIN_URL)\n"
   ]
  },
  {
   "cell_type": "code",
   "execution_count": 2,
   "id": "331bf147-b1a6-4e95-b60d-184a704d7d89",
   "metadata": {},
   "outputs": [],
   "source": [
    "agent_controller.init_webhook_server(webhook_host=WEBHOOK_HOST,\n",
    "                                     webhook_port=WEBHOOK_PORT,\n",
    "                                     webhook_base=WEBHOOK_BASE)\n"
   ]
  },
  {
   "cell_type": "code",
   "execution_count": 3,
   "id": "5ec0f98a-38f5-4ea8-ae26-266c60b37fcf",
   "metadata": {},
   "outputs": [
    {
     "name": "stdout",
     "output_type": "stream",
     "text": [
      "Subscribing too: issue_operation_credential\n"
     ]
    }
   ],
   "source": [
    "loop = asyncio.get_event_loop()\n",
    "loop.create_task(agent_controller.listen_webhooks())\n",
    "def cred_handler(payload):\n",
    "    print(\"Handle Credentials\")\n",
    "    exchange_id = payload['credential_exchange_id']\n",
    "    state = payload['state']\n",
    "    role = payload['role']\n",
    "    attributes = payload['credential_proposal_dict']['credential_proposal']['attributes']\n",
    "    print(f\"Credential exchange {exchange_id}, role: {role}, state: {state}\")\n",
    "    print(f\"Attributes: {attributes}\")\n",
    "    \n",
    "cred_listener = {\n",
    "    \"topic\": \"issue_operation_credential\",\n",
    "    \"handler\": cred_handler\n",
    "}\n",
    "agent_controller.register_listeners([cred_listener], defaults=True)"
   ]
  },
  {
   "cell_type": "markdown",
   "id": "9f1beec4-589b-4597-9c5d-7c212b544083",
   "metadata": {},
   "source": [
    "### 6. Go to hospital notebook to issue credential"
   ]
  },
  {
   "cell_type": "markdown",
   "id": "559e519d-b409-474b-b0d9-a388c534b109",
   "metadata": {},
   "source": [
    "### 7. Get the Record"
   ]
  },
  {
   "cell_type": "code",
   "execution_count": 4,
   "id": "6692f94d-41a0-4407-83b6-bd4f71609a13",
   "metadata": {},
   "outputs": [
    {
     "name": "stdout",
     "output_type": "stream",
     "text": [
      "{'results': [{'auto_issue': False, 'schema_id': 'PEcmuSQ7G3z771J7dse1R5:2:MedicalRecords:0.0.3', 'role': 'holder', 'updated_at': '2023-01-06 05:11:29.037630Z', 'credential_definition_id': 'PEcmuSQ7G3z771J7dse1R5:3:CL:85:default', 'credential_offer': {'schema_id': 'PEcmuSQ7G3z771J7dse1R5:2:MedicalRecords:0.0.3', 'cred_def_id': 'PEcmuSQ7G3z771J7dse1R5:3:CL:85:default', 'key_correctness_proof': {'c': '37658955705197760903476251001339094963830734290645554208638524699278482443719', 'xz_cap': '774744531200510732346208170858994365249173003084413487926366039984863735339313978709005442017098541224475163238467721208628082434745242331564746068077409662208045592137834440091835926896967721979017142249656547555178922202309246391222145240532632673149807292903396957204793000186803333666328729427736804039284337554664283803516139259405421781268346369169520642389481424753840222282806282115886137343554398468844886561201392890444545697257738932430552472299490590749951724369032621169412668837808535855157692840369719981829309659379459659321184044303148962749357617948118451739103291153508024961647832125233419398722385220863796610280627083833766871330941475836222546327674118315599059752608323', 'xr_cap': [['doctorname', '709256655709680169726001020393934326384576950578728179581496162915856299095656695431828588501536465259447497650552760659406858289022688794477155530223505956943876759363354535230402144327237135730689814501629767467597683908591095877997691436016658751860333988471297601663014717171194280562875938446381222054247792186868871679346035794831727883174836325418356763116939769477966727350516897023296946855876002444293450442515832583498224455093562476641059954859099880982025538981830513644252941864505956116582506519642509780742053988498675707219518448804386841256260886512034333124439409295444207842715146438842463482486663180283226678427813225195604995326927751211347787508927069642341250408464383'], ['nextappointment', '786750752331680484409468372356516474534419968087440796996417080226988871808938375736799197267360368222312377280706631339588032589785708002377507255134217385927556173183369102992021214249447051829654406842184014247358777860582059646226361238807018078163763875342084315078219538562511132674102277381203341663469591578265749837100606306406638789607808074136611678250631222555035270455623640981098359498527364128707622940211082789421784408555393899066996204789583522083544505551444159649722651509973388422524158216540388955571796004404974715605250809672468327853383546726550917992325550226913211468319444083927290835164906331427521028959823408610090391379385298953473500062515416042564514164406694'], ['examinationresults', '217281721277728773163861032353716319190241663208706481817482678443649906312436256734355734988857401598992083449009221994530118240266630814298147792363080544645847404464372056448213276381565892279402098420734568547205302911020183809151022115292950937336333962858168955796977497229954773829183285432307431790824536691694708855144160051031347724778342098135523434710639900642167155100843819333659492027766199813677387725623602410899426322934785507503839044537889391316346207684201583820612517324598383831720038174196686075586381100353848195648858399137169805834022677775362801958981413740268894088902224057901622875981788891043094630112807008701337337789289270444069329653447972270036831958105346'], ['age', '884766073888138744789140143423884640984089871400979693616184919742184745902633362849199585054160982281646331265137142419111724548519151215207201757923884209336387762046184027174848745157170668957758776199418860947683750522106759655435628740387457630921237666815622399361110651640021743598784004608729822619640123449869888839202331397889740064403561127328653569202995839419288689042635430703557623511654075676353146641140284204552155135090315970204013184736076416171624193267422789752116285685122585196168763054651055003846399100695020833384799521216019972355760648338777940061516330652436026093329085334685645821755561222757465529141314681026272082310664507044375682289163266831992045133962735'], ['finaltreatment', '913781558004196311061302937195114570799406340142408340815159719126806212025482945511343129254064316521686131832533225373652823300166418852966849663899725327270925649885847025870407201307260063900379026497334822907327391025609300110074527228368054254372660774156476878421733036371976286349122113839279393608563819564558749976376954501360616687753737948399932483359531400307308608431894345697364749671271263437862037569311105026016486079397437138511059148587120471953851058916459671112892861970954821087088523403575721248247316163353834944147568690477052919961938081310550127734448182961157161796307275538419875382248763920812735601716778288207807318963229116582050179530209106482518302363816742'], ['date', '339430667351708766175505352182882144201020150785072187390571695593236335931120342792302208073653219653322193737569249879502600601736353547340791733789453251304373389716160782532571167614220061273445112499456153855013526354679002227605706909554172298382983639667849751184088800320647725637250551622849257029420976447108429003844872031370077689368609796586054461396712944177565463056789721786194261896792512184586998082133791055701939640188766663580383336892634577241824061465731342079031520385056189172706331264536454068770450184985629640060624777744987899734363083788328718832922702288744066249520406194566909205290043009776123536939901645742339457639940374208455139642280059351329923871928168'], ['master_secret', '425246042322737330147761428901166098382698031297004114536252529507947155957387254138284014915404803560512126153108448488837408535115547937398876497143168490378928728480172399670181626526022357589207508876802524072496606674697341295954920732333002447672932609103497695047657821095181987781678869030473136249221374483469148520994790522365739996612156148424980539911846738624310074366309039881847386097693717431014342258105930189435198731150480330874162245271261249700567692527525696083187812402370148135121192713607834179435444780994856428380164732526086045683203657933798684397054725001511750189730623067383813970299526405743256219825232386790507019561452891584505328436987070782041280884392802'], ['complaint', '618908964223552028067127691341756294812192759479556125839838353284767293641256775513103017159282358175127161323630240173543052837937543904082410605398921014617824435080809251596014703019125080269639463671401371813681146710389850195422358643960218688818148397625601368850296855949621262190483010337180020886521592747073671970885671245513738086401554630307498917538185335757392905557231601937102774052129730641809871598348454014422038298572665564490250854251096987134070658569390341558400039389489079605086378352285556866539377516060623129133616417351090183867107528697953187262541106873877962815466408734700953602631351517655768682634760751460025982124299299673792733473934400159997585719042282'], ['fullname', '1070203872425124518549353745891701354683996756505147964321288509405694947504802740375962729908877570588922903973544747943134995139250771018853229914416215009490256228163845896407338786687539822186849576018784295017678194208832655726439537682180676481385674363169187987112544492551613065508226024155612716383715386599757519232721803584321561479190073071584181651179095382209713239073970928348405786431573671544059318827943311002205583484529836808347559969021417289875897331648998312496735920517457106723107187985220634200724823689457505949057847530718652719894684021525842516132618828880739927971252038043699432874020033202915044923677988235081050190553351223729654463722439357051755611787234145'], ['medicine', '1016171715017843274430862006598484736433413721530072497921143972169535603531801406760255218791252076391265807801315170213081980816328483403472716114343893901517535240678625691979437584470304187503524676601471429615872527356974330582579056679740819870740733756500495821463212666595141622250934608890848375908131407694166244571043003218772021302714624387747073770670610903107629559369100292511951804731156944849450597366844253910458094635624753899091286912767439313430297038328189700320981139816594056355541126861902817671904178746402757073801437439400734098096128069510116614037958915418499346711765490881010931009093363625952546190256730590720857205878965744814864897109969691609455845176344183']]}, 'nonce': '942779221362099946211976'}, 'credential_proposal_dict': {'@type': 'did:sov:BzCbsNYhMrjHiqZDTUASHg;spec/issue-credential/1.0/propose-credential', '@id': '281c8251-88c4-4f5f-aa6a-f015ece682ba', 'schema_id': 'PEcmuSQ7G3z771J7dse1R5:2:MedicalRecords:0.0.3', 'credential_proposal': {'@type': 'did:sov:BzCbsNYhMrjHiqZDTUASHg;spec/issue-credential/1.0/credential-preview', 'attributes': [{'name': 'fullname', 'value': 'tim'}, {'name': 'age', 'value': '21'}, {'name': 'date', 'value': '01/01/23'}, {'name': 'doctorname', 'value': 'amy'}, {'name': 'complaint', 'value': 'no'}, {'name': 'examination results', 'value': 'no'}, {'name': 'final treatment', 'value': 'no'}, {'name': 'medicine', 'value': 'no'}, {'name': 'nextappointment', 'value': 'no'}]}, 'comment': 'create automated credential exchange', 'cred_def_id': 'PEcmuSQ7G3z771J7dse1R5:3:CL:85:default'}, 'connection_id': 'da28eb79-0431-4b7f-9af9-92ed004178a5', 'auto_offer': False, 'created_at': '2023-01-06 05:11:29.037630Z', 'state': 'offer_received', 'initiator': 'external', 'thread_id': '81d396e5-6d61-49dd-a55a-a7a83ea5a561', 'auto_remove': True, 'credential_exchange_id': 'acccbefe-2627-4925-b020-273fc9482d07', 'trace': False}]}\n"
     ]
    }
   ],
   "source": [
    "response = await agent_controller.issuer.get_records()\n",
    "print(response)"
   ]
  },
  {
   "cell_type": "code",
   "execution_count": 5,
   "id": "bc3096d4-013e-47d1-bb35-f14e167beb76",
   "metadata": {},
   "outputs": [
    {
     "name": "stdout",
     "output_type": "stream",
     "text": [
      "Credential exchange acccbefe-2627-4925-b020-273fc9482d07, role: holder, state: offer_received\n",
      "Being offered: [{'name': 'fullname', 'value': 'tim'}, {'name': 'age', 'value': '21'}, {'name': 'date', 'value': '01/01/23'}, {'name': 'doctorname', 'value': 'amy'}, {'name': 'complaint', 'value': 'no'}, {'name': 'examination results', 'value': 'no'}, {'name': 'final treatment', 'value': 'no'}, {'name': 'medicine', 'value': 'no'}, {'name': 'nextappointment', 'value': 'no'}]\n"
     ]
    }
   ],
   "source": [
    "response = await agent_controller.issuer.get_records()\n",
    "results = response[\"results\"]\n",
    "if len(results) == 0:\n",
    "    print(\"You need to first send a credential from the issuer notebook (Alice)\")\n",
    "else:\n",
    "    cred_record = results[0]\n",
    "    cred_ex_id = cred_record['credential_exchange_id']\n",
    "    state = cred_record['state']\n",
    "    role = cred_record['role']\n",
    "    attributes = results[0]['credential_proposal_dict']['credential_proposal']['attributes']\n",
    "    print(f\"Credential exchange {cred_ex_id}, role: {role}, state: {state}\")\n",
    "    print(f\"Being offered: {attributes}\")"
   ]
  },
  {
   "cell_type": "markdown",
   "id": "f249e436-0559-4479-8b1f-1ef70be12d0f",
   "metadata": {},
   "source": [
    "### 8. Send request for record"
   ]
  },
  {
   "cell_type": "code",
   "execution_count": 6,
   "id": "0d70f80e-3cb5-41b1-9a82-81300267a4c1",
   "metadata": {},
   "outputs": [
    {
     "name": "stdout",
     "output_type": "stream",
     "text": [
      "Credential exchange acccbefe-2627-4925-b020-273fc9482d07, role: holder, state: request_sent\n"
     ]
    }
   ],
   "source": [
    "record = await agent_controller.issuer.send_request_for_record(cred_ex_id)\n",
    "state = record['state']\n",
    "role = record['role']\n",
    "print(f\"Credential exchange {cred_ex_id}, role: {role}, state: {state}\")"
   ]
  },
  {
   "cell_type": "markdown",
   "id": "4b914de7-3ce0-43fc-9046-c44380a23283",
   "metadata": {},
   "source": [
    "### 9. Store Credential"
   ]
  },
  {
   "cell_type": "code",
   "execution_count": 9,
   "id": "9e755086-165b-4b27-9dd3-315626217920",
   "metadata": {},
   "outputs": [
    {
     "ename": "ClientResponseError",
     "evalue": "404, message='credential_exchange_v10 record not found: acccbefe-2627-4925-b020-273fc9482d07. WalletItemNotFound.', url=URL('http://the_wallet-agent:7981/issue-credential/records/acccbefe-2627-4925-b020-273fc9482d07/store')",
     "output_type": "error",
     "traceback": [
      "\u001b[0;31m---------------------------------------------------------------------------\u001b[0m",
      "\u001b[0;31mClientResponseError\u001b[0m                       Traceback (most recent call last)",
      "Cell \u001b[0;32mIn[9], line 1\u001b[0m\n\u001b[0;32m----> 1\u001b[0m response \u001b[38;5;241m=\u001b[39m \u001b[38;5;28;01mawait\u001b[39;00m agent_controller\u001b[38;5;241m.\u001b[39missuer\u001b[38;5;241m.\u001b[39mstore_credential(cred_ex_id, \u001b[38;5;124m\"\u001b[39m\u001b[38;5;124mMy Sensitive data1\u001b[39m\u001b[38;5;124m\"\u001b[39m)\n\u001b[1;32m      2\u001b[0m state \u001b[38;5;241m=\u001b[39m response[\u001b[38;5;124m'\u001b[39m\u001b[38;5;124mstate\u001b[39m\u001b[38;5;124m'\u001b[39m]\n\u001b[1;32m      3\u001b[0m role \u001b[38;5;241m=\u001b[39m response[\u001b[38;5;124m'\u001b[39m\u001b[38;5;124mrole\u001b[39m\u001b[38;5;124m'\u001b[39m]\n",
      "File \u001b[0;32m/aries_basic_controller/controllers/issuer.py:96\u001b[0m, in \u001b[0;36mIssuerController.store_credential\u001b[0;34m(self, cred_ex_id, credential_id)\u001b[0m\n\u001b[1;32m     92\u001b[0m \u001b[38;5;28;01masync\u001b[39;00m \u001b[38;5;28;01mdef\u001b[39;00m \u001b[38;5;21mstore_credential\u001b[39m(\u001b[38;5;28mself\u001b[39m, cred_ex_id, credential_id):\n\u001b[1;32m     93\u001b[0m     body \u001b[38;5;241m=\u001b[39m {\n\u001b[1;32m     94\u001b[0m         \u001b[38;5;124m\"\u001b[39m\u001b[38;5;124mcredential_id\u001b[39m\u001b[38;5;124m\"\u001b[39m: credential_id\n\u001b[1;32m     95\u001b[0m     }\n\u001b[0;32m---> 96\u001b[0m     \u001b[38;5;28;01mreturn\u001b[39;00m \u001b[38;5;28;01mawait\u001b[39;00m \u001b[38;5;28mself\u001b[39m\u001b[38;5;241m.\u001b[39madmin_POST(\u001b[38;5;124mf\u001b[39m\u001b[38;5;124m\"\u001b[39m\u001b[38;5;132;01m{\u001b[39;00m\u001b[38;5;28mself\u001b[39m\u001b[38;5;241m.\u001b[39mbase_url\u001b[38;5;132;01m}\u001b[39;00m\u001b[38;5;124m/records/\u001b[39m\u001b[38;5;132;01m{\u001b[39;00mcred_ex_id\u001b[38;5;132;01m}\u001b[39;00m\u001b[38;5;124m/store\u001b[39m\u001b[38;5;124m\"\u001b[39m, json_data\u001b[38;5;241m=\u001b[39mbody)\n",
      "File \u001b[0;32m/aries_basic_controller/controllers/base.py:95\u001b[0m, in \u001b[0;36mBaseController.admin_POST\u001b[0;34m(self, path, json_data, text, params, data)\u001b[0m\n\u001b[1;32m     89\u001b[0m \u001b[38;5;28;01mtry\u001b[39;00m:\n\u001b[1;32m     90\u001b[0m     EVENT_LOGGER\u001b[38;5;241m.\u001b[39mdebug(\n\u001b[1;32m     91\u001b[0m         \u001b[38;5;124m\"\u001b[39m\u001b[38;5;124mController POST \u001b[39m\u001b[38;5;132;01m%s\u001b[39;00m\u001b[38;5;124m request to Agent\u001b[39m\u001b[38;5;132;01m%s\u001b[39;00m\u001b[38;5;124m\"\u001b[39m,\n\u001b[1;32m     92\u001b[0m         path,\n\u001b[1;32m     93\u001b[0m         (\u001b[38;5;124m\"\u001b[39m\u001b[38;5;124m with data: \u001b[39m\u001b[38;5;130;01m\\n\u001b[39;00m\u001b[38;5;132;01m{}\u001b[39;00m\u001b[38;5;124m\"\u001b[39m\u001b[38;5;241m.\u001b[39mformat(repr_json(json_data)) \u001b[38;5;28;01mif\u001b[39;00m json_data \u001b[38;5;28;01melse\u001b[39;00m \u001b[38;5;124m\"\u001b[39m\u001b[38;5;124m\"\u001b[39m),\n\u001b[1;32m     94\u001b[0m     )\n\u001b[0;32m---> 95\u001b[0m     response \u001b[38;5;241m=\u001b[39m \u001b[38;5;28;01mawait\u001b[39;00m \u001b[38;5;28mself\u001b[39m\u001b[38;5;241m.\u001b[39madmin_request(\u001b[38;5;124m\"\u001b[39m\u001b[38;5;124mPOST\u001b[39m\u001b[38;5;124m\"\u001b[39m, path, json_data, text, params, data)\n\u001b[1;32m     96\u001b[0m     EVENT_LOGGER\u001b[38;5;241m.\u001b[39mdebug(\n\u001b[1;32m     97\u001b[0m         \u001b[38;5;124m\"\u001b[39m\u001b[38;5;124mResponse from POST \u001b[39m\u001b[38;5;132;01m%s\u001b[39;00m\u001b[38;5;124m received: \u001b[39m\u001b[38;5;130;01m\\n\u001b[39;00m\u001b[38;5;132;01m%s\u001b[39;00m\u001b[38;5;124m\"\u001b[39m,\n\u001b[1;32m     98\u001b[0m         path,\n\u001b[1;32m     99\u001b[0m         repr_json(response),\n\u001b[1;32m    100\u001b[0m     )\n\u001b[1;32m    101\u001b[0m     \u001b[38;5;28;01mreturn\u001b[39;00m response\n",
      "File \u001b[0;32m/aries_basic_controller/controllers/base.py:63\u001b[0m, in \u001b[0;36mBaseController.admin_request\u001b[0;34m(self, method, path, json_data, text, params, data)\u001b[0m\n\u001b[1;32m     59\u001b[0m params \u001b[38;5;241m=\u001b[39m {k: v \u001b[38;5;28;01mfor\u001b[39;00m (k, v) \u001b[38;5;129;01min\u001b[39;00m (params \u001b[38;5;129;01mor\u001b[39;00m {})\u001b[38;5;241m.\u001b[39mitems() \u001b[38;5;28;01mif\u001b[39;00m v \u001b[38;5;129;01mis\u001b[39;00m \u001b[38;5;129;01mnot\u001b[39;00m \u001b[38;5;28;01mNone\u001b[39;00m}\n\u001b[1;32m     60\u001b[0m \u001b[38;5;28;01masync\u001b[39;00m \u001b[38;5;28;01mwith\u001b[39;00m \u001b[38;5;28mself\u001b[39m\u001b[38;5;241m.\u001b[39mclient_session\u001b[38;5;241m.\u001b[39mrequest(\n\u001b[1;32m     61\u001b[0m     method, \u001b[38;5;28mself\u001b[39m\u001b[38;5;241m.\u001b[39madmin_url \u001b[38;5;241m+\u001b[39m path, json\u001b[38;5;241m=\u001b[39mjson_data, params\u001b[38;5;241m=\u001b[39mparams, data\u001b[38;5;241m=\u001b[39mdata\n\u001b[1;32m     62\u001b[0m ) \u001b[38;5;28;01mas\u001b[39;00m resp:\n\u001b[0;32m---> 63\u001b[0m     \u001b[43mresp\u001b[49m\u001b[38;5;241;43m.\u001b[39;49m\u001b[43mraise_for_status\u001b[49m\u001b[43m(\u001b[49m\u001b[43m)\u001b[49m\n\u001b[1;32m     64\u001b[0m     resp_text \u001b[38;5;241m=\u001b[39m \u001b[38;5;28;01mawait\u001b[39;00m resp\u001b[38;5;241m.\u001b[39mtext()\n\u001b[1;32m     65\u001b[0m     \u001b[38;5;28;01mif\u001b[39;00m \u001b[38;5;129;01mnot\u001b[39;00m resp_text \u001b[38;5;129;01mand\u001b[39;00m \u001b[38;5;129;01mnot\u001b[39;00m text:\n",
      "File \u001b[0;32m/opt/conda/lib/python3.10/site-packages/aiohttp/client_reqrep.py:1000\u001b[0m, in \u001b[0;36mClientResponse.raise_for_status\u001b[0;34m(self)\u001b[0m\n\u001b[1;32m    998\u001b[0m \u001b[38;5;28;01massert\u001b[39;00m \u001b[38;5;28mself\u001b[39m\u001b[38;5;241m.\u001b[39mreason \u001b[38;5;129;01mis\u001b[39;00m \u001b[38;5;129;01mnot\u001b[39;00m \u001b[38;5;28;01mNone\u001b[39;00m\n\u001b[1;32m    999\u001b[0m \u001b[38;5;28mself\u001b[39m\u001b[38;5;241m.\u001b[39mrelease()\n\u001b[0;32m-> 1000\u001b[0m \u001b[38;5;28;01mraise\u001b[39;00m ClientResponseError(\n\u001b[1;32m   1001\u001b[0m     \u001b[38;5;28mself\u001b[39m\u001b[38;5;241m.\u001b[39mrequest_info,\n\u001b[1;32m   1002\u001b[0m     \u001b[38;5;28mself\u001b[39m\u001b[38;5;241m.\u001b[39mhistory,\n\u001b[1;32m   1003\u001b[0m     status\u001b[38;5;241m=\u001b[39m\u001b[38;5;28mself\u001b[39m\u001b[38;5;241m.\u001b[39mstatus,\n\u001b[1;32m   1004\u001b[0m     message\u001b[38;5;241m=\u001b[39m\u001b[38;5;28mself\u001b[39m\u001b[38;5;241m.\u001b[39mreason,\n\u001b[1;32m   1005\u001b[0m     headers\u001b[38;5;241m=\u001b[39m\u001b[38;5;28mself\u001b[39m\u001b[38;5;241m.\u001b[39mheaders,\n\u001b[1;32m   1006\u001b[0m )\n",
      "\u001b[0;31mClientResponseError\u001b[0m: 404, message='credential_exchange_v10 record not found: acccbefe-2627-4925-b020-273fc9482d07. WalletItemNotFound.', url=URL('http://the_wallet-agent:7981/issue-credential/records/acccbefe-2627-4925-b020-273fc9482d07/store')"
     ]
    },
    {
     "name": "stdout",
     "output_type": "stream",
     "text": [
      "Error during POST /issue-credential/records/acccbefe-2627-4925-b020-273fc9482d07/store: 404, message='credential_exchange_v10 record not found: acccbefe-2627-4925-b020-273fc9482d07. WalletItemNotFound.', url=URL('http://the_wallet-agent:7981/issue-credential/records/acccbefe-2627-4925-b020-273fc9482d07/store')\n"
     ]
    }
   ],
   "source": [
    "response = await agent_controller.issuer.store_credential(cred_ex_id, \"My Sensitive data\")\n",
    "state = response['state']\n",
    "role = response['role']\n",
    "print(f\"Credential exchange {cred_ex_id}, role: {role}, state: {state}\")"
   ]
  },
  {
   "cell_type": "code",
   "execution_count": 10,
   "id": "2f912581-c53a-470b-8a7a-6c1e5a32af42",
   "metadata": {},
   "outputs": [
    {
     "name": "stdout",
     "output_type": "stream",
     "text": [
      "{'referent': 'My Sensitive data', 'attrs': {'doctorname': 'amy', 'age': '21', 'date': '01/01/23', 'nextappointment': 'no', 'examination results': 'no', 'complaint': 'no', 'medicine': 'no', 'final treatment': 'no', 'fullname': 'tim'}, 'schema_id': 'PEcmuSQ7G3z771J7dse1R5:2:MedicalRecords:0.0.3', 'cred_def_id': 'PEcmuSQ7G3z771J7dse1R5:3:CL:85:default', 'rev_reg_id': None, 'cred_rev_id': None}\n"
     ]
    }
   ],
   "source": [
    "emergeny_mode = True\n",
    "if emergeny_mode:\n",
    "    credential = await agent_controller.credentials.get_by_id(\"My Sensitive data\")\n",
    "    print(credential)"
   ]
  },
  {
   "cell_type": "markdown",
   "id": "b3c6b934-def2-471b-8811-2c83e4becf27",
   "metadata": {},
   "source": [
    "### **Terminate**"
   ]
  },
  {
   "cell_type": "code",
   "execution_count": 11,
   "id": "90a2ade4-b4c9-41af-9f3d-02a6fb83a163",
   "metadata": {},
   "outputs": [
    {
     "name": "stdout",
     "output_type": "stream",
     "text": [
      "None\n"
     ]
    }
   ],
   "source": [
    "response = await agent_controller.terminate()\n",
    "print(response)"
   ]
  },
  {
   "cell_type": "code",
   "execution_count": null,
   "id": "266616b8-a6e9-451b-8061-c86b00fc1b2f",
   "metadata": {},
   "outputs": [],
   "source": [
    "## TODO emergency mode"
   ]
  }
 ],
 "metadata": {
  "kernelspec": {
   "display_name": "Python 3 (ipykernel)",
   "language": "python",
   "name": "python3"
  },
  "language_info": {
   "codemirror_mode": {
    "name": "ipython",
    "version": 3
   },
   "file_extension": ".py",
   "mimetype": "text/x-python",
   "name": "python",
   "nbconvert_exporter": "python",
   "pygments_lexer": "ipython3",
   "version": "3.10.8"
  }
 },
 "nbformat": 4,
 "nbformat_minor": 5
}
