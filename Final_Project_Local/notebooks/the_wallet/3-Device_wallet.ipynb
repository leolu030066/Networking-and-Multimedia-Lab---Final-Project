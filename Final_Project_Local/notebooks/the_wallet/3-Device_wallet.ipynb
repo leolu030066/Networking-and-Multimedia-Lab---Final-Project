{
 "cells": [
  {
   "cell_type": "code",
   "execution_count": 15,
   "id": "83f2fc27-597a-43ab-b8ec-fb0a8a25c1d9",
   "metadata": {},
   "outputs": [
    {
     "name": "stdout",
     "output_type": "stream",
     "text": [
      "IPython autoawait is `on`, and set to use `asyncio`\n"
     ]
    }
   ],
   "source": [
    "%autoawait\n",
    "import time\n",
    "import asyncio\n",
    "from termcolor import colored,cprint\n",
    "\n",
    "from aries_basic_controller.aries_controller import AriesAgentController\n",
    "\n",
    "WEBHOOK_HOST = \"0.0.0.0\"\n",
    "WEBHOOK_PORT = 7982\n",
    "WEBHOOK_BASE = \"\"\n",
    "ADMIN_URL = \"http://the_wallet-agent:7981\"\n",
    "\n",
    "# Based on the aca-py agent you wish to control\n",
    "agent_controller = AriesAgentController(admin_url=ADMIN_URL)\n"
   ]
  },
  {
   "cell_type": "code",
   "execution_count": 16,
   "id": "331bf147-b1a6-4e95-b60d-184a704d7d89",
   "metadata": {},
   "outputs": [],
   "source": [
    "agent_controller.init_webhook_server(webhook_host=WEBHOOK_HOST,\n",
    "                                     webhook_port=WEBHOOK_PORT,\n",
    "                                     webhook_base=WEBHOOK_BASE)\n"
   ]
  },
  {
   "cell_type": "code",
   "execution_count": 18,
   "id": "5ec0f98a-38f5-4ea8-ae26-266c60b37fcf",
   "metadata": {},
   "outputs": [
    {
     "name": "stdout",
     "output_type": "stream",
     "text": [
      "{'referent': 'Operation 0', 'attrs': {'volt': '10', 'dose': '10', 'speed': '10', 'type': 'drug_A'}, 'schema_id': 'PEcmuSQ7G3z771J7dse1R5:2:Operation:0.0.1', 'cred_def_id': 'PEcmuSQ7G3z771J7dse1R5:3:CL:42:default', 'rev_reg_id': None, 'cred_rev_id': None}\n"
     ]
    }
   ],
   "source": [
    "credential_id = \"Operation 0\"\n",
    "credential = await agent_controller.credentials.get_by_id(credential_id)\n",
    "print(credential)"
   ]
  },
  {
   "cell_type": "markdown",
   "id": "b3c6b934-def2-471b-8811-2c83e4becf27",
   "metadata": {},
   "source": [
    "### You can get  credential by your credential id ref(seller notebook)"
   ]
  },
  {
   "cell_type": "code",
   "execution_count": 10,
   "id": "90a2ade4-b4c9-41af-9f3d-02a6fb83a163",
   "metadata": {},
   "outputs": [
    {
     "name": "stdout",
     "output_type": "stream",
     "text": [
      "None\n"
     ]
    }
   ],
   "source": [
    "response = await agent_controller.terminate()\n",
    "print(response)"
   ]
  }
 ],
 "metadata": {
  "kernelspec": {
   "display_name": "Python 3 (ipykernel)",
   "language": "python",
   "name": "python3"
  },
  "language_info": {
   "codemirror_mode": {
    "name": "ipython",
    "version": 3
   },
   "file_extension": ".py",
   "mimetype": "text/x-python",
   "name": "python",
   "nbconvert_exporter": "python",
   "pygments_lexer": "ipython3",
   "version": "3.10.8"
  }
 },
 "nbformat": 4,
 "nbformat_minor": 5
}
