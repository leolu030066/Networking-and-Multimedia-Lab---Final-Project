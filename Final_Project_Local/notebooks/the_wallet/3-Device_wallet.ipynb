{
 "cells": [
  {
   "cell_type": "markdown",
   "id": "7f167b0e-8144-4c40-b5b8-f922d6554d12",
   "metadata": {},
   "source": [
    "### 5. Setup"
   ]
  },
  {
   "cell_type": "code",
   "execution_count": 1,
   "id": "83f2fc27-597a-43ab-b8ec-fb0a8a25c1d9",
   "metadata": {},
   "outputs": [
    {
     "name": "stdout",
     "output_type": "stream",
     "text": [
      "IPython autoawait is `on`, and set to use `asyncio`\n"
     ]
    }
   ],
   "source": [
    "%autoawait\n",
    "import time\n",
    "import asyncio\n",
    "from termcolor import colored,cprint\n",
    "\n",
    "from aries_basic_controller.aries_controller import AriesAgentController\n",
    "\n",
    "WEBHOOK_HOST = \"0.0.0.0\"\n",
    "WEBHOOK_PORT = 7982\n",
    "WEBHOOK_BASE = \"\"\n",
    "ADMIN_URL = \"http://the_wallet-agent:7981\"\n",
    "\n",
    "# Based on the aca-py agent you wish to control\n",
    "agent_controller = AriesAgentController(admin_url=ADMIN_URL)\n"
   ]
  },
  {
   "cell_type": "code",
   "execution_count": 2,
   "id": "331bf147-b1a6-4e95-b60d-184a704d7d89",
   "metadata": {},
   "outputs": [],
   "source": [
    "agent_controller.init_webhook_server(webhook_host=WEBHOOK_HOST,\n",
    "                                     webhook_port=WEBHOOK_PORT,\n",
    "                                     webhook_base=WEBHOOK_BASE)\n"
   ]
  },
  {
   "cell_type": "markdown",
   "id": "b4b69a96-9dcc-4b53-8d97-19138c4769f7",
   "metadata": {},
   "source": [
    "### 6. Check existing credential"
   ]
  },
  {
   "cell_type": "code",
   "execution_count": 3,
   "id": "5ec0f98a-38f5-4ea8-ae26-266c60b37fcf",
   "metadata": {},
   "outputs": [
    {
     "name": "stdout",
     "output_type": "stream",
     "text": [
      "{'referent': 'Operation 0', 'attrs': {'speed': '1', 'dose': '1', 'volt': '1', 'type': 'drug_B'}, 'schema_id': 'PEcmuSQ7G3z771J7dse1R5:2:Operation:0.0.3', 'cred_def_id': 'PEcmuSQ7G3z771J7dse1R5:3:CL:48:default', 'rev_reg_id': None, 'cred_rev_id': None}\n"
     ]
    }
   ],
   "source": [
    "credential_id = \"Operation 0\"\n",
    "credential = await agent_controller.credentials.get_by_id(credential_id)\n",
    "print(credential)"
   ]
  },
  {
   "cell_type": "markdown",
   "id": "f1eb2941-d9eb-4552-ace6-2884109aa998",
   "metadata": {},
   "source": [
    "### 7. Check connection"
   ]
  },
  {
   "cell_type": "code",
   "execution_count": 4,
   "id": "9eddd674-a5c3-47f8-bd6c-e94870c83fb6",
   "metadata": {},
   "outputs": [
    {
     "name": "stdout",
     "output_type": "stream",
     "text": [
      "Results :  [{'their_label': 'HOSPITAL', 'state': 'active', 'connection_id': '719fea26-a7ba-494c-9bc3-b7e89f552fda', 'created_at': '2023-01-05 10:58:40.422736Z', 'updated_at': '2023-01-05 10:58:55.829434Z', 'routing_state': 'none', 'rfc23_state': 'completed', 'accept': 'manual', 'their_role': 'invitee', 'invitation_mode': 'once', 'their_did': '6d6WJ9Wkgg7yxrRwzLEjTS', 'my_did': '7G7GLRFp7itdyrAn7ojJgs', 'invitation_key': '7btLbSrWD19PnAq5zWpnkB9ey6MhC8LGmzDMKzCrjDJP'}, {'their_label': 'MEDICAL_DEVICE_COMPUTER', 'state': 'active', 'connection_id': '8494d36d-b4dd-431d-b90d-f9371db7c56f', 'created_at': '2023-01-05 10:59:12.673705Z', 'updated_at': '2023-01-05 10:59:33.046513Z', 'routing_state': 'none', 'rfc23_state': 'completed', 'accept': 'manual', 'their_role': 'invitee', 'invitation_mode': 'once', 'their_did': 'ANrdVkJN9zaxJANC319kcm', 'my_did': 'N94AQp8pxv1DL2qwnVoxBr', 'invitation_key': '4ftHuzAW3pcct3uSo2mncWLLdPNEs1CaQgLN5uSAREds'}]\n",
      "Connection : {'their_label': 'MEDICAL_DEVICE_COMPUTER', 'state': 'active', 'connection_id': '8494d36d-b4dd-431d-b90d-f9371db7c56f', 'created_at': '2023-01-05 10:59:12.673705Z', 'updated_at': '2023-01-05 10:59:33.046513Z', 'routing_state': 'none', 'rfc23_state': 'completed', 'accept': 'manual', 'their_role': 'invitee', 'invitation_mode': 'once', 'their_did': 'ANrdVkJN9zaxJANC319kcm', 'my_did': 'N94AQp8pxv1DL2qwnVoxBr', 'invitation_key': '4ftHuzAW3pcct3uSo2mncWLLdPNEs1CaQgLN5uSAREds'}\n",
      "Active Connection ID :  8494d36d-b4dd-431d-b90d-f9371db7c56f\n"
     ]
    }
   ],
   "source": [
    "response = await agent_controller.connections.get_connections()\n",
    "results = response['results']\n",
    "print(\"Results : \", results)\n",
    "if len(results) > 1:\n",
    "    connection = response['results'][1]\n",
    "    print(\"Connection :\", connection)\n",
    "    if connection['state'] == 'active':       \n",
    "        connection_id = connection[\"connection_id\"]\n",
    "        print(\"Active Connection ID : \", connection_id)\n",
    "else:\n",
    "    print(\"You must create a connection\")\n",
    "    "
   ]
  },
  {
   "cell_type": "markdown",
   "id": "40f8c337-8cc9-4a56-b545-f540ac7ccc0c",
   "metadata": {},
   "source": [
    "### 8. Go to Medical_device_computer notebook to send verify request"
   ]
  },
  {
   "cell_type": "markdown",
   "id": "799c99bb-814f-46b9-b462-6cca9b10f507",
   "metadata": {},
   "source": [
    "### 9. Send verify response"
   ]
  },
  {
   "cell_type": "code",
   "execution_count": 5,
   "id": "41ddc68a-a62b-4f91-a2c0-c5930c3b5836",
   "metadata": {},
   "outputs": [
    {
     "name": "stdout",
     "output_type": "stream",
     "text": [
      "{'results': [{'presentation_request_dict': {'@type': 'did:sov:BzCbsNYhMrjHiqZDTUASHg;spec/present-proof/1.0/request-presentation', '@id': '08b24ffa-159d-4b47-8b6c-be62c956b825', 'request_presentations~attach': [{'@id': 'libindy-request-presentation-0', 'mime-type': 'application/json', 'data': {'base64': 'eyJuYW1lIjogIlByb29mIG9mIENvbXBsZXRpb24gb2YgUHlEZW50aXR5IFNTSSBUdXRvcmlhbCIsICJ2ZXJzaW9uIjogIjEuMCIsICJyZXF1ZXN0ZWRfYXR0cmlidXRlcyI6IHsiMF90eXBlX3V1aWQiOiB7Im5hbWUiOiAidHlwZSIsICJyZXN0cmljdGlvbnMiOiBbeyJpc3N1ZXJfZGlkIjogIlBFY211U1E3RzN6NzcxSjdkc2UxUjUifV19LCAiMF9kb3NlX3V1aWQiOiB7Im5hbWUiOiAiZG9zZSIsICJyZXN0cmljdGlvbnMiOiBbeyJpc3N1ZXJfZGlkIjogIlBFY211U1E3RzN6NzcxSjdkc2UxUjUifV19LCAiMF9zcGVlZF91dWlkIjogeyJuYW1lIjogInNwZWVkIiwgInJlc3RyaWN0aW9ucyI6IFt7Imlzc3Vlcl9kaWQiOiAiUEVjbXVTUTdHM3o3NzFKN2RzZTFSNSJ9XX0sICIwX3ZvbHRfdXVpZCI6IHsibmFtZSI6ICJ2b2x0IiwgInJlc3RyaWN0aW9ucyI6IFt7Imlzc3Vlcl9kaWQiOiAiUEVjbXVTUTdHM3o3NzFKN2RzZTFSNSJ9XX19LCAicmVxdWVzdGVkX3ByZWRpY2F0ZXMiOiB7fSwgIm5vbmNlIjogIjY3NTg1ODczNjU4MTIzMzY0NjY2MTc3MiJ9'}}]}, 'thread_id': '08b24ffa-159d-4b47-8b6c-be62c956b825', 'trace': False, 'state': 'request_received', 'created_at': '2023-01-05 13:16:36.970997Z', 'connection_id': '8494d36d-b4dd-431d-b90d-f9371db7c56f', 'updated_at': '2023-01-05 13:16:36.970997Z', 'presentation_exchange_id': 'b8b99818-cf2e-47bf-b04a-2691c2ef0429', 'presentation_request': {'name': 'Proof of Completion of PyDentity SSI Tutorial', 'version': '1.0', 'requested_attributes': {'0_type_uuid': {'name': 'type', 'restrictions': [{'issuer_did': 'PEcmuSQ7G3z771J7dse1R5'}]}, '0_dose_uuid': {'name': 'dose', 'restrictions': [{'issuer_did': 'PEcmuSQ7G3z771J7dse1R5'}]}, '0_speed_uuid': {'name': 'speed', 'restrictions': [{'issuer_did': 'PEcmuSQ7G3z771J7dse1R5'}]}, '0_volt_uuid': {'name': 'volt', 'restrictions': [{'issuer_did': 'PEcmuSQ7G3z771J7dse1R5'}]}}, 'requested_predicates': {}, 'nonce': '675858736581233646661772'}, 'role': 'prover', 'initiator': 'external'}]}\n",
      "\n",
      "\n",
      "Presentation Exchange ID\n",
      "\n",
      "b8b99818-cf2e-47bf-b04a-2691c2ef0429\n",
      "Presentation Request Object\n",
      "\n",
      "{'name': 'Proof of Completion of PyDentity SSI Tutorial', 'version': '1.0', 'requested_attributes': {'0_type_uuid': {'name': 'type', 'restrictions': [{'issuer_did': 'PEcmuSQ7G3z771J7dse1R5'}]}, '0_dose_uuid': {'name': 'dose', 'restrictions': [{'issuer_did': 'PEcmuSQ7G3z771J7dse1R5'}]}, '0_speed_uuid': {'name': 'speed', 'restrictions': [{'issuer_did': 'PEcmuSQ7G3z771J7dse1R5'}]}, '0_volt_uuid': {'name': 'volt', 'restrictions': [{'issuer_did': 'PEcmuSQ7G3z771J7dse1R5'}]}}, 'requested_predicates': {}, 'nonce': '675858736581233646661772'}\n",
      "Requested Attributes\n",
      "\n",
      "{'0_type_uuid': {'name': 'type', 'restrictions': [{'issuer_did': 'PEcmuSQ7G3z771J7dse1R5'}]}, '0_dose_uuid': {'name': 'dose', 'restrictions': [{'issuer_did': 'PEcmuSQ7G3z771J7dse1R5'}]}, '0_speed_uuid': {'name': 'speed', 'restrictions': [{'issuer_did': 'PEcmuSQ7G3z771J7dse1R5'}]}, '0_volt_uuid': {'name': 'volt', 'restrictions': [{'issuer_did': 'PEcmuSQ7G3z771J7dse1R5'}]}}\n",
      "Requested Predicates\n",
      "\n",
      "{}\n"
     ]
    }
   ],
   "source": [
    "response = await agent_controller.proofs.get_records()\n",
    "print(response)\n",
    "\n",
    "print('\\n')\n",
    "\n",
    "state = response['results'][0][\"state\"]\n",
    "presentation_exchange_id = response['results'][0]['presentation_exchange_id']\n",
    "presentation_request = response['results'][0]['presentation_request']\n",
    "\n",
    "print('Presentation Exchange ID\\n')\n",
    "print(response['results'][0]['presentation_exchange_id'])\n",
    "print('Presentation Request Object\\n')\n",
    "print(response['results'][0]['presentation_request'])\n",
    "print('Requested Attributes\\n')\n",
    "print(response['results'][0]['presentation_request']['requested_attributes'])\n",
    "requested_attribs = response['results'][0]['presentation_request']['requested_attributes']\n",
    "print('Requested Predicates\\n')\n",
    "print(response['results'][0]['presentation_request']['requested_predicates'])\n",
    "requested_predicates = response['results'][0]['presentation_request']['requested_predicates']"
   ]
  },
  {
   "cell_type": "markdown",
   "id": "cfd879ca-5df5-414d-857b-6befbfd5864b",
   "metadata": {},
   "source": [
    "### 10. Find credential"
   ]
  },
  {
   "cell_type": "code",
   "execution_count": 6,
   "id": "17738095-f38a-4703-8f98-ee1cb1237baf",
   "metadata": {},
   "outputs": [
    {
     "name": "stdout",
     "output_type": "stream",
     "text": [
      "Received Request -> Query for credentials in the wallet that satisfy the proof request\n",
      "[{'cred_info': {'referent': 'Operation 0', 'attrs': {'speed': '1', 'volt': '1', 'type': 'drug_B', 'dose': '1'}, 'schema_id': 'PEcmuSQ7G3z771J7dse1R5:2:Operation:0.0.3', 'cred_def_id': 'PEcmuSQ7G3z771J7dse1R5:3:CL:48:default', 'rev_reg_id': None, 'cred_rev_id': None}, 'interval': None, 'presentation_referents': ['0_volt_uuid', '0_type_uuid', '0_speed_uuid', '0_dose_uuid']}]\n",
      "\n",
      "Generate the proof\n",
      "{'requested_predicates': {}, 'requested_attributes': {'0_type_uuid': {'cred_id': 'Operation 0', 'revealed': True}, '0_dose_uuid': {'cred_id': 'Operation 0', 'revealed': True}, '0_speed_uuid': {'cred_id': 'Operation 0', 'revealed': True}, '0_volt_uuid': {'cred_id': 'Operation 0', 'revealed': True}}, 'self_attested_attributes': {}}\n",
      "\n",
      "XXX\n",
      "{}\n",
      "{'0_type_uuid': {'cred_id': 'Operation 0', 'revealed': True}, '0_dose_uuid': {'cred_id': 'Operation 0', 'revealed': True}, '0_speed_uuid': {'cred_id': 'Operation 0', 'revealed': True}, '0_volt_uuid': {'cred_id': 'Operation 0', 'revealed': True}}\n",
      "{}\n"
     ]
    }
   ],
   "source": [
    "if state == \"request_received\":\n",
    "    print(\n",
    "    \"Received Request -> Query for credentials in the wallet that satisfy the proof request\")\n",
    "\n",
    "# include self-attested attributes (not included in credentials)\n",
    "credentials_by_reft = {}\n",
    "revealed = {}\n",
    "self_attested = {}\n",
    "predicates = {}\n",
    "\n",
    "# select credentials to provide for the proof\n",
    "credentials = await agent_controller.proofs.get_presentation_credentials(presentation_exchange_id)\n",
    "print(credentials)\n",
    "\n",
    "if credentials:\n",
    "    for row in sorted(\n",
    "        credentials,\n",
    "        key=lambda c: dict(c[\"cred_info\"][\"attrs\"]),\n",
    "        reverse=True,\n",
    "    ):\n",
    "        for referent in row[\"presentation_referents\"]:\n",
    "            if referent not in credentials_by_reft:\n",
    "                credentials_by_reft[referent] = row\n",
    "\n",
    "for referent in presentation_request[\"requested_attributes\"]:\n",
    "    if referent in credentials_by_reft:\n",
    "        revealed[referent] = {\n",
    "            \"cred_id\": credentials_by_reft[referent][\"cred_info\"][\n",
    "                \"referent\"\n",
    "            ],\n",
    "            \"revealed\": True,\n",
    "        }\n",
    "    else:\n",
    "        self_attested[referent] = \"South Africa\"\n",
    "\n",
    "for referent in presentation_request[\"requested_predicates\"]:\n",
    "    if referent in credentials_by_reft:\n",
    "        predicates[referent] = {\n",
    "            \"cred_id\": credentials_by_reft[referent][\"cred_info\"][\n",
    "                \"referent\"\n",
    "            ]\n",
    "        }\n",
    "\n",
    "print(\"\\nGenerate the proof\")\n",
    "proof = {\n",
    "    \"requested_predicates\": predicates,\n",
    "    \"requested_attributes\": revealed,\n",
    "    \"self_attested_attributes\": self_attested,\n",
    "}\n",
    "print(proof)\n",
    "print(\"\\nXXX\")\n",
    "print(predicates)\n",
    "print(revealed)\n",
    "print(self_attested)"
   ]
  },
  {
   "cell_type": "markdown",
   "id": "84706a32-a943-4421-a5be-ca722acf3892",
   "metadata": {},
   "source": [
    "### 11. Send proof back"
   ]
  },
  {
   "cell_type": "code",
   "execution_count": 7,
   "id": "40998dd7-519a-470f-879b-b44c2e59dd26",
   "metadata": {},
   "outputs": [
    {
     "name": "stdout",
     "output_type": "stream",
     "text": [
      "{'presentation_request_dict': {'@type': 'did:sov:BzCbsNYhMrjHiqZDTUASHg;spec/present-proof/1.0/request-presentation', '@id': '08b24ffa-159d-4b47-8b6c-be62c956b825', 'request_presentations~attach': [{'@id': 'libindy-request-presentation-0', 'mime-type': 'application/json', 'data': {'base64': 'eyJuYW1lIjogIlByb29mIG9mIENvbXBsZXRpb24gb2YgUHlEZW50aXR5IFNTSSBUdXRvcmlhbCIsICJ2ZXJzaW9uIjogIjEuMCIsICJyZXF1ZXN0ZWRfYXR0cmlidXRlcyI6IHsiMF90eXBlX3V1aWQiOiB7Im5hbWUiOiAidHlwZSIsICJyZXN0cmljdGlvbnMiOiBbeyJpc3N1ZXJfZGlkIjogIlBFY211U1E3RzN6NzcxSjdkc2UxUjUifV19LCAiMF9kb3NlX3V1aWQiOiB7Im5hbWUiOiAiZG9zZSIsICJyZXN0cmljdGlvbnMiOiBbeyJpc3N1ZXJfZGlkIjogIlBFY211U1E3RzN6NzcxSjdkc2UxUjUifV19LCAiMF9zcGVlZF91dWlkIjogeyJuYW1lIjogInNwZWVkIiwgInJlc3RyaWN0aW9ucyI6IFt7Imlzc3Vlcl9kaWQiOiAiUEVjbXVTUTdHM3o3NzFKN2RzZTFSNSJ9XX0sICIwX3ZvbHRfdXVpZCI6IHsibmFtZSI6ICJ2b2x0IiwgInJlc3RyaWN0aW9ucyI6IFt7Imlzc3Vlcl9kaWQiOiAiUEVjbXVTUTdHM3o3NzFKN2RzZTFSNSJ9XX19LCAicmVxdWVzdGVkX3ByZWRpY2F0ZXMiOiB7fSwgIm5vbmNlIjogIjY3NTg1ODczNjU4MTIzMzY0NjY2MTc3MiJ9'}}]}, 'thread_id': '08b24ffa-159d-4b47-8b6c-be62c956b825', 'trace': False, 'state': 'presentation_sent', 'created_at': '2023-01-05 13:16:36.970997Z', 'connection_id': '8494d36d-b4dd-431d-b90d-f9371db7c56f', 'updated_at': '2023-01-05 13:18:44.348732Z', 'presentation_exchange_id': 'b8b99818-cf2e-47bf-b04a-2691c2ef0429', 'presentation_request': {'name': 'Proof of Completion of PyDentity SSI Tutorial', 'version': '1.0', 'requested_attributes': {'0_type_uuid': {'name': 'type', 'restrictions': [{'issuer_did': 'PEcmuSQ7G3z771J7dse1R5'}]}, '0_dose_uuid': {'name': 'dose', 'restrictions': [{'issuer_did': 'PEcmuSQ7G3z771J7dse1R5'}]}, '0_speed_uuid': {'name': 'speed', 'restrictions': [{'issuer_did': 'PEcmuSQ7G3z771J7dse1R5'}]}, '0_volt_uuid': {'name': 'volt', 'restrictions': [{'issuer_did': 'PEcmuSQ7G3z771J7dse1R5'}]}}, 'requested_predicates': {}, 'nonce': '675858736581233646661772'}, 'presentation': {'proof': {'proofs': [{'primary_proof': {'eq_proof': {'revealed_attrs': {'dose': '1', 'speed': '1', 'type': '11675935962789929874023431399931686027968859694189954872134543910143232860966', 'volt': '1'}, 'a_prime': '68392621762818647053290403543089304136080498664964346044280966650336423029159712721346363765079866702911746563660919367162652205274941533642398601673172784726982074572219309738538202229662749413716467973300369234805159168150087918772137054035109486518896455725680594319672285938354240815408766092361244438909714059516769318898399897118818895835675481580834518002819600892770112539196316641588817916753327696425323856248271724432609684105379420109339072992173258347731500690786655380799207085399587261500159116681956492576450808817536875635388474927083889186654100783673702600425094154252102681353174019361271524676838', 'e': '178869259328794882554881732911686902247264411944910662224422449004364215886773788792106758921725031770828863267537294316642902605405229882', 'v': '604551983400037076545649344271279044174547168034526785584375184616029358685070416585307196850178315139797645638201030951207613379276632024549863023191232051149758744637510156803552865642106178384782177084195533179955013563325544884953311953597825230249839563718760128454261230032471654515315226105610052019573789313791684912694094877361332896067565632551045952194881115024503745157809371691522167456751188916843891959763607447158138308333276660839054853039590026812612674483795337360339107078273611413137098616055253466282006656501190730771258332875658845122870457850333789824521938028489779345689242284592233265780679181512238494871092459898903568869542042579284379096894009575248697192782212709246187151347870114597338389928679846945367426964792556249611400908714999190712857997593199850603459918909966197573059719417410850958794032796642516841705989446250781329618480534487995975847839905003830784697088289614555133546', 'm': {'master_secret': '14327599129775563489764549050718856774748999432540682142143192264396111417708389105464653121025745239450375174052922846478051715891999441603572995511196549845893986378116527719754'}, 'm2': '10160716424346227369596933826181842554829742386334000794077264915283268650356184111834795442510195120105521513739518772538296186226191176133802370684836173126575989074682819962603'}, 'ge_proofs': []}, 'non_revoc_proof': None}], 'aggregated_proof': {'c_hash': '11422822972191738674462051356978337734085994563083427257271262957514989881620', 'c_list': [[2, 29, 198, 31, 215, 200, 69, 24, 7, 151, 154, 194, 111, 67, 117, 245, 72, 201, 91, 160, 143, 72, 187, 252, 82, 226, 63, 66, 50, 213, 88, 159, 141, 122, 212, 196, 1, 175, 101, 170, 145, 60, 3, 129, 10, 117, 87, 193, 129, 64, 104, 113, 156, 93, 238, 109, 165, 58, 18, 110, 124, 7, 165, 32, 14, 234, 204, 232, 10, 67, 214, 31, 105, 236, 70, 67, 104, 37, 7, 125, 170, 73, 199, 42, 209, 255, 136, 145, 61, 206, 153, 176, 159, 175, 0, 75, 111, 89, 200, 82, 224, 94, 11, 74, 75, 123, 213, 87, 102, 64, 113, 10, 83, 166, 223, 73, 212, 60, 170, 200, 78, 4, 85, 146, 204, 21, 154, 74, 105, 182, 41, 175, 240, 177, 247, 34, 179, 77, 20, 104, 209, 206, 8, 189, 151, 57, 54, 178, 18, 11, 134, 143, 141, 133, 3, 161, 162, 4, 197, 221, 97, 65, 238, 137, 163, 89, 207, 48, 180, 31, 238, 190, 18, 153, 220, 240, 33, 83, 56, 196, 165, 248, 243, 45, 193, 96, 164, 9, 155, 133, 106, 234, 111, 182, 136, 157, 5, 95, 64, 226, 159, 121, 210, 15, 158, 253, 188, 179, 211, 102, 214, 196, 135, 54, 5, 69, 187, 11, 54, 88, 86, 195, 143, 60, 48, 230, 116, 152, 187, 72, 124, 22, 213, 190, 112, 216, 14, 123, 18, 131, 42, 203, 199, 181, 56, 129, 208, 73, 199, 91, 209, 234, 77, 201, 56, 212, 230]]}}, 'requested_proof': {'revealed_attrs': {'0_dose_uuid': {'sub_proof_index': 0, 'raw': '1', 'encoded': '1'}, '0_volt_uuid': {'sub_proof_index': 0, 'raw': '1', 'encoded': '1'}, '0_type_uuid': {'sub_proof_index': 0, 'raw': 'drug_B', 'encoded': '11675935962789929874023431399931686027968859694189954872134543910143232860966'}, '0_speed_uuid': {'sub_proof_index': 0, 'raw': '1', 'encoded': '1'}}, 'self_attested_attrs': {}, 'unrevealed_attrs': {}, 'predicates': {}}, 'identifiers': [{'schema_id': 'PEcmuSQ7G3z771J7dse1R5:2:Operation:0.0.3', 'cred_def_id': 'PEcmuSQ7G3z771J7dse1R5:3:CL:48:default', 'rev_reg_id': None, 'timestamp': None}]}, 'role': 'prover', 'initiator': 'external'}\n"
     ]
    }
   ],
   "source": [
    "response = await agent_controller.proofs.send_presentation(presentation_exchange_id, proof)\n",
    "print(response)"
   ]
  },
  {
   "cell_type": "markdown",
   "id": "b3c6b934-def2-471b-8811-2c83e4becf27",
   "metadata": {},
   "source": [
    "### **Terminate**"
   ]
  },
  {
   "cell_type": "code",
   "execution_count": 10,
   "id": "90a2ade4-b4c9-41af-9f3d-02a6fb83a163",
   "metadata": {},
   "outputs": [
    {
     "name": "stdout",
     "output_type": "stream",
     "text": [
      "None\n"
     ]
    }
   ],
   "source": [
    "response = await agent_controller.terminate()\n",
    "print(response)"
   ]
  }
 ],
 "metadata": {
  "kernelspec": {
   "display_name": "Python 3 (ipykernel)",
   "language": "python",
   "name": "python3"
  },
  "language_info": {
   "codemirror_mode": {
    "name": "ipython",
    "version": 3
   },
   "file_extension": ".py",
   "mimetype": "text/x-python",
   "name": "python",
   "nbconvert_exporter": "python",
   "pygments_lexer": "ipython3",
   "version": "3.10.8"
  }
 },
 "nbformat": 4,
 "nbformat_minor": 5
}
