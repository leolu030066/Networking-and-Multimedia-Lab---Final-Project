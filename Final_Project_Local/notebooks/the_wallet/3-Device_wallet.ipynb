{
 "cells": [
  {
   "cell_type": "code",
   "execution_count": 1,
   "id": "83f2fc27-597a-43ab-b8ec-fb0a8a25c1d9",
   "metadata": {},
   "outputs": [
    {
     "name": "stdout",
     "output_type": "stream",
     "text": [
      "IPython autoawait is `on`, and set to use `asyncio`\n"
     ]
    }
   ],
   "source": [
    "%autoawait\n",
    "import time\n",
    "import asyncio\n",
    "from termcolor import colored,cprint\n",
    "\n",
    "from aries_basic_controller.aries_controller import AriesAgentController\n",
    "\n",
    "WEBHOOK_HOST = \"0.0.0.0\"\n",
    "WEBHOOK_PORT = 7982\n",
    "WEBHOOK_BASE = \"\"\n",
    "ADMIN_URL = \"http://the_wallet-agent:7981\"\n",
    "\n",
    "# Based on the aca-py agent you wish to control\n",
    "agent_controller = AriesAgentController(admin_url=ADMIN_URL)\n"
   ]
  },
  {
   "cell_type": "code",
   "execution_count": 2,
   "id": "331bf147-b1a6-4e95-b60d-184a704d7d89",
   "metadata": {},
   "outputs": [],
   "source": [
    "agent_controller.init_webhook_server(webhook_host=WEBHOOK_HOST,\n",
    "                                     webhook_port=WEBHOOK_PORT,\n",
    "                                     webhook_base=WEBHOOK_BASE)\n"
   ]
  },
  {
   "cell_type": "code",
   "execution_count": 3,
   "id": "5ec0f98a-38f5-4ea8-ae26-266c60b37fcf",
   "metadata": {},
   "outputs": [
    {
     "name": "stdout",
     "output_type": "stream",
     "text": [
      "{'referent': 'Operation 0', 'attrs': {'speed': '1', 'dose': '1', 'volt': '1', 'type': 'drug_B'}, 'schema_id': 'PEcmuSQ7G3z771J7dse1R5:2:Operation:0.0.3', 'cred_def_id': 'PEcmuSQ7G3z771J7dse1R5:3:CL:48:default', 'rev_reg_id': None, 'cred_rev_id': None}\n"
     ]
    }
   ],
   "source": [
    "credential_id = \"Operation 0\"\n",
    "credential = await agent_controller.credentials.get_by_id(credential_id)\n",
    "print(credential)"
   ]
  },
  {
   "cell_type": "code",
   "execution_count": 4,
   "id": "9eddd674-a5c3-47f8-bd6c-e94870c83fb6",
   "metadata": {},
   "outputs": [
    {
     "name": "stdout",
     "output_type": "stream",
     "text": [
      "Results :  [{'their_label': 'HOSPITAL', 'state': 'active', 'connection_id': '719fea26-a7ba-494c-9bc3-b7e89f552fda', 'created_at': '2023-01-05 10:58:40.422736Z', 'updated_at': '2023-01-05 10:58:55.829434Z', 'routing_state': 'none', 'rfc23_state': 'completed', 'accept': 'manual', 'their_role': 'invitee', 'invitation_mode': 'once', 'their_did': '6d6WJ9Wkgg7yxrRwzLEjTS', 'my_did': '7G7GLRFp7itdyrAn7ojJgs', 'invitation_key': '7btLbSrWD19PnAq5zWpnkB9ey6MhC8LGmzDMKzCrjDJP'}, {'their_label': 'MEDICAL_DEVICE_COMPUTER', 'state': 'active', 'connection_id': '8494d36d-b4dd-431d-b90d-f9371db7c56f', 'created_at': '2023-01-05 10:59:12.673705Z', 'updated_at': '2023-01-05 10:59:33.046513Z', 'routing_state': 'none', 'rfc23_state': 'completed', 'accept': 'manual', 'their_role': 'invitee', 'invitation_mode': 'once', 'their_did': 'ANrdVkJN9zaxJANC319kcm', 'my_did': 'N94AQp8pxv1DL2qwnVoxBr', 'invitation_key': '4ftHuzAW3pcct3uSo2mncWLLdPNEs1CaQgLN5uSAREds'}]\n",
      "Connection : {'their_label': 'MEDICAL_DEVICE_COMPUTER', 'state': 'active', 'connection_id': '8494d36d-b4dd-431d-b90d-f9371db7c56f', 'created_at': '2023-01-05 10:59:12.673705Z', 'updated_at': '2023-01-05 10:59:33.046513Z', 'routing_state': 'none', 'rfc23_state': 'completed', 'accept': 'manual', 'their_role': 'invitee', 'invitation_mode': 'once', 'their_did': 'ANrdVkJN9zaxJANC319kcm', 'my_did': 'N94AQp8pxv1DL2qwnVoxBr', 'invitation_key': '4ftHuzAW3pcct3uSo2mncWLLdPNEs1CaQgLN5uSAREds'}\n",
      "Active Connection ID :  8494d36d-b4dd-431d-b90d-f9371db7c56f\n"
     ]
    }
   ],
   "source": [
    "response = await agent_controller.connections.get_connections()\n",
    "results = response['results']\n",
    "print(\"Results : \", results)\n",
    "if len(results) > 1:\n",
    "    connection = response['results'][1]\n",
    "    print(\"Connection :\", connection)\n",
    "    if connection['state'] == 'active':       \n",
    "        connection_id = connection[\"connection_id\"]\n",
    "        print(\"Active Connection ID : \", connection_id)\n",
    "else:\n",
    "    print(\"You must create a connection\")\n",
    "    "
   ]
  },
  {
   "cell_type": "markdown",
   "id": "b3c6b934-def2-471b-8811-2c83e4becf27",
   "metadata": {},
   "source": [
    "### You can get  credential by your credential id ref(seller notebook)"
   ]
  },
  {
   "cell_type": "code",
   "execution_count": 10,
   "id": "90a2ade4-b4c9-41af-9f3d-02a6fb83a163",
   "metadata": {},
   "outputs": [
    {
     "name": "stdout",
     "output_type": "stream",
     "text": [
      "None\n"
     ]
    }
   ],
   "source": [
    "response = await agent_controller.terminate()\n",
    "print(response)"
   ]
  }
 ],
 "metadata": {
  "kernelspec": {
   "display_name": "Python 3 (ipykernel)",
   "language": "python",
   "name": "python3"
  },
  "language_info": {
   "codemirror_mode": {
    "name": "ipython",
    "version": 3
   },
   "file_extension": ".py",
   "mimetype": "text/x-python",
   "name": "python",
   "nbconvert_exporter": "python",
   "pygments_lexer": "ipython3",
   "version": "3.10.8"
  }
 },
 "nbformat": 4,
 "nbformat_minor": 5
}
