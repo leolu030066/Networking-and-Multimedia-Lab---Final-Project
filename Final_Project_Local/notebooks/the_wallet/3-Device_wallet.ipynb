{
 "cells": [
  {
   "cell_type": "markdown",
   "id": "7f167b0e-8144-4c40-b5b8-f922d6554d12",
   "metadata": {},
   "source": [
    "### 5. Setup"
   ]
  },
  {
   "cell_type": "code",
   "execution_count": 1,
   "id": "83f2fc27-597a-43ab-b8ec-fb0a8a25c1d9",
   "metadata": {},
   "outputs": [
    {
     "name": "stdout",
     "output_type": "stream",
     "text": [
      "IPython autoawait is `on`, and set to use `asyncio`\n"
     ]
    }
   ],
   "source": [
    "%autoawait\n",
    "import time\n",
    "import asyncio\n",
    "from termcolor import colored,cprint\n",
    "\n",
    "from aries_basic_controller.aries_controller import AriesAgentController\n",
    "\n",
    "WEBHOOK_HOST = \"0.0.0.0\"\n",
    "WEBHOOK_PORT = 7982\n",
    "WEBHOOK_BASE = \"\"\n",
    "ADMIN_URL = \"http://the_wallet-agent:7981\"\n",
    "\n",
    "# Based on the aca-py agent you wish to control\n",
    "agent_controller = AriesAgentController(admin_url=ADMIN_URL)\n"
   ]
  },
  {
   "cell_type": "code",
   "execution_count": 2,
   "id": "331bf147-b1a6-4e95-b60d-184a704d7d89",
   "metadata": {},
   "outputs": [],
   "source": [
    "agent_controller.init_webhook_server(webhook_host=WEBHOOK_HOST,\n",
    "                                     webhook_port=WEBHOOK_PORT,\n",
    "                                     webhook_base=WEBHOOK_BASE)\n"
   ]
  },
  {
   "cell_type": "markdown",
   "id": "b4b69a96-9dcc-4b53-8d97-19138c4769f7",
   "metadata": {},
   "source": [
    "### 6. Check existing credential"
   ]
  },
  {
   "cell_type": "code",
   "execution_count": 3,
   "id": "5ec0f98a-38f5-4ea8-ae26-266c60b37fcf",
   "metadata": {},
   "outputs": [
    {
     "name": "stdout",
     "output_type": "stream",
     "text": [
      "{'referent': 'Operation n', 'attrs': {'speed': '1', 'volt': '1', 'dose': '1', 'type': 'drug_A'}, 'schema_id': 'PEcmuSQ7G3z771J7dse1R5:2:Operation:0.0.5', 'cred_def_id': 'PEcmuSQ7G3z771J7dse1R5:3:CL:87:default', 'rev_reg_id': None, 'cred_rev_id': None}\n"
     ]
    }
   ],
   "source": [
    "credential_id = \"Operation n\"\n",
    "credential = await agent_controller.credentials.get_by_id(credential_id)\n",
    "print(credential)"
   ]
  },
  {
   "cell_type": "markdown",
   "id": "f1eb2941-d9eb-4552-ace6-2884109aa998",
   "metadata": {},
   "source": [
    "### 7. Check connection"
   ]
  },
  {
   "cell_type": "code",
   "execution_count": 4,
   "id": "9eddd674-a5c3-47f8-bd6c-e94870c83fb6",
   "metadata": {},
   "outputs": [
    {
     "name": "stdout",
     "output_type": "stream",
     "text": [
      "Results :  [{'state': 'active', 'invitation_key': '5sUS3jiuXTW96bs68X4iBzPeHGSrymakUFtTfCKFSafQ', 'accept': 'manual', 'updated_at': '2023-01-06 04:54:44.861411Z', 'my_did': '4gqtJKna9qZYztcAGkUKDr', 'their_label': 'HOSPITAL', 'rfc23_state': 'completed', 'their_did': 'UFHBQiVeARLVd576EuePnN', 'connection_id': 'da28eb79-0431-4b7f-9af9-92ed004178a5', 'their_role': 'invitee', 'routing_state': 'none', 'created_at': '2023-01-06 04:54:24.454817Z', 'invitation_mode': 'once'}, {'state': 'active', 'invitation_key': 'E1iouZmg8RHSSxEpqpVBEERCmKwPUHLw6KK6yEiFfCy9', 'accept': 'manual', 'updated_at': '2023-01-06 04:55:22.022784Z', 'my_did': 'GjzGVV4asii6Z3RGDMeNnr', 'their_label': 'MEDICAL_DEVICE_COMPUTER', 'rfc23_state': 'completed', 'their_did': 'NkM1rD63bQng6NMgtomvFQ', 'connection_id': '7b32bc63-733c-4355-bd34-84754a82a9fe', 'their_role': 'invitee', 'routing_state': 'none', 'created_at': '2023-01-06 04:55:01.645190Z', 'invitation_mode': 'once'}]\n",
      "Connection : {'state': 'active', 'invitation_key': 'E1iouZmg8RHSSxEpqpVBEERCmKwPUHLw6KK6yEiFfCy9', 'accept': 'manual', 'updated_at': '2023-01-06 04:55:22.022784Z', 'my_did': 'GjzGVV4asii6Z3RGDMeNnr', 'their_label': 'MEDICAL_DEVICE_COMPUTER', 'rfc23_state': 'completed', 'their_did': 'NkM1rD63bQng6NMgtomvFQ', 'connection_id': '7b32bc63-733c-4355-bd34-84754a82a9fe', 'their_role': 'invitee', 'routing_state': 'none', 'created_at': '2023-01-06 04:55:01.645190Z', 'invitation_mode': 'once'}\n",
      "Active Connection ID :  7b32bc63-733c-4355-bd34-84754a82a9fe\n"
     ]
    }
   ],
   "source": [
    "response = await agent_controller.connections.get_connections()\n",
    "results = response['results']\n",
    "print(\"Results : \", results)\n",
    "if len(results) > 1:\n",
    "    connection = response['results'][1]\n",
    "    print(\"Connection :\", connection)\n",
    "    if connection['state'] == 'active':       \n",
    "        connection_id = connection[\"connection_id\"]\n",
    "        print(\"Active Connection ID : \", connection_id)\n",
    "else:\n",
    "    print(\"You must create a connection\")\n",
    "    "
   ]
  },
  {
   "cell_type": "markdown",
   "id": "40f8c337-8cc9-4a56-b545-f540ac7ccc0c",
   "metadata": {},
   "source": [
    "### 8. Go to Medical_device_computer notebook to send verify request"
   ]
  },
  {
   "cell_type": "markdown",
   "id": "799c99bb-814f-46b9-b462-6cca9b10f507",
   "metadata": {},
   "source": [
    "### 9. Send verify response"
   ]
  },
  {
   "cell_type": "code",
   "execution_count": 5,
   "id": "41ddc68a-a62b-4f91-a2c0-c5930c3b5836",
   "metadata": {},
   "outputs": [
    {
     "name": "stdout",
     "output_type": "stream",
     "text": [
      "{'results': [{'presentation_request': {'name': 'Proof of Completion of PyDentity SSI Tutorial', 'version': '1.0', 'requested_attributes': {'0_type_uuid': {'name': 'type', 'restrictions': [{'issuer_did': 'PEcmuSQ7G3z771J7dse1R5'}]}, '0_dose_uuid': {'name': 'dose', 'restrictions': [{'issuer_did': 'PEcmuSQ7G3z771J7dse1R5'}]}, '0_speed_uuid': {'name': 'speed', 'restrictions': [{'issuer_did': 'PEcmuSQ7G3z771J7dse1R5'}]}, '0_volt_uuid': {'name': 'volt', 'restrictions': [{'issuer_did': 'PEcmuSQ7G3z771J7dse1R5'}]}}, 'requested_predicates': {}, 'nonce': '897404293099002789488009'}, 'state': 'request_received', 'role': 'prover', 'thread_id': '33992292-05e7-4dd3-8005-38fb5b3414c3', 'updated_at': '2023-01-06 05:14:46.557055Z', 'initiator': 'external', 'presentation_exchange_id': '7d900d91-7f76-416f-9d4e-665b82cb4872', 'connection_id': '7b32bc63-733c-4355-bd34-84754a82a9fe', 'created_at': '2023-01-06 05:14:46.557055Z', 'presentation_request_dict': {'@type': 'did:sov:BzCbsNYhMrjHiqZDTUASHg;spec/present-proof/1.0/request-presentation', '@id': '33992292-05e7-4dd3-8005-38fb5b3414c3', 'request_presentations~attach': [{'@id': 'libindy-request-presentation-0', 'mime-type': 'application/json', 'data': {'base64': 'eyJuYW1lIjogIlByb29mIG9mIENvbXBsZXRpb24gb2YgUHlEZW50aXR5IFNTSSBUdXRvcmlhbCIsICJ2ZXJzaW9uIjogIjEuMCIsICJyZXF1ZXN0ZWRfYXR0cmlidXRlcyI6IHsiMF90eXBlX3V1aWQiOiB7Im5hbWUiOiAidHlwZSIsICJyZXN0cmljdGlvbnMiOiBbeyJpc3N1ZXJfZGlkIjogIlBFY211U1E3RzN6NzcxSjdkc2UxUjUifV19LCAiMF9kb3NlX3V1aWQiOiB7Im5hbWUiOiAiZG9zZSIsICJyZXN0cmljdGlvbnMiOiBbeyJpc3N1ZXJfZGlkIjogIlBFY211U1E3RzN6NzcxSjdkc2UxUjUifV19LCAiMF9zcGVlZF91dWlkIjogeyJuYW1lIjogInNwZWVkIiwgInJlc3RyaWN0aW9ucyI6IFt7Imlzc3Vlcl9kaWQiOiAiUEVjbXVTUTdHM3o3NzFKN2RzZTFSNSJ9XX0sICIwX3ZvbHRfdXVpZCI6IHsibmFtZSI6ICJ2b2x0IiwgInJlc3RyaWN0aW9ucyI6IFt7Imlzc3Vlcl9kaWQiOiAiUEVjbXVTUTdHM3o3NzFKN2RzZTFSNSJ9XX19LCAicmVxdWVzdGVkX3ByZWRpY2F0ZXMiOiB7fSwgIm5vbmNlIjogIjg5NzQwNDI5MzA5OTAwMjc4OTQ4ODAwOSJ9'}}]}, 'trace': False}]}\n",
      "\n",
      "\n",
      "Presentation Exchange ID\n",
      "\n",
      "7d900d91-7f76-416f-9d4e-665b82cb4872\n",
      "Presentation Request Object\n",
      "\n",
      "{'name': 'Proof of Completion of PyDentity SSI Tutorial', 'version': '1.0', 'requested_attributes': {'0_type_uuid': {'name': 'type', 'restrictions': [{'issuer_did': 'PEcmuSQ7G3z771J7dse1R5'}]}, '0_dose_uuid': {'name': 'dose', 'restrictions': [{'issuer_did': 'PEcmuSQ7G3z771J7dse1R5'}]}, '0_speed_uuid': {'name': 'speed', 'restrictions': [{'issuer_did': 'PEcmuSQ7G3z771J7dse1R5'}]}, '0_volt_uuid': {'name': 'volt', 'restrictions': [{'issuer_did': 'PEcmuSQ7G3z771J7dse1R5'}]}}, 'requested_predicates': {}, 'nonce': '897404293099002789488009'}\n",
      "Requested Attributes\n",
      "\n",
      "{'0_type_uuid': {'name': 'type', 'restrictions': [{'issuer_did': 'PEcmuSQ7G3z771J7dse1R5'}]}, '0_dose_uuid': {'name': 'dose', 'restrictions': [{'issuer_did': 'PEcmuSQ7G3z771J7dse1R5'}]}, '0_speed_uuid': {'name': 'speed', 'restrictions': [{'issuer_did': 'PEcmuSQ7G3z771J7dse1R5'}]}, '0_volt_uuid': {'name': 'volt', 'restrictions': [{'issuer_did': 'PEcmuSQ7G3z771J7dse1R5'}]}}\n",
      "Requested Predicates\n",
      "\n",
      "{}\n"
     ]
    }
   ],
   "source": [
    "response = await agent_controller.proofs.get_records()\n",
    "print(response)\n",
    "\n",
    "print('\\n')\n",
    "\n",
    "state = response['results'][0][\"state\"]\n",
    "presentation_exchange_id = response['results'][0]['presentation_exchange_id']\n",
    "presentation_request = response['results'][0]['presentation_request']\n",
    "\n",
    "print('Presentation Exchange ID\\n')\n",
    "print(response['results'][0]['presentation_exchange_id'])\n",
    "print('Presentation Request Object\\n')\n",
    "print(response['results'][0]['presentation_request'])\n",
    "print('Requested Attributes\\n')\n",
    "print(response['results'][0]['presentation_request']['requested_attributes'])\n",
    "requested_attribs = response['results'][0]['presentation_request']['requested_attributes']\n",
    "print('Requested Predicates\\n')\n",
    "print(response['results'][0]['presentation_request']['requested_predicates'])\n",
    "requested_predicates = response['results'][0]['presentation_request']['requested_predicates']"
   ]
  },
  {
   "cell_type": "markdown",
   "id": "cfd879ca-5df5-414d-857b-6befbfd5864b",
   "metadata": {},
   "source": [
    "### 10. Find credential"
   ]
  },
  {
   "cell_type": "code",
   "execution_count": 6,
   "id": "17738095-f38a-4703-8f98-ee1cb1237baf",
   "metadata": {},
   "outputs": [
    {
     "name": "stdout",
     "output_type": "stream",
     "text": [
      "Received Request -> Query for credentials in the wallet that satisfy the proof request\n",
      "[{'cred_info': {'referent': 'Operation n', 'attrs': {'volt': '1', 'dose': '1', 'type': 'drug_A', 'speed': '1'}, 'schema_id': 'PEcmuSQ7G3z771J7dse1R5:2:Operation:0.0.5', 'cred_def_id': 'PEcmuSQ7G3z771J7dse1R5:3:CL:87:default', 'rev_reg_id': None, 'cred_rev_id': None}, 'interval': None, 'presentation_referents': ['0_speed_uuid', '0_volt_uuid', '0_dose_uuid', '0_type_uuid']}]\n",
      "\n",
      "Generate the proof\n",
      "{'requested_predicates': {}, 'requested_attributes': {'0_type_uuid': {'cred_id': 'Operation n', 'revealed': True}, '0_dose_uuid': {'cred_id': 'Operation n', 'revealed': True}, '0_speed_uuid': {'cred_id': 'Operation n', 'revealed': True}, '0_volt_uuid': {'cred_id': 'Operation n', 'revealed': True}}, 'self_attested_attributes': {}}\n",
      "\n",
      "XXX\n",
      "{}\n",
      "{'0_type_uuid': {'cred_id': 'Operation n', 'revealed': True}, '0_dose_uuid': {'cred_id': 'Operation n', 'revealed': True}, '0_speed_uuid': {'cred_id': 'Operation n', 'revealed': True}, '0_volt_uuid': {'cred_id': 'Operation n', 'revealed': True}}\n",
      "{}\n"
     ]
    }
   ],
   "source": [
    "if state == \"request_received\":\n",
    "    print(\n",
    "    \"Received Request -> Query for credentials in the wallet that satisfy the proof request\")\n",
    "\n",
    "# include self-attested attributes (not included in credentials)\n",
    "credentials_by_reft = {}\n",
    "revealed = {}\n",
    "self_attested = {}\n",
    "predicates = {}\n",
    "\n",
    "# select credentials to provide for the proof\n",
    "credentials = await agent_controller.proofs.get_presentation_credentials(presentation_exchange_id)\n",
    "print(credentials)\n",
    "\n",
    "if credentials:\n",
    "    for row in sorted(\n",
    "        credentials,\n",
    "        key=lambda c: dict(c[\"cred_info\"][\"attrs\"]),\n",
    "        reverse=True,\n",
    "    ):\n",
    "        for referent in row[\"presentation_referents\"]:\n",
    "            if referent not in credentials_by_reft:\n",
    "                credentials_by_reft[referent] = row\n",
    "\n",
    "for referent in presentation_request[\"requested_attributes\"]:\n",
    "    if referent in credentials_by_reft:\n",
    "        revealed[referent] = {\n",
    "            \"cred_id\": credentials_by_reft[referent][\"cred_info\"][\n",
    "                \"referent\"\n",
    "            ],\n",
    "            \"revealed\": True,\n",
    "        }\n",
    "    else:\n",
    "        self_attested[referent] = \"South Africa\"\n",
    "\n",
    "for referent in presentation_request[\"requested_predicates\"]:\n",
    "    if referent in credentials_by_reft:\n",
    "        predicates[referent] = {\n",
    "            \"cred_id\": credentials_by_reft[referent][\"cred_info\"][\n",
    "                \"referent\"\n",
    "            ]\n",
    "        }\n",
    "\n",
    "print(\"\\nGenerate the proof\")\n",
    "proof = {\n",
    "    \"requested_predicates\": predicates,\n",
    "    \"requested_attributes\": revealed,\n",
    "    \"self_attested_attributes\": self_attested,\n",
    "}\n",
    "print(proof)\n",
    "print(\"\\nXXX\")\n",
    "print(predicates)\n",
    "print(revealed)\n",
    "print(self_attested)"
   ]
  },
  {
   "cell_type": "markdown",
   "id": "84706a32-a943-4421-a5be-ca722acf3892",
   "metadata": {},
   "source": [
    "### 11. Send proof back"
   ]
  },
  {
   "cell_type": "code",
   "execution_count": 7,
   "id": "40998dd7-519a-470f-879b-b44c2e59dd26",
   "metadata": {},
   "outputs": [
    {
     "name": "stdout",
     "output_type": "stream",
     "text": [
      "{'presentation_request': {'name': 'Proof of Completion of PyDentity SSI Tutorial', 'version': '1.0', 'requested_attributes': {'0_type_uuid': {'name': 'type', 'restrictions': [{'issuer_did': 'PEcmuSQ7G3z771J7dse1R5'}]}, '0_dose_uuid': {'name': 'dose', 'restrictions': [{'issuer_did': 'PEcmuSQ7G3z771J7dse1R5'}]}, '0_speed_uuid': {'name': 'speed', 'restrictions': [{'issuer_did': 'PEcmuSQ7G3z771J7dse1R5'}]}, '0_volt_uuid': {'name': 'volt', 'restrictions': [{'issuer_did': 'PEcmuSQ7G3z771J7dse1R5'}]}}, 'requested_predicates': {}, 'nonce': '897404293099002789488009'}, 'state': 'presentation_sent', 'role': 'prover', 'thread_id': '33992292-05e7-4dd3-8005-38fb5b3414c3', 'updated_at': '2023-01-06 05:14:57.635126Z', 'initiator': 'external', 'presentation_exchange_id': '7d900d91-7f76-416f-9d4e-665b82cb4872', 'connection_id': '7b32bc63-733c-4355-bd34-84754a82a9fe', 'presentation': {'proof': {'proofs': [{'primary_proof': {'eq_proof': {'revealed_attrs': {'dose': '1', 'speed': '1', 'type': '20329588659696712139452057791839440126770655946256480123031167095057392378856', 'volt': '1'}, 'a_prime': '54000039378091334060597009980429758870132706977423500199068756820224221864890020778347475876658665487967213375145730130136333295106366405572987985920234335595724641302898664316303217614136118259709536048341600102531313643951505016940687278628903009618410010549287000887128020434766676560965868420474850873612028631099766349633721988493956223145917964616922763871387119367055755685893878457286612978250253649365238026215204849014054342376650166840014495819904619320845988018531896058937750867791959832637790856648675400996052020996481422458993059050637794383746494896793639021904690859705587846370138884123488037663954', 'e': '168207335993333731365256195638522455332951426811246386753746828728617791735276502739758214256876109461032652589103788595641641205233262291', 'v': '1346433468682752442869537264146320959917945387227254668875324319936103236367980871046009981453799799311182096105855047876990044080523918228550190825423628933594720292704300865298363922055361340748254229434112295634803912658472677031876801711692290925162930139375439888449387907205293457144592917884389670068646148272700173806952993403777145668564564131176401778098678370383909706663534698963085068039205479904501053045637828864363348238675386053738481337983012278273574021878400758547528272169920749998372659120182799954640382960952478054911201593046022919243311966089536200998318251761485293855018878515644370565568800751748550385407040248946621705190388335030865439927396109100780268456603136905676446315944206567512783686278133907076474561016622806187113704541159619701469770464899184521974723675762909376084268862606542033676671278099544352993980469797835255643480821502155750942663577355374221319369029478425993888628', 'm': {'master_secret': '12523026693260627246954529785418084800283893722086099979640433287224335825871399900721173188632201078814159983361220025116213640174901426079907360788844483697207032529638573302294'}, 'm2': '12082518276800109886725007491664741324149682146849000330165103567469453532529278906019821852938792407633895635746677865188561877772555433626406963014944874566615768792847818761118'}, 'ge_proofs': []}, 'non_revoc_proof': None}], 'aggregated_proof': {'c_hash': '71017939829325134344412849561315150255845062530512836001010460765027518331846', 'c_list': [[1, 171, 195, 64, 238, 113, 24, 37, 81, 218, 42, 129, 98, 197, 131, 106, 251, 178, 59, 233, 154, 103, 50, 222, 32, 27, 93, 220, 201, 33, 248, 117, 75, 183, 145, 201, 183, 143, 74, 128, 207, 229, 243, 40, 1, 55, 31, 40, 91, 66, 87, 25, 120, 130, 144, 34, 17, 192, 224, 42, 185, 3, 97, 205, 59, 23, 61, 111, 72, 22, 87, 214, 188, 55, 215, 7, 51, 5, 133, 137, 42, 212, 186, 158, 59, 120, 134, 15, 98, 131, 255, 119, 200, 51, 250, 3, 63, 49, 66, 218, 207, 18, 83, 112, 231, 17, 104, 163, 39, 7, 32, 46, 222, 194, 57, 254, 4, 91, 144, 102, 14, 223, 1, 251, 157, 156, 142, 249, 119, 176, 254, 216, 80, 197, 88, 56, 51, 48, 99, 32, 229, 141, 207, 205, 18, 227, 148, 158, 185, 244, 94, 224, 75, 62, 107, 192, 223, 145, 114, 171, 95, 175, 143, 60, 163, 205, 226, 228, 35, 202, 16, 111, 169, 164, 61, 171, 101, 135, 15, 106, 247, 201, 36, 170, 35, 208, 193, 10, 82, 129, 192, 68, 171, 13, 18, 185, 182, 94, 225, 41, 204, 195, 100, 198, 7, 4, 39, 191, 235, 70, 49, 22, 132, 88, 175, 114, 206, 95, 18, 78, 240, 142, 96, 195, 131, 27, 184, 146, 56, 192, 246, 89, 241, 212, 225, 15, 229, 198, 145, 66, 193, 201, 189, 43, 140, 81, 28, 8, 180, 26, 5, 225, 47, 15, 56, 116, 210]]}}, 'requested_proof': {'revealed_attrs': {'0_type_uuid': {'sub_proof_index': 0, 'raw': 'drug_A', 'encoded': '20329588659696712139452057791839440126770655946256480123031167095057392378856'}, '0_dose_uuid': {'sub_proof_index': 0, 'raw': '1', 'encoded': '1'}, '0_volt_uuid': {'sub_proof_index': 0, 'raw': '1', 'encoded': '1'}, '0_speed_uuid': {'sub_proof_index': 0, 'raw': '1', 'encoded': '1'}}, 'self_attested_attrs': {}, 'unrevealed_attrs': {}, 'predicates': {}}, 'identifiers': [{'schema_id': 'PEcmuSQ7G3z771J7dse1R5:2:Operation:0.0.5', 'cred_def_id': 'PEcmuSQ7G3z771J7dse1R5:3:CL:87:default', 'rev_reg_id': None, 'timestamp': None}]}, 'created_at': '2023-01-06 05:14:46.557055Z', 'presentation_request_dict': {'@type': 'did:sov:BzCbsNYhMrjHiqZDTUASHg;spec/present-proof/1.0/request-presentation', '@id': '33992292-05e7-4dd3-8005-38fb5b3414c3', 'request_presentations~attach': [{'@id': 'libindy-request-presentation-0', 'mime-type': 'application/json', 'data': {'base64': 'eyJuYW1lIjogIlByb29mIG9mIENvbXBsZXRpb24gb2YgUHlEZW50aXR5IFNTSSBUdXRvcmlhbCIsICJ2ZXJzaW9uIjogIjEuMCIsICJyZXF1ZXN0ZWRfYXR0cmlidXRlcyI6IHsiMF90eXBlX3V1aWQiOiB7Im5hbWUiOiAidHlwZSIsICJyZXN0cmljdGlvbnMiOiBbeyJpc3N1ZXJfZGlkIjogIlBFY211U1E3RzN6NzcxSjdkc2UxUjUifV19LCAiMF9kb3NlX3V1aWQiOiB7Im5hbWUiOiAiZG9zZSIsICJyZXN0cmljdGlvbnMiOiBbeyJpc3N1ZXJfZGlkIjogIlBFY211U1E3RzN6NzcxSjdkc2UxUjUifV19LCAiMF9zcGVlZF91dWlkIjogeyJuYW1lIjogInNwZWVkIiwgInJlc3RyaWN0aW9ucyI6IFt7Imlzc3Vlcl9kaWQiOiAiUEVjbXVTUTdHM3o3NzFKN2RzZTFSNSJ9XX0sICIwX3ZvbHRfdXVpZCI6IHsibmFtZSI6ICJ2b2x0IiwgInJlc3RyaWN0aW9ucyI6IFt7Imlzc3Vlcl9kaWQiOiAiUEVjbXVTUTdHM3o3NzFKN2RzZTFSNSJ9XX19LCAicmVxdWVzdGVkX3ByZWRpY2F0ZXMiOiB7fSwgIm5vbmNlIjogIjg5NzQwNDI5MzA5OTAwMjc4OTQ4ODAwOSJ9'}}]}, 'trace': False}\n"
     ]
    }
   ],
   "source": [
    "response = await agent_controller.proofs.send_presentation(presentation_exchange_id, proof)\n",
    "print(response)"
   ]
  },
  {
   "cell_type": "markdown",
   "id": "b3c6b934-def2-471b-8811-2c83e4becf27",
   "metadata": {},
   "source": [
    "### **Terminate**"
   ]
  },
  {
   "cell_type": "code",
   "execution_count": 12,
   "id": "90a2ade4-b4c9-41af-9f3d-02a6fb83a163",
   "metadata": {},
   "outputs": [
    {
     "name": "stdout",
     "output_type": "stream",
     "text": [
      "None\n"
     ]
    }
   ],
   "source": [
    "response = await agent_controller.terminate()\n",
    "print(response)"
   ]
  },
  {
   "cell_type": "code",
   "execution_count": null,
   "id": "76da55b4-095f-40d8-a5f2-0bac1c09100b",
   "metadata": {},
   "outputs": [],
   "source": []
  }
 ],
 "metadata": {
  "kernelspec": {
   "display_name": "Python 3 (ipykernel)",
   "language": "python",
   "name": "python3"
  },
  "language_info": {
   "codemirror_mode": {
    "name": "ipython",
    "version": 3
   },
   "file_extension": ".py",
   "mimetype": "text/x-python",
   "name": "python",
   "nbconvert_exporter": "python",
   "pygments_lexer": "ipython3",
   "version": "3.10.8"
  }
 },
 "nbformat": 4,
 "nbformat_minor": 5
}
