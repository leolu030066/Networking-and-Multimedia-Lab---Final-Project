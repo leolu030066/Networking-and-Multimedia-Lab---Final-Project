{
 "cells": [
  {
   "cell_type": "code",
   "execution_count": 2,
   "id": "83f2fc27-597a-43ab-b8ec-fb0a8a25c1d9",
   "metadata": {},
   "outputs": [
    {
     "name": "stdout",
     "output_type": "stream",
     "text": [
      "IPython autoawait is `on`, and set to use `asyncio`\n"
     ]
    }
   ],
   "source": [
    "%autoawait\n",
    "import time\n",
    "import asyncio\n",
    "from termcolor import colored,cprint\n",
    "\n",
    "from aries_basic_controller.aries_controller import AriesAgentController\n",
    "\n",
    "WEBHOOK_HOST = \"0.0.0.0\"\n",
    "WEBHOOK_PORT = 7982\n",
    "WEBHOOK_BASE = \"\"\n",
    "ADMIN_URL = \"http://the_wallet-agent:7981\"\n",
    "\n",
    "# Based on the aca-py agent you wish to control\n",
    "agent_controller = AriesAgentController(admin_url=ADMIN_URL)\n"
   ]
  },
  {
   "cell_type": "code",
   "execution_count": 3,
   "id": "331bf147-b1a6-4e95-b60d-184a704d7d89",
   "metadata": {},
   "outputs": [],
   "source": [
    "agent_controller.init_webhook_server(webhook_host=WEBHOOK_HOST,\n",
    "                                     webhook_port=WEBHOOK_PORT,\n",
    "                                     webhook_base=WEBHOOK_BASE)\n"
   ]
  },
  {
   "cell_type": "code",
   "execution_count": 4,
   "id": "5ec0f98a-38f5-4ea8-ae26-266c60b37fcf",
   "metadata": {},
   "outputs": [
    {
     "name": "stdout",
     "output_type": "stream",
     "text": [
      "Subscribing too: issue_credential\n"
     ]
    }
   ],
   "source": [
    "loop = asyncio.get_event_loop()\n",
    "loop.create_task(agent_controller.listen_webhooks())\n",
    "def cred_handler(payload):\n",
    "    print(\"Handle Credentials\")\n",
    "    exchange_id = payload['credential_exchange_id']\n",
    "    state = payload['state']\n",
    "    role = payload['role']\n",
    "    attributes = payload['credential_proposal_dict']['credential_proposal']['attributes']\n",
    "    print(f\"Credential exchange {exchange_id}, role: {role}, state: {state}\")\n",
    "    print(f\"Attributes: {attributes}\")\n",
    "    \n",
    "cred_listener = {\n",
    "    \"topic\": \"issue_credential\",\n",
    "    \"handler\": cred_handler\n",
    "}\n",
    "agent_controller.register_listeners([cred_listener], defaults=True)"
   ]
  },
  {
   "cell_type": "code",
   "execution_count": 5,
   "id": "6692f94d-41a0-4407-83b6-bd4f71609a13",
   "metadata": {},
   "outputs": [
    {
     "name": "stdout",
     "output_type": "stream",
     "text": [
      "{'results': []}\n",
      "Handle Credentials\n",
      "Credential exchange ea49e217-61cf-4dcc-8895-f0ccb762f4fd, role: holder, state: offer_received\n",
      "Attributes: [{'name': 'fullname', 'value': '1'}, {'name': 'age', 'value': '1'}, {'name': 'date', 'value': '1'}, {'name': 'doctorname', 'value': '1'}, {'name': 'complaint', 'value': '1'}, {'name': 'examination results', 'value': '1'}, {'name': 'final treatment', 'value': '1'}, {'name': 'medicine', 'value': '1'}, {'name': 'nextappointment', 'value': '1'}]\n"
     ]
    }
   ],
   "source": [
    "response = await agent_controller.issuer.get_records()\n",
    "print(response)"
   ]
  },
  {
   "cell_type": "code",
   "execution_count": 7,
   "id": "bc3096d4-013e-47d1-bb35-f14e167beb76",
   "metadata": {},
   "outputs": [
    {
     "name": "stdout",
     "output_type": "stream",
     "text": [
      "Credential exchange ea49e217-61cf-4dcc-8895-f0ccb762f4fd, role: holder, state: offer_received\n",
      "Being offered: [{'name': 'fullname', 'value': '1'}, {'name': 'age', 'value': '1'}, {'name': 'date', 'value': '1'}, {'name': 'doctorname', 'value': '1'}, {'name': 'complaint', 'value': '1'}, {'name': 'examination results', 'value': '1'}, {'name': 'final treatment', 'value': '1'}, {'name': 'medicine', 'value': '1'}, {'name': 'nextappointment', 'value': '1'}]\n"
     ]
    }
   ],
   "source": [
    "response = await agent_controller.issuer.get_records()\n",
    "results = response[\"results\"]\n",
    "if len(results) == 0:\n",
    "    print(\"You need to first send a credential from the issuer notebook (Alice)\")\n",
    "else:\n",
    "    cred_record = results[0]\n",
    "    cred_ex_id = cred_record['credential_exchange_id']\n",
    "    state = cred_record['state']\n",
    "    role = cred_record['role']\n",
    "    attributes = results[0]['credential_proposal_dict']['credential_proposal']['attributes']\n",
    "    print(f\"Credential exchange {cred_ex_id}, role: {role}, state: {state}\")\n",
    "    print(f\"Being offered: {attributes}\")"
   ]
  },
  {
   "cell_type": "code",
   "execution_count": 8,
   "id": "0d70f80e-3cb5-41b1-9a82-81300267a4c1",
   "metadata": {},
   "outputs": [
    {
     "name": "stdout",
     "output_type": "stream",
     "text": [
      "Credential exchange ea49e217-61cf-4dcc-8895-f0ccb762f4fd, role: holder, state: request_sent\n",
      "Handle Credentials\n",
      "Credential exchange ea49e217-61cf-4dcc-8895-f0ccb762f4fd, role: holder, state: request_sent\n",
      "Attributes: [{'name': 'fullname', 'value': '1'}, {'name': 'age', 'value': '1'}, {'name': 'date', 'value': '1'}, {'name': 'doctorname', 'value': '1'}, {'name': 'complaint', 'value': '1'}, {'name': 'examination results', 'value': '1'}, {'name': 'final treatment', 'value': '1'}, {'name': 'medicine', 'value': '1'}, {'name': 'nextappointment', 'value': '1'}]\n",
      "Handle Credentials\n",
      "Credential exchange ea49e217-61cf-4dcc-8895-f0ccb762f4fd, role: holder, state: credential_received\n",
      "Attributes: [{'name': 'fullname', 'value': '1'}, {'name': 'age', 'value': '1'}, {'name': 'date', 'value': '1'}, {'name': 'doctorname', 'value': '1'}, {'name': 'complaint', 'value': '1'}, {'name': 'examination results', 'value': '1'}, {'name': 'final treatment', 'value': '1'}, {'name': 'medicine', 'value': '1'}, {'name': 'nextappointment', 'value': '1'}]\n"
     ]
    }
   ],
   "source": [
    "record = await agent_controller.issuer.send_request_for_record(cred_ex_id)\n",
    "state = record['state']\n",
    "role = record['role']\n",
    "print(f\"Credential exchange {cred_ex_id}, role: {role}, state: {state}\")"
   ]
  },
  {
   "cell_type": "code",
   "execution_count": 9,
   "id": "9e755086-165b-4b27-9dd3-315626217920",
   "metadata": {},
   "outputs": [
    {
     "name": "stdout",
     "output_type": "stream",
     "text": [
      "Handle Credentials\n",
      "Credential exchange ea49e217-61cf-4dcc-8895-f0ccb762f4fd, role: holder, state: credential_acked\n",
      "Attributes: [{'name': 'fullname', 'value': '1'}, {'name': 'age', 'value': '1'}, {'name': 'date', 'value': '1'}, {'name': 'doctorname', 'value': '1'}, {'name': 'complaint', 'value': '1'}, {'name': 'examination results', 'value': '1'}, {'name': 'final treatment', 'value': '1'}, {'name': 'medicine', 'value': '1'}, {'name': 'nextappointment', 'value': '1'}]\n",
      "Credential exchange ea49e217-61cf-4dcc-8895-f0ccb762f4fd, role: holder, state: credential_acked\n"
     ]
    }
   ],
   "source": [
    "response = await agent_controller.issuer.store_credential(cred_ex_id, \"My Device Credential\")\n",
    "state = response['state']\n",
    "role = response['role']\n",
    "print(f\"Credential exchange {cred_ex_id}, role: {role}, state: {state}\")"
   ]
  },
  {
   "cell_type": "markdown",
   "id": "b3c6b934-def2-471b-8811-2c83e4becf27",
   "metadata": {},
   "source": [
    "### You can get  credential by your credential id ref(seller notebook)"
   ]
  },
  {
   "cell_type": "code",
   "execution_count": 10,
   "id": "90a2ade4-b4c9-41af-9f3d-02a6fb83a163",
   "metadata": {},
   "outputs": [
    {
     "name": "stdout",
     "output_type": "stream",
     "text": [
      "None\n"
     ]
    }
   ],
   "source": [
    "response = await agent_controller.terminate()\n",
    "print(response)"
   ]
  }
 ],
 "metadata": {
  "kernelspec": {
   "display_name": "Python 3 (ipykernel)",
   "language": "python",
   "name": "python3"
  },
  "language_info": {
   "codemirror_mode": {
    "name": "ipython",
    "version": 3
   },
   "file_extension": ".py",
   "mimetype": "text/x-python",
   "name": "python",
   "nbconvert_exporter": "python",
   "pygments_lexer": "ipython3",
   "version": "3.10.8"
  }
 },
 "nbformat": 4,
 "nbformat_minor": 5
}
